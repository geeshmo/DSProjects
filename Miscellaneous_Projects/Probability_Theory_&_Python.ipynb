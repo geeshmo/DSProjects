{
 "cells": [
  {
   "cell_type": "markdown",
   "metadata": {},
   "source": [
    "# Playing with Probability Theory and Expected Values\n",
    "\n",
    "Let's flip a coin 10 times. For each flip the propability of flipping heads is 1/2. We will denote the outcome of the nth throw by $X_n$. Thus if the event $\\omega_0 \\in \\Omega$ occures we will get the sequence $(X_1(\\omega_0), X_2(\\omega_0), ..., X_{10}(\\omega_0)) = (0,1,1,..,1)$\n",
    "\n",
    "Let's define $Y_N = \\sum_{k=1}^{N} X_k$ as the total number of heads thrown during the first N throws.\n",
    "\n",
    "Create the event space as a list of tuples and \n",
    "\n"
   ]
  },
  {
   "cell_type": "code",
   "execution_count": 103,
   "metadata": {
    "collapsed": false
   },
   "outputs": [
    {
     "name": "stdout",
     "output_type": "stream",
     "text": [
      "0.0009765625\n"
     ]
    },
    {
     "data": {
      "image/png": "[encoded data removed]",
      "text/plain": [
       "<matplotlib.figure.Figure at 0x11016ab50>"
      ]
     },
     "metadata": {},
     "output_type": "display_data"
    }
   ],
   "source": [
    "import numpy as np\n",
    "from scipy import integrate\n",
    "from matplotlib import pyplot as plt\n",
    "import itertools as it\n",
    "%matplotlib inline\n",
    "def createspace(x):\n",
    "    space = np.random.choice(2,x)\n",
    "    eventspace = 2**x\n",
    "    return eventspace, space\n",
    "\n",
    "\n",
    "\n",
    "rolls = 10\n",
    "y = it.product((0,1), repeat = rolls)\n",
    "my_combo = [x for x in y]\n",
    "events = 10\n",
    "# other medthod\n",
    "elements = [(0,1)]*events\n",
    "p =it.product(*elements)\n",
    "eventspace = [x for x in p]\n",
    "\n",
    "H = lambda n : float(len([sum(x) for x in eventspace if sum(x) == n]))/len(eventspace)\n",
    "\n",
    "\n",
    "print H(0)\n",
    "plt.hist([sum(x) for x in eventspace], normed = True);\n",
    "\n",
    "\n"
   ]
  },
  {
   "cell_type": "code",
   "execution_count": 104,
   "metadata": {
    "collapsed": false
   },
   "outputs": [
    {
     "data": {
      "text/plain": [
       "5.0"
      ]
     },
     "execution_count": 104,
     "metadata": {},
     "output_type": "execute_result"
    }
   ],
   "source": [
    "EF2 = sum([(H(n) * n) for n in range(11)])\n",
    "EF = [(H(n) * n) for n in range(11)]\n",
    "EF2\n",
    "#EF = integrate.nquad(lambda y : H(y), [1, 10])"
   ]
  },
  {
   "cell_type": "code",
   "execution_count": null,
   "metadata": {
    "collapsed": true
   },
   "outputs": [],
   "source": [
    "elem1 = [(x1,x2) for x1 in range(0,1) for x2 in range(0,1) if x1 + x2 == 6  and x1 == 1]\n",
    "elem2 = [(x1,x2) for x1 in range(0,1) for x2 in range(1,7) if x1 + x2 == 6 ]\n",
    "p1 = len(elem1)/36.\n",
    "p2 = len(elem2)/36.\n",
    "pc = p1/p2\n",
    "Ef = sum([x[0]*pc for x in elem2 ])\n",
    "print('Conditional Propability:{0}, Conditional Expecation Value: {1}'.format(pc,Ef))"
   ]
  }
 ],
 "metadata": {
  "anaconda-cloud": {},
  "kernelspec": {
   "display_name": "Python [default]",
   "language": "python",
   "name": "python2"
  },
  "language_info": {
   "codemirror_mode": {
    "name": "ipython",
    "version": 2
   },
   "file_extension": ".py",
   "mimetype": "text/x-python",
   "name": "python",
   "nbconvert_exporter": "python",
   "pygments_lexer": "ipython2",
   "version": "2.7.12"
  }
 },
 "nbformat": 4,
 "nbformat_minor": 1
}
