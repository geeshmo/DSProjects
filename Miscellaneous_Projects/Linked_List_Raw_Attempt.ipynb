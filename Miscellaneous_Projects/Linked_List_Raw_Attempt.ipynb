{
 "cells": [
  {
   "cell_type": "markdown",
   "metadata": {},
   "source": [
    "## Linked Lists\n",
    "### This is an excercise in creating linked lists that can be a useful way for saving and creating relationships with data\n",
    "### Linked lists can be use to replace arrays\n"
   ]
  },
  {
   "cell_type": "code",
   "execution_count": 92,
   "metadata": {
    "collapsed": false
   },
   "outputs": [],
   "source": [
    "class node:\n",
    "    \n",
    "    def __init__(self, lst, head):\n",
    "        self.head = head\n",
    "        self.lst = lst\n",
    "        self.pointer = raw_input(\"Input  integer for pointer if neccesary else it will be NULL\")\n",
    "        \n",
    "        if self.pointer == '' or self.pointer == ' ':\n",
    "            self.pointer = None\n",
    "        else:\n",
    "            self.pointer = int(self.pointer)\n",
    "    \n",
    "    def createNode(self):\n",
    "        self.lst.insert(0, (('head', self.head),('pointer', self.pointer)))\n",
    "    \n",
    "    def __repr__(self):\n",
    "        self.createNode()\n",
    "        return \"Created node with head: {0} and pointer: {1}\".format(self.lst[0][0][1],self.lst[0][1][1])\n",
    "\n",
    "class linkedlist:\n",
    "    \n",
    "    def __init__(self, lst1):\n",
    "        self.lst1 = lst1\n",
    "        self.lst1pnt = lst1[0][1][1]\n",
    "        self.lst1hd = lst1[0][0][1]\n",
    "        \n",
    "    def link(self, lst2):\n",
    "        self.lst2hd = lst2[0][0][1]\n",
    "        if self.lst1pnt == None:\n",
    "            self.lst1[0] = (('head', self.lst1hd),('pointer', self.lst2hd))\n",
    "        else:\n",
    "            print \"This node already points to a list please pick a different node\"\n",
    "        self.\n",
    "        print \"List 1 is connected to List 2: List1 head: {0} List1 pointer: {1}\".format(self.lst1[0][0][1], self.lst1[0][1][1])\n",
    "    \n",
    "    def add(self, item):\n",
    "        self.lst1.append(item)\n",
    "        print self.lst1[5:]\n",
    "    \n",
    "    def removelast(self):\n",
    "        print \"Last item removed {0}\".format(self.lst1.pop())\n",
    "    def addfirst(self, item):\n",
    "        self.lst.insert(1, item)\n",
    "        print self.lst1\n",
    "    def delfirst(self):\n",
    "        print \"First item removed {0}\".format(self.lst1.pop())\n",
    "    \n",
    "     def __repr__(self): \n",
    "        return \"Linked list elements: \".format(self.lst1[1:] + self.lst2[1:])                                  "
   ]
  },
  {
   "cell_type": "code",
   "execution_count": 84,
   "metadata": {
    "collapsed": false
   },
   "outputs": [],
   "source": [
    "mylist = [1,2,3,4,5,6,7]\n",
    "list2 = [89,99,55,66]\n",
    "#node(mylist, 2)\n",
    "#mylist.insert(0, (('head', 12),('pointer', 5)))"
   ]
  },
  {
   "cell_type": "code",
   "execution_count": 85,
   "metadata": {
    "collapsed": false
   },
   "outputs": [
    {
     "name": "stdout",
     "output_type": "stream",
     "text": [
      "Input  integer for pointer if neccesary else it will be NULL\n"
     ]
    },
    {
     "data": {
      "text/plain": [
       "Created node with head: 2 and pointer: None"
      ]
     },
     "execution_count": 85,
     "metadata": {},
     "output_type": "execute_result"
    }
   ],
   "source": [
    "node(mylist, 2)"
   ]
  },
  {
   "cell_type": "code",
   "execution_count": 86,
   "metadata": {
    "collapsed": false
   },
   "outputs": [
    {
     "name": "stdout",
     "output_type": "stream",
     "text": [
      "Input  integer for pointer if neccesary else it will be NULL\n"
     ]
    },
    {
     "data": {
      "text/plain": [
       "Created node with head: 4 and pointer: None"
      ]
     },
     "execution_count": 86,
     "metadata": {},
     "output_type": "execute_result"
    }
   ],
   "source": [
    "node(list2, 4)"
   ]
  },
  {
   "cell_type": "code",
   "execution_count": 87,
   "metadata": {
    "collapsed": false
   },
   "outputs": [
    {
     "name": "stdout",
     "output_type": "stream",
     "text": [
      "List 1 is connected to List 2: List1 head: 2 List1 pointer: 4\n"
     ]
    }
   ],
   "source": [
    "linkedlist(mylist).link(list2)"
   ]
  },
  {
   "cell_type": "code",
   "execution_count": 88,
   "metadata": {
    "collapsed": false
   },
   "outputs": [
    {
     "name": "stdout",
     "output_type": "stream",
     "text": [
      "item added [(('head', 2), ('pointer', 4)), 1, 2, 3, 4, 5, 6, 7, 9]\n"
     ]
    }
   ],
   "source": [
    "linkedist(mylist).add(9)"
   ]
  },
  {
   "cell_type": "code",
   "execution_count": 89,
   "metadata": {
    "collapsed": false
   },
   "outputs": [
    {
     "data": {
      "text/plain": [
       "[(('head', 2), ('pointer', 4)), 1, 2, 3, 4, 5, 6, 7, 9]"
      ]
     },
     "execution_count": 89,
     "metadata": {},
     "output_type": "execute_result"
    }
   ],
   "source": [
    "mylist"
   ]
  },
  {
   "cell_type": "code",
   "execution_count": 24,
   "metadata": {
    "collapsed": false
   },
   "outputs": [
    {
     "ename": "TypeError",
     "evalue": "'tuple' object does not support item assignment",
     "output_type": "error",
     "traceback": [
      "\u001b[0;31m---------------------------------------------------------------------------\u001b[0m",
      "\u001b[0;31mTypeError\u001b[0m                                 Traceback (most recent call last)",
      "\u001b[0;32m<ipython-input-24-b12afa641008>\u001b[0m in \u001b[0;36m<module>\u001b[0;34m()\u001b[0m\n\u001b[0;32m----> 1\u001b[0;31m \u001b[0mlist2\u001b[0m\u001b[0;34m[\u001b[0m\u001b[0;36m0\u001b[0m\u001b[0;34m]\u001b[0m\u001b[0;34m[\u001b[0m\u001b[0;36m1\u001b[0m\u001b[0;34m]\u001b[0m\u001b[0;34m[\u001b[0m\u001b[0;36m1\u001b[0m\u001b[0;34m]\u001b[0m \u001b[0;34m=\u001b[0m\u001b[0;36m3\u001b[0m\u001b[0;34m\u001b[0m\u001b[0m\n\u001b[0m",
      "\u001b[0;31mTypeError\u001b[0m: 'tuple' object does not support item assignment"
     ]
    }
   ],
   "source": [
    "list2[0][1][1] =3"
   ]
  },
  {
   "cell_type": "code",
   "execution_count": 90,
   "metadata": {
    "collapsed": false
   },
   "outputs": [
    {
     "name": "stdout",
     "output_type": "stream",
     "text": [
      "Last item removed 9\n"
     ]
    }
   ],
   "source": [
    "linkedlist(mylist).removelast()"
   ]
  },
  {
   "cell_type": "code",
   "execution_count": 22,
   "metadata": {
    "collapsed": false
   },
   "outputs": [],
   "source": [
    "list2[0][1][1]"
   ]
  },
  {
   "cell_type": "code",
   "execution_count": 25,
   "metadata": {
    "collapsed": true
   },
   "outputs": [],
   "source": [
    "r = (1,4)"
   ]
  },
  {
   "cell_type": "code",
   "execution_count": 26,
   "metadata": {
    "collapsed": false
   },
   "outputs": [
    {
     "data": {
      "text/plain": [
       "4"
      ]
     },
     "execution_count": 26,
     "metadata": {},
     "output_type": "execute_result"
    }
   ],
   "source": [
    "r[1]"
   ]
  },
  {
   "cell_type": "code",
   "execution_count": 27,
   "metadata": {
    "collapsed": false
   },
   "outputs": [
    {
     "ename": "TypeError",
     "evalue": "'tuple' object does not support item assignment",
     "output_type": "error",
     "traceback": [
      "\u001b[0;31m---------------------------------------------------------------------------\u001b[0m",
      "\u001b[0;31mTypeError\u001b[0m                                 Traceback (most recent call last)",
      "\u001b[0;32m<ipython-input-27-db3676b6241b>\u001b[0m in \u001b[0;36m<module>\u001b[0;34m()\u001b[0m\n\u001b[0;32m----> 1\u001b[0;31m \u001b[0mr\u001b[0m\u001b[0;34m[\u001b[0m\u001b[0;36m1\u001b[0m\u001b[0;34m]\u001b[0m\u001b[0;34m=\u001b[0m \u001b[0;36m5\u001b[0m\u001b[0;34m\u001b[0m\u001b[0m\n\u001b[0m",
      "\u001b[0;31mTypeError\u001b[0m: 'tuple' object does not support item assignment"
     ]
    }
   ],
   "source": [
    "r[1]= 5"
   ]
  },
  {
   "cell_type": "code",
   "execution_count": 33,
   "metadata": {
    "collapsed": true
   },
   "outputs": [],
   "source": [
    "p = [1,2,3,4]\n",
    "c = [7,8,9,10]"
   ]
  },
  {
   "cell_type": "code",
   "execution_count": 34,
   "metadata": {
    "collapsed": false
   },
   "outputs": [
    {
     "name": "stdout",
     "output_type": "stream",
     "text": [
      "[1, 2, 3, 4, 7, 8, 9, 10]\n"
     ]
    }
   ],
   "source": [
    "print p + c"
   ]
  },
  {
   "cell_type": "code",
   "execution_count": 51,
   "metadata": {
    "collapsed": false
   },
   "outputs": [
    {
     "name": "stdout",
     "output_type": "stream",
     "text": [
      "4\n"
     ]
    }
   ],
   "source": [
    "print p.pop()"
   ]
  },
  {
   "cell_type": "code",
   "execution_count": 52,
   "metadata": {
    "collapsed": false
   },
   "outputs": [
    {
     "name": "stdout",
     "output_type": "stream",
     "text": [
      "[1, 2, 3]\n"
     ]
    }
   ],
   "source": [
    "print p"
   ]
  },
  {
   "cell_type": "code",
   "execution_count": null,
   "metadata": {
    "collapsed": true
   },
   "outputs": [],
   "source": []
  }
 ],
 "metadata": {
  "anaconda-cloud": {},
  "kernelspec": {
   "display_name": "Python [conda root]",
   "language": "python",
   "name": "conda-root-py"
  },
  "language_info": {
   "codemirror_mode": {
    "name": "ipython",
    "version": 2
   },
   "file_extension": ".py",
   "mimetype": "text/x-python",
   "name": "python",
   "nbconvert_exporter": "python",
   "pygments_lexer": "ipython2",
   "version": "2.7.12"
  }
 },
 "nbformat": 4,
 "nbformat_minor": 1
}
