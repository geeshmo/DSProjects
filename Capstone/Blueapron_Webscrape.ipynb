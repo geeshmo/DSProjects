{
 "cells": [
  {
   "cell_type": "markdown",
   "metadata": {},
   "source": [
    "# Webscraping Blue Apron\n",
    "   * Required multiple tools\n",
    "   * Required a lot of trial and error\n",
    "   * Several attempts at webscraping the right information\n",
    "   * main tools used were pandas, beautifulsoup, selenium webdriver, pickle"
   ]
  },
  {
   "cell_type": "code",
   "execution_count": 160,
   "metadata": {
    "collapsed": false
   },
   "outputs": [],
   "source": [
    "import numpy as np\n",
    "import pandas as pd\n",
    "import requests\n",
    "from IPython.core.display import HTML\n",
    "from selenium import webdriver\n",
    "from bs4 import BeautifulSoup\n",
    "from selenium.webdriver.common.keys import Keys\n",
    "import time\n",
    "import pickle\n",
    "import matplotlib.pyplot as plt\n",
    "import psycopg2\n",
    "import sys\n",
    "%matplotlib inline\n",
    "from sqlalchemy import create_engine\n",
    "driver = webdriver.PhantomJS(executable_path='/Users/Guillermo/anaconda/bin/phantomjs')"
   ]
  },
  {
   "cell_type": "markdown",
   "metadata": {},
   "source": [
    "# Testing samples for webscrape of Blue Apron"
   ]
  },
  {
   "cell_type": "code",
   "execution_count": null,
   "metadata": {
    "collapsed": true
   },
   "outputs": [],
   "source": [
    "\n",
    "ad1 = 'https://www.blueapron.com/cookbook'\n",
    "ad3 = 'https://www.blueapron.com/recipes/sweet-potato-quesadillas-with-green-chiles-arugula-avocado-salad'\n",
    "ad2 = 'https://www.blueapron.com/recipes/za-atar-spiced-chicken-souvlaki-with-tahini-yogurt-sauce-roasted-potatoes'\n",
    "testlist = [ad2,ad3]"
   ]
  },
  {
   "cell_type": "markdown",
   "metadata": {},
   "source": [
    "# Scrape Blue Apron using phatomJS then turn page source into a beaultiful object"
   ]
  },
  {
   "cell_type": "code",
   "execution_count": null,
   "metadata": {
    "collapsed": false
   },
   "outputs": [],
   "source": [
    "\n",
    "driver = webdriver.PhantomJS(executable_path='/Users/Guillermo/anaconda/bin/phantomjs')\n",
    "driver.set_window_size(1024, 768) \n",
    "driver.get(ad3)\n",
    "page_html2 = driver.page_source\n",
    "#HTML(driver.page_source)\n",
    "soup2 = BeautifulSoup(page_html2, \"lxml\")"
   ]
  },
  {
   "cell_type": "markdown",
   "metadata": {},
   "source": [
    "# Creates original websacrape from Blue Apron's Cookbook page\n",
    "* Ran into trouble with loading the entire page\n",
    "* Problem resolved using \"driver.execute script\" below, it keeps scrolling down each time it is instantiated\n",
    "* Need to run this 30 times to get all of the recipes\n",
    "* Checked length of recipes for sanity check\n",
    "* This was a Brute force method but it was effective at gathering all the data."
   ]
  },
  {
   "cell_type": "code",
   "execution_count": null,
   "metadata": {
    "collapsed": true
   },
   "outputs": [],
   "source": [
    "\n",
    "for i in range(0,30):\n",
    "    driver.execute_script(\"window.scrollTo(0, document.body.scrollHeight);\")\n",
    "    time.sleep(3)\n",
    "page_html4 = driver.page_source\n",
    "\n",
    "soupblue2 = BeautifulSoup(page_html4, \"lxml\")"
   ]
  },
  {
   "cell_type": "markdown",
   "metadata": {},
   "source": [
    "## Pulls the recipe url for each of the recipes in the CookBook"
   ]
  },
  {
   "cell_type": "code",
   "execution_count": null,
   "metadata": {
    "collapsed": false
   },
   "outputs": [],
   "source": [
    "# pulls the recipe url for each of the recipes in the CookBook\n",
    "recipeurl =[]\n",
    "for link in soupblue2.findAll('div', class_=\"recipe-thumb col-md-4\"):\n",
    "    #print(link.text)\n",
    "    for lp in link.findAll('a'):\n",
    "        recipeurl.append(lp['href'])\n",
    "        #print lp['href']\n",
    "        #print '\\n'"
   ]
  },
  {
   "cell_type": "markdown",
   "metadata": {},
   "source": [
    "## Pull the recipe name for each of the recipes in the cookbook\n",
    "* Appends the names to a list"
   ]
  },
  {
   "cell_type": "code",
   "execution_count": null,
   "metadata": {
    "collapsed": false
   },
   "outputs": [],
   "source": [
    "# pull the recipe name for each of the recipes in the cookbook\n",
    "# appends the names to a list\n",
    "i = 0\n",
    "recipename = [ ]\n",
    "for d in soupblue2.findAll('div', class_='recipe-img-link'):\n",
    "     for g in d.findAll(class_= \"img-flex\"):\n",
    "            # for p in d.findAll('img):\n",
    "            #print(i, g)\n",
    "            #print(i, g['alt'])\n",
    "            \n",
    "            recipename.append(g['alt'])\n",
    "            #print(g['src'])\n",
    "            #print('\\n')\n",
    "            i += 1"
   ]
  },
  {
   "cell_type": "code",
   "execution_count": null,
   "metadata": {
    "collapsed": true
   },
   "outputs": [],
   "source": [
    "# Concatenates the home URL with the urls from each recipe to be able to then call each link\n",
    "urlrecp = \"https://www.blueapron.com\"\n",
    "recipeurl2 = [ urlrecp + i for i in recipeurl]\n",
    "\n",
    "# zips recipe names and recipe urls into one list then conversts it into a Panda Data Frame\n",
    "newrecipelist = zip(recipename,recipeurl2)\n",
    "myrecipes3 = pd.DataFrame(newrecipelist)\n",
    "\n",
    "# rename column of panda dataframe\n",
    "myrecipes3.columns(1=\"name\")\n",
    "myrecipes3=myrecipes3.rename(columns = {1:'URL'})"
   ]
  },
  {
   "cell_type": "markdown",
   "metadata": {},
   "source": [
    "## Create engine to store data in Postgres SQl\n",
    "* requires SQLalchemy"
   ]
  },
  {
   "cell_type": "code",
   "execution_count": 20,
   "metadata": {
    "collapsed": false
   },
   "outputs": [
    {
     "name": "stdout",
     "output_type": "stream",
     "text": [
      "pg_ctl: another server might be running; trying to start server anyway\r\n",
      "server starting\r\n"
     ]
    }
   ],
   "source": [
    "# create engine to store data in Postgres SQl\n",
    "# requires SQLalchemy\n",
    "\n",
    "engine = create_engine('postgresql://Guillermo@localhost:5432/mydb')\n",
    "! pg_ctl start -D ~/psql"
   ]
  },
  {
   "cell_type": "code",
   "execution_count": 173,
   "metadata": {
    "collapsed": false
   },
   "outputs": [
    {
     "data": {
      "text/plain": [
       "1"
      ]
     },
     "execution_count": 173,
     "metadata": {},
     "output_type": "execute_result"
    }
   ],
   "source": [
    "#sanity check using psycog to open and check connection to database\n",
    "\n",
    "#define connection string specifing the server, the database, the user and the password\n",
    "constr =  \"host='localhost' dbname='mydb' user='Guillermo' password = 'DB1076pp'\"\n",
    "\n",
    "#Use the connection string to establish a connection to the server. The return type is of type SQLConnection\n",
    "conn = psycopg2.connect(constr)\n",
    "\n",
    "#Create a Curser Instance using the connection\n",
    "cursor = conn.cursor()\n",
    "\n",
    "#Connection Status\n",
    "conn.status"
   ]
  },
  {
   "cell_type": "markdown",
   "metadata": {},
   "source": [
    "# Establish setting up Postgres SQL Database"
   ]
  },
  {
   "cell_type": "code",
   "execution_count": null,
   "metadata": {
    "collapsed": false
   },
   "outputs": [],
   "source": [
    "# Store Panda dataframe as SQL table\n",
    "myrecipes3.to_sql(\"BlueApronRecipes\", engine)"
   ]
  },
  {
   "cell_type": "code",
   "execution_count": 162,
   "metadata": {
    "collapsed": false
   },
   "outputs": [
    {
     "name": "stdout",
     "output_type": "stream",
     "text": [
      "930\n"
     ]
    }
   ],
   "source": [
    "# Pull Table of recipes into a Panda dataframe\n",
    "sql = 'SELECT * FROM \"BlueApronRecipes\"'\n",
    "myrecp = pd.read_sql(sql, engine)\n",
    "\n",
    "print len(myrecp)  # Sanity Check\n",
    "\n",
    "# iterate through panda data frame to create list of recipe urls\n",
    "myrecp2 = [ data[3] for data in myrecp.itertuples()]\n",
    "myrecp3 = [ data[2] for data in myrecp.itertuples()]"
   ]
  },
  {
   "cell_type": "markdown",
   "metadata": {},
   "source": [
    "# First attempt at websscraping all Recipes"
   ]
  },
  {
   "cell_type": "code",
   "execution_count": null,
   "metadata": {
    "collapsed": false
   },
   "outputs": [],
   "source": [
    "# Webscrape of recipes from Blue Apron. \n",
    "# second try to work out kinks in data pull \n",
    "start = time.time()\n",
    "#ingredients = []\n",
    "print \"go1\"  # Sanity check\n",
    "#newrecpe = []\n",
    "driver = webdriver.PhantomJS(executable_path='/Users/Guillermo/anaconda/bin/phantomjs')\n",
    "driver.set_window_size(1024, 768) \n",
    "print \"go\"  # Sanity Check\n",
    "#for i in range(0, len(testlist)):\n",
    "for i in range(619, len(myrecp2)):\n",
    "    #driver.get(testlist[i])\n",
    "    time.sleep(1)  # try to time it so Blue Apron doesn't kick me out\n",
    "    driver.get(myrecp2[i]) # use precreated list of recipes from previous scrape to pull each individual recipe\n",
    "    print myrecp2[i]\n",
    "    print i\n",
    "    page_html2 = driver.page_source\n",
    "    soup2 = BeautifulSoup(page_html2, \"lxml\")\n",
    "    newrecpe.append(soup2)  # list of beaultiful soup obeject for each recipe\n",
    "    for o in soup2.findAll('ul', class_='ingredients-list'):\n",
    "        ingredients.append((str(o.text.encode('utf-8')).replace('\\n\\n\\n\\n\\n',',').replace('\\n','').replace('\\xc2\\xbe','.75').replace(\"'\",''), myrecp2[i]))\n",
    "        #ingredients = ingredients[0].split(',')\n",
    "        #print(str(o.text.encode('utf-8')))\n",
    "        #print('\\n')\n",
    "        #print ingredients\n",
    "\n",
    "end = time.time()                           \n",
    "print \"Completed in {0} minutes\".format((end.start)/60)\n"
   ]
  },
  {
   "cell_type": "markdown",
   "metadata": {},
   "source": [
    "# Start using pickle to store data easier for HTML, XML code"
   ]
  },
  {
   "cell_type": "code",
   "execution_count": null,
   "metadata": {
    "collapsed": false
   },
   "outputs": [],
   "source": [
    "# pickeling file of all beautifulsoup obejcts representing all of the recipes\n",
    "# allows me to store the object and then retriev it for additional processing without having to rescrape \n",
    "\n",
    "sys.setrecursionlimit(3000) # needed to import sys and extend the recursion limit because the object was so large\n",
    "\n",
    "# I should have save each as page.source not as a beautiful soup obeject.\n",
    "# decided not to redo it due to time constraints and not willing to risk being blocked by Blue Apron\n",
    "\n",
    "with open('recpesoup.pkl', 'w') as picklefile:\n",
    "    pickle.dump(newrecpe, picklefile)"
   ]
  },
  {
   "cell_type": "code",
   "execution_count": 161,
   "metadata": {
    "collapsed": true
   },
   "outputs": [],
   "source": [
    "# Reloads pickle file into list\n",
    "\n",
    "with open('recpesoup.pkl', 'r') as picklefile:\n",
    "    myrecpld = pickle.load(picklefile)"
   ]
  },
  {
   "cell_type": "code",
   "execution_count": null,
   "metadata": {
    "collapsed": false
   },
   "outputs": [],
   "source": [
    "# Need to webscrape the comments from each of the recipes\n",
    "# This required scraping the beautiful soup object for the iframe 'facebook' url to pull in comments\n",
    "# Blue Apron only displays a certain number of comments at a time, I needed all of them\n",
    "# I scraped the total count of the \n",
    "\n",
    "newrecplist = []\n",
    "commentlist = []\n",
    "for i in range(0,929):\n",
    "    soup6 = myrecpld[i]\n",
    "    for o in soup6.findAll('iframe', class_=\"fb_ltr fb_iframe_widget_lift\"):\n",
    "        ifrmUrl = o['src']\n",
    "        print i \n",
    "        print ifrmUrl\n",
    "        time.sleep(1)\n",
    "        \n",
    "        gg = ifrmUrl.split('numposts')\n",
    "        \n",
    "        driver.get(ifrmUrl)\n",
    "        page_html4 = driver.page_source\n",
    "        \n",
    "\n",
    "        soup4 = BeautifulSoup(page_html4, \"lxml\")\n",
    "        \n",
    "        for c in soup4.findAll('span', class_=\" _50f7\"): # scrape for comment count\n",
    "            #print c.text\n",
    "            rr = c.text.encode('ascii', 'ignore').split(' ')[0]\n",
    "            if int(rr) < 1:\n",
    "                print \"Url {0} doesn't have any comments\".format(ifrmUrl)\n",
    "            jjj =gg[1].find('&')\n",
    "            ff = gg[1][jjj:]\n",
    "            newUrl =gg[0]+'numposts='+rr+ff \n",
    "            driver.get(newUrl)\n",
    "            page_html5 = driver.page_source\n",
    "            commentlist.append(page_html5)\n",
    "            newrecplist.append([myrecp2[i],ifrmUrl,c.text,rr])"
   ]
  },
  {
   "cell_type": "code",
   "execution_count": 260,
   "metadata": {
    "collapsed": false
   },
   "outputs": [
    {
     "name": "stdout",
     "output_type": "stream",
     "text": [
      "74\n",
      "https://www.facebook.com/plugins/comments.php?api_key=268433919926057&channel_url=https%3A%2F%2Fstaticxx.facebook.com%2Fconnect%2Fxd_arbiter%2Fr%2FYGoENyUbMBG.js%3Fversion%3D42%23cb%3Df39d273c3c%26domain%3Dwww.blueapron.com%26origin%3Dhttps%253A%252F%252Fwww.blueapron.com%252Ffa944c34c%26relation%3Dparent.parent&href=http%3A%2F%2Fwww.blueapron.com%2Frecipes%2Fpaprika-spiced-catfish-with-cabbage-slaw-roasted-purple-potato-wedges&locale=en_US&numposts=3&sdk=joey&version=v2.7&width=100%25\n",
      "929\n"
     ]
    }
   ],
   "source": [
    "#print len(commentlist)\n",
    "print len(newrecplist)\n",
    "print newrecplist[1]\n",
    "#print commentlist[0] # Sanity Check\n",
    "print len(myrecpld)"
   ]
  },
  {
   "cell_type": "code",
   "execution_count": null,
   "metadata": {
    "collapsed": true
   },
   "outputs": [],
   "source": [
    "with open('reccomments.pkl', 'w') as picklefile:\n",
    "    pickle.dump(commentlist, picklefile)"
   ]
  },
  {
   "cell_type": "code",
   "execution_count": 11,
   "metadata": {
    "collapsed": true
   },
   "outputs": [],
   "source": [
    "with open('allcommentlist.pkl', 'w') as picklefile:\n",
    "    pickle.dump(commtrecplist, picklefile)"
   ]
  },
  {
   "cell_type": "code",
   "execution_count": 141,
   "metadata": {
    "collapsed": true
   },
   "outputs": [],
   "source": [
    "# not to be used it is an old list\n",
    "with open('reccomlist2.pkl', 'r') as picklefile:\n",
    "    commentlist4 = pickle.load(picklefile)"
   ]
  },
  {
   "cell_type": "code",
   "execution_count": 313,
   "metadata": {
    "collapsed": false
   },
   "outputs": [
    {
     "name": "stdout",
     "output_type": "stream",
     "text": [
      "852\n"
     ]
    },
    {
     "data": {
      "text/plain": [
       "u'<!DOCTYPE html><html lang=\"en\" id=\"facebook\" class=\"svg \"><head><meta charset=\"utf-8\"><meta name=\"referrer\" content=\"default\" id=\"meta_referrer\"><script>function envFlush(a){function b(c){for(var d in a)c[d]=a[d];}if(window.requireLazy){window.requireLazy([\\'Env\\'],b);}else{window.Env=window.Env||{};b(window.Env);}}envFlush({\"ajaxpipe_token\":\"AXivYV4Sh3nHzL1C\",\"no_cookies\":1,\"khsh\":\"0`sj`e`rm`s-0fdu^gshdoer-0gc^eurf-3gc^eurf;1;enbtldou;fduDmdldourCxO`ld-2YLMIuuqSdptdru;qsnunuxqd;rdoe-0unjdojnx-0unjdojnx0-0gdubi^rdbsduOdv-0`sj`e`r-0q`xm`r-0StoRbs`qhof-0mhoj^q`xm`r\"});</script><style></style><script>__DEV__=0;CavalryLogger=false;(function(a){var b=a.Env,c=a.performance;if(!c||!c.timing||!Object.getOwnPropertyDescriptor||!Object.defineProperty||!(b.timeslice_categories&&b.timeslice_categories.reflow))return;var d=c.timing.navigationStart,e=location.search.indexOf(\\'detectreflows\\')>-1,f=5;function g(){return c.now()+d;}function h(){}function i(n,o,p){return function q(){var r=void 0,s=0,t=a.ProfilingCounters,u=g();for(var v=arguments.length,w=Array(v),x=0;x<v;x++)w[x]=arguments[x];if(t){var y=t.startTiming(\\'REFLOW\\');r=n.apply(this,w);s=t.stopTiming(y);}else{r=n.apply(this,w);s=g()-u;}if(s>f){var z=new Error(),aa=z.stack;m.push({contextConstructorName:this.constructor.name,description:p,duration:s,name:o,start:u,stack:aa});}return r;};}function j(n,o,p){if(n==null){h(\\'`\\'+p+\\'` isn\\\\\\'t own property of %o.\\',o);return false;}else if(n.configurable===false){h(\\'Cannot instrument non-configurable property `\\'+p+\\'` from %o.\\',o);return false;}else if(n.hasOwnProperty(\\'value\\')&&typeof n.value!==\\'function\\'){h(\\'Cannot instrument property `\\'+p+\\'` with value \\'+(\\'`\\'+n.value+\\'` from %o\\'),o);return false;}return true;}function k(n,o){var p=Object.getOwnPropertyDescriptor(n,o);if(j(p,n,o)){if(p.value)p.value=i(p.value,o,\\'function\\');if(p.get)p.get=i(p.get,o,\\'getter\\');if(p.set)p.set=i(p.set,o,\\'setter\\');Object.defineProperty(n,o,p);}}function l(n,o){o.forEach(k.bind(null,n));}l(a.window,[\\'getMatchedCSSRules\\',\\'getComputedStyle\\']);l(a.Document.prototype,[\\'scrollingElement\\']);l(a.Element.prototype,[\\'clientLeft\\',\\'clientTop\\',\\'clientWidth\\',\\'clientHeight\\',\\'scrollWidth\\',\\'scrollHeight\\',\\'scrollLeft\\',\\'scrollTop\\',\\'getClientRects\\',\\'getBoundingClientRect\\',\\'scrollBy\\',\\'scrollTo\\',\\'scrollIntoView\\',\\'scrollIntoViewIfNeeded\\']);l(a.HTMLElement.prototype,[\\'offsetLeft\\',\\'offsetTop\\',\\'offsetWidth\\',\\'offsetHeight\\',\\'offsetParent\\',\\'innerText\\',\\'focus\\']);l(a.HTMLInputElement.prototype,[\\'select\\']);l(a.HTMLTextAreaElement.prototype,[\\'select\\']);l(a.Range.prototype,[\\'getClientRects\\',\\'getBoundingClientRect\\']);l(a.MouseEvent.prototype,[\\'layerX\\',\\'layerY\\',\\'offsetX\\',\\'offsetY\\']);l(a.CSSStyleDeclaration.prototype,[\\'getPropertyValue\\']);var m=a.ReflowProfiler={_listener:null,_entries:[],push:function(n){if(this._listener){this._listener(n);}else this._entries.push(n);},setListener:function(n){if(this._listener)throw new Error(\\'It\\\\\\'s not possible to more than one listener.\\');this._listener=n;this._entries.forEach(function(o){return n(o);});this._entries.length=0;}};})(this);</script><noscript>&lt;meta http-equiv=\"refresh\" content=\"0; URL=/plugins/feedback.php?api_key=268433919926057&amp;amp;channel_url=https%3A%2F%2Fstaticxx.facebook.com%2Fconnect%2Fxd_arbiter%2Fr%2FYGoENyUbMBG.js%3Fversion%3D42%23cb%3Df39d273c3c%26domain%3Dwww.blueapron.com%26origin%3Dhttps%253A%252F%252Fwww.blueapron.com%252Ffa944c34c%26relation%3Dparent.parent&amp;amp;href=http%3A%2F%2Fwww.blueapron.com%2Frecipes%2Fpaprika-spiced-catfish-with-cabbage-slaw-roasted-purple-potato-wedges&amp;amp;locale=en_US&amp;amp;numposts=5&amp;amp;sdk=joey&amp;amp;version=v2.7&amp;amp;width=100%25&amp;amp;_fb_noscript=1\" /&gt;</noscript><title>Facebook</title><link type=\"text/css\" rel=\"stylesheet\" href=\"https://static.xx.fbcdn.net/rsrc.php/v3/yz/r/cL0Xm-gfdQ8.css\" data-bootloader-hash=\"4dp6n\" data-permanent=\"1\" crossorigin=\"anonymous\">\\n<link type=\"text/css\" rel=\"stylesheet\" href=\"https://static.xx.fbcdn.net/rsrc.php/v3/yF/r/rAOZkm2erR1.css\" data-bootloader-hash=\"zLFgT\" data-permanent=\"1\" crossorigin=\"anonymous\">\\n<link type=\"text/css\" rel=\"stylesheet\" href=\"https://static.xx.fbcdn.net/rsrc.php/v3/yn/r/X6FUPeYp40m.css\" data-bootloader-hash=\"9eb5q\" data-permanent=\"1\" crossorigin=\"anonymous\">\\n<link type=\"text/css\" rel=\"stylesheet\" href=\"https://static.xx.fbcdn.net/rsrc.php/v3/yq/r/yNyuKgBifYN.css\" data-bootloader-hash=\"MMIxQ\" data-permanent=\"1\" crossorigin=\"anonymous\">\\n<script src=\"https://static.xx.fbcdn.net/rsrc.php/v3/yO/r/MDekBFT2d2K.js\" data-bootloader-hash=\"wIu1V\" crossorigin=\"anonymous\"></script>\\n<script src=\"https://static.xx.fbcdn.net/rsrc.php/v3iaFb4/y2/l/en_US/iA3v2McD6rW.js\" data-bootloader-hash=\"cZclM\" crossorigin=\"anonymous\"></script>\\n<script src=\"https://static.xx.fbcdn.net/rsrc.php/v3/yU/r/gV8VMvIotf7.js\" data-bootloader-hash=\"W7JZ8\" crossorigin=\"anonymous\"></script>\\n<script src=\"https://static.xx.fbcdn.net/rsrc.php/v3/y5/r/G8TPWpEkkJH.js\" data-bootloader-hash=\"YSSr9\" crossorigin=\"anonymous\"></script>\\n<script src=\"https://static.xx.fbcdn.net/rsrc.php/v3ivSr4/ys/l/en_US/IYwl3CIkGSQ.js\" data-bootloader-hash=\"vaWyy\" crossorigin=\"anonymous\"></script>\\n<script src=\"https://static.xx.fbcdn.net/rsrc.php/v3i58P4/yy/l/en_US/kQ86tjFvM-9.js\" data-bootloader-hash=\"evK3x\" crossorigin=\"anonymous\"></script>\\n<script src=\"https://static.xx.fbcdn.net/rsrc.php/v3iUzh4/yu/l/en_US/VKA1PxkGNzs.js\" data-bootloader-hash=\"EODk4\" crossorigin=\"anonymous\"></script>\\n<script src=\"https://static.xx.fbcdn.net/rsrc.php/v3iXSD4/yw/l/en_US/PvNPDQJpiaL.js\" data-bootloader-hash=\"jUkLC\" crossorigin=\"anonymous\"></script>\\n<script src=\"https://static.xx.fbcdn.net/rsrc.php/v3/yx/r/iCPLbgP-MEC.js\" data-bootloader-hash=\"S414d\" crossorigin=\"anonymous\"></script>\\n<script src=\"https://static.xx.fbcdn.net/rsrc.php/v3iolV4/yI/l/en_US/6V4flPcTpZm.js\" data-bootloader-hash=\"0Erbq\" crossorigin=\"anonymous\"></script>\\n<script src=\"https://static.xx.fbcdn.net/rsrc.php/v3iKjl4/y_/l/en_US/e-mNUPveSWd.js\" data-bootloader-hash=\"MVfZe\" crossorigin=\"anonymous\"></script>\\n<script src=\"https://static.xx.fbcdn.net/rsrc.php/v3i58P4/yT/l/en_US/6PTshMgOa5i.js\" data-bootloader-hash=\"BSaJk\" crossorigin=\"anonymous\"></script>\\n<script src=\"https://static.xx.fbcdn.net/rsrc.php/v3/yO/r/_RRKrM6KPUq.js\" data-bootloader-hash=\"8D0JR\" crossorigin=\"anonymous\"></script>\\n<script>require(\"TimeSlice\").guard(function() {require(\"ServerJSDefine\").handleDefines([[\"BootloaderConfig\",[],{\"maxJsRetries\":0,\"jsRetries\":null,\"jsRetryAbortNum\":2,\"jsRetryAbortTime\":5,\"payloadEndpointURI\":\"https:\\\\/\\\\/www.facebook.com\\\\/ajax\\\\/haste-response\\\\/\"},329],[\"CSSLoaderConfig\",[],{\"timeout\":5000,\"modulePrefix\":\"BLCSS:\",\"loadEventSupported\":true},619],[\"CurrentCommunityInitialData\",[],{},490],[\"CurrentUserInitialData\",[],{\"USER_ID\":\"0\",\"ACCOUNT_ID\":\"0\"},270],[\"DTSGInitialData\",[],{},258],[\"ISB\",[],{},330],[\"LSD\",[],{\"token\":\"AVpmiVLr\"},323],[\"SiteData\",[],{\"revision\":2789434,\"tier\":\"\",\"push_phase\":\"V3\",\"pkg_cohort\":\"PHASED:DEFAULT\",\"pkg_cohort_key\":\"__pc\",\"haste_site\":\"www\",\"be_mode\":-1,\"be_key\":\"__be\",\"is_rtl\":false,\"features\":\"i0\",\"vip\":\"2a03:2880:f112:83:face:b00c:0:25de\"},317],[\"LinkshimHandlerConfig\",[],{\"supports_meta_referrer\":false,\"default_meta_referrer_policy\":\"default\",\"switched_meta_referrer_policy\":\"origin\",\"render_verification_rate\":1000,\"link_react_default_hash\":\"ATOGxUuorNZQNiLWTHxh0IyAFD32YEOJTLmLI_tQH-1BgooZcfDOzNYCYKInlv2_XqVxmGUFDcEbpK3Zf-0rW4lq2OZyT1trNMOh2r2k6LfctAVwOyycagPo_IWLjqUB8YoKv7MN_w\",\"untrusted_link_default_hash\":\"ATOvF8xiVwXujrZo04Tw7Zfl6Dp_yp0CCeiqtY9WLWvfZ5QXOJnYDNPbJAyoXJU1FiXvv-iLuQcJL0Gbqrk-r8xZLOGioTSABL1AzReISYoEzDZkqAivkxu3VdTZwcLctWyRX69mCA\",\"linkshim_host\":\"l.facebook.com\",\"use_rel_no_opener\":false},27],[\"CdnAkamaiDomainsConfig\",[],{\"fbcdnhdsvideo-vh.akamaihd.net\":0,\"fbcdn-creative-a.akamaihd.net\":1,\"fbcdn-dragon-a.akamaihd.net\":2,\"fbcdn-external-a.akamaihd.net\":3,\"fbcdn-gtvideo-a-a.akamaihd.net\":4,\"fbcdn-gtvideo-b-a.akamaihd.net\":5,\"fbcdn-gtvideo-c-a.akamaihd.net\":6,\"fbcdn-gtvideo-d-a.akamaihd.net\":7,\"fbcdn-gtvideo-e-a.akamaihd.net\":8,\"fbcdn-gtvideo-f-a.akamaihd.net\":9,\"fbcdn-gtvideo-g-a.akamaihd.net\":10,\"fbcdn-gtvideo-h-a.akamaihd.net\":11,\"fbcdn-gtvideo-i-a.akamaihd.net\":12,\"fbcdn-gtvideo-j-a.akamaihd.net\":13,\"fbcdn-gtvideo-k-a.akamaihd.net\":14,\"fbcdn-gtvideo-l-a.akamaihd.net\":15,\"fbcdn-gtvideo-m-a.akamaihd.net\":16,\"fbcdn-gtvideo-n-a.akamaihd.net\":17,\"fbcdn-gtvideo-o-a.akamaihd.net\":18,\"fbcdn-gtvideo-p-a.akamaihd.net\":19,\"fbcdn-iphotos-a-a.akamaihd.net\":20,\"fbcdn-iphotos-a.akamaihd.net\":21,\"fbcdn-iphotos-b-a.akamaihd.net\":22,\"fbcdn-iphotos-c-a.akamaihd.net\":23,\"fbcdn-iphotos-d-a.akamaihd.net\":24,\"fbcdn-iphotos-e-a.akamaihd.net\":25,\"fbcdn-iphotos-f-a.akamaihd.net\":26,\"fbcdn-iphotos-g-a.akamaihd.net\":27,\"fbcdn-iphotos-h-a.akamaihd.net\":28,\"fbcdn-photos-a-a.akamaihd.net\":29,\"fbcdn-photos-a.akamaihd.net\":30,\"fbcdn-photos-b-a.akamaihd.net\":31,\"fbcdn-photos-c-a.akamaihd.net\":32,\"fbcdn-photos-d-a.akamaihd.net\":33,\"fbcdn-photos-e-a.akamaihd.net\":34,\"fbcdn-photos-f-a.akamaihd.net\":35,\"fbcdn-photos-g-a.akamaihd.net\":36,\"fbcdn-photos-h-a.akamaihd.net\":37,\"fbcdn-profile-a.akamaihd.net\":38,\"fbcdn-sphotos-a-a.akamaihd.net\":39,\"fbcdn-sphotos-b-a.akamaihd.net\":40,\"fbcdn-sphotos-c-a.akamaihd.net\":41,\"fbcdn-sphotos-d-a.akamaihd.net\":42,\"fbcdn-sphotos-e-a.akamaihd.net\":43,\"fbcdn-sphotos-f-a.akamaihd.net\":44,\"fbcdn-sphotos-g-a.akamaihd.net\":45,\"fbcdn-sphotos-h-a.akamaihd.net\":46,\"fbcdn-static-a.akamaihd.net\":47,\"fbcdn-video-a-a.akamaihd.net\":48,\"fbcdn-video-a.akamaihd.net\":49,\"fbcdn-video-b-a.akamaihd.net\":50,\"fbcdn-video-c-a.akamaihd.net\":51,\"fbcdn-video-d-a.akamaihd.net\":52,\"fbcdn-video-e-a.akamaihd.net\":53,\"fbcdn-video-f-a.akamaihd.net\":54,\"fbcdn-video-g-a.akamaihd.net\":55,\"fbcdn-video-h-a.akamaihd.net\":56,\"fbcdn-video-i-a.akamaihd.net\":57,\"fbcdn-video-j-a.akamaihd.net\":58,\"fbcdn-video-k-a.akamaihd.net\":59,\"fbcdn-video-l-a.akamaihd.net\":60,\"fbcdn-video-m-a.akamaihd.net\":61,\"fbcdn-video-n-a.akamaihd.net\":62,\"fbcdn-video-o-a.akamaihd.net\":63,\"fbcdn-video-p-a.akamaihd.net\":64,\"fbcdn-vthumb-a.akamaihd.net\":65,\"fbexternal-a.akamaihd.net\":66,\"fbstatic-a.akamaihd.net\":67,\"lookbackvideo1-a.akamaihd.net\":68,\"lookbackvideo2-a.akamaihd.net\":69,\"lookbackvideo3-a.akamaihd.net\":70,\"lookbackvideo4-a.akamaihd.net\":71,\"lookbackvideo5-a.akamaihd.net\":72,\"lookbackvideo6-a.akamaihd.net\":73,\"lookbackvideo7-a.akamaihd.net\":74,\"lookbackvideo8-a.akamaihd.net\":75,\"igexternal-a.akamaihd.net\":76,\"fbmentionslive-a.akamaihd.net\":77,\"fblive-a.akamaihd.net\":78,\"fbcdn-static-a-a.akamaihd.net\":79,\"fbcdn-static-b-a.akamaihd.net\":80,\"fb-s-a-a.akamaihd.net\":81,\"fb-s-b-a.akamaihd.net\":82,\"fb-s-c-a.akamaihd.net\":83,\"fb-s-d-a.akamaihd.net\":84,\"fb-l-a-a.akamaihd.net\":85,\"fb-l-b-a.akamaihd.net\":86,\"fb-l-c-a.akamaihd.net\":87,\"fb-l-d-a.akamaihd.net\":88},1634],[\"LinkReactUnsafeHrefConfig\",[],{\"LinkHrefChecker\":null},1182],[\"CoreWarningGK\",[],{\"forceWarning\":false},725],[\"BanzaiConfig\",[],{\"EXPIRY\":86400000,\"MAX_SIZE\":10000,\"MAX_WAIT\":150000,\"RESTORE_WAIT\":150000,\"blacklist\":[\"time_spent\"],\"gks\":{\"boosted_component\":true,\"boosted_pagelikes\":true,\"boosted_posts\":true,\"boosted_website\":true,\"jslogger\":true,\"mercury_send_error_logging\":true,\"pages_client_logging\":true,\"platform_oauth_client_events\":true,\"useraction\":true,\"videos\":true,\"visibility_tracking\":true,\"graphexplorer\":true,\"gqls_web_logging\":true}},7],[\"UserAgentData\",[],{\"browserArchitecture\":\"32\",\"browserFullVersion\":null,\"browserMinorVersion\":null,\"browserName\":\"Safari\",\"browserVersion\":null,\"deviceName\":\"Unknown\",\"engineName\":\"WebKit\",\"engineVersion\":\"538.1\",\"platformArchitecture\":\"32\",\"platformName\":\"Mac OS X\",\"platformVersion\":null,\"platformFullVersion\":null},527],[\"ZeroRewriteRules\",[],{\"rewrite_rules\":{},\"whitelist\":{\"\\\\/hr\\\\/r\":1,\"\\\\/zero\\\\/unsupported_browser\\\\/\":1,\"\\\\/zero\\\\/policy\\\\/optin\":1,\"\\\\/zero\\\\/optin\\\\/write\\\\/\":1,\"\\\\/zero\\\\/optin\\\\/legal\\\\/\":1,\"\\\\/zero\\\\/optin\\\\/free\\\\/\":1,\"\\\\/zero\\\\/toggle\\\\/welcome\\\\/\":1,\"\\\\/work\\\\/landing\":1,\"\\\\/work\\\\/login\\\\/\":1,\"\\\\/work\\\\/email\\\\/\":1,\"\\\\/ai.php\":1,\"\\\\/js_dialog_resources\\\\/dialog_descriptions_android.json\":1,\"\\\\/connect\\\\/jsdialog\\\\/MPlatformAppInvitesJSDialog\\\\/\":1,\"\\\\/connect\\\\/jsdialog\\\\/MPlatformOAuthShimJSDialog\\\\/\":1,\"\\\\/connect\\\\/jsdialog\\\\/MPlatformLikeJSDialog\\\\/\":1,\"\\\\/qp\\\\/interstitial\\\\/\":1,\"\\\\/qp\\\\/action\\\\/redirect\\\\/\":1,\"\\\\/qp\\\\/action\\\\/close\\\\/\":1,\"\\\\/zero\\\\/support\\\\/ineligible\\\\/\":1,\"\\\\/zero_balance_redirect\\\\/\":1,\"\\\\/zero_balance_redirect\":1,\"\\\\/l.php\":1,\"\\\\/lsr.php\":1,\"\\\\/ajax\\\\/dtsg\\\\/\":1,\"\\\\/checkpoint\\\\/block\\\\/\":1,\"\\\\/exitdsite\":1,\"\\\\/zero\\\\/balance\\\\/pixel\\\\/\":1,\"\\\\/zero\\\\/balance\\\\/\":1,\"\\\\/zero\\\\/balance\\\\/carrier_landing\\\\/\":1,\"\\\\/tr\":1,\"\\\\/tr\\\\/\":1}},1478],[\"AsyncFeatureDeployment\",[],{},1765],[\"AsyncRequestConfig\",[],{\"retryOnNetworkError\":\"1\",\"logAsyncRequest\":false},328],[\"EventConfig\",[],{\"sampling\":{\"load\":0,\"error\":0,\"message\":0,\"abort\":0,\"mousemove\":100,\"mouseover\":100,\"mouseout\":100,\"keydown\":0.1,\"click\":0.01,\"__100ms\":0.001,\"__default\":100000,\"__min\":1000}},1726],[\"ImmediateImplementationConfig\",[],{\"allow_promise\":false},2013],[\"SessionNameConfig\",[],{\"seed\":\"0P2Q\"},757],[\"ZeroCategoryHeader\",[],{},1127],[\"TrackingConfig\",[],{\"domain\":\"https:\\\\/\\\\/pixel.facebook.com\"},325],[\"WebSpeedExperiments\",[],{\"non_blocking_tracker\":false,\"non_blocking_logger\":false},1160],[\"BigPipeExperiments\",[],{\"link_images_to_pagelets\":false},907],[\"ErrorSignalConfig\",[],{\"uri\":\"https:\\\\/\\\\/error.facebook.com\\\\/common\\\\/scribe_endpoint.php\"},319],[\"ServerNonce\",[],{\"ServerNonce\":\"kADrgnDEzBOCd0Yfik7TCs\"},141],[\"ReactGK\",[],{\"logTopLevelRenders\":false,\"domIsFiber\":false,\"domIsFiberInUFI\":false,\"prepareNewChildrenBeforeUnmountInStack\":true},998],[\"AccessibilityConfig\",[],{\"a11yLogicalGridComponent\":false,\"a11yNewsfeedStoryEnumeration\":false,\"a11yInitialDialogFocusElement\":true},1227],[\"TimeSliceInteractionCoinflips\",[],{\"default_rate\":1000,\"interaction_to_coinflip\":{\"async_request\":1,\"video_psr\":1,\"snowlift_open_autoclosed\":0,\"Event\":10000},\"enable_heartbeat\":true},1799],[\"ServiceWorkerBackgroundSyncBanzaiGK\",[],{\"sw_background_sync_banzai\":false},1621],[\"FbtLogger\",[],{\"logger\":null},288],[\"FbtResultGK\",[],{\"shouldReturnFbtResult\":true,\"inlineMode\":\"NO_INLINE\"},876],[\"IntlViewerContext\",[],{\"GENDER\":50331648},772],[\"IntlPhonologicalRules\",[],{\"meta\":{\"\\\\/_B\\\\/\":\"([.,!?\\\\\\\\s]|^)\",\"\\\\/_E\\\\/\":\"([.,!?\\\\\\\\s]|$)\"},\"patterns\":{\"\\\\/\\\\u0001(.*)(\\'|&#039;)s\\\\u0001(?:\\'|&#039;)s(.*)\\\\/\":\"\\\\u0001$1$2s\\\\u0001$3\",\"\\\\/_\\\\u0001([^\\\\u0001]*)\\\\u0001\\\\/\":\"javascript\"}},1496],[\"ArtilleryExperiments\",[],{\"artillery_timeslice_edges\":false,\"artillery_static_resources_pagelet_attribution\":false,\"artillery_timeslice_compressed_data\":false,\"artillery_miny_client_payload\":false},1237],[\"ServiceWorkerBackgroundSyncGK\",[],{\"background_sync_sw\":false},1628],[\"PageNavigationStageLoggerGK\",[],{\"gk_check\":false},1434],[\"PageTransitionsConfig\",[],{\"reloadOnBootloadError\":true},1067],[\"FunnelLoggerConfig\",[],{\"freq\":{\"CREATIVE_STUDIO_CREATION_FUNNEL\":1,\"WWW_CANVAS_AD_CREATION_FUNNEL\":1,\"WWW_CANVAS_EDITOR_FUNNEL\":1,\"WWW_LINK_PICKER_DIALOG_FUNNEL\":1,\"WWW_MEME_PICKER_DIALOG_FUNNEL\":1,\"WWW_LEAD_GEN_FORM_CREATION_FUNNEL\":1,\"WWW_LEAD_GEN_DESKTOP_AD_UNIT_FUNNEL\":1,\"WWW_LEAD_GEN_MSITE_AD_UNIT_FUNNEL\":1,\"WWW_CAMPFIRE_COMPOSER_UPSELL_FUNNEL\":1,\"WWW_RECRUITING_SEARCH_FUNNEL\":1,\"WWW_EXAMPLE_FUNNEL\":1,\"WWW_REACTIONS_NUX_FUNNEL\":1,\"WWW_MESSENGER_SHARE_TO_FB_FUNNEL\":10,\"MSITE_EXAMPLE_FUNNEL\":10,\"WWW_FEED_SHARE_DIALOG_FUNNEL\":100,\"MSITE_FEED_ALBUM_CTA_FUNNEL\":10,\"MSITE_FEED_SHARE_DIALOG_FUNNEL\":100,\"MSITE_COMMENT_TYPING_FUNNEL\":500,\"MSITE_HASHTAG_PROMPT_FUNNEL\":1,\"WWW_SEARCH_AWARENESS_LEARNING_NUX_FUNNEL\":1,\"WWW_CONSTITUENT_TITLE_UPSELL_FUNNEL\":1,\"MTOUCH_FEED_MISSED_STORIES_FUNNEL\":10,\"WWW_UFI_SHARE_LINK_FUNNEL\":1,\"WWW_CMS_SEARCH_FUNNEL\":1,\"GAMES_QUICKSILVER_FUNNEL\":1,\"SOCIAL_SEARCH_CONVERSION_WWW_FUNNEL\":1,\"SOCIAL_SEARCH_DASHBOARD_WWW_FUNNEL\":1,\"SRT_USER_FLOW_FUNNEL\":1,\"MSITE_PPD_FUNNEL\":1,\"WWW_PAGE_CREATION_FUNNEL\":1,\"NT_EXAMPLE_FUNNEL\":1,\"WWW_LIVE_VIEWER_TIPJAR_FUNNEL\":1,\"default\":1000}},1271],[\"MarauderConfig\",[],{\"app_version\":2789434,\"gk_enabled\":false},31],[\"GroupsProductDetailGating\",[],{\"tuzi_dialog\":null},1461],[\"WWWBase\",[],{\"uri\":\"https:\\\\/\\\\/www.facebook.com\\\\/\"},318],[\"PhotoSnowliftActionsGating\",[],{\"ALLOW_MAKE_COVER_PHOTO_BUTTON\":false,\"ALLOW_MAKE_PROFILE_PICTURE_BUTTON\":false},887],[\"InitialServerTime\",[],{\"serverTime\":1485015599000},204],[\"UFIReactionTypes\",[],{\"LIKE\":1,\"ordering\":[1,2,13,11,4,5,3,10,12,7,8,14,15],\"NONE\":0,\"reactions\":{\"1\":{\"class_name\":\"_3j7l\",\"color\":\"#5890ff\",\"display_name\":\"Like\",\"is_deprecated\":false,\"is_visible\":true,\"name\":\"like\",\"type\":1},\"2\":{\"class_name\":\"_3j7m\",\"color\":\"#f25268\",\"display_name\":\"Love\",\"is_deprecated\":false,\"is_visible\":true,\"name\":\"love\",\"type\":2},\"13\":{\"class_name\":null,\"color\":\"#1d2129\",\"display_name\":\"Selfie\",\"is_deprecated\":false,\"is_visible\":false,\"name\":\"selfie\",\"type\":13},\"11\":{\"class_name\":\"_3rya\",\"color\":\"#9c87d1\",\"display_name\":\"Thankful\",\"is_deprecated\":false,\"is_visible\":true,\"name\":\"dorothy\",\"type\":11},\"4\":{\"class_name\":\"_3j7o\",\"color\":\"#f0ba15\",\"display_name\":\"Haha\",\"is_deprecated\":false,\"is_visible\":true,\"name\":\"haha\",\"type\":4},\"5\":{\"class_name\":\"_3j7p\",\"color\":\"#f0ba15\",\"display_name\":\"Yay\",\"is_deprecated\":true,\"is_visible\":true,\"name\":\"yay\",\"type\":5},\"3\":{\"class_name\":\"_3j7n\",\"color\":\"#f0ba15\",\"display_name\":\"Wow\",\"is_deprecated\":false,\"is_visible\":true,\"name\":\"wow\",\"type\":3},\"10\":{\"class_name\":\"_3j7s\",\"color\":\"#f0ba15\",\"display_name\":\"Confused\",\"is_deprecated\":true,\"is_visible\":true,\"name\":\"confused\",\"type\":10},\"12\":{\"class_name\":null,\"color\":\"#f0ba15\",\"display_name\":\"Like\",\"is_deprecated\":false,\"is_visible\":false,\"name\":\"toto\",\"type\":12},\"7\":{\"class_name\":\"_3j7r\",\"color\":\"#f0ba15\",\"display_name\":\"Sad\",\"is_deprecated\":false,\"is_visible\":true,\"name\":\"sorry\",\"type\":7},\"8\":{\"class_name\":\"_3j7q\",\"color\":\"#f7714b\",\"display_name\":\"Angry\",\"is_deprecated\":false,\"is_visible\":true,\"name\":\"anger\",\"type\":8},\"14\":{\"class_name\":\"_3qr6\",\"color\":\"#f0ba15\",\"display_name\":\"Like\",\"is_deprecated\":false,\"is_visible\":false,\"name\":\"flame\",\"type\":14},\"15\":{\"class_name\":\"_4vps\",\"color\":\"#5890ff\",\"display_name\":\"Like\",\"is_deprecated\":false,\"is_visible\":false,\"name\":\"plane\",\"type\":15}}},911],[\"VideoPlayerAbortLoadingExperiment\",[],{\"canAbort\":false,\"delayedAbortLoading\":0},824],[\"TypeaheadMetricsConfig\",[],{\"gkResults\":false},263],[\"EmojiConfig\",[],{\"hasFBEmoji\":true,\"pixelRatio\":\"1\",\"schemaAuth\":\"https:\\\\/\\\\/static.xx.fbcdn.net\\\\/images\\\\/emoji.php\\\\/v7\",\"hasFBEmojiInComposer\":false},1421],[\"FamilyMentionsData\",[],{\"allowFamilyNames\":false,\"hasAcceptedNUX\":false},708],[\"EmojiPickerConfig\",[],{\"hasEmojiPicker\":false},1770],[\"UFICommentFileInputAcceptValues\",[],{\"both\":\"video\\\\/*,  video\\\\/x-m4v, video\\\\/webm, video\\\\/x-ms-wmv, video\\\\/x-msvideo, video\\\\/3gpp, video\\\\/flv, video\\\\/x-flv, video\\\\/mp4, video\\\\/quicktime, video\\\\/mpeg, video\\\\/ogv, image\\\\/*\",\"photos\":\"image\\\\/*\",\"videos\":\"video\\\\/*, video\\\\/x-m4v, video\\\\/webm, video\\\\/x-ms-wmv, video\\\\/x-msvideo, video\\\\/3gpp, video\\\\/flv, video\\\\/x-flv, video\\\\/mp4, video\\\\/quicktime, video\\\\/mpeg, video\\\\/ogv\"},1317],[\"VideoUploadConfig\",[],{\"videoExtensions\":{\"mov\":1,\"qt\":1,\"wmv\":1,\"avi\":1,\"mpe\":1,\"mpg\":1,\"mpeg\":1,\"asf\":1,\"mp4\":1,\"m4v\":1,\"mpeg4\":1,\"3gpp\":1,\"3gp\":1,\"3g2\":1,\"mkv\":1,\"flv\":1,\"vob\":1,\"ogm\":1,\"ogv\":1,\"nsv\":1,\"mod\":1,\"tod\":1,\"dat\":1,\"mts\":1,\"m2ts\":1,\"dv\":1,\"divx\":1,\"f4v\":1,\"ts\":1,\"tmp\":1,\"rmvb\":1,\"webm\":1},\"allowMultimedia\":false,\"showMultimediaNUX\":false},267],[\"FileHashWorkerResource\",[],{\"url\":\"https:\\\\/\\\\/static.xx.fbcdn.net\\\\/rsrc.php\\\\/v3\\\\/y5\\\\/r\\\\/6Boj5eFhkf4.js\",\"name\":\"FileHashWorkerBundle\"},758],[\"WebWorkerConfig\",[],{\"logging\":{\"enabled\":false,\"config\":\"WebWorkerLoggerConfig\"},\"evalWorkerURL\":\"\\\\/rsrc.php\\\\/v3\\\\/y0\\\\/r\\\\/rfukCScFKrW.js\"},297],[\"EmojiPickerCategoryGlyphs\",[],{\"Activities\":{\"default\":{\"sprited\":true,\"spriteMapCssClass\":\"sp_OUw8MN4qxjw\",\"spriteCssClass\":\"sx_40e0eb\"},\"active\":{\"sprited\":true,\"spriteMapCssClass\":\"sp_OUw8MN4qxjw\",\"spriteCssClass\":\"sx_dfc2c0\"}},\"Animals & Nature\":{\"default\":{\"sprited\":true,\"spriteMapCssClass\":\"sp_OUw8MN4qxjw\",\"spriteCssClass\":\"sx_5b6fd2\"},\"active\":{\"sprited\":true,\"spriteMapCssClass\":\"sp_OUw8MN4qxjw\",\"spriteCssClass\":\"sx_063e98\"}},\"Flags\":{\"default\":{\"sprited\":true,\"spriteMapCssClass\":\"sp_OUw8MN4qxjw\",\"spriteCssClass\":\"sx_d16be9\"},\"active\":{\"sprited\":true,\"spriteMapCssClass\":\"sp_OUw8MN4qxjw\",\"spriteCssClass\":\"sx_94ab1d\"}},\"Food & Drink\":{\"default\":{\"sprited\":true,\"spriteMapCssClass\":\"sp_OUw8MN4qxjw\",\"spriteCssClass\":\"sx_30d9fc\"},\"active\":{\"sprited\":true,\"spriteMapCssClass\":\"sp_OUw8MN4qxjw\",\"spriteCssClass\":\"sx_7661fc\"}},\"Objects\":{\"default\":{\"sprited\":true,\"spriteMapCssClass\":\"sp_OUw8MN4qxjw\",\"spriteCssClass\":\"sx_ab2448\"},\"active\":{\"sprited\":true,\"spriteMapCssClass\":\"sp_OUw8MN4qxjw\",\"spriteCssClass\":\"sx_d0a963\"}},\"Smileys & People\":{\"default\":{\"sprited\":true,\"spriteMapCssClass\":\"sp_OUw8MN4qxjw\",\"spriteCssClass\":\"sx_7eff27\"},\"active\":{\"sprited\":true,\"spriteMapCssClass\":\"sp_OUw8MN4qxjw\",\"spriteCssClass\":\"sx_aaf57f\"}},\"Symbols\":{\"default\":{\"sprited\":true,\"spriteMapCssClass\":\"sp_OUw8MN4qxjw\",\"spriteCssClass\":\"sx_dc7733\"},\"active\":{\"sprited\":true,\"spriteMapCssClass\":\"sp_OUw8MN4qxjw\",\"spriteCssClass\":\"sx_6ebf31\"}},\"Travel & Places\":{\"default\":{\"sprited\":true,\"spriteMapCssClass\":\"sp_OUw8MN4qxjw\",\"spriteCssClass\":\"sx_8dacf0\"},\"active\":{\"sprited\":true,\"spriteMapCssClass\":\"sp_OUw8MN4qxjw\",\"spriteCssClass\":\"sx_9c6fe2\"}}},1897],[\"EmojiPickerCategorySpritesheets\",[],{\"Activities\":{\"url\":\"https:\\\\/\\\\/static.xx.fbcdn.net\\\\/rsrc.php\\\\/v3\\\\/yG\\\\/r\\\\/R5rKtyUZ1gC.png\",\"height\":1312,\"width\":32},\"Animals & Nature\":{\"url\":\"https:\\\\/\\\\/static.xx.fbcdn.net\\\\/rsrc.php\\\\/v3\\\\/yO\\\\/r\\\\/dL1WjhwKLY4.png\",\"height\":5088,\"width\":32},\"Flags\":{\"url\":\"https:\\\\/\\\\/static.xx.fbcdn.net\\\\/rsrc.php\\\\/v3\\\\/yJ\\\\/r\\\\/Ig3lt9wRRBG.png\",\"height\":8224,\"width\":32},\"Food & Drink\":{\"url\":\"https:\\\\/\\\\/static.xx.fbcdn.net\\\\/rsrc.php\\\\/v3\\\\/yB\\\\/r\\\\/JzrBLWVNXWU.png\",\"height\":2656,\"width\":32},\"Objects\":{\"url\":\"https:\\\\/\\\\/static.xx.fbcdn.net\\\\/rsrc.php\\\\/v3\\\\/yo\\\\/r\\\\/yveUFEK7NB5.png\",\"height\":5536,\"width\":32},\"Smileys & People\":{\"url\":\"https:\\\\/\\\\/static.xx.fbcdn.net\\\\/rsrc.php\\\\/v3\\\\/yK\\\\/r\\\\/znFSVhbrgnB.png\",\"height\":6976,\"width\":32},\"Symbols\":{\"url\":\"https:\\\\/\\\\/static.xx.fbcdn.net\\\\/rsrc.php\\\\/v3\\\\/yG\\\\/r\\\\/FB77m1Qb2XP.png\",\"height\":8224,\"width\":32},\"Travel & Places\":{\"url\":\"https:\\\\/\\\\/static.xx.fbcdn.net\\\\/rsrc.php\\\\/v3\\\\/yU\\\\/r\\\\/AtD4RTYhEPy.png\",\"height\":3360,\"width\":32}},1887],[\"MercuryConfig\",[],{},35],[\"NumberFormatConfig\",[],{\"decimalSeparator\":\".\",\"numberDelimiter\":\",\",\"minDigitsForThousandsSeparator\":4},54],[\"NYE2017TriggerStringsLoader\",[],{\"regex\":\"(Happy New Year\\'s Eve|Happy New Year\\'s|Happy New Years|Happy New Year|Gelukkige Nuwejaar|Gelukkige Nuwe jaar|\\\\u0643\\\\u0644 \\\\u0639\\\\u0627\\\\u0645 \\\\u0648\\\\u0623\\\\u0646\\\\u062a\\\\u0645 \\\\u0628\\\\u062e\\\\u064a\\\\u0631|\\\\u0633\\\\u0646\\\\u0629 \\\\u0633\\\\u0639\\\\u064a\\\\u062f\\\\u0629|\\\\u0643\\\\u0644 \\\\u0633\\\\u0646\\\\u0629 \\\\u0648\\\\u0623\\\\u0646\\\\u062a\\\\u0645 \\\\u0628\\\\u062e\\\\u064a\\\\u0631|\\\\u09b6\\\\u09c1\\\\u09ad \\\\u09a8\\\\u09f1\\\\u09ac\\\\u09f0\\\\u09cd\\\\u09b7\\\\u09f0 \\\\u09b6\\\\u09c1\\\\u09ad \\\\u09a8\\\\u09f1\\\\u09ac\\\\u09f0\\\\u09cd\\\\u09b7\\\\u09f0 \\\\u0986\\\\u0997\\\\u09ae\\\\u09a3\\\\u09bf|\\\\u09b6\\\\u09c1\\\\u09ad \\\\u09a8\\\\u09f1\\\\u09ac\\\\u09f0\\\\u09cd\\\\u09b7|\\\\u09b6\\\\u09c1\\\\u09ad \\\\u09a8\\\\u09ac\\\\u09ac\\\\u09b0\\\\u09cd\\\\u09b7|\\\\u0987\\\\u0982\\\\u09b0\\\\u09c7\\\\u099c\\\\u09bf \\\\u09a8\\\\u09ac\\\\u09ac\\\\u09b0\\\\u09cd\\\\u09b7\\\\u09c7 \\\\u0986\\\\u09aa\\\\u09a8\\\\u09be\\\\u0995\\\\u09c7 \\\\u09b6\\\\u09c1\\\\u09ad\\\\u09c7\\\\u099a\\\\u09cd\\\\u099b\\\\u09be|\\\\u0160\\\\u0165astn\\\\u00fd nov\\\\u00fd rok|V\\\\u0161e nejlep\\\\u0161\\\\u00ed do nov\\\\u00e9ho roku|Malipayong Bag\\\\\\\\-ong Tuig|Malipayong Bisperas sa Bag\\\\\\\\-ong Tuig|Godt nyt\\\\u00e5r|God nyt\\\\u00e5rsaften|Frohes neues Jahr|Frohes Neues|Guten Rutsch|\\\\u039a\\\\u03b1\\\\u03bb\\\\u03ae \\\\u03a7\\\\u03c1\\\\u03bf\\\\u03bd\\\\u03b9\\\\u03ac|\\\\u039a\\\\u03b1\\\\u03bb\\\\u03ae \\\\u03a0\\\\u03c1\\\\u03c9\\\\u03c4\\\\u03bf\\\\u03c7\\\\u03c1\\\\u03bf\\\\u03bd\\\\u03b9\\\\u03ac|\\\\u0395\\\\u03c5\\\\u03c4\\\\u03c5\\\\u03c7\\\\u03b9\\\\u03c3\\\\u03bc\\\\u03ad\\\\u03bd\\\\u03bf\\\\u03c2 \\\\u03bf \\\\u03ba\\\\u03b1\\\\u03b9\\\\u03bd\\\\u03bf\\\\u03cd\\\\u03c1\\\\u03b3\\\\u03b9\\\\u03bf\\\\u03c2 \\\\u03c7\\\\u03c1\\\\u03cc\\\\u03bd\\\\u03bf\\\\u03c2|Happy Hogmanay|Feliz A\\\\u00f1o Nuevo|Feliz A\\\\u00f1o|Hyv\\\\u00e4\\\\u00e4 uutta vuotta|Onnellista uutta vuotta|Hyv\\\\u00e4\\\\u00e4 alkavaa vuotta|Bonne ann\\\\u00e9e|Meilleurs v\\\\u0153ux|Bonne et heureuse ann\\\\u00e9e|Vy\\\\u2019apav\\\\u1ebd pyahu|Vy\\\\u2019apav\\\\u1ebd ary pyah\\\\u00fare|Vy\\\\u2019apyahu|\\\\u0aa8\\\\u0ab5\\\\u0abe \\\\u0ab5\\\\u0ab0\\\\u0acd\\\\u0ab7\\\\u0aa8\\\\u0ac0 \\\\u0ab6\\\\u0ac1\\\\u0aad\\\\u0a95\\\\u0abe\\\\u0aae\\\\u0aa8\\\\u0abe\\\\u0a93|\\\\u0aa8\\\\u0ab5\\\\u0abe \\\\u0ab5\\\\u0ab0\\\\u0acd\\\\u0ab7\\\\u0aa8\\\\u0ac0 \\\\u0ab8\\\\u0a82\\\\u0aa7\\\\u0acd\\\\u0aaf\\\\u0abe\\\\u0a95\\\\u0abe\\\\u0ab3 \\\\u0aaa\\\\u0ac2\\\\u0ab0\\\\u0acd\\\\u0ab5\\\\u0ac7\\\\u0aa8\\\\u0ac0 \\\\u0ab6\\\\u0ac1\\\\u0aad\\\\u0a95\\\\u0abe\\\\u0aae\\\\u0aa8\\\\u0abe\\\\u0a93|Barka Da Sabuwar Shekara|Barka Da Shirye\\\\\\\\-shiryen Shiga Sabuwar Shekara|\\\\u05e9\\\\u05e0\\\\u05d4 \\\\u05d7\\\\u05d3\\\\u05e9\\\\u05d4 \\\\u05d8\\\\u05d5\\\\u05d1\\\\u05d4|\\\\u05e9\\\\u05e0\\\\u05d4 \\\\u05d8\\\\u05d5\\\\u05d1\\\\u05d4|\\\\u05e1\\\\u05d9\\\\u05dc\\\\u05d1\\\\u05e1\\\\u05d8\\\\u05e8 \\\\u05e9\\\\u05de\\\\u05d7|\\\\u0928\\\\u090f \\\\u0935\\\\u0930\\\\u094d\\\\u0937 \\\\u0915\\\\u0940 \\\\u0936\\\\u0941\\\\u092d\\\\u0915\\\\u093e\\\\u092e\\\\u0928\\\\u093e\\\\u090f\\\\u0901 \\\\u0928\\\\u090f \\\\u0935\\\\u0930\\\\u094d\\\\u0937 \\\\u0915\\\\u0940 \\\\u092a\\\\u0942\\\\u0930\\\\u094d\\\\u0935 \\\\u0938\\\\u0902\\\\u0927\\\\u094d\\\\u092f\\\\u093e \\\\u0915\\\\u0940 \\\\u0936\\\\u0941\\\\u092d\\\\u0915\\\\u093e\\\\u092e\\\\u0928\\\\u093e\\\\u090f\\\\u0901|\\\\u0928\\\\u090f \\\\u0935\\\\u0930\\\\u094d\\\\u0937 \\\\u0915\\\\u0940 \\\\u0936\\\\u0941\\\\u092d\\\\u0915\\\\u093e\\\\u092e\\\\u0928\\\\u093e\\\\u090f\\\\u0901|\\\\u0928\\\\u090f \\\\u0938\\\\u093e\\\\u0932 \\\\u0915\\\\u0940 \\\\u092c\\\\u0927\\\\u093e\\\\u0908|Sretna Nova godina|Sve najbolje u novoj godini|Sretna Nova|Boldog \\\\u00faj \\\\u00e9vet|B\\\\u00da\\\\u00c9K|Selamat Tahun Baru|Selamat Menyambut Tahun Baru|Buon anno nuovo|Buon anno|\\\\u3042\\\\u3051\\\\u307e\\\\u3057\\\\u3066\\\\u304a\\\\u3081\\\\u3067\\\\u3068\\\\u3046\\\\u3054\\\\u3056\\\\u3044\\\\u307e\\\\u3059|\\\\u3042\\\\u3051\\\\u307e\\\\u3057\\\\u3066\\\\u304a\\\\u3081\\\\u3067\\\\u3068\\\\u3046|\\\\u3042\\\\u3051\\\\u304a\\\\u3081|\\\\u660e\\\\u3051\\\\u307e\\\\u3057\\\\u3066\\\\u304a\\\\u3081\\\\u3067\\\\u3068\\\\u3046\\\\u3054\\\\u3056\\\\u3044\\\\u307e\\\\u3059|\\\\u660e\\\\u3051\\\\u307e\\\\u3057\\\\u3066\\\\u304a\\\\u3081\\\\u3067\\\\u3068\\\\u3046|\\\\u660e\\\\u3051\\\\u304a\\\\u3081|\\\\u179a\\\\u17b8\\\\u1780\\\\u179a\\\\u17b6\\\\u1799\\\\u1790\\\\u17d2\\\\u1784\\\\u17c3\\\\u1785\\\\u17bc\\\\u179b\\\\u1786\\\\u17d2\\\\u1793\\\\u17b6\\\\u17c6\\\\u1790\\\\u17d2\\\\u1798\\\\u17b8|\\\\u179a\\\\u17b8\\\\u1780\\\\u179a\\\\u17b6\\\\u1799\\\\u1790\\\\u17d2\\\\u1784\\\\u17c3\\\\u1798\\\\u17bb\\\\u1793\\\\u1785\\\\u17bc\\\\u179b\\\\u1786\\\\u17d2\\\\u1793\\\\u17b6\\\\u17c6\\\\u1790\\\\u17d2\\\\u1798\\\\u17b8|\\\\u0cb9\\\\u0cca\\\\u0cb8 \\\\u0cb5\\\\u0cb0\\\\u0ccd\\\\u0cb7\\\\u0ca6 \\\\u0cb6\\\\u0cc1\\\\u0cad\\\\u0cbe\\\\u0cb6\\\\u0caf\\\\u0c97\\\\u0cb3\\\\u0cc1|\\\\u0cb9\\\\u0cca\\\\u0cb8 \\\\u0cb5\\\\u0cb0\\\\u0ccd\\\\u0cb7\\\\u0ca6 \\\\u0cb9\\\\u0cbe\\\\u0cb0\\\\u0ccd\\\\u0ca6\\\\u0cbf\\\\u0c95 \\\\u0cb6\\\\u0cc1\\\\u0cad\\\\u0cbe\\\\u0cb6\\\\u0caf\\\\u0c97\\\\u0cb3\\\\u0cc1|\\\\uc0c8\\\\ud574 \\\\ubcf5 \\\\ub9ce\\\\uc774 \\\\ubc1b\\\\uc73c\\\\uc138\\\\uc694|\\\\uc0c8\\\\ud574 \\\\ubcf5 \\\\ub9ce\\\\uc774 \\\\ubc1b\\\\uc73c\\\\uc2dc\\\\uace0 \\\\uac74\\\\uac15\\\\ud558\\\\uc138\\\\uc694|\\\\uc0c8\\\\ud574 \\\\uac74\\\\uac15\\\\ud558\\\\uc138\\\\uc694|\\\\u0d2a\\\\u0d41\\\\u0d24\\\\u0d41\\\\u0d35\\\\u0d24\\\\u0d4d\\\\u0d38\\\\u0d30\\\\u0d3e\\\\u0d36\\\\u0d02\\\\u0d38\\\\u0d15\\\\u0d7e|\\\\u0d2a\\\\u0d41\\\\u0d24\\\\u0d41\\\\u0d35\\\\u0d24\\\\u0d4d\\\\u0d38\\\\u0d30\\\\u0d3e\\\\u0d36\\\\u0d02\\\\u0d38\\\\u0d15\\\\u0d33\\\\u0d41\\\\u0d1f\\\\u0d46\\\\u0d2a\\\\u0d41\\\\u0d24\\\\u0d41\\\\u0d35\\\\u0d7c\\\\u0d37 \\\\u0d38\\\\u0d3e\\\\u0d2f\\\\u0d3e\\\\u0d39\\\\u0d4d\\\\u0d28\\\\u0d02 \\\\u0d06\\\\u0d36\\\\u0d02\\\\u0d38\\\\u0d3f\\\\u0d15\\\\u0d4d\\\\u0d15\\\\u0d41\\\\u0d28\\\\u0d4d\\\\u0d28\\\\u0d41|\\\\u0428\\\\u0438\\\\u043d\\\\u044d \\\\u0436\\\\u0438\\\\u043b\\\\u0438\\\\u0439\\\\u043d \\\\u043c\\\\u044d\\\\u043d\\\\u0434 \\\\u0445\\\\u04af\\\\u0440\\\\u0433\\\\u044d\\\\u0435|\\\\u0428\\\\u0438\\\\u043d\\\\u044d \\\\u043e\\\\u043d\\\\u044b \\\\u043c\\\\u044d\\\\u043d\\\\u0434 \\\\u0445\\\\u04af\\\\u0440\\\\u0433\\\\u044d\\\\u0435|\\\\u0428\\\\u0438\\\\u043d\\\\u044d \\\\u0436\\\\u0438\\\\u043b\\\\u0438\\\\u0439\\\\u043d \\\\u043c\\\\u044d\\\\u043d\\\\u0434|\\\\u0928\\\\u0935\\\\u0935\\\\u0930\\\\u094d\\\\u0937\\\\u093e\\\\u091a\\\\u094d\\\\u092f\\\\u093e \\\\u0936\\\\u0941\\\\u092d\\\\u0947\\\\u091a\\\\u094d\\\\u091b\\\\u093e\\\\u0928\\\\u0935\\\\u0935\\\\u0930\\\\u094d\\\\u0937\\\\u093e\\\\u091a\\\\u094d\\\\u092f\\\\u093e \\\\u0938\\\\u093e\\\\u092f\\\\u0902\\\\u0915\\\\u093e\\\\u0933\\\\u0938\\\\u093e\\\\u0920\\\\u0940 \\\\u0936\\\\u0941\\\\u092d\\\\u0947\\\\u091a\\\\u094d\\\\u091b\\\\u093e|\\\\u0928\\\\u0935\\\\u0935\\\\u0930\\\\u094d\\\\u0937\\\\u093e\\\\u091a\\\\u094d\\\\u092f\\\\u093e \\\\u0936\\\\u0941\\\\u092d\\\\u0947\\\\u091a\\\\u094d\\\\u091b\\\\u093e|Malam Tahun Baru|\\\\u101f\\\\u1000\\\\u103a\\\\u1015\\\\u102e\\\\u1038\\\\u1014\\\\u101a\\\\u1030\\\\u1038\\\\u101b\\\\u102e\\\\u1038\\\\u101a\\\\u102c\\\\u1038|\\\\u1019\\\\u1004\\\\u103a\\\\u1039\\\\u1002\\\\u101c\\\\u102c\\\\u1014\\\\u103e\\\\u1005\\\\u103a\\\\u101e\\\\u1005\\\\u103a\\\\u1015\\\\u102b|Godt nytt\\\\u00e5r|Godt nytt \\\\u00e5r|God nytt\\\\u00e5rsaften|Gelukkig nieuwjaar|Gelukkig nieuw jaar|\\\\u0b36\\\\u0b41\\\\u0b2d \\\\u0b28\\\\u0b2c \\\\u0b2c\\\\u0b30\\\\u0b4d\\\\u0b37|\\\\u0b36\\\\u0b41\\\\u0b2d \\\\u0b28\\\\u0b2c\\\\u0b2c\\\\u0b30\\\\u0b4d\\\\u0b37|\\\\u0a28\\\\u0a35\\\\u0a47\\\\u0a02 \\\\u0a38\\\\u0a3e\\\\u0a32 \\\\u0a26\\\\u0a40 \\\\u0a35\\\\u0a27\\\\u0a3e\\\\u0a08\\\\u0a06\\\\u0a02 \\\\u0a28\\\\u0a35\\\\u0a47\\\\u0a02 \\\\u0a38\\\\u0a3e\\\\u0a32 \\\\u0a26\\\\u0a40 \\\\u0a2a\\\\u0a42\\\\u0a30\\\\u0a35 \\\\u0a38\\\\u0a70\\\\u0a27\\\\u0a3f\\\\u0a06 \\\\u0a26\\\\u0a40 \\\\u0a35\\\\u0a27\\\\u0a3e\\\\u0a08\\\\u0a06\\\\u0a02|\\\\u0a28\\\\u0a35\\\\u0a47\\\\u0a02 \\\\u0a38\\\\u0a3e\\\\u0a32 \\\\u0a26\\\\u0a40 \\\\u0a35\\\\u0a27\\\\u0a3e\\\\u0a08\\\\u0a06\\\\u0a02|\\\\u0a28\\\\u0a35\\\\u0a47\\\\u0a02 \\\\u0a38\\\\u0a3e\\\\u0a32 \\\\u0a26\\\\u0a40 \\\\u0a35\\\\u0a27\\\\u0a3e\\\\u0a08|Wszystkiego najlepszego w nowym roku|Szcz\\\\u0119\\\\u015bliwego nowego roku|Wszystkiego najlepszego na nowy rok|Feliz Ano Novo|Feliz Reveillon|Votos de feliz ano novo|Bom ano|LA MUL\\\\u021aI ANI|AN NOU FERICIT|\\\\u0421 \\\\u041d\\\\u043e\\\\u0432\\\\u044b\\\\u043c \\\\u0433\\\\u043e\\\\u0434\\\\u043e\\\\u043c|\\\\u0421 \\\\u043d\\\\u0430\\\\u0441\\\\u0442\\\\u0443\\\\u043f\\\\u0430\\\\u044e\\\\u0449\\\\u0438\\\\u043c|\\\\u0421 \\\\u041d\\\\u043e\\\\u0432\\\\u044b\\\\u043c 2017 \\\\u0433\\\\u043e\\\\u0434\\\\u043e\\\\u043c|Umwaka mushya muhire|Bonane|Umwaka mushya|V\\\\u0161etko dobr\\\\u00e9 v novom roku|V\\\\u0161etko dobr\\\\u00e9 do nov\\\\u00e9ho roku|Gott nytt \\\\u00e5r|Heri ya Mwaka Mpya|\\\\u0baa\\\\u0bc1\\\\u0ba4\\\\u0bcd\\\\u0ba4\\\\u0bbe\\\\u0ba3\\\\u0bcd\\\\u0b9f\\\\u0bc1 \\\\u0bb5\\\\u0bbe\\\\u0bb4\\\\u0bcd\\\\u0ba4\\\\u0bcd\\\\u0ba4\\\\u0bc1\\\\u0b95\\\\u0bb3\\\\u0bcd|\\\\u0b87\\\\u0ba9\\\\u0bbf\\\\u0baf \\\\u0baa\\\\u0bc1\\\\u0ba4\\\\u0bcd\\\\u0ba4\\\\u0bbe\\\\u0ba3\\\\u0bcd\\\\u0b9f\\\\u0bc1 \\\\u0bb5\\\\u0bbe\\\\u0bb4\\\\u0bcd\\\\u0ba4\\\\u0bcd\\\\u0ba4\\\\u0bc1\\\\u0b95\\\\u0bb3\\\\u0bcd, \\\\u0b87\\\\u0ba9\\\\u0bbf\\\\u0baf \\\\u0baa\\\\u0bc1\\\\u0ba4\\\\u0bcd\\\\u0ba4\\\\u0bbe\\\\u0ba3\\\\u0bcd\\\\u0b9f\\\\u0bc1 \\\\u0ba4\\\\u0bbf\\\\u0ba9 \\\\u0ba8\\\\u0bb2\\\\u0bcd\\\\u0bb5\\\\u0bbe\\\\u0bb4\\\\u0bcd\\\\u0ba4\\\\u0bcd\\\\u0ba4\\\\u0bc1\\\\u0b95\\\\u0bb3\\\\u0bcd|\\\\u0c28\\\\u0c42\\\\u0c24\\\\u0c28 \\\\u0c38\\\\u0c02\\\\u0c35\\\\u0c24\\\\u0c4d\\\\u0c38\\\\u0c30 \\\\u0c36\\\\u0c41\\\\u0c2d\\\\u0c3e\\\\u0c15\\\\u0c3e\\\\u0c02\\\\u0c15\\\\u0c4d\\\\u0c37\\\\u0c32\\\\u0c41|\\\\u0c39\\\\u0c4d\\\\u0c2f\\\\u0c3e\\\\u0c2a\\\\u0c40 \\\\u0c28\\\\u0c4d\\\\u0c2f\\\\u0c42 \\\\u0c07\\\\u0c2f\\\\u0c30\\\\u0c4d|\\\\u0c15\\\\u0c4a\\\\u0c24\\\\u0c4d\\\\u0c24 \\\\u0c38\\\\u0c02\\\\u0c35\\\\u0c24\\\\u0c4d\\\\u0c38\\\\u0c30 \\\\u0c36\\\\u0c41\\\\u0c2d\\\\u0c3e\\\\u0c15\\\\u0c3e\\\\u0c02\\\\u0c15\\\\u0c4d\\\\u0c37\\\\u0c32\\\\u0c41|\\\\u0e2a\\\\u0e27\\\\u0e31\\\\u0e2a\\\\u0e14\\\\u0e35\\\\u0e1b\\\\u0e35\\\\u0e43\\\\u0e2b\\\\u0e21\\\\u0e48|\\\\u0e2a\\\\u0e38\\\\u0e02\\\\u0e2a\\\\u0e31\\\\u0e19\\\\u0e15\\\\u0e4c\\\\u0e27\\\\u0e31\\\\u0e19\\\\u0e1b\\\\u0e35\\\\u0e43\\\\u0e2b\\\\u0e21\\\\u0e48|Manigong Bagong Taon|Mutlu Y\\\\u0131llar|Yeni Y\\\\u0131l\\\\u0131n\\\\u0131z Kutlu Olsun|\\\\u0130yi Seneler|\\\\u0646\\\\u06cc\\\\u0627 \\\\u0633\\\\u0627\\\\u0644 \\\\u0645\\\\u0628\\\\u0627\\\\u0631\\\\u06a9|Ch\\\\u00fac m\\\\u1eebng n\\\\u0103m m\\\\u1edbi|N\\\\u0103m m\\\\u1edbi an khang|N\\\\u0103m m\\\\u1edbi t\\\\u1ed1t l\\\\u00e0nh|\\\\u65b0\\\\u5e74\\\\u5feb\\\\u4e50|\\\\u5143\\\\u65e6\\\\u5feb\\\\u4e50|2017 \\\\u65b0\\\\u5e74\\\\u5feb\\\\u4e50|\\\\u65b0\\\\u5e74\\\\u5feb\\\\u6a02|\\\\u6176\\\\u795d\\\\u8de8\\\\u5e74)\"},1994],[\"FluxInternalConfig\",[],{\"logOnPreInitAccess\":false,\"warnOnPreInitAccess\":false},1075],[\"StickersConfig\",[],{\"emoticons\":{\"id\":\"1471127876485636\",\"name\":\"Emoticons\",\"isCommentsCapable\":true},\"max_mru_stickers\":40,\"mru_pack\":{\"id\":\"599061016853145\",\"name\":\"Recent\",\"isMRU\":true,\"isCommentsCapable\":true,\"isComposerCapable\":true,\"isMessengerCapable\":true,\"isPostsCapable\":true},\"oz_pack\":null},1666],[\"RelayAPIConfigDefaults\",[\"__inst_84473062_0_0\",\"__inst_84473062_0_1\"],{\"accessToken\":null,\"actorID\":\"0\",\"fetchTimeout\":30000,\"graphBatchURI\":{\"__m\":\"__inst_84473062_0_0\"},\"graphURI\":{\"__m\":\"__inst_84473062_0_1\"},\"retryDelays\":[1000,3000],\"useXController\":true,\"xhrEncoding\":null},926],[\"PresenceInitialData\",[],{\"cookiePollInterval\":500,\"cookieVersion\":3,\"serverTime\":\"1485015599000\",\"shouldSuppress\":false,\"dictEncode\":true},57],[\"WorkModeConfig\",[],{},396],[\"CurrentEnvironment\",[],{\"facebookdotcom\":true,\"messengerdotcom\":false},827],[\"WorkGKs\",[],{\"work_admin_bulk_upload_progress\":true,\"work_admin_disable_gsuite\":true,\"work_admin_hide_date_claimed_column\":false,\"work_admin_new_reporting\":true,\"work_admin_new_setting_design\":false,\"work_admin_setup_payment_information\":false,\"work_admin_sidebar_numbers\":true,\"work_admin_sidebar_status_indicator\":true,\"workplace_www_chat_branding\":false},1734],[\"PaddedStickerConfig\",[],{},1667],[\"ViewerContextDateData\",[],{\"gks\":{\"date_time_force_legacy_api\":false}},1411],[\"DateFormatConfig\",[],{\"numericDateOrder\":[\"m\",\"d\",\"y\"],\"numericDateSeparator\":\"\\\\/\",\"shortDayNames\":[\"Mon\",\"Tue\",\"Wed\",\"Thu\",\"Fri\",\"Sat\",\"Sun\"],\"timeSeparator\":\":\",\"weekStart\":6,\"formats\":{\"D\":\"D\",\"D g:ia\":\"D g:ia\",\"D M d\":\"D M d\",\"D M d, Y\":\"D M d, Y\",\"D M j\":\"D M j\",\"D M j, g:ia\":\"D M j, g:ia\",\"D M j, y\":\"D M j, y\",\"D M j, Y g:ia\":\"D M j, Y g:ia\",\"D, M j, Y\":\"D, M j, Y\",\"F d\":\"F d\",\"F d, Y\":\"F d, Y\",\"F g\":\"F g\",\"F j\":\"F j\",\"F j, Y\":\"F j, Y\",\"F j, Y \\\\u0040 g:i A\":\"F j, Y \\\\u0040 g:i A\",\"F j, Y g:i a\":\"F j, Y g:i a\",\"F jS\":\"F jS\",\"F jS, g:ia\":\"F jS, g:ia\",\"F jS, Y\":\"F jS, Y\",\"F Y\":\"F Y\",\"g A\":\"g A\",\"g:i\":\"g:i\",\"g:i A\":\"g:i A\",\"g:i a\":\"g:i a\",\"g:iA\":\"g:iA\",\"g:ia\":\"g:ia\",\"g:ia F jS, Y\":\"g:ia F jS, Y\",\"g:iA l, F jS\":\"g:iA l, F jS\",\"g:ia M j\":\"g:ia M j\",\"g:ia M jS\":\"g:ia M jS\",\"g:ia, F jS\":\"g:ia, F jS\",\"g:iA, l M jS\":\"g:iA, l M jS\",\"g:sa\":\"g:sa\",\"H:I - M d, Y\":\"H:I - M d, Y\",\"h:i a\":\"h:i a\",\"h:m:s m\\\\/d\\\\/Y\":\"h:m:s m\\\\/d\\\\/Y\",\"j\":\"j\",\"l F d, Y\":\"l F d, Y\",\"l g:ia\":\"l g:ia\",\"l, F d, Y\":\"l, F d, Y\",\"l, F j\":\"l, F j\",\"l, F j, Y\":\"l, F j, Y\",\"l, F jS\":\"l, F jS\",\"l, F jS, g:ia\":\"l, F jS, g:ia\",\"l, M j\":\"l, M j\",\"l, M j, Y\":\"l, M j, Y\",\"l, M j, Y g:ia\":\"l, M j, Y g:ia\",\"M d\":\"M d\",\"M d, Y\":\"M d, Y\",\"M d, Y g:ia\":\"M d, Y g:ia\",\"M d, Y ga\":\"M d, Y ga\",\"M j\":\"M j\",\"M j, Y\":\"M j, Y\",\"M j, Y g:i A\":\"M j, Y g:i A\",\"M j, Y g:ia\":\"M j, Y g:ia\",\"M jS, g:ia\":\"M jS, g:ia\",\"M Y\":\"M Y\",\"M y\":\"M y\",\"m-d-y\":\"m-d-y\",\"M. d\":\"M. d\",\"M. d, Y\":\"M. d, Y\",\"j F Y\":\"j F Y\",\"m.d.y\":\"m.d.y\",\"m\\\\/d\":\"m\\\\/d\",\"m\\\\/d\\\\/Y\":\"m\\\\/d\\\\/Y\",\"m\\\\/d\\\\/y\":\"m\\\\/d\\\\/y\",\"m\\\\/d\\\\/Y g:ia\":\"m\\\\/d\\\\/Y g:ia\",\"m\\\\/d\\\\/y H:i:s\":\"m\\\\/d\\\\/y H:i:s\",\"m\\\\/d\\\\/Y h:m\":\"m\\\\/d\\\\/Y h:m\",\"n\":\"n\",\"n\\\\/j\":\"n\\\\/j\",\"n\\\\/j, g:ia\":\"n\\\\/j, g:ia\",\"n\\\\/j\\\\/y\":\"n\\\\/j\\\\/y\",\"Y\":\"Y\",\"Y-m-d\":\"Y-m-d\",\"Y\\\\/m\\\\/d\":\"Y\\\\/m\\\\/d\",\"y\\\\/m\\\\/d\":\"y\\\\/m\\\\/d\",\"j \\\\/ F \\\\/ Y\":\"j \\\\/ F \\\\/ Y\"},\"ordinalSuffixes\":{\"1\":\"st\",\"2\":\"nd\",\"3\":\"rd\",\"4\":\"th\",\"5\":\"th\",\"6\":\"th\",\"7\":\"th\",\"8\":\"th\",\"9\":\"th\",\"10\":\"th\",\"11\":\"th\",\"12\":\"th\",\"13\":\"th\",\"14\":\"th\",\"15\":\"th\",\"16\":\"th\",\"17\":\"th\",\"18\":\"th\",\"19\":\"th\",\"20\":\"th\",\"21\":\"st\",\"22\":\"nd\",\"23\":\"rd\",\"24\":\"th\",\"25\":\"th\",\"26\":\"th\",\"27\":\"th\",\"28\":\"th\",\"29\":\"th\",\"30\":\"th\",\"31\":\"st\"}},165],[\"CurrencyConfig\",[],{\"adsCurrenciesByCode\":{\"AED\":{\"iso\":\"AED\",\"format\":\"{symbol}{amount}\",\"symbol\":\"\\\\u062f.\\\\u0625.\",\"offset\":100,\"name\":\"UAE Dirham\"},\"ARS\":{\"iso\":\"ARS\",\"format\":\"{symbol}{amount}\",\"symbol\":\"$\",\"offset\":100,\"name\":\"Argentine Peso\"},\"AUD\":{\"iso\":\"AUD\",\"format\":\"{symbol}{amount}\",\"symbol\":\"$\",\"offset\":100,\"name\":\"Australian Dollar\"},\"BDT\":{\"iso\":\"BDT\",\"format\":\"{symbol}{amount}\",\"symbol\":\"\\\\u09f3\",\"offset\":100,\"name\":\"Bangladeshi Taka\"},\"BOB\":{\"iso\":\"BOB\",\"format\":\"{symbol}{amount}\",\"symbol\":\"Bs.\",\"offset\":100,\"name\":\"Bolivian Boliviano\"},\"BRL\":{\"iso\":\"BRL\",\"format\":\"{symbol}{amount}\",\"symbol\":\"R$\",\"offset\":100,\"name\":\"Brazilian Real\"},\"CAD\":{\"iso\":\"CAD\",\"format\":\"{symbol}{amount}\",\"symbol\":\"$\",\"offset\":100,\"name\":\"Canadian Dollar\"},\"CHF\":{\"iso\":\"CHF\",\"format\":\"{symbol}{amount}\",\"symbol\":\"Fr.\",\"offset\":100,\"name\":\"Swiss Franc\"},\"CLP\":{\"iso\":\"CLP\",\"format\":\"{symbol}{amount}\",\"symbol\":\"$\",\"offset\":1,\"name\":\"Chilean Peso\"},\"CNY\":{\"iso\":\"CNY\",\"format\":\"{symbol}{amount}\",\"symbol\":\"\\\\uffe5\",\"offset\":100,\"name\":\"Chinese Yuan\"},\"COP\":{\"iso\":\"COP\",\"format\":\"{symbol}{amount}\",\"symbol\":\"$\",\"offset\":1,\"name\":\"Colombian Peso\"},\"CRC\":{\"iso\":\"CRC\",\"format\":\"{symbol}{amount}\",\"symbol\":\"\\\\u20a1\",\"offset\":1,\"name\":\"Costa Rican Colon\"},\"CZK\":{\"iso\":\"CZK\",\"format\":\"{symbol}{amount}\",\"symbol\":\"K\\\\u010d\",\"offset\":100,\"name\":\"Czech Koruna\"},\"DKK\":{\"iso\":\"DKK\",\"format\":\"{symbol}{amount}\",\"symbol\":\"kr.\",\"offset\":100,\"name\":\"Danish Krone\"},\"DZD\":{\"iso\":\"DZD\",\"format\":\"{symbol}{amount}\",\"symbol\":\"\\\\u062f.\\\\u062c.\",\"offset\":100,\"name\":\"Algerian Dinar\"},\"EGP\":{\"iso\":\"EGP\",\"format\":\"{symbol}{amount}\",\"symbol\":\"\\\\u062c.\\\\u0645.\",\"offset\":100,\"name\":\"Egyptian Pound\"},\"EUR\":{\"iso\":\"EUR\",\"format\":\"{symbol}{amount}\",\"symbol\":\"\\\\u20ac\",\"offset\":100,\"name\":\"Euro\"},\"GBP\":{\"iso\":\"GBP\",\"format\":\"{symbol}{amount}\",\"symbol\":\"\\\\u00a3\",\"offset\":100,\"name\":\"British Pound\"},\"GTQ\":{\"iso\":\"GTQ\",\"format\":\"{symbol}{amount}\",\"symbol\":\"Q\",\"offset\":100,\"name\":\"Guatemalan Quetzal\"},\"HKD\":{\"iso\":\"HKD\",\"format\":\"{symbol}{amount}\",\"symbol\":\"$\",\"offset\":100,\"name\":\"Hong Kong Dollar\"},\"HNL\":{\"iso\":\"HNL\",\"format\":\"{symbol}{amount}\",\"symbol\":\"L.\",\"offset\":100,\"name\":\"Honduran Lempira\"},\"HUF\":{\"iso\":\"HUF\",\"format\":\"{symbol}{amount}\",\"symbol\":\"Ft\",\"offset\":1,\"name\":\"Hungarian Forint\"},\"IDR\":{\"iso\":\"IDR\",\"format\":\"{symbol}{amount}\",\"symbol\":\"Rp\",\"offset\":1,\"name\":\"Indonesian Rupiah\"},\"ILS\":{\"iso\":\"ILS\",\"format\":\"{symbol}{amount}\",\"symbol\":\"\\\\u20aa\",\"offset\":100,\"name\":\"Israeli New Shekel\"},\"INR\":{\"iso\":\"INR\",\"format\":\"{symbol}{amount}\",\"symbol\":\"\\\\u20b9\",\"offset\":100,\"name\":\"Indian Rupee\"},\"ISK\":{\"iso\":\"ISK\",\"format\":\"{symbol}{amount}\",\"symbol\":\"kr.\",\"offset\":1,\"name\":\"Iceland Krona\"},\"JPY\":{\"iso\":\"JPY\",\"format\":\"{symbol}{amount}\",\"symbol\":\"\\\\u00a5\",\"offset\":1,\"name\":\"Japanese Yen\"},\"KES\":{\"iso\":\"KES\",\"format\":\"{symbol}{amount}\",\"symbol\":\"KSh\",\"offset\":100,\"name\":\"Kenyan Shilling\"},\"KRW\":{\"iso\":\"KRW\",\"format\":\"{symbol}{amount}\",\"symbol\":\"\\\\u20a9\",\"offset\":1,\"name\":\"Korean Won\"},\"MOP\":{\"iso\":\"MOP\",\"format\":\"{symbol}{amount}\",\"symbol\":\"MOP\",\"offset\":100,\"name\":\"Macau Patacas\"},\"MXN\":{\"iso\":\"MXN\",\"format\":\"{symbol}{amount}\",\"symbol\":\"$\",\"offset\":100,\"name\":\"Mexican Peso\"},\"MYR\":{\"iso\":\"MYR\",\"format\":\"{symbol}{amount}\",\"symbol\":\"RM\",\"offset\":100,\"name\":\"Malaysian Ringgit\"},\"NGN\":{\"iso\":\"NGN\",\"format\":\"{symbol}{amount}\",\"symbol\":\"\\\\u20a6\",\"offset\":100,\"name\":\"Nigerian Naira\"},\"NIO\":{\"iso\":\"NIO\",\"format\":\"{symbol}{amount}\",\"symbol\":\"C$\",\"offset\":100,\"name\":\"Nicaraguan Cordoba\"},\"NOK\":{\"iso\":\"NOK\",\"format\":\"{symbol}{amount}\",\"symbol\":\"kr\",\"offset\":100,\"name\":\"Norwegian Krone\"},\"NZD\":{\"iso\":\"NZD\",\"format\":\"{symbol}{amount}\",\"symbol\":\"$\",\"offset\":100,\"name\":\"New Zealand Dollar\"},\"PEN\":{\"iso\":\"PEN\",\"format\":\"{symbol}{amount}\",\"symbol\":\"S\\\\/.\",\"offset\":100,\"name\":\"Peruvian Nuevo Sol\"},\"PHP\":{\"iso\":\"PHP\",\"format\":\"{symbol}{amount}\",\"symbol\":\"\\\\u20b1\",\"offset\":100,\"name\":\"Philippine Peso\"},\"PKR\":{\"iso\":\"PKR\",\"format\":\"{symbol}{amount}\",\"symbol\":\"Rs\",\"offset\":100,\"name\":\"Pakistani Rupee\"},\"PLN\":{\"iso\":\"PLN\",\"format\":\"{symbol}{amount}\",\"symbol\":\"z\\\\u0142\",\"offset\":100,\"name\":\"Polish Zloty\"},\"PYG\":{\"iso\":\"PYG\",\"format\":\"{symbol}{amount}\",\"symbol\":\"\\\\u20b2\",\"offset\":1,\"name\":\"Paraguayan Guarani\"},\"QAR\":{\"iso\":\"QAR\",\"format\":\"{symbol}{amount}\",\"symbol\":\"\\\\u0631.\\\\u0642.\",\"offset\":100,\"name\":\"Qatari Rials\"},\"RON\":{\"iso\":\"RON\",\"format\":\"{symbol}{amount}\",\"symbol\":\"lei\",\"offset\":100,\"name\":\"Romanian Leu\"},\"RUB\":{\"iso\":\"RUB\",\"format\":\"{symbol}{amount}\",\"symbol\":\"p.\",\"offset\":100,\"name\":\"Russian Ruble\"},\"SAR\":{\"iso\":\"SAR\",\"format\":\"{symbol}{amount}\",\"symbol\":\"\\\\u0631.\\\\u0633.\",\"offset\":100,\"name\":\"Saudi Arabian Riyal\"},\"SEK\":{\"iso\":\"SEK\",\"format\":\"{symbol}{amount}\",\"symbol\":\"kr\",\"offset\":100,\"name\":\"Swedish Krona\"},\"SGD\":{\"iso\":\"SGD\",\"format\":\"{symbol}{amount}\",\"symbol\":\"$\",\"offset\":100,\"name\":\"Singapore Dollar\"},\"THB\":{\"iso\":\"THB\",\"format\":\"{symbol}{amount}\",\"symbol\":\"\\\\u0e3f\",\"offset\":100,\"name\":\"Thai Baht\"},\"TRY\":{\"iso\":\"TRY\",\"format\":\"{symbol}{amount}\",\"symbol\":\"TL\",\"offset\":100,\"name\":\"Turkish Lira\"},\"TWD\":{\"iso\":\"TWD\",\"format\":\"{symbol}{amount}\",\"symbol\":\"NT$\",\"offset\":1,\"name\":\"Taiwan Dollar\"},\"USD\":{\"iso\":\"USD\",\"format\":\"{symbol}{amount}\",\"symbol\":\"$\",\"offset\":100,\"name\":\"US Dollars\"},\"UYU\":{\"iso\":\"UYU\",\"format\":\"{symbol}{amount}\",\"symbol\":\"$U\",\"offset\":100,\"name\":\"Uruguay Peso\"},\"VEF\":{\"iso\":\"VEF\",\"format\":\"{symbol}{amount}\",\"symbol\":\"Bs\",\"offset\":100,\"name\":\"Venezuelan Bolivar\"},\"VND\":{\"iso\":\"VND\",\"format\":\"{symbol}{amount}\",\"symbol\":\"\\\\u20ab\",\"offset\":1,\"name\":\"Vietnamese Dong\"},\"ZAR\":{\"iso\":\"ZAR\",\"format\":\"{symbol}{amount}\",\"symbol\":\"R\",\"offset\":100,\"name\":\"South African Rand\"}},\"adsCurrencyCodes\":[\"AED\",\"ARS\",\"AUD\",\"BDT\",\"BOB\",\"BRL\",\"CAD\",\"CHF\",\"CLP\",\"CNY\",\"COP\",\"CRC\",\"CZK\",\"DKK\",\"DZD\",\"EGP\",\"EUR\",\"GBP\",\"GTQ\",\"HKD\",\"HNL\",\"HUF\",\"IDR\",\"ILS\",\"INR\",\"ISK\",\"JPY\",\"KES\",\"KRW\",\"MOP\",\"MXN\",\"MYR\",\"NGN\",\"NIO\",\"NOK\",\"NZD\",\"PEN\",\"PHP\",\"PKR\",\"PLN\",\"PYG\",\"QAR\",\"RON\",\"RUB\",\"SAR\",\"SEK\",\"SGD\",\"THB\",\"TRY\",\"TWD\",\"USD\",\"UYU\",\"VEF\",\"VND\",\"ZAR\"],\"allCurrenciesByCode\":{\"AED\":{\"iso\":\"AED\",\"format\":\"{symbol}{amount}\",\"symbol\":\"\\\\u062f.\\\\u0625.\",\"offset\":100,\"name\":\"UAE Dirham\"},\"AMD\":{\"iso\":\"AMD\",\"format\":\"{symbol}{amount}\",\"symbol\":\"\\\\u0564\\\\u0580.\",\"offset\":100,\"name\":null},\"ANG\":{\"iso\":\"ANG\",\"format\":\"{symbol}{amount}\",\"symbol\":\"ANG\",\"offset\":100,\"name\":null},\"AOA\":{\"iso\":\"AOA\",\"format\":\"{symbol}{amount}\",\"symbol\":\"AOA\",\"offset\":100,\"name\":null},\"ARS\":{\"iso\":\"ARS\",\"format\":\"{symbol}{amount}\",\"symbol\":\"$\",\"offset\":100,\"name\":\"Argentine Peso\"},\"AUD\":{\"iso\":\"AUD\",\"format\":\"{symbol}{amount}\",\"symbol\":\"$\",\"offset\":100,\"name\":\"Australian Dollar\"},\"AWG\":{\"iso\":\"AWG\",\"format\":\"{symbol}{amount}\",\"symbol\":\"AWG\",\"offset\":100,\"name\":null},\"BAM\":{\"iso\":\"BAM\",\"format\":\"{symbol}{amount}\",\"symbol\":\"BAM\",\"offset\":100,\"name\":null},\"BBD\":{\"iso\":\"BBD\",\"format\":\"{symbol}{amount}\",\"symbol\":\"Bds$\",\"offset\":100,\"name\":null},\"BDT\":{\"iso\":\"BDT\",\"format\":\"{symbol}{amount}\",\"symbol\":\"\\\\u09f3\",\"offset\":100,\"name\":\"Bangladeshi Taka\"},\"BGN\":{\"iso\":\"BGN\",\"format\":\"{symbol}{amount}\",\"symbol\":\"\\\\u043b\\\\u0432.\",\"offset\":100,\"name\":\"Bulgarian Lev\"},\"BHD\":{\"iso\":\"BHD\",\"format\":\"{symbol}{amount}\",\"symbol\":\"\\\\u062f.\\\\u0628.\",\"offset\":100,\"name\":\"Bahraini Dinar\"},\"BOB\":{\"iso\":\"BOB\",\"format\":\"{symbol}{amount}\",\"symbol\":\"Bs.\",\"offset\":100,\"name\":\"Bolivian Boliviano\"},\"BRL\":{\"iso\":\"BRL\",\"format\":\"{symbol}{amount}\",\"symbol\":\"R$\",\"offset\":100,\"name\":\"Brazilian Real\"},\"CAD\":{\"iso\":\"CAD\",\"format\":\"{symbol}{amount}\",\"symbol\":\"$\",\"offset\":100,\"name\":\"Canadian Dollar\"},\"CHF\":{\"iso\":\"CHF\",\"format\":\"{symbol}{amount}\",\"symbol\":\"Fr.\",\"offset\":100,\"name\":\"Swiss Franc\"},\"CLP\":{\"iso\":\"CLP\",\"format\":\"{symbol}{amount}\",\"symbol\":\"$\",\"offset\":1,\"name\":\"Chilean Peso\"},\"CNY\":{\"iso\":\"CNY\",\"format\":\"{symbol}{amount}\",\"symbol\":\"\\\\uffe5\",\"offset\":100,\"name\":\"Chinese Yuan\"},\"COP\":{\"iso\":\"COP\",\"format\":\"{symbol}{amount}\",\"symbol\":\"$\",\"offset\":1,\"name\":\"Colombian Peso\"},\"CRC\":{\"iso\":\"CRC\",\"format\":\"{symbol}{amount}\",\"symbol\":\"\\\\u20a1\",\"offset\":1,\"name\":\"Costa Rican Colon\"},\"CZK\":{\"iso\":\"CZK\",\"format\":\"{symbol}{amount}\",\"symbol\":\"K\\\\u010d\",\"offset\":100,\"name\":\"Czech Koruna\"},\"DKK\":{\"iso\":\"DKK\",\"format\":\"{symbol}{amount}\",\"symbol\":\"kr.\",\"offset\":100,\"name\":\"Danish Krone\"},\"DZD\":{\"iso\":\"DZD\",\"format\":\"{symbol}{amount}\",\"symbol\":\"\\\\u062f.\\\\u062c.\",\"offset\":100,\"name\":\"Algerian Dinar\"},\"EGP\":{\"iso\":\"EGP\",\"format\":\"{symbol}{amount}\",\"symbol\":\"\\\\u062c.\\\\u0645.\",\"offset\":100,\"name\":\"Egyptian Pound\"},\"EUR\":{\"iso\":\"EUR\",\"format\":\"{symbol}{amount}\",\"symbol\":\"\\\\u20ac\",\"offset\":100,\"name\":\"Euro\"},\"FBZ\":{\"iso\":\"FBZ\",\"format\":\"{symbol}{amount}\",\"symbol\":\"C\",\"offset\":100,\"name\":\"credits\"},\"GBP\":{\"iso\":\"GBP\",\"format\":\"{symbol}{amount}\",\"symbol\":\"\\\\u00a3\",\"offset\":100,\"name\":\"British Pound\"},\"GHS\":{\"iso\":\"GHS\",\"format\":\"{symbol}{amount}\",\"symbol\":\"GHS\",\"offset\":100,\"name\":\"Ghanaian Cedi\"},\"GTQ\":{\"iso\":\"GTQ\",\"format\":\"{symbol}{amount}\",\"symbol\":\"Q\",\"offset\":100,\"name\":\"Guatemalan Quetzal\"},\"HKD\":{\"iso\":\"HKD\",\"format\":\"{symbol}{amount}\",\"symbol\":\"$\",\"offset\":100,\"name\":\"Hong Kong Dollar\"},\"HNL\":{\"iso\":\"HNL\",\"format\":\"{symbol}{amount}\",\"symbol\":\"L.\",\"offset\":100,\"name\":\"Honduran Lempira\"},\"HRK\":{\"iso\":\"HRK\",\"format\":\"{symbol}{amount}\",\"symbol\":\"kn\",\"offset\":100,\"name\":\"Croatian Kuna\"},\"HUF\":{\"iso\":\"HUF\",\"format\":\"{symbol}{amount}\",\"symbol\":\"Ft\",\"offset\":1,\"name\":\"Hungarian Forint\"},\"IDR\":{\"iso\":\"IDR\",\"format\":\"{symbol}{amount}\",\"symbol\":\"Rp\",\"offset\":1,\"name\":\"Indonesian Rupiah\"},\"ILS\":{\"iso\":\"ILS\",\"format\":\"{symbol}{amount}\",\"symbol\":\"\\\\u20aa\",\"offset\":100,\"name\":\"Israeli New Shekel\"},\"INR\":{\"iso\":\"INR\",\"format\":\"{symbol}{amount}\",\"symbol\":\"\\\\u20b9\",\"offset\":100,\"name\":\"Indian Rupee\"},\"ISK\":{\"iso\":\"ISK\",\"format\":\"{symbol}{amount}\",\"symbol\":\"kr.\",\"offset\":1,\"name\":\"Iceland Krona\"},\"JOD\":{\"iso\":\"JOD\",\"format\":\"{symbol}{amount}\",\"symbol\":\"\\\\u062f.\\\\u0627.\",\"offset\":100,\"name\":\"Jordanian Dinar\"},\"JPY\":{\"iso\":\"JPY\",\"format\":\"{symbol}{amount}\",\"symbol\":\"\\\\u00a5\",\"offset\":1,\"name\":\"Japanese Yen\"},\"KES\":{\"iso\":\"KES\",\"format\":\"{symbol}{amount}\",\"symbol\":\"KSh\",\"offset\":100,\"name\":\"Kenyan Shilling\"},\"KRW\":{\"iso\":\"KRW\",\"format\":\"{symbol}{amount}\",\"symbol\":\"\\\\u20a9\",\"offset\":1,\"name\":\"Korean Won\"},\"KWD\":{\"iso\":\"KWD\",\"format\":\"{symbol}{amount}\",\"symbol\":\"\\\\u062f.\\\\u0643.\",\"offset\":100,\"name\":null},\"KYD\":{\"iso\":\"KYD\",\"format\":\"{symbol}{amount}\",\"symbol\":\"CI$\",\"offset\":100,\"name\":null},\"LKR\":{\"iso\":\"LKR\",\"format\":\"{symbol}{amount}\",\"symbol\":\"LKR\",\"offset\":100,\"name\":null},\"LTL\":{\"iso\":\"LTL\",\"format\":\"{symbol}{amount}\",\"symbol\":\"Lt\",\"offset\":100,\"name\":\"Lithuanian Litas\"},\"LVL\":{\"iso\":\"LVL\",\"format\":\"{symbol}{amount}\",\"symbol\":\"Ls\",\"offset\":100,\"name\":\"Latvian Lats\"},\"MAD\":{\"iso\":\"MAD\",\"format\":\"{symbol}{amount}\",\"symbol\":\"\\\\u062f.\\\\u0645.\",\"offset\":100,\"name\":null},\"MOP\":{\"iso\":\"MOP\",\"format\":\"{symbol}{amount}\",\"symbol\":\"MOP\",\"offset\":100,\"name\":\"Macau Patacas\"},\"MUR\":{\"iso\":\"MUR\",\"format\":\"{symbol}{amount}\",\"symbol\":\"MUR\",\"offset\":100,\"name\":null},\"MVR\":{\"iso\":\"MVR\",\"format\":\"{symbol}{amount}\",\"symbol\":\"\\\\u0783.\",\"offset\":100,\"name\":null},\"MXN\":{\"iso\":\"MXN\",\"format\":\"{symbol}{amount}\",\"symbol\":\"$\",\"offset\":100,\"name\":\"Mexican Peso\"},\"MYR\":{\"iso\":\"MYR\",\"format\":\"{symbol}{amount}\",\"symbol\":\"RM\",\"offset\":100,\"name\":\"Malaysian Ringgit\"},\"MZN\":{\"iso\":\"MZN\",\"format\":\"{symbol}{amount}\",\"symbol\":\"MT\",\"offset\":100,\"name\":null},\"NGN\":{\"iso\":\"NGN\",\"format\":\"{symbol}{amount}\",\"symbol\":\"\\\\u20a6\",\"offset\":100,\"name\":\"Nigerian Naira\"},\"NIO\":{\"iso\":\"NIO\",\"format\":\"{symbol}{amount}\",\"symbol\":\"C$\",\"offset\":100,\"name\":\"Nicaraguan Cordoba\"},\"NOK\":{\"iso\":\"NOK\",\"format\":\"{symbol}{amount}\",\"symbol\":\"kr\",\"offset\":100,\"name\":\"Norwegian Krone\"},\"NZD\":{\"iso\":\"NZD\",\"format\":\"{symbol}{amount}\",\"symbol\":\"$\",\"offset\":100,\"name\":\"New Zealand Dollar\"},\"OMR\":{\"iso\":\"OMR\",\"format\":\"{symbol}{amount}\",\"symbol\":\"\\\\u0631.\\\\u0639.\",\"offset\":100,\"name\":null},\"PAB\":{\"iso\":\"PAB\",\"format\":\"{symbol}{amount}\",\"symbol\":\"B\\\\/.\",\"offset\":100,\"name\":null},\"PEN\":{\"iso\":\"PEN\",\"format\":\"{symbol}{amount}\",\"symbol\":\"S\\\\/.\",\"offset\":100,\"name\":\"Peruvian Nuevo Sol\"},\"PHP\":{\"iso\":\"PHP\",\"format\":\"{symbol}{amount}\",\"symbol\":\"\\\\u20b1\",\"offset\":100,\"name\":\"Philippine Peso\"},\"PKR\":{\"iso\":\"PKR\",\"format\":\"{symbol}{amount}\",\"symbol\":\"Rs\",\"offset\":100,\"name\":\"Pakistani Rupee\"},\"PLN\":{\"iso\":\"PLN\",\"format\":\"{symbol}{amount}\",\"symbol\":\"z\\\\u0142\",\"offset\":100,\"name\":\"Polish Zloty\"},\"PYG\":{\"iso\":\"PYG\",\"format\":\"{symbol}{amount}\",\"symbol\":\"\\\\u20b2\",\"offset\":1,\"name\":\"Paraguayan Guarani\"},\"QAR\":{\"iso\":\"QAR\",\"format\":\"{symbol}{amount}\",\"symbol\":\"\\\\u0631.\\\\u0642.\",\"offset\":100,\"name\":\"Qatari Rials\"},\"RON\":{\"iso\":\"RON\",\"format\":\"{symbol}{amount}\",\"symbol\":\"lei\",\"offset\":100,\"name\":\"Romanian Leu\"},\"RSD\":{\"iso\":\"RSD\",\"format\":\"{symbol}{amount}\",\"symbol\":\"RSD\",\"offset\":100,\"name\":\"Serbian Dinar\"},\"RUB\":{\"iso\":\"RUB\",\"format\":\"{symbol}{amount}\",\"symbol\":\"p.\",\"offset\":100,\"name\":\"Russian Ruble\"},\"SAR\":{\"iso\":\"SAR\",\"format\":\"{symbol}{amount}\",\"symbol\":\"\\\\u0631.\\\\u0633.\",\"offset\":100,\"name\":\"Saudi Arabian Riyal\"},\"SEK\":{\"iso\":\"SEK\",\"format\":\"{symbol}{amount}\",\"symbol\":\"kr\",\"offset\":100,\"name\":\"Swedish Krona\"},\"SGD\":{\"iso\":\"SGD\",\"format\":\"{symbol}{amount}\",\"symbol\":\"$\",\"offset\":100,\"name\":\"Singapore Dollar\"},\"SKK\":{\"iso\":\"SKK\",\"format\":\"{symbol}{amount}\",\"symbol\":\"Sk\",\"offset\":100,\"name\":\"Slovak Koruna\"},\"SRD\":{\"iso\":\"SRD\",\"format\":\"{symbol}{amount}\",\"symbol\":\"SRD\",\"offset\":100,\"name\":null},\"THB\":{\"iso\":\"THB\",\"format\":\"{symbol}{amount}\",\"symbol\":\"\\\\u0e3f\",\"offset\":100,\"name\":\"Thai Baht\"},\"TRY\":{\"iso\":\"TRY\",\"format\":\"{symbol}{amount}\",\"symbol\":\"TL\",\"offset\":100,\"name\":\"Turkish Lira\"},\"TWD\":{\"iso\":\"TWD\",\"format\":\"{symbol}{amount}\",\"symbol\":\"NT$\",\"offset\":1,\"name\":\"Taiwan Dollar\"},\"TZS\":{\"iso\":\"TZS\",\"format\":\"{symbol}{amount}\",\"symbol\":\"TSh\",\"offset\":1,\"name\":\"Tanzanian Shilling\"},\"UAH\":{\"iso\":\"UAH\",\"format\":\"{symbol}{amount}\",\"symbol\":\"\\\\u0433\\\\u0440\\\\u043d.\",\"offset\":100,\"name\":\"Ukrainian Hryvnia\"},\"USD\":{\"iso\":\"USD\",\"format\":\"{symbol}{amount}\",\"symbol\":\"$\",\"offset\":100,\"name\":\"US Dollars\"},\"UYU\":{\"iso\":\"UYU\",\"format\":\"{symbol}{amount}\",\"symbol\":\"$U\",\"offset\":100,\"name\":\"Uruguay Peso\"},\"VEF\":{\"iso\":\"VEF\",\"format\":\"{symbol}{amount}\",\"symbol\":\"Bs\",\"offset\":100,\"name\":\"Venezuelan Bolivar\"},\"VND\":{\"iso\":\"VND\",\"format\":\"{symbol}{amount}\",\"symbol\":\"\\\\u20ab\",\"offset\":1,\"name\":\"Vietnamese Dong\"},\"XAF\":{\"iso\":\"XAF\",\"format\":\"{symbol}{amount}\",\"symbol\":\"FCFA\",\"offset\":1,\"name\":null},\"XOF\":{\"iso\":\"XOF\",\"format\":\"{symbol}{amount}\",\"symbol\":\"FCFA\",\"offset\":1,\"name\":null},\"ZAR\":{\"iso\":\"ZAR\",\"format\":\"{symbol}{amount}\",\"symbol\":\"R\",\"offset\":100,\"name\":\"South African Rand\"}}},832],[\"CanvasToBlobResource\",[],{\"url\":\"https:\\\\/\\\\/static.xx.fbcdn.net\\\\/rsrc.php\\\\/v3\\\\/yc\\\\/r\\\\/MbfQap7lwYU.js\",\"name\":\"CanvasToBlobBundle\"},864],[\"VideoThumbnailConfig\",[],{\"defaultThumbnailURL\":\"https:\\\\/\\\\/static.xx.fbcdn.net\\\\/rsrc.php\\\\/v3\\\\/yN\\\\/r\\\\/AAqMW82PqGg.gif\"},967],[\"ReactionsMenuRenderGatekeepers\",[],{\"reactions_menu_defer_render\":false},1814],[\"UFISpamCountImpl\",[],{\"module\":null},72],[\"FbtQTOverrides\",[],{\"overrides\":{\"1_5f82098f4e1fdef32427b672e4eb3f85\":\"Try a Form to Find More Customers\",\"1_aea634284453b2999fb91d742371e1ec\":\"Create a form that opens instantly from your ad and is prefilled with info that people have already given to Facebook.\",\"1_65c3391ebe4a1af8364ca4fbb8cb54d1\":\"Mobile Number or Email:\",\"1_9171ad6e2268759887b1b45d16139587\":\"Reach Even More People\",\"1_92316d38e2588733757e408ae09d49f7\":\"Delete Request\",\"1_a062f489af17feff21bd65b765245aa0\":\"Name, mobile number or email\"}},551],[\"UFIConfig\",[],{\"commentVPVD\":{\"debug_console\":false,\"debug_html\":false,\"idle_timeout\":5000,\"locations\":[\"permalink\",\"newsstand\"],\"everywhere\":true,\"min_duration_to_log\":100,\"min_visible_size\":200},\"enableCommentListVisibilityTracking\":false,\"defaultPageSize\":50,\"renderEmoji\":true,\"renderEmoticons\":true,\"shouldShowStickerNUX\":false,\"shouldShowVideosInCommentsNux\":false,\"shouldShowMarkdownCommentNUX\":false,\"shouldShowHideConstituentTitleNUX\":false,\"shouldShowOwnerConstituentTitleNUX\":false,\"vpvLoggingTimeout\":1000,\"facecastWWWCommentQueueThreshold\":3,\"canPublishLive\":false,\"logChangeOrderingModeUsageSampleRate\":1,\"logCommentsTimespent\":true,\"logWhetherUFISeen\":false,\"showHashtagTypeahead\":false,\"numberDelimiter\":\",\",\"reshareedu\":true,\"logCommentPost\":false,\"logCommentLoad\":false,\"reactionsHasDirectReactTokens\":false,\"reactionsHasDirectReactTokensCounts\":false,\"reactionsDirectReactTokensModule\":null,\"reactionsFunnelLogger\":null,\"reactionsHasFunnelLogger\":false,\"reactionsHasCommentFunnelLogger\":false,\"reactionsHasCommentsNux\":false,\"reactionsHasTooltipBreakdown\":false,\"reactionsHasMegaDock\":false,\"reactionsPopupDockAnimationDuration\":700,\"reactionsHasAnimatedVectorDock\":false,\"reactionsHasAnimatedIconsOnHover\":false,\"reactionsHasStaticVectorDock\":false,\"reactionsHasStaticFileVectorDock\":false,\"reactionsHasThemes\":false,\"reactionsTheme\":null,\"reactionsHasSuggestedReaction\":false,\"reactionsCommentEnlargeLikeHotspot\":false,\"reactionsCommentDockShowDelay\":525,\"reactionsCommentDockHideDelay\":750,\"reactionsHasCommentUnlikeLabel\":false,\"reactionsHasReactionsRollback\":true,\"reactionsHasCommentReactionsRollback\":true,\"reactionsHasReactionsRetry\":true,\"reactionsHasCommentReactionsRetry\":true,\"showCommentEmbedOption\":true,\"alwaysPreviewSticker\":false,\"publicConversationsUnicornWhitelist\":false,\"typingIndicator\":{\"subscribe\":false,\"showInline\":false,\"showPill\":false,\"fromEveryone\":false},\"maxSubscriptionLiveCommentsQueueLength\":10,\"showChooseLoveAnimation\":false,\"feedfocusWrapperModule\":null,\"shouldTranslationsReplaceContent\":false,\"shouldLogFacecastStreamingCommentDelay\":false,\"showUFICrowdsource\":false,\"flushEventQueueBeforeRenderTimeout\":0,\"flushEventQueueBeforeRenderUseIdleCallback\":false,\"hasFaceliftCommentComposerIcons\":false},71],[\"NYE2017AnimationTriggerSettings\",[],{\"shouldTriggerOnPost\":false,\"shouldTriggerOnComment\":false},1992],[\"NYE2017CommentSettings\",[],{\"shouldAnimate\":false,\"shouldHighlight\":false},1986]]);require(\"InitialJSLoader\").handleServerJS({\"instances\":[[\"__inst_84473062_0_0\",[\"URI\"],[\"\\\\/api\\\\/graphqlbatch\\\\/\"],1],[\"__inst_84473062_0_1\",[\"URI\"],[\"\\\\/api\\\\/graphql\\\\/\"],1]],\"require\":[[\"markJSEnabled\"],[\"lowerDomain\"],[\"Primer\"]]},\"i0\");}, \"ServerJS define\", {\"root\":true})();</script><script>(function(){var a=document.createElement(\\'div\\');a.innerHTML=\\'<svg/>\\';if(a.firstChild&&a.firstChild.namespaceURI===\\'http://www.w3.org/2000/svg\\'){var b=document.documentElement;b.className=b.className.replace(\\'no_svg\\',\\'svg\\');}})();</script><link rel=\"stylesheet\" type=\"text/css\" href=\"https://static.xx.fbcdn.net/rsrc.php/v3/yS/r/edy3DrkJdIx.css\"></head><body dir=\"ltr\" class=\"plugin safari webkit-legacy webkit mac x1 Locale_en_US\"><div class=\"_li\"><div class=\"pluginSkinLight pluginFontHelvetica\"><div id=\"u_0_0\"><div data-reactroot=\"\" class=\"_56q9\"><div class=\"_2pi8\"><div class=\"_491z clearfix\"><div class=\"_ohe lfloat\"><span><span class=\" _50f7\"><em class=\"_4qba\" data-intl-translation=\"{count} Comments\" data-intl-trid=\"\"><!-- react-text: 8 -->5 Comments<!-- /react-text --></em></span></span></div><div class=\"_ohf rfloat\"><div><span class=\"_pup\"><em class=\"_4qba\" data-intl-translation=\"Sort by\" data-intl-trid=\"\"><!-- react-text: 13 -->Sort by<!-- /react-text --></em></span><!-- react-text: 14 --> <!-- /react-text --><div class=\"_3-8_ _6a _6b\"><div class=\"uiPopover _6a _6b\"><a class=\"_p _55pi _5vto _55_p _2agf _4jy0 _4jy3 _517h _51sy _42ft\" aria-haspopup=\"true\" href=\"#\" role=\"button\" style=\"max-width: 200px;\"><span class=\"_55pe\" style=\"max-width: 186px;\"><!-- react-text: 19 -->Top<!-- /react-text --></span><i alt=\"\" class=\"_3-99 img sp_TWlAhEA9xB6 sx_4baf2f\"></i></a></div><input type=\"hidden\" value=\"social\"></div></div></div></div><div class=\"_4uyl _1zz7 _2392 clearfix\" direction=\"left\"><div class=\"_ohe lfloat\"><div class=\"img _8o _8s UFIImageBlockImage\"></div></div><div class=\"\"><div class=\"UFIImageBlockContent _42ef\"><div><div class=\"UFIInputContainer\"><textarea class=\"_1cb _1u9t\" placeholder=\"Add a comment...\"></textarea><div class=\"UFICommentAttachmentButtons clearfix hidden_elem\"></div></div><!-- react-empty: 31 --></div></div></div></div><div class=\"_4k-6\"><div class=\"_3-8y _5nz1 clearfix\" direction=\"left\"><div class=\"_ohe lfloat\"><a href=\"https://www.facebook.com/jabo2099\" src=\"https://scontent-lga3-1.xx.fbcdn.net/v/t1.0-1/p48x48/15965098_10155593070078056_1119550243873506506_n.jpg?oh=0bf333048672cfea5a3f16a71b108011&amp;oe=592399C1\" target=\"_blank\" class=\"img _8o _8s UFIImageBlockImage\"><img class=\"_1ci img\" src=\"https://scontent-lga3-1.xx.fbcdn.net/v/t1.0-1/p48x48/15965098_10155593070078056_1119550243873506506_n.jpg?oh=0bf333048672cfea5a3f16a71b108011&amp;oe=592399C1\" alt=\"\"></a></div><div class=\"\"><div class=\"UFIImageBlockContent _42ef clearfix\" direction=\"right\"><div class=\"_ohf rfloat\"><div></div></div><div class=\"\"><div><span><a target=\"_blank\" class=\" UFICommentActorName\" data-hovercard=\"/ajax/hovercard/hovercard.php?id=696893055&amp;extragetparams=%7B%22is_public%22%3Afalse%2C%22hc_location%22%3A%22ufi%22%7D\" dir=\"ltr\" href=\"https://www.facebook.com/jabo2099\"><!-- react-text: 45 -->Jason Stokes<!-- /react-text --></a><!-- react-text: 46 --> \\xb7 <!-- /react-text --><div class=\"_4q1v\"><a target=\"_blank\" href=\"https://www.facebook.com/pages/University-of-North-Carolina-at-Charlotte/107938585892881\">University of North Carolina at Charlotte</a></div></span><div class=\"_3-8m\"><div class=\"_30o4\"><span><span class=\"_5mdd\"><span>Not sure what was in the mustard sauce but it was incredibly overpowering. We ended up tossing the slaw. The catfish was good.</span></span></span><span></span></div></div><div class=\"_2vq9 fsm fwn fcg\"><a href=\"#\"><em class=\"_4qba\" data-intl-translation=\"Like\" data-intl-trid=\"\"><!-- react-text: 58 -->Like<!-- /react-text --></em></a><span role=\"presentation\" aria-hidden=\"true\"> \\xb7 </span><a href=\"#\"><em class=\"_4qba\" data-intl-translation=\"Reply\" data-intl-trid=\"\"><!-- react-text: 62 -->Reply<!-- /react-text --></em></a><span role=\"presentation\" aria-hidden=\"true\"> \\xb7 </span><span><i class=\"_3-8_ _4iy4 img sp_TWlAhEA9xB6 sx_9de99b\" alt=\"\"></i><!-- react-text: 66 -->1<!-- /react-text --></span><span role=\"presentation\" aria-hidden=\"true\"> \\xb7 </span><span><a class=\"uiLinkSubtle\" href=\"http://www.blueapron.com/recipes/paprika-spiced-catfish-with-cabbage-slaw-roasted-purple-potato-wedges?fb_comment_id=1007315549378150_1048864968556541\" data-ft=\"{&quot;tn&quot;:&quot;N&quot;}\" data-testid=\"ufi_comment_timestamp\" target=\"_blank\"><abbr class=\"livetimestamp\" data-utime=\"1483572049\" data-shorten=\"true\">Jan 4, 2017 3:20pm</abbr></a></span></div><!-- react-empty: 71 --></div></div></div></div></div><div class=\"_3-8y _5nz1 clearfix\" direction=\"left\"><div class=\"_ohe lfloat\"><a href=\"https://www.facebook.com/marilyn.moorepollock\" src=\"https://scontent-lga3-1.xx.fbcdn.net/v/t1.0-1/p48x48/12923345_10205866844727088_7512569886919918168_n.jpg?oh=b74335fc52e403baca880ff11146f7f2&amp;oe=5915B175\" target=\"_blank\" class=\"img _8o _8s UFIImageBlockImage\"><img class=\"_1ci img\" src=\"https://scontent-lga3-1.xx.fbcdn.net/v/t1.0-1/p48x48/12923345_10205866844727088_7512569886919918168_n.jpg?oh=b74335fc52e403baca880ff11146f7f2&amp;oe=5915B175\" alt=\"\"></a></div><div class=\"\"><div class=\"UFIImageBlockContent _42ef clearfix\" direction=\"right\"><div class=\"_ohf rfloat\"><div></div></div><div class=\"\"><div><span><a target=\"_blank\" class=\" UFICommentActorName\" data-hovercard=\"/ajax/hovercard/hovercard.php?id=1137319076&amp;extragetparams=%7B%22is_public%22%3Afalse%2C%22hc_location%22%3A%22ufi%22%7D\" dir=\"ltr\" href=\"https://www.facebook.com/marilyn.moorepollock\"><!-- react-text: 84 -->Marilyn Moore Pollock<!-- /react-text --></a><!-- react-text: 85 --> \\xb7 <!-- /react-text --><div class=\"_4q1v\"><span><em class=\"_4qba\" data-intl-translation=\"{position} at {employer}\" data-intl-trid=\"\"><!-- react-text: 89 --><!-- /react-text --><a target=\"_blank\" href=\"https://www.facebook.com/pages/Director-of-Nursing-Operations/138837399481241\">Director of Nursing Operations</a><!-- react-text: 91 --> at <!-- /react-text --><a target=\"_blank\" href=\"https://www.facebook.com/pages/Albert-Einstein-Healthcare-Network/116152875079019\">Albert Einstein Healthcare Network</a><!-- react-text: 93 --><!-- /react-text --></em></span></div></span><div class=\"_3-8m\"><div class=\"_30o4\"><span><span class=\"_5mdd\"><span>My mustard dressing was missing. I mixed together mayonnaise and poupon mustard</span></span></span><span></span></div></div><div class=\"_2vq9 fsm fwn fcg\"><a href=\"#\"><em class=\"_4qba\" data-intl-translation=\"Like\" data-intl-trid=\"\"><!-- react-text: 103 -->Like<!-- /react-text --></em></a><span role=\"presentation\" aria-hidden=\"true\"> \\xb7 </span><a href=\"#\"><em class=\"_4qba\" data-intl-translation=\"Reply\" data-intl-trid=\"\"><!-- react-text: 107 -->Reply<!-- /react-text --></em></a><span role=\"presentation\" aria-hidden=\"true\"> \\xb7 </span><span><a class=\"uiLinkSubtle\" href=\"http://www.blueapron.com/recipes/paprika-spiced-catfish-with-cabbage-slaw-roasted-purple-potato-wedges?fb_comment_id=1007315549378150_1047313078711730\" data-ft=\"{&quot;tn&quot;:&quot;N&quot;}\" data-testid=\"ufi_comment_timestamp\" target=\"_blank\"><abbr class=\"livetimestamp\" data-utime=\"1483391515\" data-shorten=\"true\">Jan 2, 2017 1:11pm</abbr></a></span></div><!-- react-empty: 112 --></div></div></div></div></div><div class=\"_3-8y _5nz1 clearfix\" direction=\"left\"><div class=\"_ohe lfloat\"><a href=\"https://www.facebook.com/laurie.hellewell\" src=\"https://scontent-lga3-1.xx.fbcdn.net/v/t1.0-1/p48x48/1377306_703590359699658_5362396674024824099_n.jpg?oh=ea8e64d0b54764ff9e573266b0f91662&amp;oe=591AC201\" target=\"_blank\" class=\"img _8o _8s UFIImageBlockImage\"><img class=\"_1ci img\" src=\"https://scontent-lga3-1.xx.fbcdn.net/v/t1.0-1/p48x48/1377306_703590359699658_5362396674024824099_n.jpg?oh=ea8e64d0b54764ff9e573266b0f91662&amp;oe=591AC201\" alt=\"\"></a></div><div class=\"\"><div class=\"UFIImageBlockContent _42ef clearfix\" direction=\"right\"><div class=\"_ohf rfloat\"><div></div></div><div class=\"\"><div><span><a target=\"_blank\" class=\" UFICommentActorName\" data-hovercard=\"/ajax/hovercard/hovercard.php?id=100001461020924&amp;extragetparams=%7B%22is_public%22%3Afalse%2C%22hc_location%22%3A%22ufi%22%7D\" dir=\"ltr\" href=\"https://www.facebook.com/laurie.hellewell\"><!-- react-text: 125 -->Laurie Hellewell<!-- /react-text --></a><!-- react-text: 126 --> \\xb7 <!-- /react-text --><div class=\"_4q1v\"><span><em class=\"_4qba\" data-intl-translation=\"{position} at {employer}\" data-intl-trid=\"\"><!-- react-text: 130 --><!-- /react-text --><a target=\"_blank\" href=\"https://www.facebook.com/pages/Artist/105799462785959\">Artist</a><!-- react-text: 132 --> at <!-- /react-text --><a target=\"_blank\" href=\"https://www.facebook.com/pages/Hellewell-Designs/1322741114403334\">Hellewell Designs</a><!-- react-text: 134 --><!-- /react-text --></em></span></div></span><div class=\"_3-8m\"><div class=\"_30o4\"><span><span class=\"_5mdd\"><span>My favorite part of the meal was the slaw. I loved that it was spicy! Wish I knew what ingredients went into the dressing?</span></span></span><span></span></div></div><div class=\"_2vq9 fsm fwn fcg\"><a href=\"#\"><em class=\"_4qba\" data-intl-translation=\"Like\" data-intl-trid=\"\"><!-- react-text: 144 -->Like<!-- /react-text --></em></a><span role=\"presentation\" aria-hidden=\"true\"> \\xb7 </span><a href=\"#\"><em class=\"_4qba\" data-intl-translation=\"Reply\" data-intl-trid=\"\"><!-- react-text: 148 -->Reply<!-- /react-text --></em></a><span role=\"presentation\" aria-hidden=\"true\"> \\xb7 </span><span><a class=\"uiLinkSubtle\" href=\"http://www.blueapron.com/recipes/paprika-spiced-catfish-with-cabbage-slaw-roasted-purple-potato-wedges?fb_comment_id=1007315549378150_1059005414209163\" data-ft=\"{&quot;tn&quot;:&quot;N&quot;}\" data-testid=\"ufi_comment_timestamp\" target=\"_blank\"><abbr class=\"livetimestamp\" data-utime=\"1484710591\" data-shorten=\"true\">Jan 17, 2017 7:36pm</abbr></a></span></div><!-- react-empty: 153 --></div></div></div></div></div><div class=\"_3-8y _5nz1 clearfix\" direction=\"left\"><div class=\"_ohe lfloat\"><a href=\"https://www.facebook.com/lynette.clemmons\" src=\"https://scontent-lga3-1.xx.fbcdn.net/v/t1.0-1/p48x48/14993489_10208201987588378_4644096684238556859_n.jpg?oh=1673d425878cfc63b1a85210046532a3&amp;oe=591FCC21\" target=\"_blank\" class=\"img _8o _8s UFIImageBlockImage\"><img class=\"_1ci img\" src=\"https://scontent-lga3-1.xx.fbcdn.net/v/t1.0-1/p48x48/14993489_10208201987588378_4644096684238556859_n.jpg?oh=1673d425878cfc63b1a85210046532a3&amp;oe=591FCC21\" alt=\"\"></a></div><div class=\"\"><div class=\"UFIImageBlockContent _42ef clearfix\" direction=\"right\"><div class=\"_ohf rfloat\"><div></div></div><div class=\"\"><div><span><a target=\"_blank\" class=\" UFICommentActorName\" data-hovercard=\"/ajax/hovercard/hovercard.php?id=1262654170&amp;extragetparams=%7B%22is_public%22%3Afalse%2C%22hc_location%22%3A%22ufi%22%7D\" dir=\"ltr\" href=\"https://www.facebook.com/lynette.clemmons\"><!-- react-text: 166 -->Lynette Lott Clemmons<!-- /react-text --></a><!-- react-text: 167 --> \\xb7 <!-- /react-text --><div class=\"_4q1v\"><a target=\"_blank\" href=\"https://www.facebook.com/pages/Memphis-Tennessee/103123839728353\">Memphis, Tennessee</a></div></span><div class=\"_3-8m\"><div class=\"_30o4\"><span><span class=\"_5mdd\"><span>What are the ingredients for the mustard dressing?</span></span></span><span></span></div></div><div class=\"_2vq9 fsm fwn fcg\"><a href=\"#\"><em class=\"_4qba\" data-intl-translation=\"Like\" data-intl-trid=\"\"><!-- react-text: 179 -->Like<!-- /react-text --></em></a><span role=\"presentation\" aria-hidden=\"true\"> \\xb7 </span><a href=\"#\"><em class=\"_4qba\" data-intl-translation=\"Reply\" data-intl-trid=\"\"><!-- react-text: 183 -->Reply<!-- /react-text --></em></a><span role=\"presentation\" aria-hidden=\"true\"> \\xb7 </span><span><i class=\"_3-8_ _4iy4 img sp_TWlAhEA9xB6 sx_9de99b\" alt=\"\"></i><!-- react-text: 187 -->3<!-- /react-text --></span><span role=\"presentation\" aria-hidden=\"true\"> \\xb7 </span><span><a class=\"uiLinkSubtle\" href=\"http://www.blueapron.com/recipes/paprika-spiced-catfish-with-cabbage-slaw-roasted-purple-potato-wedges?fb_comment_id=1007315549378150_1045047862271585\" data-ft=\"{&quot;tn&quot;:&quot;N&quot;}\" data-testid=\"ufi_comment_timestamp\" target=\"_blank\"><abbr class=\"livetimestamp\" data-utime=\"1483148758\" data-shorten=\"true\">Dec 30, 2016 5:45pm</abbr></a></span></div><!-- react-empty: 192 --></div></div></div></div></div><div class=\"_3-8y _5nz1 clearfix\" direction=\"left\"><div class=\"_ohe lfloat\"><a href=\"https://www.facebook.com/lindsey.bozemanbiggs\" src=\"https://scontent-lga3-1.xx.fbcdn.net/v/t1.0-1/p48x48/12991017_122274628175617_6389728568345690341_n.jpg?oh=bf32f2998199ec30a4c09caba18d1958&amp;oe=591F28D5\" target=\"_blank\" class=\"img _8o _8s UFIImageBlockImage\"><img class=\"_1ci img\" src=\"https://scontent-lga3-1.xx.fbcdn.net/v/t1.0-1/p48x48/12991017_122274628175617_6389728568345690341_n.jpg?oh=bf32f2998199ec30a4c09caba18d1958&amp;oe=591F28D5\" alt=\"\"></a></div><div class=\"\"><div class=\"UFIImageBlockContent _42ef clearfix\" direction=\"right\"><div class=\"_ohf rfloat\"><div></div></div><div class=\"\"><div><span><a target=\"_blank\" class=\" UFICommentActorName\" data-hovercard=\"/ajax/hovercard/hovercard.php?id=100011792412883&amp;extragetparams=%7B%22is_public%22%3Afalse%2C%22hc_location%22%3A%22ufi%22%7D\" dir=\"ltr\" href=\"https://www.facebook.com/lindsey.bozemanbiggs\"><!-- react-text: 205 -->Lindsey Bozeman Biggs<!-- /react-text --></a><!-- react-text: 206 --> \\xb7 <!-- /react-text --><div class=\"_4q1v\"><span><em class=\"_4qba\" data-intl-translation=\"{position} at {employer}\" data-intl-trid=\"\"><!-- react-text: 210 --><!-- /react-text --><a target=\"_blank\" href=\"https://www.facebook.com/pages/Loan-Specialist/793611870687364\">Loan Specialist</a><!-- react-text: 212 --> at <!-- /react-text --><a target=\"_blank\" href=\"https://www.facebook.com/pages/Mortgage-Financial-Services/830598547022573\">Mortgage Financial Services</a><!-- react-text: 214 --><!-- /react-text --></em></span></div></span><div class=\"_3-8m\"><div class=\"_30o4\"><span><span class=\"_5mdd\"><span>for the second time my scallions were missing, has anyone ever tried substituting a white onion or a shallot or anything else I might have on hand?</span></span></span><span></span></div></div><div class=\"_2vq9 fsm fwn fcg\"><a href=\"#\"><em class=\"_4qba\" data-intl-translation=\"Like\" data-intl-trid=\"\"><!-- react-text: 224 -->Like<!-- /react-text --></em></a><span role=\"presentation\" aria-hidden=\"true\"> \\xb7 </span><a href=\"#\"><em class=\"_4qba\" data-intl-translation=\"Reply\" data-intl-trid=\"\"><!-- react-text: 228 -->Reply<!-- /react-text --></em></a><span role=\"presentation\" aria-hidden=\"true\"> \\xb7 </span><span><a class=\"uiLinkSubtle\" href=\"http://www.blueapron.com/recipes/paprika-spiced-catfish-with-cabbage-slaw-roasted-purple-potato-wedges?fb_comment_id=1007315549378150_1048686565241048\" data-ft=\"{&quot;tn&quot;:&quot;N&quot;}\" data-testid=\"ufi_comment_timestamp\" target=\"_blank\"><abbr class=\"livetimestamp\" data-utime=\"1483552209\" data-shorten=\"true\">Jan 4, 2017 9:50am</abbr></a></span></div><!-- react-empty: 233 --></div></div></div></div></div><!-- react-empty: 234 --></div><div class=\"_5lm5 _2pi3 _3-8y\"><div direction=\"left\" class=\"clearfix\"><div class=\"_ohe lfloat\"><i alt=\"\" class=\"img _8o _8r img sp_1whW3lnBX1F sx_138ae9\"></i></div><div class=\"\"><div class=\"_42ef _8u\"><a target=\"_blank\" href=\"https://developers.facebook.com/docs/plugins/comments/\">Facebook Comments Plugin</a></div></div></div></div></div></div></div></div></div>\\n<script>requireLazy([\"Bootloader\"], function(Bootloader) {Bootloader.setResourceMap({\"oeUXN\":{\"type\":\"js\",\"src\":\"https:\\\\/\\\\/static.xx.fbcdn.net\\\\/rsrc.php\\\\/v3\\\\/yM\\\\/r\\\\/7al6lU1lGoK.js\",\"crossOrigin\":1},\"LVsAq\":{\"type\":\"js\",\"src\":\"https:\\\\/\\\\/static.xx.fbcdn.net\\\\/rsrc.php\\\\/v3i58P4\\\\/yN\\\\/l\\\\/en_US\\\\/2xqDG9BqXr9.js\",\"crossOrigin\":1},\"20549\":{\"type\":\"js\",\"src\":\"https:\\\\/\\\\/static.xx.fbcdn.net\\\\/rsrc.php\\\\/v3iqTc4\\\\/y1\\\\/l\\\\/en_US\\\\/exeGjSnPdqH.js\",\"crossOrigin\":1},\"L1k\\\\/a\":{\"type\":\"js\",\"src\":\"https:\\\\/\\\\/static.xx.fbcdn.net\\\\/rsrc.php\\\\/v3\\\\/y0\\\\/r\\\\/v8xeS_mshuc.js\",\"crossOrigin\":1},\"G2yK9\":{\"type\":\"js\",\"src\":\"https:\\\\/\\\\/static.xx.fbcdn.net\\\\/rsrc.php\\\\/v3\\\\/yc\\\\/r\\\\/6k8JMHnyi_R.js\",\"crossOrigin\":1},\"dadWr\":{\"type\":\"js\",\"src\":\"https:\\\\/\\\\/static.xx.fbcdn.net\\\\/rsrc.php\\\\/v3i39U4\\\\/yg\\\\/l\\\\/en_US\\\\/9DW5o3HPPan.js\",\"crossOrigin\":1},\"ccpBO\":{\"type\":\"js\",\"src\":\"https:\\\\/\\\\/static.xx.fbcdn.net\\\\/rsrc.php\\\\/v3\\\\/yi\\\\/r\\\\/J_PiaUdj5PI.js\",\"crossOrigin\":1},\"SM0Me\":{\"type\":\"js\",\"src\":\"https:\\\\/\\\\/static.xx.fbcdn.net\\\\/rsrc.php\\\\/v3\\\\/yD\\\\/r\\\\/CtAMeQ-6N4h.js\",\"crossOrigin\":1},\"8vhS8\":{\"type\":\"js\",\"src\":\"https:\\\\/\\\\/static.xx.fbcdn.net\\\\/rsrc.php\\\\/v3iAkr4\\\\/y5\\\\/l\\\\/en_US\\\\/rk5OHPWNuZY.js\",\"crossOrigin\":1},\"BnIxf\":{\"type\":\"js\",\"src\":\"https:\\\\/\\\\/static.xx.fbcdn.net\\\\/rsrc.php\\\\/v3\\\\/yY\\\\/r\\\\/pZp5y-3MdDq.js\",\"crossOrigin\":1},\"wwr9S\":{\"type\":\"js\",\"src\":\"https:\\\\/\\\\/static.xx.fbcdn.net\\\\/rsrc.php\\\\/v3inse4\\\\/yR\\\\/l\\\\/en_US\\\\/6JwpgA6vtCJ.js\",\"crossOrigin\":1},\"a0dox\":{\"type\":\"js\",\"src\":\"https:\\\\/\\\\/static.xx.fbcdn.net\\\\/rsrc.php\\\\/v3iCZ54\\\\/yu\\\\/l\\\\/en_US\\\\/XHwPt8-yG_c.js\",\"crossOrigin\":1},\"U3Yhf\":{\"type\":\"js\",\"src\":\"https:\\\\/\\\\/static.xx.fbcdn.net\\\\/rsrc.php\\\\/v3\\\\/yG\\\\/r\\\\/aNgNR4aXw3a.js\",\"crossOrigin\":1},\"5wytd\":{\"type\":\"js\",\"src\":\"https:\\\\/\\\\/static.xx.fbcdn.net\\\\/rsrc.php\\\\/v3i_LL4\\\\/yW\\\\/l\\\\/en_US\\\\/ZfZj8L0pQKI.js\",\"crossOrigin\":1},\"6\\\\/pMr\":{\"type\":\"js\",\"src\":\"https:\\\\/\\\\/static.xx.fbcdn.net\\\\/rsrc.php\\\\/v3iJwG4\\\\/yQ\\\\/l\\\\/en_US\\\\/dZ_vwi-t0DS.js\",\"crossOrigin\":1},\"ErXSG\":{\"type\":\"js\",\"src\":\"https:\\\\/\\\\/static.xx.fbcdn.net\\\\/rsrc.php\\\\/v3iSzh4\\\\/yc\\\\/l\\\\/en_US\\\\/uv-eKaVwBq9.js\",\"crossOrigin\":1},\"CkrsG\":{\"type\":\"js\",\"src\":\"https:\\\\/\\\\/static.xx.fbcdn.net\\\\/rsrc.php\\\\/v3i2JS4\\\\/yC\\\\/l\\\\/en_US\\\\/fWrh1JzqSP6.js\",\"crossOrigin\":1},\"fyYsh\":{\"type\":\"css\",\"src\":\"https:\\\\/\\\\/static.xx.fbcdn.net\\\\/rsrc.php\\\\/v3\\\\/y3\\\\/r\\\\/qVUTbQ0l-6o.css\",\"crossOrigin\":1},\"lY8iO\":{\"type\":\"js\",\"src\":\"https:\\\\/\\\\/static.xx.fbcdn.net\\\\/rsrc.php\\\\/v3\\\\/yR\\\\/r\\\\/CbJ2ihJIzXj.js\",\"crossOrigin\":1},\"Ougg6\":{\"type\":\"js\",\"src\":\"https:\\\\/\\\\/static.xx.fbcdn.net\\\\/rsrc.php\\\\/v3\\\\/yF\\\\/r\\\\/B4rOi6wyNWo.js\",\"crossOrigin\":1},\"Xm2dW\":{\"type\":\"js\",\"src\":\"https:\\\\/\\\\/static.xx.fbcdn.net\\\\/rsrc.php\\\\/v3i2vp4\\\\/y1\\\\/l\\\\/en_US\\\\/t0Xqym_wHJu.js\",\"crossOrigin\":1},\"1\\\\/ELA\":{\"type\":\"css\",\"src\":\"https:\\\\/\\\\/static.xx.fbcdn.net\\\\/rsrc.php\\\\/v3\\\\/yF\\\\/r\\\\/pMAggHrmI2z.css\",\"crossOrigin\":1},\"WKYrT\":{\"type\":\"js\",\"src\":\"https:\\\\/\\\\/static.xx.fbcdn.net\\\\/rsrc.php\\\\/v3\\\\/yy\\\\/r\\\\/2BlIjp-qUSD.js\",\"crossOrigin\":1},\"uBFZl\":{\"type\":\"js\",\"src\":\"https:\\\\/\\\\/static.xx.fbcdn.net\\\\/rsrc.php\\\\/v3izxd4\\\\/yy\\\\/l\\\\/en_US\\\\/SntEhVyyF-x.js\",\"crossOrigin\":1},\"XLf2y\":{\"type\":\"js\",\"src\":\"https:\\\\/\\\\/static.xx.fbcdn.net\\\\/rsrc.php\\\\/v3i58P4\\\\/yN\\\\/l\\\\/en_US\\\\/T5Ks9Lw6Q_W.js\",\"crossOrigin\":1},\"nT3P8\":{\"type\":\"js\",\"src\":\"https:\\\\/\\\\/static.xx.fbcdn.net\\\\/rsrc.php\\\\/v3iFaY4\\\\/y2\\\\/l\\\\/en_US\\\\/U3ai7tTG_VN.js\",\"crossOrigin\":1},\"1gHDT\":{\"type\":\"js\",\"src\":\"https:\\\\/\\\\/static.xx.fbcdn.net\\\\/rsrc.php\\\\/v3inC-4\\\\/y1\\\\/l\\\\/en_US\\\\/rF0dd_xltP3.js\",\"crossOrigin\":1},\"zJFru\":{\"type\":\"js\",\"src\":\"https:\\\\/\\\\/static.xx.fbcdn.net\\\\/rsrc.php\\\\/v3\\\\/yH\\\\/r\\\\/Ir6Zs5oRE6R.js\",\"crossOrigin\":1},\"SoeRk\":{\"type\":\"js\",\"src\":\"https:\\\\/\\\\/static.xx.fbcdn.net\\\\/rsrc.php\\\\/v3iT3G4\\\\/yG\\\\/l\\\\/en_US\\\\/q9l7bWgIkZv.js\",\"crossOrigin\":1},\"pByjG\":{\"type\":\"css\",\"src\":\"https:\\\\/\\\\/static.xx.fbcdn.net\\\\/rsrc.php\\\\/v3\\\\/yA\\\\/r\\\\/PR-I0zybZWH.css\",\"crossOrigin\":1},\"gSN95\":{\"type\":\"css\",\"src\":\"https:\\\\/\\\\/static.xx.fbcdn.net\\\\/rsrc.php\\\\/v3\\\\/yt\\\\/r\\\\/a_luTOkVJrg.css\",\"crossOrigin\":1},\"WfVRN\":{\"type\":\"css\",\"src\":\"https:\\\\/\\\\/static.xx.fbcdn.net\\\\/rsrc.php\\\\/v3\\\\/y7\\\\/r\\\\/-su2VTHIWix.css\",\"crossOrigin\":1},\"mFx0T\":{\"type\":\"js\",\"src\":\"https:\\\\/\\\\/static.xx.fbcdn.net\\\\/rsrc.php\\\\/v3iIE44\\\\/yH\\\\/l\\\\/en_US\\\\/pv4_3o0Fn3m.js\",\"crossOrigin\":1},\"i7Dcx\":{\"type\":\"js\",\"src\":\"https:\\\\/\\\\/static.xx.fbcdn.net\\\\/rsrc.php\\\\/v3iWNO4\\\\/yC\\\\/l\\\\/en_US\\\\/57lW5Z5wy9w.js\",\"crossOrigin\":1},\"YQ4Zs\":{\"type\":\"js\",\"src\":\"https:\\\\/\\\\/static.xx.fbcdn.net\\\\/rsrc.php\\\\/v3\\\\/yA\\\\/r\\\\/i9l2eNnaX_H.js\",\"crossOrigin\":1},\"QNW9v\":{\"type\":\"js\",\"src\":\"https:\\\\/\\\\/static.xx.fbcdn.net\\\\/rsrc.php\\\\/v3\\\\/yN\\\\/r\\\\/X2pocLOfxAA.js\",\"crossOrigin\":1},\"T2N34\":{\"type\":\"js\",\"src\":\"https:\\\\/\\\\/static.xx.fbcdn.net\\\\/rsrc.php\\\\/v3\\\\/yX\\\\/r\\\\/2lVXrKYewRK.js\",\"crossOrigin\":1},\"O\\\\/TcF\":{\"type\":\"js\",\"src\":\"https:\\\\/\\\\/static.xx.fbcdn.net\\\\/rsrc.php\\\\/v3ihBw4\\\\/yg\\\\/l\\\\/en_US\\\\/eHilpD53rSf.js\",\"crossOrigin\":1},\"SlVkL\":{\"type\":\"js\",\"src\":\"https:\\\\/\\\\/static.xx.fbcdn.net\\\\/rsrc.php\\\\/v3iiAY4\\\\/y7\\\\/l\\\\/en_US\\\\/R1tHp5s3d5g.js\",\"crossOrigin\":1},\"XD1oa\":{\"type\":\"css\",\"src\":\"https:\\\\/\\\\/static.xx.fbcdn.net\\\\/rsrc.php\\\\/v3\\\\/y0\\\\/r\\\\/qzJqn30QPdN.css\",\"permanent\":1,\"crossOrigin\":1},\"zii0K\":{\"type\":\"js\",\"src\":\"https:\\\\/\\\\/static.xx.fbcdn.net\\\\/rsrc.php\\\\/v3iCre4\\\\/yH\\\\/l\\\\/en_US\\\\/AaP-hgHxcBY.js\",\"crossOrigin\":1},\"wE\\\\/xn\":{\"type\":\"js\",\"src\":\"https:\\\\/\\\\/static.xx.fbcdn.net\\\\/rsrc.php\\\\/v3\\\\/y4\\\\/r\\\\/xkpiQ5LiVoI.js\",\"crossOrigin\":1},\"tGDd5\":{\"type\":\"css\",\"src\":\"https:\\\\/\\\\/static.xx.fbcdn.net\\\\/rsrc.php\\\\/v3\\\\/yb\\\\/r\\\\/UMIPx8qG456.css\",\"permanent\":1,\"crossOrigin\":1},\"IzAWX\":{\"type\":\"js\",\"src\":\"https:\\\\/\\\\/static.xx.fbcdn.net\\\\/rsrc.php\\\\/v3i4Rf4\\\\/y3\\\\/l\\\\/en_US\\\\/VaQwqhUGhp3.js\",\"crossOrigin\":1},\"IrfhN\":{\"type\":\"js\",\"src\":\"https:\\\\/\\\\/static.xx.fbcdn.net\\\\/rsrc.php\\\\/v3i2yW4\\\\/yB\\\\/l\\\\/en_US\\\\/0c55Czxq2_6.js\",\"crossOrigin\":1},\"uJ8Cx\":{\"type\":\"css\",\"src\":\"https:\\\\/\\\\/static.xx.fbcdn.net\\\\/rsrc.php\\\\/v3\\\\/y9\\\\/r\\\\/UTDY67SuWRU.css\",\"permanent\":1,\"crossOrigin\":1},\"PYvQ7\":{\"type\":\"js\",\"src\":\"https:\\\\/\\\\/static.xx.fbcdn.net\\\\/rsrc.php\\\\/v3iEaX4\\\\/y3\\\\/l\\\\/en_US\\\\/o3EVJAECb_m.js\",\"crossOrigin\":1},\"gRkLK\":{\"type\":\"css\",\"src\":\"https:\\\\/\\\\/static.xx.fbcdn.net\\\\/rsrc.php\\\\/v3\\\\/y5\\\\/r\\\\/EwtWBUwppDX.css\",\"permanent\":1,\"crossOrigin\":1},\"eRU7p\":{\"type\":\"js\",\"src\":\"https:\\\\/\\\\/static.xx.fbcdn.net\\\\/rsrc.php\\\\/v3i1_C4\\\\/yL\\\\/l\\\\/en_US\\\\/fAbxTE4_W-W.js\",\"crossOrigin\":1},\"+S7C7\":{\"type\":\"js\",\"src\":\"https:\\\\/\\\\/static.xx.fbcdn.net\\\\/rsrc.php\\\\/v3iixx4\\\\/y-\\\\/l\\\\/en_US\\\\/Nr0iminwnqf.js\",\"crossOrigin\":1},\"MVAYZ\":{\"type\":\"js\",\"src\":\"https:\\\\/\\\\/static.xx.fbcdn.net\\\\/rsrc.php\\\\/v3\\\\/yC\\\\/r\\\\/jw_BkRvoKxI.js\",\"crossOrigin\":1},\"wb3qs\":{\"type\":\"js\",\"src\":\"https:\\\\/\\\\/static.xx.fbcdn.net\\\\/rsrc.php\\\\/v3\\\\/y0\\\\/r\\\\/eOlBmRgsm8x.js\",\"crossOrigin\":1},\"OUqeZ\":{\"type\":\"js\",\"src\":\"https:\\\\/\\\\/static.xx.fbcdn.net\\\\/rsrc.php\\\\/v3\\\\/yz\\\\/r\\\\/kJudHktERN4.js\",\"crossOrigin\":1},\"Sx34y\":{\"type\":\"css\",\"src\":\"https:\\\\/\\\\/static.xx.fbcdn.net\\\\/rsrc.php\\\\/v3\\\\/y7\\\\/r\\\\/VRodD52ESYj.css\",\"permanent\":1,\"crossOrigin\":1},\"3py3C\":{\"type\":\"js\",\"src\":\"https:\\\\/\\\\/static.xx.fbcdn.net\\\\/rsrc.php\\\\/v3iOOq4\\\\/y4\\\\/l\\\\/en_US\\\\/fHu7MbVg4iy.js\",\"crossOrigin\":1},\"yTEiS\":{\"type\":\"js\",\"src\":\"https:\\\\/\\\\/static.xx.fbcdn.net\\\\/rsrc.php\\\\/v3iZuq4\\\\/yz\\\\/l\\\\/en_US\\\\/rdwet4WY2hD.js\",\"crossOrigin\":1},\"kXwFB\":{\"type\":\"js\",\"src\":\"https:\\\\/\\\\/static.xx.fbcdn.net\\\\/rsrc.php\\\\/v3ifW54\\\\/yn\\\\/l\\\\/en_US\\\\/18-dCHED2GU.js\",\"crossOrigin\":1},\"nGKWB\":{\"type\":\"js\",\"src\":\"https:\\\\/\\\\/static.xx.fbcdn.net\\\\/rsrc.php\\\\/v3izUP4\\\\/yw\\\\/l\\\\/en_US\\\\/7I0Ur52CmCx.js\",\"crossOrigin\":1},\"622TF\":{\"type\":\"css\",\"src\":\"https:\\\\/\\\\/static.xx.fbcdn.net\\\\/rsrc.php\\\\/v3\\\\/ya\\\\/r\\\\/2aEhP0BQ4PA.css\",\"permanent\":1,\"crossOrigin\":1},\"i8XnC\":{\"type\":\"js\",\"src\":\"https:\\\\/\\\\/static.xx.fbcdn.net\\\\/rsrc.php\\\\/v3iZVq4\\\\/yZ\\\\/l\\\\/en_US\\\\/F4t0UALq5Lq.js\",\"crossOrigin\":1},\"X18WR\":{\"type\":\"js\",\"src\":\"https:\\\\/\\\\/static.xx.fbcdn.net\\\\/rsrc.php\\\\/v3\\\\/yA\\\\/r\\\\/Zir2Cu-qigs.js\",\"crossOrigin\":1},\"bsWub\":{\"type\":\"js\",\"src\":\"https:\\\\/\\\\/static.xx.fbcdn.net\\\\/rsrc.php\\\\/v3i8gp4\\\\/yS\\\\/l\\\\/en_US\\\\/yOc_bh1Bx6C.js\",\"crossOrigin\":1},\"Qt9ub\":{\"type\":\"js\",\"src\":\"https:\\\\/\\\\/static.xx.fbcdn.net\\\\/rsrc.php\\\\/v3\\\\/y2\\\\/r\\\\/ma6OAdUbf0e.js\",\"crossOrigin\":1},\"LBaaw\":{\"type\":\"css\",\"src\":\"https:\\\\/\\\\/static.xx.fbcdn.net\\\\/rsrc.php\\\\/v3\\\\/yv\\\\/r\\\\/pfTCSSiP59L.css\",\"permanent\":1,\"crossOrigin\":1},\"8aeA9\":{\"type\":\"js\",\"src\":\"https:\\\\/\\\\/static.xx.fbcdn.net\\\\/rsrc.php\\\\/v3\\\\/yr\\\\/r\\\\/oGy92c86mRb.js\",\"crossOrigin\":1},\"J13Kt\":{\"type\":\"js\",\"src\":\"https:\\\\/\\\\/static.xx.fbcdn.net\\\\/rsrc.php\\\\/v3iyuG4\\\\/yL\\\\/l\\\\/en_US\\\\/Qq4HYLaWFHN.js\",\"crossOrigin\":1},\"Fxvme\":{\"type\":\"css\",\"src\":\"https:\\\\/\\\\/static.xx.fbcdn.net\\\\/rsrc.php\\\\/v3\\\\/y4\\\\/r\\\\/zqgklIs4zmu.css\",\"crossOrigin\":1},\"9EMwh\":{\"type\":\"js\",\"src\":\"https:\\\\/\\\\/static.xx.fbcdn.net\\\\/rsrc.php\\\\/v3ilB_4\\\\/yI\\\\/l\\\\/en_US\\\\/B_zMIWxN95q.js\",\"crossOrigin\":1},\"FcLuV\":{\"type\":\"js\",\"src\":\"https:\\\\/\\\\/static.xx.fbcdn.net\\\\/rsrc.php\\\\/v3ieef4\\\\/y9\\\\/l\\\\/en_US\\\\/Oq4zDm-kBV6.js\",\"crossOrigin\":1},\"YqMmd\":{\"type\":\"js\",\"src\":\"https:\\\\/\\\\/static.xx.fbcdn.net\\\\/rsrc.php\\\\/v3ivVj4\\\\/yv\\\\/l\\\\/en_US\\\\/b79TvbRrpRN.js\",\"crossOrigin\":1},\"29hGe\":{\"type\":\"js\",\"src\":\"https:\\\\/\\\\/static.xx.fbcdn.net\\\\/rsrc.php\\\\/v3i9-F4\\\\/yL\\\\/l\\\\/en_US\\\\/TrEathec21r.js\",\"crossOrigin\":1},\"BL5z2\":{\"type\":\"css\",\"src\":\"https:\\\\/\\\\/static.xx.fbcdn.net\\\\/rsrc.php\\\\/v3\\\\/yX\\\\/r\\\\/IJDljcixlNm.css\",\"permanent\":1,\"crossOrigin\":1},\"weTWP\":{\"type\":\"js\",\"src\":\"https:\\\\/\\\\/static.xx.fbcdn.net\\\\/rsrc.php\\\\/v3\\\\/y3\\\\/r\\\\/Y1e4xLpyQus.js\",\"crossOrigin\":1},\"Npbrn\":{\"type\":\"css\",\"src\":\"https:\\\\/\\\\/static.xx.fbcdn.net\\\\/rsrc.php\\\\/v3\\\\/yO\\\\/r\\\\/moKMWto9MEb.css\",\"crossOrigin\":1},\"MAIJW\":{\"type\":\"js\",\"src\":\"https:\\\\/\\\\/static.xx.fbcdn.net\\\\/rsrc.php\\\\/v3iWLj4\\\\/yu\\\\/l\\\\/en_US\\\\/ZVWRKAHCiZi.js\",\"crossOrigin\":1},\"53qAn\":{\"type\":\"css\",\"src\":\"https:\\\\/\\\\/static.xx.fbcdn.net\\\\/rsrc.php\\\\/v3\\\\/yb\\\\/r\\\\/gyrH-yrBBJB.css\",\"crossOrigin\":1},\"krylL\":{\"type\":\"js\",\"src\":\"https:\\\\/\\\\/static.xx.fbcdn.net\\\\/rsrc.php\\\\/v3\\\\/yP\\\\/r\\\\/y-46JQXOg3S.js\",\"crossOrigin\":1},\"aTpFX\":{\"type\":\"js\",\"src\":\"https:\\\\/\\\\/static.xx.fbcdn.net\\\\/rsrc.php\\\\/v3\\\\/yw\\\\/r\\\\/V8OSQt8mVKb.js\",\"crossOrigin\":1},\"nVPnK\":{\"type\":\"js\",\"src\":\"https:\\\\/\\\\/static.xx.fbcdn.net\\\\/rsrc.php\\\\/v3i7y04\\\\/yg\\\\/l\\\\/en_US\\\\/BxcGM16udgB.js\",\"crossOrigin\":1},\"c6jsZ\":{\"type\":\"js\",\"src\":\"https:\\\\/\\\\/static.xx.fbcdn.net\\\\/rsrc.php\\\\/v3ifKk4\\\\/yj\\\\/l\\\\/en_US\\\\/7ccx2bvq4dp.js\",\"crossOrigin\":1},\"zparn\":{\"type\":\"js\",\"src\":\"https:\\\\/\\\\/static.xx.fbcdn.net\\\\/rsrc.php\\\\/v3\\\\/yK\\\\/r\\\\/j4Mpokcyu4M.js\",\"crossOrigin\":1},\"Ni8ma\":{\"type\":\"css\",\"src\":\"https:\\\\/\\\\/static.xx.fbcdn.net\\\\/rsrc.php\\\\/v3\\\\/yt\\\\/r\\\\/2Pi3WCW41r7.css\",\"permanent\":1,\"crossOrigin\":1},\"L74FX\":{\"type\":\"js\",\"src\":\"https:\\\\/\\\\/static.xx.fbcdn.net\\\\/rsrc.php\\\\/v3iJ0Y4\\\\/y3\\\\/l\\\\/en_US\\\\/XSNBK9iUEcF.js\",\"crossOrigin\":1},\"h4CfJ\":{\"type\":\"css\",\"src\":\"https:\\\\/\\\\/static.xx.fbcdn.net\\\\/rsrc.php\\\\/v3\\\\/yx\\\\/r\\\\/0JdaziUt2Jw.css\",\"permanent\":1,\"crossOrigin\":1},\"rxn2o\":{\"type\":\"js\",\"src\":\"https:\\\\/\\\\/static.xx.fbcdn.net\\\\/rsrc.php\\\\/v3if3Y4\\\\/yg\\\\/l\\\\/en_US\\\\/zvGfNrOzmhi.js\",\"crossOrigin\":1},\"2\\\\/maQ\":{\"type\":\"js\",\"src\":\"https:\\\\/\\\\/static.xx.fbcdn.net\\\\/rsrc.php\\\\/v3\\\\/yc\\\\/r\\\\/pi6gaIyZu1E.js\",\"crossOrigin\":1},\"oQbcB\":{\"type\":\"js\",\"src\":\"https:\\\\/\\\\/static.xx.fbcdn.net\\\\/rsrc.php\\\\/v3i4tl4\\\\/yD\\\\/l\\\\/en_US\\\\/MQIptkp6R02.js\",\"crossOrigin\":1},\"voRyy\":{\"type\":\"js\",\"src\":\"https:\\\\/\\\\/static.xx.fbcdn.net\\\\/rsrc.php\\\\/v3ipgf4\\\\/yx\\\\/l\\\\/en_US\\\\/_7t_dBAJBJY.js\",\"crossOrigin\":1},\"B76cY\":{\"type\":\"js\",\"src\":\"https:\\\\/\\\\/static.xx.fbcdn.net\\\\/rsrc.php\\\\/v3ihfZ4\\\\/yc\\\\/l\\\\/en_US\\\\/J3DZf3he5wl.js\",\"crossOrigin\":1},\"7unvu\":{\"type\":\"js\",\"src\":\"https:\\\\/\\\\/static.xx.fbcdn.net\\\\/rsrc.php\\\\/v3\\\\/y6\\\\/r\\\\/ZdWMWTwet3q.js\",\"crossOrigin\":1},\"VXMzE\":{\"type\":\"js\",\"src\":\"https:\\\\/\\\\/static.xx.fbcdn.net\\\\/rsrc.php\\\\/v3\\\\/yD\\\\/r\\\\/b6BO1YxiYfL.js\",\"crossOrigin\":1},\"pCy9R\":{\"type\":\"css\",\"src\":\"https:\\\\/\\\\/static.xx.fbcdn.net\\\\/rsrc.php\\\\/v3\\\\/yS\\\\/r\\\\/edy3DrkJdIx.css\",\"permanent\":1,\"crossOrigin\":1},\"UMn7m\":{\"type\":\"js\",\"src\":\"https:\\\\/\\\\/static.xx.fbcdn.net\\\\/rsrc.php\\\\/v3\\\\/yS\\\\/r\\\\/Ont3g9rHU_K.js\",\"crossOrigin\":1},\"HXYSD\":{\"type\":\"js\",\"src\":\"https:\\\\/\\\\/static.xx.fbcdn.net\\\\/rsrc.php\\\\/v3iQ7u4\\\\/yM\\\\/l\\\\/en_US\\\\/kJIYX_4eeWb.js\",\"crossOrigin\":1},\"qnR1n\":{\"type\":\"js\",\"src\":\"https:\\\\/\\\\/static.xx.fbcdn.net\\\\/rsrc.php\\\\/v3iEt-4\\\\/yA\\\\/l\\\\/en_US\\\\/0QMTlI7NH0s.js\",\"crossOrigin\":1},\"RZozx\":{\"type\":\"js\",\"src\":\"https:\\\\/\\\\/static.xx.fbcdn.net\\\\/rsrc.php\\\\/v3\\\\/yG\\\\/r\\\\/2xmd_-xBhVj.js\",\"crossOrigin\":1},\"kIbNW\":{\"type\":\"css\",\"src\":\"https:\\\\/\\\\/static.xx.fbcdn.net\\\\/rsrc.php\\\\/v3\\\\/y4\\\\/r\\\\/bAlshlqUe92.css\",\"permanent\":1,\"crossOrigin\":1},\"qfzTq\":{\"type\":\"js\",\"src\":\"https:\\\\/\\\\/static.xx.fbcdn.net\\\\/rsrc.php\\\\/v3\\\\/yN\\\\/r\\\\/hLtdyLf3Ixj.js\",\"crossOrigin\":1},\"jNgMf\":{\"type\":\"js\",\"src\":\"https:\\\\/\\\\/static.xx.fbcdn.net\\\\/rsrc.php\\\\/v3\\\\/y9\\\\/r\\\\/IO4DIs8nJvq.js\",\"crossOrigin\":1},\"N8j8y\":{\"type\":\"css\",\"src\":\"https:\\\\/\\\\/static.xx.fbcdn.net\\\\/rsrc.php\\\\/v3\\\\/yd\\\\/r\\\\/B3jA3SMfFgf.css\",\"permanent\":1,\"crossOrigin\":1},\"Z1mSD\":{\"type\":\"js\",\"src\":\"https:\\\\/\\\\/static.xx.fbcdn.net\\\\/rsrc.php\\\\/v3\\\\/yG\\\\/r\\\\/sCxwkHIV2s8.js\",\"crossOrigin\":1},\"YWsZK\":{\"type\":\"js\",\"src\":\"https:\\\\/\\\\/static.xx.fbcdn.net\\\\/rsrc.php\\\\/v3i98g4\\\\/yN\\\\/l\\\\/en_US\\\\/jb1k6h0F4P4.js\",\"crossOrigin\":1},\"kF1+E\":{\"type\":\"css\",\"src\":\"https:\\\\/\\\\/static.xx.fbcdn.net\\\\/rsrc.php\\\\/v3\\\\/yM\\\\/r\\\\/1nw8gMndnJv.css\",\"permanent\":1,\"crossOrigin\":1},\"L0cWA\":{\"type\":\"css\",\"src\":\"https:\\\\/\\\\/static.xx.fbcdn.net\\\\/rsrc.php\\\\/v3\\\\/yR\\\\/r\\\\/XJkjNi9wp1K.css\",\"permanent\":1,\"crossOrigin\":1},\"2t47Z\":{\"type\":\"js\",\"src\":\"https:\\\\/\\\\/static.xx.fbcdn.net\\\\/rsrc.php\\\\/v3if3Y4\\\\/yW\\\\/l\\\\/en_US\\\\/3eXUWXfoH5s.js\",\"crossOrigin\":1},\"Qo8nD\":{\"type\":\"js\",\"src\":\"https:\\\\/\\\\/static.xx.fbcdn.net\\\\/rsrc.php\\\\/v3ih4K4\\\\/yf\\\\/l\\\\/en_US\\\\/dcxbhsYssxB.js\",\"crossOrigin\":1},\"O3RVJ\":{\"type\":\"js\",\"src\":\"https:\\\\/\\\\/static.xx.fbcdn.net\\\\/rsrc.php\\\\/v3iPCE4\\\\/yQ\\\\/l\\\\/en_US\\\\/81Hq0Sl4Bte.js\",\"crossOrigin\":1},\"SBdkp\":{\"type\":\"js\",\"src\":\"https:\\\\/\\\\/static.xx.fbcdn.net\\\\/rsrc.php\\\\/v3iNtK4\\\\/yI\\\\/l\\\\/en_US\\\\/k5wz0xc0scl.js\",\"crossOrigin\":1},\"mvH7c\":{\"type\":\"js\",\"src\":\"https:\\\\/\\\\/static.xx.fbcdn.net\\\\/rsrc.php\\\\/v3\\\\/ye\\\\/r\\\\/VPtFnoq5iAr.js\",\"crossOrigin\":1},\"NL5OX\":{\"type\":\"js\",\"src\":\"https:\\\\/\\\\/static.xx.fbcdn.net\\\\/rsrc.php\\\\/v3i9QN4\\\\/yR\\\\/l\\\\/en_US\\\\/1kHu5Q4myMK.js\",\"crossOrigin\":1},\"UOhv1\":{\"type\":\"js\",\"src\":\"https:\\\\/\\\\/static.xx.fbcdn.net\\\\/rsrc.php\\\\/v3i6k94\\\\/yX\\\\/l\\\\/en_US\\\\/PabWgC6Kjaz.js\",\"crossOrigin\":1},\"nPQZG\":{\"type\":\"js\",\"src\":\"https:\\\\/\\\\/static.xx.fbcdn.net\\\\/rsrc.php\\\\/v3iB084\\\\/yQ\\\\/l\\\\/en_US\\\\/ZJNX_t-toDM.js\",\"crossOrigin\":1},\"3jRhu\":{\"type\":\"css\",\"src\":\"https:\\\\/\\\\/static.xx.fbcdn.net\\\\/rsrc.php\\\\/v3\\\\/yb\\\\/r\\\\/hQU0JWkzlHT.css\",\"permanent\":1,\"crossOrigin\":1},\"yjiGt\":{\"type\":\"js\",\"src\":\"https:\\\\/\\\\/static.xx.fbcdn.net\\\\/rsrc.php\\\\/v3i3_f4\\\\/yB\\\\/l\\\\/en_US\\\\/iQ9Jcv7Q974.js\",\"crossOrigin\":1},\"QCSS0\":{\"type\":\"js\",\"src\":\"https:\\\\/\\\\/static.xx.fbcdn.net\\\\/rsrc.php\\\\/v3iinE4\\\\/yX\\\\/l\\\\/en_US\\\\/5oDAjietfkL.js\",\"crossOrigin\":1},\"x62Lo\":{\"type\":\"css\",\"src\":\"https:\\\\/\\\\/static.xx.fbcdn.net\\\\/rsrc.php\\\\/v3\\\\/yl\\\\/r\\\\/DzB0FH4rpyx.css\",\"permanent\":1,\"crossOrigin\":1},\"hsJFK\":{\"type\":\"css\",\"src\":\"https:\\\\/\\\\/static.xx.fbcdn.net\\\\/rsrc.php\\\\/v3\\\\/ym\\\\/r\\\\/JkDGaPTCQ0_.css\",\"permanent\":1,\"crossOrigin\":1},\"CBsWp\":{\"type\":\"css\",\"src\":\"https:\\\\/\\\\/static.xx.fbcdn.net\\\\/rsrc.php\\\\/v3\\\\/yL\\\\/r\\\\/jKqOuUocrbE.css\",\"crossOrigin\":1},\"0Ne9v\":{\"type\":\"js\",\"src\":\"https:\\\\/\\\\/static.xx.fbcdn.net\\\\/rsrc.php\\\\/v3iNgy4\\\\/y7\\\\/l\\\\/en_US\\\\/IpiE0t-bVas.js\",\"crossOrigin\":1},\"aVzLX\":{\"type\":\"js\",\"src\":\"https:\\\\/\\\\/static.xx.fbcdn.net\\\\/rsrc.php\\\\/v3iOe74\\\\/yB\\\\/l\\\\/en_US\\\\/IyF8xFcRk4J.js\",\"crossOrigin\":1},\"GfdPz\":{\"type\":\"js\",\"src\":\"https:\\\\/\\\\/static.xx.fbcdn.net\\\\/rsrc.php\\\\/v3i7mP4\\\\/yi\\\\/l\\\\/en_US\\\\/_HoetBidrIs.js\",\"crossOrigin\":1},\"HMCyM\":{\"type\":\"css\",\"src\":\"https:\\\\/\\\\/static.xx.fbcdn.net\\\\/rsrc.php\\\\/v3\\\\/yM\\\\/r\\\\/YiZiVu50foD.css\",\"crossOrigin\":1},\"4cmaN\":{\"type\":\"js\",\"src\":\"https:\\\\/\\\\/static.xx.fbcdn.net\\\\/rsrc.php\\\\/v3i5md4\\\\/yp\\\\/l\\\\/en_US\\\\/D-5kIHfCwF0.js\",\"crossOrigin\":1},\"pI7AA\":{\"type\":\"css\",\"src\":\"https:\\\\/\\\\/static.xx.fbcdn.net\\\\/rsrc.php\\\\/v3\\\\/yw\\\\/r\\\\/Lj3-3HF67_y.css\",\"crossOrigin\":1},\"0Qz\\\\/x\":{\"type\":\"js\",\"src\":\"https:\\\\/\\\\/static.xx.fbcdn.net\\\\/rsrc.php\\\\/v3\\\\/y7\\\\/r\\\\/A0akup4vz1v.js\",\"crossOrigin\":1},\"Hnz7V\":{\"type\":\"js\",\"src\":\"https:\\\\/\\\\/static.xx.fbcdn.net\\\\/rsrc.php\\\\/v3ikLT4\\\\/ya\\\\/l\\\\/en_US\\\\/VPPzLR4i8x6.js\",\"crossOrigin\":1},\"FEfyX\":{\"type\":\"css\",\"src\":\"https:\\\\/\\\\/static.xx.fbcdn.net\\\\/rsrc.php\\\\/v3\\\\/y-\\\\/r\\\\/xU2XtTAeK8F.css\",\"permanent\":1,\"crossOrigin\":1},\"MM5yP\":{\"type\":\"js\",\"src\":\"https:\\\\/\\\\/static.xx.fbcdn.net\\\\/rsrc.php\\\\/v3i4IH4\\\\/y_\\\\/l\\\\/en_US\\\\/NfFZTqiarxC.js\",\"crossOrigin\":1},\"LXA18\":{\"type\":\"js\",\"src\":\"https:\\\\/\\\\/static.xx.fbcdn.net\\\\/rsrc.php\\\\/v3iDxQ4\\\\/yt\\\\/l\\\\/en_US\\\\/xHS9aVIe_om.js\",\"crossOrigin\":1},\"LY13N\":{\"type\":\"js\",\"src\":\"https:\\\\/\\\\/static.xx.fbcdn.net\\\\/rsrc.php\\\\/v3\\\\/yP\\\\/r\\\\/9TY1Ik6Vc-D.js\",\"crossOrigin\":1},\"Dnlm1\":{\"type\":\"js\",\"src\":\"https:\\\\/\\\\/static.xx.fbcdn.net\\\\/rsrc.php\\\\/v3iPp34\\\\/yL\\\\/l\\\\/en_US\\\\/UvP3l3rgBFj.js\",\"crossOrigin\":1},\"U5YL3\":{\"type\":\"css\",\"src\":\"https:\\\\/\\\\/static.xx.fbcdn.net\\\\/rsrc.php\\\\/v3\\\\/yz\\\\/r\\\\/IvwE1GPi6Zx.css\",\"crossOrigin\":1},\"qiVO+\":{\"type\":\"js\",\"src\":\"https:\\\\/\\\\/static.xx.fbcdn.net\\\\/rsrc.php\\\\/v3if3Y4\\\\/yS\\\\/l\\\\/en_US\\\\/q1n4EbDoYBc.js\",\"crossOrigin\":1},\"sbRFq\":{\"type\":\"js\",\"src\":\"https:\\\\/\\\\/static.xx.fbcdn.net\\\\/rsrc.php\\\\/v3i8K_4\\\\/yR\\\\/l\\\\/en_US\\\\/0UuYEwcBsc9.js\",\"crossOrigin\":1},\"JxwE0\":{\"type\":\"js\",\"src\":\"https:\\\\/\\\\/static.xx.fbcdn.net\\\\/rsrc.php\\\\/v3\\\\/yp\\\\/r\\\\/dlNzR3lji9f.js\",\"crossOrigin\":1},\"rSdpp\":{\"type\":\"js\",\"src\":\"https:\\\\/\\\\/static.xx.fbcdn.net\\\\/rsrc.php\\\\/v3\\\\/yo\\\\/r\\\\/p2Dzbeuleoh.js\",\"crossOrigin\":1},\"j5c+Z\":{\"type\":\"css\",\"src\":\"https:\\\\/\\\\/static.xx.fbcdn.net\\\\/rsrc.php\\\\/v3\\\\/yH\\\\/r\\\\/p2MAiK9wr4A.css\",\"permanent\":1,\"crossOrigin\":1},\"u6b8B\":{\"type\":\"js\",\"src\":\"https:\\\\/\\\\/static.xx.fbcdn.net\\\\/rsrc.php\\\\/v3\\\\/yz\\\\/r\\\\/8OG_zLPQIHR.js\",\"crossOrigin\":1},\"24W4h\":{\"type\":\"js\",\"src\":\"https:\\\\/\\\\/static.xx.fbcdn.net\\\\/rsrc.php\\\\/v3\\\\/yU\\\\/r\\\\/Xp7fZ1aJbiJ.js\",\"crossOrigin\":1},\"GA0UM\":{\"type\":\"js\",\"src\":\"https:\\\\/\\\\/static.xx.fbcdn.net\\\\/rsrc.php\\\\/v3\\\\/ye\\\\/r\\\\/DJzQ8U_vicx.js\",\"crossOrigin\":1},\"yCGIh\":{\"type\":\"js\",\"src\":\"https:\\\\/\\\\/static.xx.fbcdn.net\\\\/rsrc.php\\\\/v3\\\\/y3\\\\/r\\\\/oMQIS8Eh8OC.js\",\"crossOrigin\":1},\"zyFOp\":{\"type\":\"js\",\"src\":\"https:\\\\/\\\\/static.xx.fbcdn.net\\\\/rsrc.php\\\\/v3\\\\/yr\\\\/r\\\\/H7pgFynyic_.js\",\"crossOrigin\":1},\"WRUgD\":{\"type\":\"js\",\"src\":\"https:\\\\/\\\\/static.xx.fbcdn.net\\\\/rsrc.php\\\\/v3ioZX4\\\\/yE\\\\/l\\\\/en_US\\\\/VCDiyjoDJ_u.js\",\"crossOrigin\":1},\"6AU0l\":{\"type\":\"js\",\"src\":\"https:\\\\/\\\\/static.xx.fbcdn.net\\\\/rsrc.php\\\\/v3i9By4\\\\/yl\\\\/l\\\\/en_US\\\\/4GepkCJUA1K.js\",\"crossOrigin\":1},\"VDymv\":{\"type\":\"css\",\"src\":\"https:\\\\/\\\\/static.xx.fbcdn.net\\\\/rsrc.php\\\\/v3\\\\/ym\\\\/r\\\\/vfyTLT62WoX.css\",\"permanent\":1,\"crossOrigin\":1},\"5ku8a\":{\"type\":\"js\",\"src\":\"https:\\\\/\\\\/static.xx.fbcdn.net\\\\/rsrc.php\\\\/v3\\\\/yU\\\\/r\\\\/CpxpZTKrA04.js\",\"crossOrigin\":1},\"VCcU8\":{\"type\":\"css\",\"src\":\"https:\\\\/\\\\/static.xx.fbcdn.net\\\\/rsrc.php\\\\/v3\\\\/yc\\\\/r\\\\/WyqbA5gyzX-.css\",\"permanent\":1,\"crossOrigin\":1},\"1IxXS\":{\"type\":\"js\",\"src\":\"https:\\\\/\\\\/static.xx.fbcdn.net\\\\/rsrc.php\\\\/v3\\\\/yQ\\\\/r\\\\/NjZ_UNIS9O_.js\",\"crossOrigin\":1}});if (true) {Bootloader.enableBootload({\"AsyncSignal\":{\"resources\":[\"4dp6n\",\"cZclM\"],\"module\":1},\"XLinkshimLogController\":{\"resources\":[\"cZclM\",\"vaWyy\",\"oeUXN\"],\"module\":1},\"ExceptionDialog\":{\"resources\":[\"vaWyy\",\"cZclM\",\"evK3x\",\"4dp6n\",\"zLFgT\",\"0Erbq\",\"YSSr9\",\"9eb5q\",\"LVsAq\",\"20549\"],\"module\":1},\"React\":{\"resources\":[\"YSSr9\",\"cZclM\",\"4dp6n\"],\"module\":1},\"AsyncDOM\":{\"resources\":[\"4dp6n\",\"cZclM\",\"L1k\\\\/a\"],\"module\":1},\"ConfirmationDialog\":{\"resources\":[\"4dp6n\",\"cZclM\",\"vaWyy\",\"G2yK9\"],\"module\":1},\"Dialog\":{\"resources\":[\"cZclM\",\"vaWyy\",\"4dp6n\",\"evK3x\",\"9eb5q\",\"dadWr\"],\"module\":1},\"QuickSandSolver\":{\"resources\":[\"cZclM\",\"4dp6n\",\"vaWyy\",\"ccpBO\",\"SM0Me\"],\"module\":1},\"ErrorSignal\":{\"resources\":[\"cZclM\",\"4dp6n\",\"8vhS8\"],\"module\":1},\"ReactDOM\":{\"resources\":[\"YSSr9\",\"cZclM\",\"4dp6n\"],\"module\":1},\"Banzai\":{\"resources\":[\"cZclM\",\"4dp6n\"],\"module\":1},\"ResourceTimingBootloaderHelper\":{\"resources\":[\"cZclM\",\"BnIxf\"],\"module\":1},\"TimeSliceHelper\":{\"resources\":[\"YSSr9\",\"cZclM\",\"4dp6n\",\"BnIxf\"],\"module\":1},\"Animation\":{\"resources\":[\"cZclM\",\"vaWyy\",\"4dp6n\",\"evK3x\"],\"module\":1},\"EncryptedImg\":{\"resources\":[\"cZclM\",\"vaWyy\",\"jUkLC\",\"BSaJk\"],\"module\":1},\"DialogX\":{\"resources\":[\"vaWyy\",\"cZclM\",\"evK3x\",\"4dp6n\",\"zLFgT\"],\"module\":1},\"XUIDialogBody.react\":{\"resources\":[\"YSSr9\",\"cZclM\",\"4dp6n\",\"9eb5q\",\"vaWyy\",\"zLFgT\",\"0Erbq\"],\"module\":1},\"XUIDialogButton.react\":{\"resources\":[\"YSSr9\",\"cZclM\",\"4dp6n\",\"vaWyy\",\"9eb5q\",\"0Erbq\"],\"module\":1},\"XUIDialogFooter.react\":{\"resources\":[\"YSSr9\",\"cZclM\",\"4dp6n\",\"9eb5q\",\"vaWyy\",\"zLFgT\",\"evK3x\",\"0Erbq\"],\"module\":1},\"XUIDialogTitle.react\":{\"resources\":[\"YSSr9\",\"cZclM\",\"4dp6n\",\"9eb5q\",\"vaWyy\",\"zLFgT\",\"evK3x\"],\"module\":1},\"XUIGrayText.react\":{\"resources\":[\"YSSr9\",\"cZclM\",\"4dp6n\",\"9eb5q\",\"vaWyy\"],\"module\":1},\"PageTransitions\":{\"resources\":[\"4dp6n\",\"cZclM\",\"vaWyy\",\"evK3x\",\"wwr9S\",\"zLFgT\",\"YSSr9\"],\"module\":1},\"PageVoiceDropdownSelectorMenu.react\":{\"resources\":[\"a0dox\",\"U3Yhf\",\"vaWyy\",\"5wytd\",\"4dp6n\",\"cZclM\",\"6\\\\/pMr\",\"ErXSG\",\"CkrsG\",\"YSSr9\",\"fyYsh\",\"lY8iO\",\"Ougg6\",\"9eb5q\",\"Xm2dW\",\"evK3x\",\"0Erbq\",\"zLFgT\",\"8D0JR\",\"1\\\\/ELA\",\"WKYrT\",\"LVsAq\",\"BSaJk\",\"uBFZl\",\"XLf2y\",\"W7JZ8\",\"nT3P8\",\"jUkLC\",\"1gHDT\",\"zJFru\",\"SoeRk\",\"pByjG\",\"gSN95\",\"WfVRN\"],\"module\":1},\"ActorSelectorNUXLayer.react\":{\"resources\":[\"4dp6n\",\"cZclM\",\"vaWyy\",\"evK3x\",\"YSSr9\",\"zLFgT\",\"mFx0T\",\"9eb5q\",\"0Erbq\",\"i7Dcx\"],\"module\":1},\"ContextualLayer.react\":{\"resources\":[\"4dp6n\",\"cZclM\",\"vaWyy\",\"evK3x\",\"zLFgT\",\"YSSr9\",\"zJFru\"],\"module\":1},\"ContextualLayerAutoFlip\":{\"resources\":[\"cZclM\",\"vaWyy\",\"evK3x\",\"0Erbq\"],\"module\":1},\"ContextualLayerUpdateOnScroll\":{\"resources\":[\"evK3x\"],\"module\":1},\"getMentionableRect\":{\"resources\":[\"vaWyy\",\"cZclM\",\"evK3x\",\"YQ4Zs\"],\"module\":1},\"XUIErrorDialogImpl\":{\"resources\":[\"4dp6n\",\"cZclM\",\"mFx0T\",\"vaWyy\",\"zLFgT\",\"evK3x\",\"0Erbq\",\"QNW9v\"],\"module\":1},\"UFIUploader\":{\"resources\":[\"vaWyy\",\"cZclM\",\"4dp6n\",\"6\\\\/pMr\",\"T2N34\",\"zLFgT\",\"O\\\\/TcF\",\"dadWr\",\"SlVkL\",\"XLf2y\",\"CkrsG\",\"XD1oa\",\"zii0K\",\"evK3x\",\"9eb5q\",\"LVsAq\",\"YSSr9\",\"jUkLC\",\"wE\\\\/xn\"],\"module\":1},\"OptimisticVideoComment.react\":{\"resources\":[\"cZclM\",\"vaWyy\",\"jUkLC\",\"BSaJk\",\"YSSr9\",\"4dp6n\",\"9eb5q\",\"evK3x\",\"zLFgT\",\"tGDd5\",\"IzAWX\",\"LVsAq\",\"O\\\\/TcF\",\"IrfhN\",\"uJ8Cx\",\"MMIxQ\"],\"module\":1},\"Sticker.react\":{\"resources\":[\"cZclM\",\"vaWyy\",\"YSSr9\",\"4dp6n\",\"PYvQ7\",\"gRkLK\",\"eRU7p\",\"+S7C7\"],\"module\":1},\"FactoryDelightsFireworksTypedLogger\":{\"resources\":[\"cZclM\",\"4dp6n\",\"MVAYZ\"],\"module\":1},\"NYE2017Animation\":{\"resources\":[\"4dp6n\",\"cZclM\",\"MVAYZ\",\"6\\\\/pMr\",\"wb3qs\",\"zLFgT\"],\"module\":1},\"LayerTabIsolation\":{\"resources\":[\"cZclM\",\"4dp6n\",\"vaWyy\",\"evK3x\"],\"module\":1},\"RelayRootContainer\":{\"resources\":[\"YSSr9\",\"cZclM\",\"4dp6n\",\"OUqeZ\",\"lY8iO\",\"vaWyy\",\"evK3x\"],\"module\":1},\"ScrollableArea\":{\"resources\":[\"cZclM\",\"vaWyy\",\"4dp6n\",\"zLFgT\"],\"module\":1},\"StickersStore.react\":{\"resources\":[\"cZclM\",\"vaWyy\",\"YSSr9\",\"4dp6n\",\"OUqeZ\",\"lY8iO\",\"jUkLC\",\"evK3x\",\"zLFgT\",\"6\\\\/pMr\",\"9eb5q\",\"0Erbq\",\"Sx34y\",\"3py3C\",\"yTEiS\",\"kXwFB\",\"nGKWB\",\"622TF\",\"i8XnC\"],\"module\":1},\"StickersStorePackDetailRoute\":{\"resources\":[\"lY8iO\",\"OUqeZ\",\"YSSr9\",\"cZclM\",\"4dp6n\",\"3py3C\"],\"module\":1},\"StickersStorePackListRoute\":{\"resources\":[\"lY8iO\",\"OUqeZ\",\"YSSr9\",\"cZclM\",\"4dp6n\",\"3py3C\"],\"module\":1},\"StickersFlyout.react\":{\"resources\":[\"vaWyy\",\"YSSr9\",\"cZclM\",\"4dp6n\",\"BSaJk\",\"nGKWB\",\"6\\\\/pMr\",\"+S7C7\",\"OUqeZ\",\"lY8iO\",\"evK3x\",\"jUkLC\",\"yTEiS\",\"zLFgT\",\"X18WR\",\"bsWub\",\"S414d\",\"0Erbq\",\"9eb5q\",\"Sx34y\",\"eRU7p\",\"PYvQ7\",\"kXwFB\",\"gRkLK\",\"zJFru\",\"uJ8Cx\"],\"module\":1},\"XUIContextualDialog.react\":{\"resources\":[\"zLFgT\",\"cZclM\",\"mFx0T\",\"YSSr9\",\"4dp6n\",\"vaWyy\",\"evK3x\"],\"module\":1},\"DOMScroll\":{\"resources\":[\"4dp6n\",\"cZclM\",\"vaWyy\"],\"module\":1},\"LegacyContextualDialog\":{\"resources\":[\"4dp6n\",\"cZclM\",\"vaWyy\",\"Qt9ub\",\"evK3x\",\"0Erbq\",\"mFx0T\",\"zLFgT\",\"LBaaw\",\"8aeA9\"],\"module\":1},\"UFICommentMarkdownFormattedLink.react\":{\"resources\":[\"YSSr9\",\"cZclM\",\"4dp6n\",\"jUkLC\",\"J13Kt\",\"zLFgT\",\"vaWyy\",\"evK3x\",\"0Erbq\",\"9eb5q\",\"LVsAq\",\"Fxvme\",\"9EMwh\"],\"module\":1},\"UFICreatorInfo.react\":{\"resources\":[\"YSSr9\",\"cZclM\",\"4dp6n\",\"6\\\\/pMr\",\"uJ8Cx\",\"FcLuV\",\"vaWyy\",\"9eb5q\",\"YqMmd\"],\"module\":1},\"MultiPlacePageInfoCard.react\":{\"resources\":[\"cZclM\",\"4dp6n\",\"YSSr9\",\"BSaJk\",\"jUkLC\",\"vaWyy\",\"29hGe\",\"zLFgT\",\"zJFru\",\"evK3x\",\"6\\\\/pMr\",\"9eb5q\",\"uJ8Cx\",\"BL5z2\",\"weTWP\",\"Npbrn\",\"bsWub\",\"MAIJW\",\"53qAn\",\"krylL\",\"aTpFX\",\"MVfZe\",\"nVPnK\",\"c6jsZ\"],\"module\":1},\"PlaceListLiveCommentAttachment.react\":{\"resources\":[\"MAIJW\",\"zparn\",\"cZclM\",\"4dp6n\",\"YSSr9\",\"BSaJk\",\"jUkLC\",\"vaWyy\",\"29hGe\",\"zLFgT\",\"zJFru\",\"evK3x\",\"6\\\\/pMr\",\"9eb5q\",\"uJ8Cx\",\"BL5z2\",\"weTWP\",\"Npbrn\",\"bsWub\",\"53qAn\",\"krylL\",\"aTpFX\",\"MVfZe\",\"nVPnK\",\"c6jsZ\"],\"module\":1},\"UFILiveCommentLinkPreview.react\":{\"resources\":[\"YSSr9\",\"cZclM\",\"4dp6n\",\"9eb5q\",\"vaWyy\",\"i8XnC\",\"jUkLC\",\"zLFgT\",\"Ni8ma\",\"L74FX\"],\"module\":1},\"AsyncDialog\":{\"resources\":[\"cZclM\",\"4dp6n\",\"vaWyy\",\"evK3x\",\"zLFgT\",\"YSSr9\",\"9eb5q\"],\"module\":1},\"AsyncRequest\":{\"resources\":[\"cZclM\",\"4dp6n\"],\"module\":1},\"FormSubmit\":{\"resources\":[\"cZclM\",\"4dp6n\",\"W7JZ8\"],\"module\":1},\"Hovercard\":{\"resources\":[\"4dp6n\",\"cZclM\",\"mFx0T\",\"vaWyy\",\"zLFgT\",\"evK3x\",\"h4CfJ\",\"0Erbq\",\"rxn2o\"],\"module\":1},\"AsyncResponse\":{\"resources\":[\"cZclM\"],\"module\":1},\"Live\":{\"resources\":[\"4dp6n\",\"cZclM\",\"L1k\\\\/a\",\"6\\\\/pMr\",\"2\\\\/maQ\"],\"module\":1},\"PhotoInlineEditor\":{\"resources\":[\"4dp6n\",\"cZclM\",\"vaWyy\",\"oQbcB\",\"W7JZ8\",\"zLFgT\",\"voRyy\",\"jUkLC\",\"XD1oa\",\"B76cY\",\"7unvu\"],\"module\":1},\"PhotoTagApproval\":{\"resources\":[\"4dp6n\",\"cZclM\",\"oQbcB\",\"VXMzE\"],\"module\":1},\"CompactTypeaheadRenderer\":{\"resources\":[\"4dp6n\",\"cZclM\",\"zLFgT\",\"jUkLC\",\"evK3x\",\"pCy9R\",\"vaWyy\",\"YSSr9\",\"UMn7m\"],\"module\":1},\"ContextualTypeaheadView\":{\"resources\":[\"4dp6n\",\"cZclM\",\"zLFgT\",\"jUkLC\",\"pCy9R\",\"HXYSD\",\"qnR1n\",\"vaWyy\",\"evK3x\",\"0Erbq\"],\"module\":1},\"InputSelection\":{\"resources\":[\"4dp6n\",\"cZclM\",\"evK3x\"],\"module\":1},\"HashtagParser\":{\"resources\":[\"aTpFX\",\"evK3x\",\"HXYSD\"],\"module\":1},\"MentionsInput\":{\"resources\":[\"cZclM\",\"4dp6n\",\"voRyy\",\"evK3x\",\"vaWyy\",\"RZozx\",\"jUkLC\",\"kIbNW\",\"LVsAq\"],\"module\":1},\"TextAreaControl\":{\"resources\":[\"cZclM\",\"W7JZ8\",\"4dp6n\"],\"module\":1},\"Typeahead\":{\"resources\":[\"cZclM\",\"4dp6n\",\"pCy9R\",\"HXYSD\"],\"module\":1},\"TypeaheadAreaCore\":{\"resources\":[\"4dp6n\",\"cZclM\",\"evK3x\",\"W7JZ8\",\"vaWyy\",\"zLFgT\",\"voRyy\",\"qnR1n\",\"RZozx\"],\"module\":1},\"TypeaheadBestName\":{\"resources\":[\"jUkLC\",\"RZozx\"],\"module\":1},\"TypeaheadHoistFriends\":{\"resources\":[\"RZozx\"],\"module\":1},\"TypeaheadMetrics\":{\"resources\":[\"cZclM\",\"4dp6n\",\"weTWP\",\"RZozx\"],\"module\":1},\"TypeaheadMetricsX\":{\"resources\":[\"vaWyy\",\"cZclM\",\"4dp6n\",\"weTWP\",\"qfzTq\"],\"module\":1},\"TypingDetector\":{\"resources\":[\"cZclM\",\"vaWyy\",\"bsWub\",\"yTEiS\"],\"module\":1},\"UFIComments\":{\"resources\":[\"vaWyy\",\"6\\\\/pMr\",\"4dp6n\",\"cZclM\",\"jUkLC\",\"J13Kt\"],\"module\":1},\"UFIAddCommentLiveTypingPublisher\":{\"resources\":[\"vaWyy\",\"cZclM\",\"6\\\\/pMr\",\"jNgMf\",\"4dp6n\"],\"module\":1},\"EmojiPicker.react\":{\"resources\":[\"cZclM\",\"vaWyy\",\"evK3x\",\"0Erbq\",\"4dp6n\",\"YSSr9\",\"N8j8y\",\"Z1mSD\",\"jUkLC\",\"BSaJk\",\"6\\\\/pMr\",\"zLFgT\",\"zJFru\",\"S414d\",\"mFx0T\"],\"module\":1},\"ChatContentSearchFlyout.react\":{\"resources\":[\"cZclM\",\"4dp6n\",\"YSSr9\",\"YWsZK\",\"vaWyy\",\"kF1+E\",\"J13Kt\",\"L0cWA\",\"2t47Z\",\"6\\\\/pMr\",\"zLFgT\",\"yTEiS\",\"zJFru\",\"9eb5q\",\"jUkLC\",\"uJ8Cx\",\"pCy9R\"],\"module\":1},\"NYE2017Dispatcher\":{\"resources\":[\"jUkLC\"],\"module\":1},\"NYE2017TriggerStrings\":{\"resources\":[\"L74FX\"],\"module\":1},\"UFITipJarDialogContainer.react\":{\"resources\":[\"Qo8nD\",\"vaWyy\",\"cZclM\",\"4dp6n\",\"YSSr9\",\"+S7C7\",\"S414d\",\"wwr9S\",\"XLf2y\",\"O3RVJ\",\"SBdkp\",\"lY8iO\",\"mvH7c\",\"evK3x\",\"NL5OX\",\"mFx0T\",\"UOhv1\",\"nPQZG\",\"U3Yhf\",\"zLFgT\",\"zJFru\",\"3jRhu\",\"0Erbq\",\"uJ8Cx\",\"yTEiS\",\"PYvQ7\",\"yjiGt\",\"9eb5q\",\"Ni8ma\",\"6\\\\/pMr\",\"bsWub\",\"MVfZe\",\"BSaJk\",\"jUkLC\",\"QCSS0\",\"x62Lo\",\"X18WR\",\"hsJFK\",\"J13Kt\",\"CBsWp\",\"0Ne9v\",\"8D0JR\",\"FcLuV\",\"voRyy\",\"aVzLX\",\"O\\\\/TcF\"],\"module\":1},\"EmoticonUtils\":{\"resources\":[\"zLFgT\",\"jUkLC\",\"GfdPz\"],\"module\":1},\"EmoticonsList\":{\"resources\":[\"zLFgT\",\"jUkLC\"],\"module\":1},\"SelectionPosition\":{\"resources\":[\"4dp6n\",\"cZclM\",\"evK3x\",\"vaWyy\",\"GfdPz\"],\"module\":1},\"UFIAttachedMediaPreview.react\":{\"resources\":[\"YSSr9\",\"cZclM\",\"4dp6n\",\"vaWyy\",\"zLFgT\",\"BSaJk\",\"evK3x\",\"jUkLC\",\"9eb5q\",\"MMIxQ\",\"EODk4\"],\"module\":1},\"UFICommentMarkdownPreview.react\":{\"resources\":[\"YSSr9\",\"cZclM\",\"4dp6n\",\"vaWyy\",\"evK3x\",\"zLFgT\",\"0Erbq\",\"9eb5q\",\"Fxvme\",\"HMCyM\",\"4cmaN\",\"pI7AA\",\"0Qz\\\\/x\",\"Hnz7V\"],\"module\":1},\"XUIAmbientNUX.react\":{\"resources\":[\"YSSr9\",\"cZclM\",\"4dp6n\",\"mFx0T\",\"vaWyy\",\"zLFgT\",\"evK3x\",\"9eb5q\"],\"module\":1},\"UFIReactionsMenuImpl.react\":{\"resources\":[\"cZclM\",\"vaWyy\",\"YSSr9\",\"4dp6n\",\"Ni8ma\",\"9eb5q\",\"6\\\\/pMr\",\"Ougg6\",\"jUkLC\",\"FEfyX\",\"MM5yP\",\"LVsAq\",\"evK3x\",\"J13Kt\"],\"module\":1},\"UFIReactionsMenuWithAnimatedVectorIcons.react\":{\"resources\":[\"YSSr9\",\"cZclM\",\"4dp6n\",\"1gHDT\",\"LXA18\",\"mFx0T\",\"vaWyy\",\"SlVkL\",\"Ni8ma\",\"9eb5q\",\"6\\\\/pMr\",\"Ougg6\",\"jUkLC\",\"FEfyX\",\"MM5yP\",\"LVsAq\",\"evK3x\",\"J13Kt\",\"LY13N\"],\"module\":1},\"UFIReactionsMenuWithStaticVectorIcons.react\":{\"resources\":[\"YSSr9\",\"cZclM\",\"4dp6n\",\"1gHDT\",\"LXA18\",\"mFx0T\",\"vaWyy\",\"Ni8ma\",\"9eb5q\",\"6\\\\/pMr\",\"Ougg6\",\"jUkLC\",\"FEfyX\",\"MM5yP\",\"LVsAq\",\"evK3x\",\"J13Kt\"],\"module\":1},\"UFIReactionsNUX.react\":{\"resources\":[\"cZclM\",\"4dp6n\",\"evK3x\",\"YSSr9\",\"vaWyy\",\"J13Kt\",\"mFx0T\",\"zLFgT\",\"9eb5q\",\"Dnlm1\"],\"module\":1},\"UFIReactionsTooltipImpl.react\":{\"resources\":[\"vaWyy\",\"cZclM\",\"4dp6n\",\"YSSr9\",\"evK3x\",\"zLFgT\",\"0Erbq\",\"J13Kt\",\"U5YL3\",\"qiVO+\"],\"module\":1},\"SimpleXUIDialog\":{\"resources\":[\"vaWyy\",\"cZclM\",\"evK3x\",\"4dp6n\",\"zLFgT\",\"0Erbq\",\"YSSr9\",\"9eb5q\",\"MVfZe\"],\"module\":1},\"ContextualDialogArrow\":{\"resources\":[\"4dp6n\",\"cZclM\",\"vaWyy\",\"zLFgT\",\"mFx0T\"],\"module\":1},\"PopoverMenu.react\":{\"resources\":[\"YSSr9\",\"cZclM\",\"4dp6n\",\"9eb5q\",\"0Erbq\",\"vaWyy\",\"evK3x\",\"zLFgT\"],\"module\":1},\"ReactXUIMenu\":{\"resources\":[\"cZclM\",\"4dp6n\",\"vaWyy\",\"zLFgT\",\"evK3x\",\"YSSr9\",\"0Erbq\"],\"module\":1},\"UFICommentRemovalControls.react\":{\"resources\":[\"YSSr9\",\"cZclM\",\"4dp6n\",\"vaWyy\",\"MVfZe\",\"Ni8ma\",\"sbRFq\"],\"module\":1},\"UFIScrollHighlight\":{\"resources\":[\"4dp6n\",\"cZclM\",\"vaWyy\",\"evK3x\",\"weTWP\",\"JxwE0\",\"rSdpp\"],\"module\":1},\"PhotoTagger\":{\"resources\":[\"vaWyy\",\"cZclM\",\"4dp6n\",\"VXMzE\",\"mFx0T\",\"zLFgT\",\"evK3x\",\"h4CfJ\",\"0Erbq\",\"rxn2o\",\"YSSr9\",\"j5c+Z\",\"Ni8ma\",\"u6b8B\",\"oQbcB\",\"6\\\\/pMr\",\"jUkLC\",\"J13Kt\",\"9eb5q\",\"24W4h\"],\"module\":1},\"PhotoTags\":{\"resources\":[\"4dp6n\",\"cZclM\",\"oQbcB\",\"VXMzE\"],\"module\":1},\"PhotosButtonTooltips\":{\"resources\":[\"cZclM\",\"4dp6n\",\"vaWyy\",\"evK3x\",\"zLFgT\",\"0Erbq\",\"GA0UM\"],\"module\":1},\"SpotlightShareViewer\":{\"resources\":[\"4dp6n\",\"cZclM\",\"vaWyy\",\"yCGIh\",\"evK3x\",\"zyFOp\"],\"module\":1},\"TagTokenizer\":{\"resources\":[\"4dp6n\",\"cZclM\",\"jUkLC\",\"zLFgT\",\"XD1oa\",\"B76cY\",\"WRUgD\",\"vaWyy\",\"voRyy\",\"W7JZ8\"],\"module\":1},\"VideoRotate\":{\"resources\":[\"cZclM\",\"4dp6n\",\"vaWyy\",\"evK3x\",\"9eb5q\",\"dadWr\",\"6AU0l\"],\"module\":1},\"css:fb-photos-snowlift-fullscreen-css\":{\"resources\":[\"VDymv\"]},\"PhotoSnowlift\":{\"resources\":[\"cZclM\",\"4dp6n\",\"YSSr9\",\"vaWyy\",\"evK3x\",\"9eb5q\",\"dadWr\",\"jUkLC\",\"BSaJk\",\"bsWub\",\"6\\\\/pMr\",\"oQbcB\",\"zLFgT\",\"5ku8a\",\"wwr9S\",\"yCGIh\",\"VCcU8\",\"1IxXS\",\"0Erbq\",\"LVsAq\"],\"module\":1},\"Toggler\":{\"resources\":[\"cZclM\",\"4dp6n\",\"vaWyy\",\"evK3x\",\"zLFgT\"],\"module\":1},\"Tooltip\":{\"resources\":[\"cZclM\",\"4dp6n\",\"vaWyy\",\"evK3x\",\"zLFgT\",\"0Erbq\"],\"module\":1}});}});\\nrequireLazy([\"ix\"], function(ix) {ix.add({\"\\\\/images\\\\/assets_DO_NOT_HARDCODE\\\\/fb_glyphs\\\\/cross_16_fig-dark-50.png\":{\"sprited\":true,\"spriteMapCssClass\":\"sp_h7Q7EiDqjDy\",\"spriteCssClass\":\"sx_1efb3d\"},\"\\\\/images\\\\/assets_DO_NOT_HARDCODE\\\\/fb_glyphs\\\\/cross_16_fig-dark-70.png\":{\"sprited\":true,\"spriteMapCssClass\":\"sp_h7Q7EiDqjDy\",\"spriteCssClass\":\"sx_3029dc\"},\"\\\\/images\\\\/assets_DO_NOT_HARDCODE\\\\/fb_glyphs\\\\/cross_16_fig-light-20.png\":{\"sprited\":true,\"spriteMapCssClass\":\"sp_h7Q7EiDqjDy\",\"spriteCssClass\":\"sx_c9bb38\"},\"\\\\/images\\\\/assets_DO_NOT_HARDCODE\\\\/fb_glyphs\\\\/cross_16_fig-light-30.png\":{\"sprited\":true,\"spriteMapCssClass\":\"sp_h7Q7EiDqjDy\",\"spriteCssClass\":\"sx_891da8\"},\"\\\\/images\\\\/assets_DO_NOT_HARDCODE\\\\/fb_glyphs\\\\/cross_16_fig-light-50.png\":{\"sprited\":true,\"spriteMapCssClass\":\"sp_h7Q7EiDqjDy\",\"spriteCssClass\":\"sx_4d21f8\"},\"\\\\/images\\\\/assets_DO_NOT_HARDCODE\\\\/fb_glyphs\\\\/cross_20_fig-dark-50.png\":{\"sprited\":true,\"spriteMapCssClass\":\"sp_h7Q7EiDqjDy\",\"spriteCssClass\":\"sx_88baaf\"},\"\\\\/images\\\\/assets_DO_NOT_HARDCODE\\\\/fb_glyphs\\\\/cross_20_fig-dark-70.png\":{\"sprited\":true,\"spriteMapCssClass\":\"sp_h7Q7EiDqjDy\",\"spriteCssClass\":\"sx_7e63a3\"},\"\\\\/images\\\\/assets_DO_NOT_HARDCODE\\\\/fb_glyphs\\\\/cross_20_fig-light-20.png\":{\"sprited\":true,\"spriteMapCssClass\":\"sp_TWlAhEA9xB6\",\"spriteCssClass\":\"sx_4386c8\"},\"\\\\/images\\\\/assets_DO_NOT_HARDCODE\\\\/fb_glyphs\\\\/cross_20_fig-light-30.png\":{\"sprited\":true,\"spriteMapCssClass\":\"sp_h7Q7EiDqjDy\",\"spriteCssClass\":\"sx_66f57e\"},\"\\\\/images\\\\/assets_DO_NOT_HARDCODE\\\\/fb_glyphs\\\\/cross_20_fig-light-50.png\":{\"sprited\":true,\"spriteMapCssClass\":\"sp_h7Q7EiDqjDy\",\"spriteCssClass\":\"sx_08323c\"},\"\\\\/images\\\\/assets_DO_NOT_HARDCODE\\\\/fb_glyphs\\\\/caution-solid_16_big-yellow.png\":{\"sprited\":true,\"spriteMapCssClass\":\"sp_h7Q7EiDqjDy\",\"spriteCssClass\":\"sx_b8c2a9\"},\"\\\\/images\\\\/assets_DO_NOT_HARDCODE\\\\/fb_glyphs\\\\/caution-solid_16_fig-red.png\":{\"sprited\":true,\"spriteMapCssClass\":\"sp_h7Q7EiDqjDy\",\"spriteCssClass\":\"sx_455382\"},\"\\\\/images\\\\/assets_DO_NOT_HARDCODE\\\\/fb_glyphs\\\\/info-solid_16_fig-light-30.png\":{\"sprited\":true,\"spriteMapCssClass\":\"sp_h7Q7EiDqjDy\",\"spriteCssClass\":\"sx_c8c4b7\"},\"\\\\/images\\\\/assets_DO_NOT_HARDCODE\\\\/fb_glyphs\\\\/info-solid_16_accent-blue.png\":{\"sprited\":true,\"spriteMapCssClass\":\"sp_h7Q7EiDqjDy\",\"spriteCssClass\":\"sx_1513e5\"},\"\\\\/images\\\\/assets_DO_NOT_HARDCODE\\\\/fb_glyphs\\\\/magnifying-glass_16_fig-light-50.png\":{\"sprited\":true,\"spriteMapCssClass\":\"sp_h7Q7EiDqjDy\",\"spriteCssClass\":\"sx_8a5fb8\"},\"\\\\/images\\\\/assets_DO_NOT_HARDCODE\\\\/fb_glyphs\\\\/caution-solid_16_fig-white.png\":{\"sprited\":true,\"spriteMapCssClass\":\"sp_h7Q7EiDqjDy\",\"spriteCssClass\":\"sx_719f6e\"},\"\\\\/images\\\\/assets_DO_NOT_HARDCODE\\\\/fb_glyphs\\\\/checkmark_16_fig-white.png\":{\"sprited\":true,\"spriteMapCssClass\":\"sp_bswl0TooemH\",\"spriteCssClass\":\"sx_084937\"},\"\\\\/images\\\\/assets_DO_NOT_HARDCODE\\\\/fb_glyphs\\\\/info-solid_16_fig-white.png\":{\"sprited\":true,\"spriteMapCssClass\":\"sp_h7Q7EiDqjDy\",\"spriteCssClass\":\"sx_7873a3\"},\"\\\\/images\\\\/assets_DO_NOT_HARDCODE\\\\/fb_glyphs\\\\/magnifying-glass_16_fig-light-30.png\":{\"sprited\":true,\"spriteMapCssClass\":\"sp_h7Q7EiDqjDy\",\"spriteCssClass\":\"sx_57b5fc\"},\"\\\\/images\\\\/assets_DO_NOT_HARDCODE\\\\/fb_glyphs\\\\/triangle-down_16_fig-light-20.png\":{\"sprited\":true,\"spriteMapCssClass\":\"sp_h7Q7EiDqjDy\",\"spriteCssClass\":\"sx_5416c2\"},\"\\\\/images\\\\/assets_DO_NOT_HARDCODE\\\\/fb_glyphs\\\\/triangle-down_16_fig-light-50.png\":{\"sprited\":true,\"spriteMapCssClass\":\"sp_h7Q7EiDqjDy\",\"spriteCssClass\":\"sx_05853e\"},\"\\\\/images\\\\/assets_DO_NOT_HARDCODE\\\\/fb_glyphs\\\\/chevron-down_12_fig-light-50.png\":{\"sprited\":true,\"spriteMapCssClass\":\"sp_h7Q7EiDqjDy\",\"spriteCssClass\":\"sx_b7ccc2\"},\"\\\\/images\\\\/assets_DO_NOT_HARDCODE\\\\/fb_glyphs\\\\/chevron-right_12_fig-light-50.png\":{\"sprited\":true,\"spriteMapCssClass\":\"sp_h7Q7EiDqjDy\",\"spriteCssClass\":\"sx_d64d20\"},\"\\\\/images\\\\/assets_DO_NOT_HARDCODE\\\\/fb_glyphs\\\\/checkmark_12_fig-light-50.png\":{\"sprited\":true,\"spriteMapCssClass\":\"sp_h7Q7EiDqjDy\",\"spriteCssClass\":\"sx_9a469c\"},\"\\\\/images\\\\/assets_DO_NOT_HARDCODE\\\\/fb_glyphs\\\\/triangle-down_16_fig-white.png\":{\"sprited\":true,\"spriteMapCssClass\":\"sp_h7Q7EiDqjDy\",\"spriteCssClass\":\"sx_c84280\"},\"\\\\/images\\\\/assets_DO_NOT_HARDCODE\\\\/fb_glyphs\\\\/checkmark_12_fig-light-20.png\":{\"sprited\":true,\"spriteMapCssClass\":\"sp_h7Q7EiDqjDy\",\"spriteCssClass\":\"sx_0b8412\"},\"\\\\/images\\\\/assets_DO_NOT_HARDCODE\\\\/fb_glyphs\\\\/minus_16_fig-light-20.png\":{\"sprited\":true,\"spriteMapCssClass\":\"sp_h7Q7EiDqjDy\",\"spriteCssClass\":\"sx_c1eb7c\"},\"\\\\/images\\\\/assets_DO_NOT_HARDCODE\\\\/fb_glyphs\\\\/minus_16_fig-light-50.png\":{\"sprited\":true,\"spriteMapCssClass\":\"sp_h7Q7EiDqjDy\",\"spriteCssClass\":\"sx_32376b\"},\"\\\\/images\\\\/assets_DO_NOT_HARDCODE\\\\/fb_glyphs\\\\/cross_12_fig-light-20.png\":{\"sprited\":true,\"spriteMapCssClass\":\"sp_h7Q7EiDqjDy\",\"spriteCssClass\":\"sx_75a176\"},\"\\\\/images\\\\/assets_DO_NOT_HARDCODE\\\\/fb_glyphs\\\\/cross_12_fig-light-50.png\":{\"sprited\":true,\"spriteMapCssClass\":\"sp_h7Q7EiDqjDy\",\"spriteCssClass\":\"sx_1c8cec\"},\"\\\\/images\\\\/ui\\\\/x\\\\/button\\\\/dark\\\\/chevron.png\":{\"sprited\":true,\"spriteMapCssClass\":\"sp_TWlAhEA9xB6\",\"spriteCssClass\":\"sx_4baf2f\"},\"\\\\/images\\\\/ui\\\\/x\\\\/button\\\\/normal\\\\/chevron.png\":{\"sprited\":true,\"spriteMapCssClass\":\"sp_TWlAhEA9xB6\",\"spriteCssClass\":\"sx_549564\"},\"male:light:small\":{\"sprited\":true,\"spriteMapCssClass\":\"sp_3eNN8KVrZF6\",\"spriteCssClass\":\"sx_2a8fa3\"},\"work:light:small\":{\"sprited\":true,\"spriteMapCssClass\":\"sp_YIiOwpTdELO\",\"spriteCssClass\":\"sx_629949\"},\"images\\\\/ads\\\\/common\\\\/icon_page.png\":{\"sprited\":true,\"spriteMapCssClass\":\"sp_ifICATVyBFP\",\"spriteCssClass\":\"sx_b07f56\"},\"\\\\/images\\\\/messaging\\\\/stickers\\\\/store\\\\/basket.png\":{\"sprited\":true,\"spriteMapCssClass\":\"sp_avtVGZ81hWA\",\"spriteCssClass\":\"sx_ff93dd\"},\"\\\\/images\\\\/messaging\\\\/stickers\\\\/store\\\\/characters.png\":{\"sprited\":true,\"spriteMapCssClass\":\"sp_avtVGZ81hWA\",\"spriteCssClass\":\"sx_5c8a4d\"},\"\\\\/images\\\\/messaging\\\\/stickers\\\\/store\\\\/backarrow.png\":{\"sprited\":true,\"spriteMapCssClass\":\"sp_avtVGZ81hWA\",\"spriteCssClass\":\"sx_0933da\"},\"\\\\/images\\\\/messaging\\\\/stickers\\\\/icons\\\\/emoji.png\":{\"sprited\":true,\"spriteMapCssClass\":\"sp_X6gBNhfcIKw\",\"spriteCssClass\":\"sx_3e1693\"},\"\\\\/images\\\\/messaging\\\\/stickers\\\\/icons\\\\/recent.png\":{\"sprited\":true,\"spriteMapCssClass\":\"sp_X6gBNhfcIKw\",\"spriteCssClass\":\"sx_42f703\"},\"\\\\/images\\\\/messaging\\\\/stickers\\\\/icons\\\\/search.png\":{\"sprited\":true,\"spriteMapCssClass\":\"sp_X6gBNhfcIKw\",\"spriteCssClass\":\"sx_1081be\"},\"\\\\/images\\\\/messaging\\\\/stickers\\\\/selector\\\\/left.png\":{\"sprited\":true,\"spriteMapCssClass\":\"sp_X6gBNhfcIKw\",\"spriteCssClass\":\"sx_f606ae\"},\"\\\\/images\\\\/messaging\\\\/stickers\\\\/selector\\\\/right.png\":{\"sprited\":true,\"spriteMapCssClass\":\"sp_X6gBNhfcIKw\",\"spriteCssClass\":\"sx_ebf6f1\"},\"\\\\/images\\\\/messaging\\\\/stickers\\\\/selector\\\\/sticker_store.png\":{\"sprited\":true,\"spriteMapCssClass\":\"sp_X6gBNhfcIKw\",\"spriteCssClass\":\"sx_0c1954\"},\"\\\\/images\\\\/messaging\\\\/stickers\\\\/icons\\\\/sad_face.png\":{\"sprited\":true,\"spriteMapCssClass\":\"sp_X6gBNhfcIKw\",\"spriteCssClass\":\"sx_b7cd23\"},\"\\\\/images\\\\/assets_DO_NOT_HARDCODE\\\\/fb_glyphs\\\\/plus_24_fig-blue.png\":{\"sprited\":true,\"spriteMapCssClass\":\"sp_4nDaFI5d8Px\",\"spriteCssClass\":\"sx_e49622\"},\"\\\\/images\\\\/assets_DO_NOT_HARDCODE\\\\/fb_glyphs\\\\/briefcase-business_12_fig-light-50.png\":{\"sprited\":true,\"spriteMapCssClass\":\"sp_4nDaFI5d8Px\",\"spriteCssClass\":\"sx_3610f5\"},\"\\\\/images\\\\/assets_DO_NOT_HARDCODE\\\\/fb_glyphs\\\\/city_12_fig-light-50.png\":{\"sprited\":true,\"spriteMapCssClass\":\"sp_4nDaFI5d8Px\",\"spriteCssClass\":\"sx_3e4673\"},\"\\\\/images\\\\/assets_DO_NOT_HARDCODE\\\\/fb_glyphs\\\\/education_12_fig-light-50.png\":{\"sprited\":true,\"spriteMapCssClass\":\"sp_4nDaFI5d8Px\",\"spriteCssClass\":\"sx_3f60e3\"},\"\\\\/images\\\\/assets_DO_NOT_HARDCODE\\\\/fb_glyphs\\\\/info-solid_12_fig-light-50.png\":{\"sprited\":true,\"spriteMapCssClass\":\"sp_4nDaFI5d8Px\",\"spriteCssClass\":\"sx_18a3be\"},\"\\\\/images\\\\/assets_DO_NOT_HARDCODE\\\\/fb_glyphs\\\\/network_12_fig-light-50.png\":{\"sprited\":true,\"spriteMapCssClass\":\"sp_4nDaFI5d8Px\",\"spriteCssClass\":\"sx_e1f219\"},\"\\\\/images\\\\/loaders\\\\/indicator_black.gif\":{\"sprited\":false,\"uri\":\"https:\\\\/\\\\/static.xx.fbcdn.net\\\\/rsrc.php\\\\/v3\\\\/y7\\\\/r\\\\/pgEFhPxsWZX.gif\",\"width\":32,\"height\":32},\"\\\\/images\\\\/loaders\\\\/indicator_blue_large.gif\":{\"sprited\":false,\"uri\":\"https:\\\\/\\\\/static.xx.fbcdn.net\\\\/rsrc.php\\\\/v3\\\\/y9\\\\/r\\\\/jKEcVPZFk-2.gif\",\"width\":32,\"height\":32},\"\\\\/images\\\\/loaders\\\\/indicator_blue_medium.gif\":{\"sprited\":false,\"uri\":\"https:\\\\/\\\\/static.xx.fbcdn.net\\\\/rsrc.php\\\\/v3\\\\/yk\\\\/r\\\\/LOOn0JtHNzb.gif\",\"width\":16,\"height\":16},\"\\\\/images\\\\/loaders\\\\/indicator_blue_small.gif\":{\"sprited\":false,\"uri\":\"https:\\\\/\\\\/static.xx.fbcdn.net\\\\/rsrc.php\\\\/v3\\\\/yb\\\\/r\\\\/GsNJNwuI-UM.gif\",\"width\":16,\"height\":11},\"\\\\/images\\\\/loaders\\\\/indicator_white_large.gif\":{\"sprited\":false,\"uri\":\"https:\\\\/\\\\/static.xx.fbcdn.net\\\\/rsrc.php\\\\/v3\\\\/yG\\\\/r\\\\/b53Ajb4ihCP.gif\",\"width\":32,\"height\":32},\"\\\\/images\\\\/loaders\\\\/indicator_white_small.gif\":{\"sprited\":false,\"uri\":\"https:\\\\/\\\\/static.xx.fbcdn.net\\\\/rsrc.php\\\\/v3\\\\/y-\\\\/r\\\\/AGUNXgX_Wx3.gif\",\"width\":16,\"height\":11},\"\\\\/images\\\\/assets_DO_NOT_HARDCODE\\\\/fb_glyphs\\\\/caution-solid_20_fig-white.png\":{\"sprited\":true,\"spriteMapCssClass\":\"sp_1whW3lnBX1F\",\"spriteCssClass\":\"sx_577568\"},\"\\\\/images\\\\/assets_DO_NOT_HARDCODE\\\\/fb_glyphs\\\\/checkmark_20_fig-white.png\":{\"sprited\":true,\"spriteMapCssClass\":\"sp_1whW3lnBX1F\",\"spriteCssClass\":\"sx_fcb6b5\"},\"\\\\/images\\\\/assets_DO_NOT_HARDCODE\\\\/fb_glyphs\\\\/info-solid_20_fig-white.png\":{\"sprited\":true,\"spriteMapCssClass\":\"sp_1whW3lnBX1F\",\"spriteCssClass\":\"sx_3f7f5f\"},\"\\\\/images\\\\/ui\\\\/x\\\\/selector\\\\/chevron.png\":{\"sprited\":true,\"spriteMapCssClass\":\"sp_q86mtHUUdIX\",\"spriteCssClass\":\"sx_1e02e7\"},\"\\\\/images\\\\/assets_DO_NOT_HARDCODE\\\\/fb_glyphs\\\\/friend-friends_12_fig-black.png\":{\"sprited\":true,\"spriteMapCssClass\":\"sp_1whW3lnBX1F\",\"spriteCssClass\":\"sx_daecaa\"},\"\\\\/images\\\\/assets_DO_NOT_HARDCODE\\\\/fb_glyphs\\\\/globe-americas_12_fig-black.png\":{\"sprited\":true,\"spriteMapCssClass\":\"sp_1whW3lnBX1F\",\"spriteCssClass\":\"sx_501f6a\"},\"\\\\/images\\\\/assets_DO_NOT_HARDCODE\\\\/fb_glyphs\\\\/lock_12_fig-black.png\":{\"sprited\":true,\"spriteMapCssClass\":\"sp_1whW3lnBX1F\",\"spriteCssClass\":\"sx_2f2e70\"},\"\\\\/images\\\\/like\\\\/icons\\\\/fav.png\":{\"sprited\":true,\"spriteMapCssClass\":\"sp_1whW3lnBX1F\",\"spriteCssClass\":\"sx_138ae9\"},\"\\\\/images\\\\/assets_DO_NOT_HARDCODE\\\\/fb_glyphs\\\\/lock_12_fig-light-30.png\":{\"sprited\":true,\"spriteMapCssClass\":\"sp_q86mtHUUdIX\",\"spriteCssClass\":\"sx_2b25d5\"},\"\\\\/images\\\\/ufi\\\\/fbfeed\\\\/like.png\":{\"sprited\":true,\"spriteMapCssClass\":\"sp_TWlAhEA9xB6\",\"spriteCssClass\":\"sx_9de99b\"},\"\\\\/images\\\\/plugins\\\\/comments\\\\/chevron-down.png\":{\"sprited\":true,\"spriteMapCssClass\":\"sp_1whW3lnBX1F\",\"spriteCssClass\":\"sx_945760\"},\"\\\\/images\\\\/assets_DO_NOT_HARDCODE\\\\/fb_glyphs\\\\/friend-id-card_12_fig-blue.png\":{\"sprited\":true,\"spriteMapCssClass\":\"sp_q86mtHUUdIX\",\"spriteCssClass\":\"sx_095149\"},\"triangle-down:dark:small\":{\"sprited\":true,\"spriteMapCssClass\":\"sp_TWlAhEA9xB6\",\"spriteCssClass\":\"sx_d04cb3\"},\"\\\\/images\\\\/mercury\\\\/clients\\\\/messenger\\\\/core\\\\/LoadingSpinner.png\":{\"sprited\":true,\"spriteMapCssClass\":\"sp_PmxzVEQLNDC\",\"spriteCssClass\":\"sx_7af862\"},\"\\\\/images\\\\/mercury\\\\/clients\\\\/messenger\\\\/core\\\\/LoadingSpinnerExtraLarge.png\":{\"sprited\":true,\"spriteMapCssClass\":\"sp_PmxzVEQLNDC\",\"spriteCssClass\":\"sx_2f416a\"},\"\\\\/images\\\\/mercury\\\\/clients\\\\/messenger\\\\/core\\\\/LoadingSpinnerGrey.png\":{\"sprited\":true,\"spriteMapCssClass\":\"sp_PmxzVEQLNDC\",\"spriteCssClass\":\"sx_7163db\"},\"\\\\/images\\\\/chat\\\\/composer\\\\/composerSearchTrending.png\":{\"sprited\":false,\"uri\":\"https:\\\\/\\\\/static.xx.fbcdn.net\\\\/rsrc.php\\\\/v3\\\\/yL\\\\/r\\\\/MVLY03UaITD.png\",\"width\":16,\"height\":16},\"\\\\/images\\\\/payments\\\\/icons\\\\/amex-lg.png\":{\"sprited\":true,\"spriteMapCssClass\":\"sp_e-REkWJBrzF\",\"spriteCssClass\":\"sx_091abe\"},\"\\\\/images\\\\/payments\\\\/icons\\\\/amex-sq.png\":{\"sprited\":true,\"spriteMapCssClass\":\"sp_K7u36S6W8FC\",\"spriteCssClass\":\"sx_663e8c\"},\"\\\\/images\\\\/payments\\\\/icons\\\\/amex.png\":{\"sprited\":true,\"spriteMapCssClass\":\"sp_e-REkWJBrzF\",\"spriteCssClass\":\"sx_ae33c3\"},\"\\\\/images\\\\/payments\\\\/icons\\\\/disc-lg.png\":{\"sprited\":true,\"spriteMapCssClass\":\"sp_e-REkWJBrzF\",\"spriteCssClass\":\"sx_13387f\"},\"\\\\/images\\\\/payments\\\\/icons\\\\/disc-sq.png\":{\"sprited\":true,\"spriteMapCssClass\":\"sp_K7u36S6W8FC\",\"spriteCssClass\":\"sx_08c4dd\"},\"\\\\/images\\\\/payments\\\\/icons\\\\/disc.png\":{\"sprited\":true,\"spriteMapCssClass\":\"sp_e-REkWJBrzF\",\"spriteCssClass\":\"sx_005038\"},\"\\\\/images\\\\/payments\\\\/icons\\\\/jcb-lg.png\":{\"sprited\":true,\"spriteMapCssClass\":\"sp_e-REkWJBrzF\",\"spriteCssClass\":\"sx_77c924\"},\"\\\\/images\\\\/payments\\\\/icons\\\\/jcb-sq.png\":{\"sprited\":true,\"spriteMapCssClass\":\"sp_K7u36S6W8FC\",\"spriteCssClass\":\"sx_9e4d61\"},\"\\\\/images\\\\/payments\\\\/icons\\\\/jcb.png\":{\"sprited\":true,\"spriteMapCssClass\":\"sp_e-REkWJBrzF\",\"spriteCssClass\":\"sx_53cddb\"},\"\\\\/images\\\\/payments\\\\/icons\\\\/mc-lg.png\":{\"sprited\":true,\"spriteMapCssClass\":\"sp_e-REkWJBrzF\",\"spriteCssClass\":\"sx_12c756\"},\"\\\\/images\\\\/payments\\\\/icons\\\\/mc-sq.png\":{\"sprited\":true,\"spriteMapCssClass\":\"sp_K7u36S6W8FC\",\"spriteCssClass\":\"sx_b7117d\"},\"\\\\/images\\\\/payments\\\\/icons\\\\/mc.png\":{\"sprited\":true,\"spriteMapCssClass\":\"sp_e-REkWJBrzF\",\"spriteCssClass\":\"sx_08dcc8\"},\"\\\\/images\\\\/payments\\\\/icons\\\\/modularization\\\\/CC.png\":{\"sprited\":true,\"spriteMapCssClass\":\"sp_K7u36S6W8FC\",\"spriteCssClass\":\"sx_476ef7\"},\"\\\\/images\\\\/payments\\\\/icons\\\\/modularization\\\\/amex-cc.png\":{\"sprited\":true,\"spriteMapCssClass\":\"sp_K7u36S6W8FC\",\"spriteCssClass\":\"sx_6890d9\"},\"\\\\/images\\\\/payments\\\\/icons\\\\/modularization\\\\/discover-cc.png\":{\"sprited\":true,\"spriteMapCssClass\":\"sp_K7u36S6W8FC\",\"spriteCssClass\":\"sx_16ec68\"},\"\\\\/images\\\\/payments\\\\/icons\\\\/modularization\\\\/jcb-cc.png\":{\"sprited\":true,\"spriteMapCssClass\":\"sp_K7u36S6W8FC\",\"spriteCssClass\":\"sx_793c60\"},\"\\\\/images\\\\/payments\\\\/icons\\\\/modularization\\\\/mastercard-cc.png\":{\"sprited\":true,\"spriteMapCssClass\":\"sp_K7u36S6W8FC\",\"spriteCssClass\":\"sx_48e909\"},\"\\\\/images\\\\/payments\\\\/icons\\\\/modularization\\\\/paypal-cc.png\":{\"sprited\":true,\"spriteMapCssClass\":\"sp_K7u36S6W8FC\",\"spriteCssClass\":\"sx_20dd59\"},\"\\\\/images\\\\/payments\\\\/icons\\\\/modularization\\\\/visa-cc.png\":{\"sprited\":true,\"spriteMapCssClass\":\"sp_K7u36S6W8FC\",\"spriteCssClass\":\"sx_c6cead\"},\"\\\\/images\\\\/payments\\\\/icons\\\\/paypal-lg.png\":{\"sprited\":true,\"spriteMapCssClass\":\"sp_K7u36S6W8FC\",\"spriteCssClass\":\"sx_76d7b4\"},\"\\\\/images\\\\/payments\\\\/icons\\\\/paypal-sq.png\":{\"sprited\":true,\"spriteMapCssClass\":\"sp_K7u36S6W8FC\",\"spriteCssClass\":\"sx_ee9d6e\"},\"\\\\/images\\\\/payments\\\\/icons\\\\/paypal.png\":{\"sprited\":true,\"spriteMapCssClass\":\"sp_K7u36S6W8FC\",\"spriteCssClass\":\"sx_7ecb87\"},\"\\\\/images\\\\/payments\\\\/icons\\\\/visa-lg.png\":{\"sprited\":true,\"spriteMapCssClass\":\"sp_e-REkWJBrzF\",\"spriteCssClass\":\"sx_dafefd\"},\"\\\\/images\\\\/payments\\\\/icons\\\\/visa-sq.png\":{\"sprited\":true,\"spriteMapCssClass\":\"sp_K7u36S6W8FC\",\"spriteCssClass\":\"sx_c6c0cf\"},\"\\\\/images\\\\/payments\\\\/icons\\\\/visa.png\":{\"sprited\":true,\"spriteMapCssClass\":\"sp_e-REkWJBrzF\",\"spriteCssClass\":\"sx_74c3b5\"},\"\\\\/images\\\\/tip_jar\\\\/choice1.png\":{\"sprited\":true,\"spriteMapCssClass\":\"sp_Zojgnva5qV6\",\"spriteCssClass\":\"sx_351283\"},\"\\\\/images\\\\/tip_jar\\\\/choice2.png\":{\"sprited\":true,\"spriteMapCssClass\":\"sp_Zojgnva5qV6\",\"spriteCssClass\":\"sx_88fc4f\"},\"\\\\/images\\\\/tip_jar\\\\/choice3.png\":{\"sprited\":true,\"spriteMapCssClass\":\"sp_Zojgnva5qV6\",\"spriteCssClass\":\"sx_e0e085\"},\"\\\\/images\\\\/tip_jar\\\\/choiceselected1.png\":{\"sprited\":true,\"spriteMapCssClass\":\"sp_Zojgnva5qV6\",\"spriteCssClass\":\"sx_086c30\"},\"\\\\/images\\\\/tip_jar\\\\/choiceselected2.png\":{\"sprited\":true,\"spriteMapCssClass\":\"sp_Zojgnva5qV6\",\"spriteCssClass\":\"sx_49612f\"},\"\\\\/images\\\\/tip_jar\\\\/choiceselected3.png\":{\"sprited\":true,\"spriteMapCssClass\":\"sp_Zojgnva5qV6\",\"spriteCssClass\":\"sx_48fd00\"},\"\\\\/images\\\\/p2p\\\\/error-solid-red_s.png\":{\"sprited\":true,\"spriteMapCssClass\":\"sp_pfJ-S_-n6lk\",\"spriteCssClass\":\"sx_ba38bd\"},\"\\\\/images\\\\/p2p\\\\/lock-blue_s.png\":{\"sprited\":true,\"spriteMapCssClass\":\"sp_K7u36S6W8FC\",\"spriteCssClass\":\"sx_bb1ed1\"},\"\\\\/images\\\\/p2p\\\\/lock-grey_s.png\":{\"sprited\":true,\"spriteMapCssClass\":\"sp_K7u36S6W8FC\",\"spriteCssClass\":\"sx_28c8cc\"},\"\\\\/images\\\\/payments\\\\/icons\\\\/modularization\\\\/Amex-cvv.png\":{\"sprited\":true,\"spriteMapCssClass\":\"sp_K7u36S6W8FC\",\"spriteCssClass\":\"sx_c13d0e\"},\"\\\\/images\\\\/payments\\\\/icons\\\\/modularization\\\\/CC-CVV.png\":{\"sprited\":true,\"spriteMapCssClass\":\"sp_K7u36S6W8FC\",\"spriteCssClass\":\"sx_7f9923\"},\"\\\\/images\\\\/p2p\\\\/events-blue_s.png\":{\"sprited\":true,\"spriteMapCssClass\":\"sp_K7u36S6W8FC\",\"spriteCssClass\":\"sx_0d6be3\"},\"\\\\/images\\\\/p2p\\\\/events-grey_s.png\":{\"sprited\":true,\"spriteMapCssClass\":\"sp_K7u36S6W8FC\",\"spriteCssClass\":\"sx_71a42b\"},\"\\\\/images\\\\/p2p\\\\/card-blue_s.png\":{\"sprited\":true,\"spriteMapCssClass\":\"sp_K7u36S6W8FC\",\"spriteCssClass\":\"sx_53574e\"},\"\\\\/images\\\\/p2p\\\\/card-grey_s.png\":{\"sprited\":true,\"spriteMapCssClass\":\"sp_K7u36S6W8FC\",\"spriteCssClass\":\"sx_621898\"},\"\\\\/images\\\\/p2p\\\\/place-blue_s.png\":{\"sprited\":true,\"spriteMapCssClass\":\"sp_K7u36S6W8FC\",\"spriteCssClass\":\"sx_3dacee\"},\"\\\\/images\\\\/p2p\\\\/place-grey_s.png\":{\"sprited\":true,\"spriteMapCssClass\":\"sp_K7u36S6W8FC\",\"spriteCssClass\":\"sx_924ddc\"},\"\\\\/images\\\\/assets_DO_NOT_HARDCODE\\\\/fb_glyphs\\\\/chevron-down_16_fig-light-20.png\":{\"sprited\":true,\"spriteMapCssClass\":\"sp_OMigO4iG9Hs\",\"spriteCssClass\":\"sx_7e583c\"},\"\\\\/images\\\\/tip_jar\\\\/tip1.png\":{\"sprited\":true,\"spriteMapCssClass\":\"sp_OMigO4iG9Hs\",\"spriteCssClass\":\"sx_d2fd06\"},\"\\\\/images\\\\/tip_jar\\\\/tip2.png\":{\"sprited\":true,\"spriteMapCssClass\":\"sp_OMigO4iG9Hs\",\"spriteCssClass\":\"sx_3b59c6\"},\"\\\\/images\\\\/tip_jar\\\\/tip3.png\":{\"sprited\":true,\"spriteMapCssClass\":\"sp_OMigO4iG9Hs\",\"spriteCssClass\":\"sx_4de657\"},\"\\\\/images\\\\/assets_DO_NOT_HARDCODE\\\\/fb_glyphs\\\\/pushpin_12_fig-blue.png\":{\"sprited\":true,\"spriteMapCssClass\":\"sp_OMigO4iG9Hs\",\"spriteCssClass\":\"sx_4a3049\"},\"arrow-right:white:small\":{\"sprited\":true,\"spriteMapCssClass\":\"sp_6zNiJImyNs1\",\"spriteCssClass\":\"sx_dc12ec\"},\"images\\\\/emoji_picker\\\\/categories\\\\/activities.png\":{\"sprited\":true,\"spriteMapCssClass\":\"sp_OUw8MN4qxjw\",\"spriteCssClass\":\"sx_40e0eb\"},\"images\\\\/emoji_picker\\\\/categories\\\\/activities_active.png\":{\"sprited\":true,\"spriteMapCssClass\":\"sp_OUw8MN4qxjw\",\"spriteCssClass\":\"sx_dfc2c0\"},\"images\\\\/emoji_picker\\\\/categories\\\\/animals.png\":{\"sprited\":true,\"spriteMapCssClass\":\"sp_OUw8MN4qxjw\",\"spriteCssClass\":\"sx_5b6fd2\"},\"images\\\\/emoji_picker\\\\/categories\\\\/animals_active.png\":{\"sprited\":true,\"spriteMapCssClass\":\"sp_OUw8MN4qxjw\",\"spriteCssClass\":\"sx_063e98\"},\"images\\\\/emoji_picker\\\\/categories\\\\/flags.png\":{\"sprited\":true,\"spriteMapCssClass\":\"sp_OUw8MN4qxjw\",\"spriteCssClass\":\"sx_d16be9\"},\"images\\\\/emoji_picker\\\\/categories\\\\/flags_active.png\":{\"sprited\":true,\"spriteMapCssClass\":\"sp_OUw8MN4qxjw\",\"spriteCssClass\":\"sx_94ab1d\"},\"images\\\\/emoji_picker\\\\/categories\\\\/food.png\":{\"sprited\":true,\"spriteMapCssClass\":\"sp_OUw8MN4qxjw\",\"spriteCssClass\":\"sx_30d9fc\"},\"images\\\\/emoji_picker\\\\/categories\\\\/food_active.png\":{\"sprited\":true,\"spriteMapCssClass\":\"sp_OUw8MN4qxjw\",\"spriteCssClass\":\"sx_7661fc\"},\"images\\\\/emoji_picker\\\\/categories\\\\/objects.png\":{\"sprited\":true,\"spriteMapCssClass\":\"sp_OUw8MN4qxjw\",\"spriteCssClass\":\"sx_ab2448\"},\"images\\\\/emoji_picker\\\\/categories\\\\/objects_active.png\":{\"sprited\":true,\"spriteMapCssClass\":\"sp_OUw8MN4qxjw\",\"spriteCssClass\":\"sx_d0a963\"},\"images\\\\/emoji_picker\\\\/categories\\\\/smileys.png\":{\"sprited\":true,\"spriteMapCssClass\":\"sp_OUw8MN4qxjw\",\"spriteCssClass\":\"sx_7eff27\"},\"images\\\\/emoji_picker\\\\/categories\\\\/smileys_active.png\":{\"sprited\":true,\"spriteMapCssClass\":\"sp_OUw8MN4qxjw\",\"spriteCssClass\":\"sx_aaf57f\"},\"images\\\\/emoji_picker\\\\/categories\\\\/symbols.png\":{\"sprited\":true,\"spriteMapCssClass\":\"sp_OUw8MN4qxjw\",\"spriteCssClass\":\"sx_dc7733\"},\"images\\\\/emoji_picker\\\\/categories\\\\/symbols_active.png\":{\"sprited\":true,\"spriteMapCssClass\":\"sp_OUw8MN4qxjw\",\"spriteCssClass\":\"sx_6ebf31\"},\"images\\\\/emoji_picker\\\\/categories\\\\/travel.png\":{\"sprited\":true,\"spriteMapCssClass\":\"sp_OUw8MN4qxjw\",\"spriteCssClass\":\"sx_8dacf0\"},\"images\\\\/emoji_picker\\\\/categories\\\\/travel_active.png\":{\"sprited\":true,\"spriteMapCssClass\":\"sp_OUw8MN4qxjw\",\"spriteCssClass\":\"sx_9c6fe2\"}});});</script>\\n<script>requireLazy([\"InitialJSLoader\"], function(InitialJSLoader) {InitialJSLoader.loadOnDOMContentReady([\"pCy9R\"]);});</script>\\n<script>require(\"TimeSlice\").guard(function() {require(\"ServerJSDefine\").handleDefines([[\"DeveloperCommentsPluginOrdering\",[],{\"SOCIAL\":\"social\",\"REVERSE_CHRONOLOGICAL\":\"reverse_time\",\"CHRONOLOGICAL\":\"time\",\"__labels\":{\"time\":\"Oldest\",\"reverse_time\":\"Newest\",\"social\":\"Top\"},\"__types\":[\"social\",\"reverse_time\",\"time\"]},748],[\"AdsEditorConfig\",[],{\"empl_show_all_pages\":false},1288],[\"UrlMapConfig\",[],{\"www\":\"www.facebook.com\",\"m\":\"m.facebook.com\",\"connect\":\"connect.facebook.net\",\"business\":\"business.facebook.com\",\"api_https\":\"api.facebook.com\",\"api_read_https\":\"api-read.facebook.com\",\"graph_https\":\"graph.facebook.com\",\"an_https\":\"an.facebook.com\",\"fbcdn_http\":\"static.xx.fbcdn.net\",\"fbcdn_https\":\"static.xx.fbcdn.net\",\"cdn_http\":\"staticxx.facebook.com\",\"cdn_https\":\"staticxx.facebook.com\"},73],[\"BIGAdoptionConfig\",[],{\"sui_button_adoption\":false,\"sui_checkbox_adoption\":false,\"sui_notice_adoption\":false,\"sui_radiolist_adoption\":false,\"sui_spinner_adoption\":false,\"sui_text_adoption\":false},1853],[\"LocaleInitialData\",[],{\"locale\":\"en_US\",\"language\":\"English (US)\"},273],[\"PlatformVersions\",[],{\"LATEST\":\"v2.8\",\"versions\":{\"UNVERSIONED\":\"unversioned\",\"V1_0\":\"v1.0\",\"V2_0\":\"v2.0\",\"V2_1\":\"v2.1\",\"V2_2\":\"v2.2\",\"V2_3\":\"v2.3\",\"V2_4\":\"v2.4\",\"V2_5\":\"v2.5\",\"V2_6\":\"v2.6\",\"V2_7\":\"v2.7\",\"V2_8\":\"v2.8\"}},1254],[\"DeveloperCommentsModerationAction\",[],{\"APPROVE\":\"approve\",\"SET_PENDING\":\"set_pending\",\"DELETE\":\"delete\",\"REPORT_SPAM\":\"report_spam\",\"__labels\":{\"approve\":\"Approve\",\"set_pending\":\"Set Pending\",\"report_spam\":\"Report Spam\",\"delete\":\"Hide\"}},694],[\"DeveloperCommentsModerationType\",[],{\"PENDING\":\"pending\",\"APPROVED\":\"approved\",\"DELETED\":\"deleted\",\"REPORTED_SPAM\":\"reported_spam\",\"MY_QUEUE\":\"my_queue\",\"__labels\":{\"pending\":\"Review\",\"approved\":\"Public\",\"deleted\":\"Hidden\",\"reported_spam\":\"Flagged\",\"my_queue\":\"My Queue\"},\"__types\":[\"pending\",\"approved\",\"deleted\",\"reported_spam\",\"my_queue\"]},666],[\"GraphAPIConfig\",[],{\"validateID\":true,\"ads_general_2_7_migration\":true,\"ads_general_2_8_migration\":false,\"addraft_api_use_prefixes\":true},851],[\"AdsUnifiedLoggingConfig\",[],{\"sessionId\":\"515d50e82e562af1\",\"stack_traces\":{\"x\":1}},1656],[\"ApiClientConfig\",[],{\"FlashRequest\":{\"swfUrl\":\"https:\\\\/\\\\/connect.facebook.net\\\\/rsrc.php\\\\/v2\\\\/yd\\\\/r\\\\/mxzow1Sdmxr.swf\"}},5],[\"CommentsPluginConfig\",[],{\"commentEmbed\":true,\"commentPrivacy\":false},982]]);require(\"InitialJSLoader\").handleServerJS({\"instances\":[[\"__inst_6c52651a_0_0\",[\"DocumentCompositeMentionsSource\",\"__inst_c9aaad75_0_0\",\"__inst_c9aaad75_0_1\"],[[{\"__m\":\"__inst_c9aaad75_0_0\"},{\"__m\":\"__inst_c9aaad75_0_1\"}]],1],[\"__inst_c9aaad75_0_0\",[\"DocumentMentionsSource\",\"AtSignMentionsStrategy\",\"__inst_8f084707_0_0\"],[{\"__m\":\"AtSignMentionsStrategy\"},{\"__m\":\"__inst_8f084707_0_0\"}],1],[\"__inst_c9aaad75_0_1\",[\"DocumentMentionsSource\",\"CapitalizedNameMentionsStrategy\",\"__inst_5696a7f4_0_0\"],[{\"__m\":\"CapitalizedNameMentionsStrategy\"},{\"__m\":\"__inst_5696a7f4_0_0\"}],1],[\"__inst_8f084707_0_0\",[\"WebAsyncSearchSource\"],[{\"bootstrapRequests\":[{\"uri\":\"\\\\/ajax\\\\/typeahead\\\\/first_degree.php\",\"data\":{\"viewer\":0,\"filter\":[\"user\",\"page\",\"app\",\"group\",\"event\"],\"options\":[\"friends_only\",\"nm\"],\"token\":\"v7\",\"context\":\"mentions\",\"rsp\":\"mentions\"}}],\"queryRequests\":[{\"uri\":\"\\\\/ajax\\\\/typeahead\\\\/search.php\",\"data\":{\"viewer\":0,\"filter\":[\"page\",\"app\",\"event\",\"user\"],\"max_result\":10,\"context\":\"topics_limited_autosuggest\",\"rsp\":\"mentions\"}}],\"getAllForEmptyQuery\":null,\"auxiliaryFields\":{\"verified\":\"is_verified\"}}],1],[\"__inst_5696a7f4_0_0\",[\"FilteredSearchSource\",\"filterCapitalizedNames\",\"__inst_8f084707_0_1\"],[{\"__m\":\"filterCapitalizedNames\"},{\"__m\":\"__inst_8f084707_0_1\"}],1],[\"__inst_8f084707_0_1\",[\"WebAsyncSearchSource\"],[{\"bootstrapRequests\":[{\"uri\":\"\\\\/ajax\\\\/typeahead\\\\/first_degree.php\",\"data\":{\"viewer\":0,\"token\":\"v7\",\"filter\":[\"user\"],\"options\":[\"friends_only\"]}}],\"queryRequests\":null,\"getAllForEmptyQuery\":null,\"auxiliaryFields\":null}],1]],\"elements\":[[\"__elem_a588f507_0_0\",\"u_0_0\",1]],\"require\":[[\"UnverifiedXD\",\"setChannelUrl\",[],[\"https:\\\\/\\\\/staticxx.facebook.com\\\\/connect\\\\/xd_arbiter\\\\/r\\\\/YGoENyUbMBG.js?version=42#cb=f39d273c3c&domain=www.blueapron.com&origin=https\\\\u00253A\\\\u00252F\\\\u00252Fwww.blueapron.com\\\\u00252Ffa944c34c&relation=parent.parent\"],[]],[\"PluginXDReady\"],[\"PluginReturn\",\"syncPlugins\",[],[],[]],[\"WebPixelRatio\",\"startDetecting\",[],[1],[]],[\"ReactRenderer\",\"constructAndRenderComponent\",[\"CommentsPlugin.react\",\"__inst_6c52651a_0_0\",\"__elem_a588f507_0_0\"],[{\"__m\":\"CommentsPlugin.react\"},{\"comments\":{\"commentIDs\":[\"1007315549378150_1048864968556541\",\"1007315549378150_1047313078711730\",\"1007315549378150_1059005414209163\",\"1007315549378150_1045047862271585\",\"1007315549378150_1048686565241048\"],\"idMap\":{\"1262654170\":{\"bio\":{\"preferredTypes\":[[\"position\",\"department\",\"employer\"],[\"school\"],[\"network\"],[\"city\"]],\"stats\":{\"city\":{\"name\":\"Memphis, Tennessee\",\"url\":\"https:\\\\/\\\\/www.facebook.com\\\\/pages\\\\/Memphis-Tennessee\\\\/103123839728353\",\"id\":103123839728353}}},\"id\":\"1262654170\",\"name\":\"Lynette Lott Clemmons\",\"thumbSrc\":\"https:\\\\/\\\\/scontent-lga3-1.xx.fbcdn.net\\\\/v\\\\/t1.0-1\\\\/p48x48\\\\/14993489_10208201987588378_4644096684238556859_n.jpg?oh=1673d425878cfc63b1a85210046532a3&oe=591FCC21\",\"uri\":\"https:\\\\/\\\\/www.facebook.com\\\\/lynette.clemmons\",\"isVerified\":false,\"type\":\"user\"},\"1007315549378150\":{\"id\":\"1007315549378150\",\"name\":\"\",\"uri\":\"http:\\\\/\\\\/www.blueapron.com\\\\/recipes\\\\/paprika-spiced-catfish-with-cabbage-slaw-roasted-purple-potato-wedges\",\"type\":\"ogobject\"},\"696893055\":{\"bio\":{\"preferredTypes\":[[\"position\",\"department\",\"employer\"],[\"school\"],[\"network\"],[\"city\"]],\"stats\":{\"school\":{\"name\":\"University of North Carolina at Charlotte\",\"url\":\"https:\\\\/\\\\/www.facebook.com\\\\/pages\\\\/University-of-North-Carolina-at-Charlotte\\\\/107938585892881\",\"id\":107938585892881},\"city\":{\"name\":\"Charlotte, North Carolina\",\"url\":\"https:\\\\/\\\\/www.facebook.com\\\\/pages\\\\/Charlotte-North-Carolina\\\\/105715936129053\",\"id\":105715936129053}}},\"id\":\"696893055\",\"name\":\"Jason Stokes\",\"thumbSrc\":\"https:\\\\/\\\\/scontent-lga3-1.xx.fbcdn.net\\\\/v\\\\/t1.0-1\\\\/p48x48\\\\/15965098_10155593070078056_1119550243873506506_n.jpg?oh=0bf333048672cfea5a3f16a71b108011&oe=592399C1\",\"uri\":\"https:\\\\/\\\\/www.facebook.com\\\\/jabo2099\",\"isVerified\":false,\"type\":\"user\"},\"100001461020924\":{\"bio\":{\"preferredTypes\":[[\"position\",\"department\",\"employer\"],[\"school\"],[\"network\"],[\"city\"]],\"stats\":{\"employer\":{\"name\":\"Hellewell Designs\",\"url\":\"https:\\\\/\\\\/www.facebook.com\\\\/pages\\\\/Hellewell-Designs\\\\/1322741114403334\",\"id\":1322741114403334,\"position\":{\"name\":\"Artist\",\"url\":\"https:\\\\/\\\\/www.facebook.com\\\\/pages\\\\/Artist\\\\/105799462785959\",\"id\":105799462785959}},\"school\":{\"name\":\"Oregon State University\",\"url\":\"https:\\\\/\\\\/www.facebook.com\\\\/osubeavers\\\\/\",\"id\":38992348286}}},\"id\":\"100001461020924\",\"name\":\"Laurie Hellewell\",\"thumbSrc\":\"https:\\\\/\\\\/scontent-lga3-1.xx.fbcdn.net\\\\/v\\\\/t1.0-1\\\\/p48x48\\\\/1377306_703590359699658_5362396674024824099_n.jpg?oh=ea8e64d0b54764ff9e573266b0f91662&oe=591AC201\",\"uri\":\"https:\\\\/\\\\/www.facebook.com\\\\/laurie.hellewell\",\"isVerified\":false,\"type\":\"user\"},\"1137319076\":{\"bio\":{\"preferredTypes\":[[\"position\",\"department\",\"employer\"],[\"school\"],[\"network\"],[\"city\"]],\"stats\":{\"employer\":{\"name\":\"Albert Einstein Healthcare Network\",\"url\":\"https:\\\\/\\\\/www.facebook.com\\\\/pages\\\\/Albert-Einstein-Healthcare-Network\\\\/116152875079019\",\"id\":116152875079019,\"position\":{\"name\":\"Director of Nursing Operations\",\"url\":\"https:\\\\/\\\\/www.facebook.com\\\\/pages\\\\/Director-of-Nursing-Operations\\\\/138837399481241\",\"id\":138837399481241}},\"school\":{\"name\":\"DeSales University\",\"url\":\"https:\\\\/\\\\/www.facebook.com\\\\/pages\\\\/DeSales-University\\\\/110121245673022\",\"id\":110121245673022},\"city\":{\"name\":\"Quakertown, Pennsylvania\",\"url\":\"https:\\\\/\\\\/www.facebook.com\\\\/pages\\\\/Quakertown-Pennsylvania\\\\/112426668773867\",\"id\":112426668773867}}},\"id\":\"1137319076\",\"name\":\"Marilyn Moore Pollock\",\"thumbSrc\":\"https:\\\\/\\\\/scontent-lga3-1.xx.fbcdn.net\\\\/v\\\\/t1.0-1\\\\/p48x48\\\\/12923345_10205866844727088_7512569886919918168_n.jpg?oh=b74335fc52e403baca880ff11146f7f2&oe=5915B175\",\"uri\":\"https:\\\\/\\\\/www.facebook.com\\\\/marilyn.moorepollock\",\"isVerified\":false,\"type\":\"user\"},\"1007315549378150_1045047862271585\":{\"id\":\"1007315549378150_1045047862271585\",\"authorID\":\"1262654170\",\"body\":{\"text\":\"What are the ingredients for the mustard dressing?\"},\"ranges\":[],\"timestamp\":{\"time\":1483148758,\"text\":\"Dec 30, 2016 5:45pm\"},\"targetID\":\"1007315549378150\",\"ogURL\":\"http:\\\\/\\\\/www.blueapron.com\\\\/recipes\\\\/paprika-spiced-catfish-with-cabbage-slaw-roasted-purple-potato-wedges\",\"likeCount\":3,\"hasLiked\":false,\"canLike\":false,\"canEdit\":false,\"hidden\":false,\"highlightedWords\":[],\"reportURI\":\"\\\\/report\\\\/dispatch\\\\/?content_type=98&cid=1045047862271585&rid=1262654170&comment_id=1045047862271585\",\"spamCount\":0,\"canEmbed\":true,\"type\":\"comment\"},\"1007315549378150_1047313078711730\":{\"id\":\"1007315549378150_1047313078711730\",\"authorID\":\"1137319076\",\"body\":{\"text\":\"My mustard dressing was missing. I mixed together mayonnaise and poupon mustard\"},\"ranges\":[],\"timestamp\":{\"time\":1483391515,\"text\":\"Jan 2, 2017 1:11pm\"},\"targetID\":\"1007315549378150\",\"ogURL\":\"http:\\\\/\\\\/www.blueapron.com\\\\/recipes\\\\/paprika-spiced-catfish-with-cabbage-slaw-roasted-purple-potato-wedges\",\"likeCount\":0,\"hasLiked\":false,\"canLike\":false,\"canEdit\":false,\"hidden\":false,\"highlightedWords\":[],\"reportURI\":\"\\\\/report\\\\/dispatch\\\\/?content_type=98&cid=1047313078711730&rid=1137319076&comment_id=1047313078711730\",\"spamCount\":0,\"canEmbed\":true,\"type\":\"comment\"},\"1007315549378150_1059005414209163\":{\"id\":\"1007315549378150_1059005414209163\",\"authorID\":\"100001461020924\",\"body\":{\"text\":\"My favorite part of the meal was the slaw. I loved that it was spicy! Wish I knew what ingredients went into the dressing?\"},\"ranges\":[],\"timestamp\":{\"time\":1484710591,\"text\":\"Jan 17, 2017 7:36pm\"},\"targetID\":\"1007315549378150\",\"ogURL\":\"http:\\\\/\\\\/www.blueapron.com\\\\/recipes\\\\/paprika-spiced-catfish-with-cabbage-slaw-roasted-purple-potato-wedges\",\"likeCount\":0,\"hasLiked\":false,\"canLike\":false,\"canEdit\":false,\"hidden\":false,\"highlightedWords\":[],\"reportURI\":\"\\\\/report\\\\/dispatch\\\\/?content_type=98&cid=1059005414209163&rid=100001461020924&comment_id=1059005414209163\",\"spamCount\":0,\"canEmbed\":true,\"type\":\"comment\"},\"1007315549378150_1048864968556541\":{\"id\":\"1007315549378150_1048864968556541\",\"authorID\":\"696893055\",\"body\":{\"text\":\"Not sure what was in the mustard sauce but it was incredibly overpowering. We ended up tossing the slaw. The catfish was good.\"},\"ranges\":[],\"timestamp\":{\"time\":1483572049,\"text\":\"Jan 4, 2017 3:20pm\"},\"targetID\":\"1007315549378150\",\"ogURL\":\"http:\\\\/\\\\/www.blueapron.com\\\\/recipes\\\\/paprika-spiced-catfish-with-cabbage-slaw-roasted-purple-potato-wedges\",\"likeCount\":1,\"hasLiked\":false,\"canLike\":false,\"canEdit\":false,\"hidden\":false,\"highlightedWords\":[],\"reportURI\":\"\\\\/report\\\\/dispatch\\\\/?content_type=98&cid=1048864968556541&rid=696893055&comment_id=1048864968556541\",\"spamCount\":0,\"canEmbed\":true,\"type\":\"comment\"},\"100011792412883\":{\"bio\":{\"preferredTypes\":[[\"position\",\"department\",\"employer\"],[\"school\"],[\"network\"],[\"city\"]],\"stats\":{\"employer\":{\"name\":\"Mortgage Financial Services\",\"url\":\"https:\\\\/\\\\/www.facebook.com\\\\/pages\\\\/Mortgage-Financial-Services\\\\/830598547022573\",\"id\":830598547022573,\"position\":{\"name\":\"Loan Specialist\",\"url\":\"https:\\\\/\\\\/www.facebook.com\\\\/pages\\\\/Loan-Specialist\\\\/793611870687364\",\"id\":793611870687364}},\"city\":{\"name\":\"Boerne, Texas\",\"url\":\"https:\\\\/\\\\/www.facebook.com\\\\/pages\\\\/Boerne-Texas\\\\/109475735738169\",\"id\":109475735738169}}},\"id\":\"100011792412883\",\"name\":\"Lindsey Bozeman Biggs\",\"thumbSrc\":\"https:\\\\/\\\\/scontent-lga3-1.xx.fbcdn.net\\\\/v\\\\/t1.0-1\\\\/p48x48\\\\/12991017_122274628175617_6389728568345690341_n.jpg?oh=bf32f2998199ec30a4c09caba18d1958&oe=591F28D5\",\"uri\":\"https:\\\\/\\\\/www.facebook.com\\\\/lindsey.bozemanbiggs\",\"isVerified\":false,\"type\":\"user\"},\"1007315549378150_1048686565241048\":{\"id\":\"1007315549378150_1048686565241048\",\"authorID\":\"100011792412883\",\"body\":{\"text\":\"for the second time my scallions were missing, has anyone ever tried substituting a white onion or a shallot or anything else I might have on hand?\"},\"ranges\":[],\"timestamp\":{\"time\":1483552209,\"text\":\"Jan 4, 2017 9:50am\"},\"targetID\":\"1007315549378150\",\"ogURL\":\"http:\\\\/\\\\/www.blueapron.com\\\\/recipes\\\\/paprika-spiced-catfish-with-cabbage-slaw-roasted-purple-potato-wedges\",\"likeCount\":0,\"hasLiked\":false,\"canLike\":false,\"canEdit\":false,\"hidden\":false,\"highlightedWords\":[],\"reportURI\":\"\\\\/report\\\\/dispatch\\\\/?content_type=98&cid=1048686565241048&rid=100011792412883&comment_id=1048686565241048\",\"spamCount\":0,\"canEmbed\":true,\"type\":\"comment\"}}},\"meta\":{\"targetFBID\":\"1007315549378150\",\"href\":\"http:\\\\/\\\\/www.blueapron.com\\\\/recipes\\\\/paprika-spiced-catfish-with-cabbage-slaw-roasted-purple-potato-wedges\",\"userID\":\"0\",\"actorsOptIn\":[true],\"actors\":[{\"id\":\"0\",\"thumbSrc\":\"https:\\\\/\\\\/static.xx.fbcdn.net\\\\/rsrc.php\\\\/v1\\\\/yi\\\\/r\\\\/odA9sNLrE86.jpg\",\"uri\":\"\",\"type\":\"user\"}],\"totalCount\":5,\"afterCursor\":\"1\",\"appID\":\"268433919926057\",\"iframeReferer\":\"https:\\\\/\\\\/www.facebook.com\\\\/plugins\\\\/comments.php?api_key=268433919926057&channel_url=https\\\\u00253A\\\\u00252F\\\\u00252Fstaticxx.facebook.com\\\\u00252Fconnect\\\\u00252Fxd_arbiter\\\\u00252Fr\\\\u00252FYGoENyUbMBG.js\\\\u00253Fversion\\\\u00253D42\\\\u002523cb\\\\u00253Df39d273c3c\\\\u002526domain\\\\u00253Dwww.blueapron.com\\\\u002526origin\\\\u00253Dhttps\\\\u0025253A\\\\u0025252F\\\\u0025252Fwww.blueapron.com\\\\u0025252Ffa944c34c\\\\u002526relation\\\\u00253Dparent.parent&href=http\\\\u00253A\\\\u00252F\\\\u00252Fwww.blueapron.com\\\\u00252Frecipes\\\\u00252Fpaprika-spiced-catfish-with-cabbage-slaw-roasted-purple-potato-wedges&locale=en_US&numposts=5&sdk=joey&version=v2.7&width=100\\\\u002525\",\"isMobile\":false,\"isModerator\":false,\"minFeedLength\":5,\"maxCommentLength\":5000,\"enablePhoto\":false,\"enableSticker\":false,\"threadClosed\":false,\"shouldSwitchAccount\":false,\"fromModTool\":false,\"privacyOptionsList\":[],\"composerSearchSource\":{\"__m\":\"__inst_6c52651a_0_0\"},\"channelURL\":\"https:\\\\/\\\\/staticxx.facebook.com\\\\/connect\\\\/xd_arbiter\\\\/r\\\\/YGoENyUbMBG.js?version=42#cb=f39d273c3c&domain=www.blueapron.com&origin=https\\\\u00253A\\\\u00252F\\\\u00252Fwww.blueapron.com\\\\u00252Ffa944c34c&relation=parent.parent\"},\"initialOrdering\":\"social\",\"rankingAllowed\":true},{\"__m\":\"__elem_a588f507_0_0\"}],[]],[\"NavigationMetrics\",\"setPage\",[],[{\"page\":\"\\\\/plugins\\\\/feedback.php\",\"page_type\":\"widget\",\"page_uri\":\"https:\\\\/\\\\/www.facebook.com\\\\/plugins\\\\/feedback.php?api_key=268433919926057&channel_url=https\\\\u00253A\\\\u00252F\\\\u00252Fstaticxx.facebook.com\\\\u00252Fconnect\\\\u00252Fxd_arbiter\\\\u00252Fr\\\\u00252FYGoENyUbMBG.js\\\\u00253Fversion\\\\u00253D42\\\\u002523cb\\\\u00253Df39d273c3c\\\\u002526domain\\\\u00253Dwww.blueapron.com\\\\u002526origin\\\\u00253Dhttps\\\\u0025253A\\\\u0025252F\\\\u0025252Fwww.blueapron.com\\\\u0025252Ffa944c34c\\\\u002526relation\\\\u00253Dparent.parent&href=http\\\\u00253A\\\\u00252F\\\\u00252Fwww.blueapron.com\\\\u00252Frecipes\\\\u00252Fpaprika-spiced-catfish-with-cabbage-slaw-roasted-purple-potato-wedges&locale=en_US&numposts=5&sdk=joey&version=v2.7&width=100\\\\u002525\",\"serverLID\":\"6378093432290487819\"}],[]]]},\"i0\");}, \"ServerJS define\", {\"root\":true})();</script></body></html>'"
      ]
     },
     "execution_count": 313,
     "metadata": {},
     "output_type": "execute_result"
    }
   ],
   "source": [
    "#commentlist = commentlist3\n",
    "#print len(commentlist4)\n",
    "print len(commentlist3)\n",
    "commentlist[1]"
   ]
  },
  {
   "cell_type": "code",
   "execution_count": 163,
   "metadata": {
    "collapsed": false
   },
   "outputs": [
    {
     "data": {
      "text/plain": [
       "u'https://www.blueapron.com/recipes/sweet-potato-quesadillas-with-green-chiles-arugula-avocado-salad'"
      ]
     },
     "execution_count": 163,
     "metadata": {},
     "output_type": "execute_result"
    }
   ],
   "source": [
    "myrecp2[1]"
   ]
  },
  {
   "cell_type": "code",
   "execution_count": 66,
   "metadata": {
    "collapsed": false
   },
   "outputs": [
    {
     "name": "stdout",
     "output_type": "stream",
     "text": [
      "\n",
      "35-45mins\n",
      "\n",
      "550\n"
     ]
    }
   ],
   "source": [
    "text3 = soup2.find(class_=\"nutrition-information row\")\n",
    "\n",
    "text4 = text3.find(class_=\"col-xs-4\")\n",
    "text7 = text3.find(class_=\"col-xs-5\")\n",
    "text5 = text4.find('span')\n",
    "text6 = text7.find(itemprop=\"calories\")\n",
    "#text6 = text7.find(class_=\"data-calories\")\n",
    "\n",
    "\n",
    "print text4.text.split('Cook Time')[1]\n",
    "print text6.text"
   ]
  },
  {
   "cell_type": "code",
   "execution_count": 199,
   "metadata": {
    "collapsed": false
   },
   "outputs": [
    {
     "name": "stdout",
     "output_type": "stream",
     "text": [
      "done\n"
     ]
    }
   ],
   "source": [
    "#rerun with recipes that were not pulled\n",
    "recpPlusIngredient3 = []\n",
    "notfoundlist2 = []\n",
    "for i in range(0, len(newrecpe)):\n",
    "    soup2 = BeautifulSoup(newrecpe[i], \"lxml\")\n",
    "    ingredients = []\n",
    "    for o in soup2.findAll('ul', class_='ingredients-list'):\n",
    "        #for k in o.findAll('div', class_='non-story'): #class_='amount' ):\n",
    "             #for l in k.findAll('span', class_='amount'):\n",
    "            ingredients.append(str(o.text.encode('utf-8')).replace('\\n\\n\\n\\n\\n',',')) #.replace('\\n','').replace('\\xc2\\xbe','.75').replace(\"'\",''))\n",
    "            #ingredients = ingredients[0].split(',')\n",
    "            #print(str(o.text.encode('utf-8')))\n",
    "            #print('\\n')\n",
    "            #print ingredients\n",
    "    recpPlusIngredient3.append([newrecpe[i], ingredients]) #, cooktime, calories])\n",
    "\n",
    "    #recpPlusIngredient3.append([newrecp[i], ingredients]) #, cooktime, calories])\n",
    "print \"done\"    "
   ]
  },
  {
   "cell_type": "markdown",
   "metadata": {},
   "source": [
    "# Webscrape recipes not fully pulled first time around"
   ]
  },
  {
   "cell_type": "code",
   "execution_count": null,
   "metadata": {
    "collapsed": false
   },
   "outputs": [],
   "source": [
    "#recpPlusIngredient3 = []\n",
    "notfoundlist2 = []\n",
    "for i in range(891, len(myrecpld)):\n",
    "    soup2 = myrecpld[i]\n",
    "    #print soup2.prettify()\n",
    "    ingredients = []\n",
    "    print i\n",
    "    o = soup2.find('ul', class_='ingredients-list')\n",
    "    try:\n",
    "        for p in o.findAll(itemprop='ingredients'):\n",
    "            ingredients.append(p.text)\n",
    "    except AttributeError:\n",
    "        pass\n",
    "    try:\n",
    "        rcpnm = soup2.find('div', class_=\"fb-like\")\n",
    "        rcpm2 = str(rcpnm).split('data-href=')[1]\n",
    "        rcpm3 = rcpm2.split(' data-layout')[0]\n",
    "    except AttributeError or IndexError:\n",
    "        rcpnm = soup2.find('div', class_=\"fb-like fb_iframe_widget\")\n",
    "        rcpm2 = str(rcpnm).split('data-href=')[1]\n",
    "        rcpm3 = rcpm2.split(' data-layout')[0]\n",
    "   \n",
    "    #print rcpm3\n",
    "    recpPlusIngredient3.append([rcpm3, ingredients]) #, cooktime, calories])\n",
    "print \"done\""
   ]
  },
  {
   "cell_type": "code",
   "execution_count": 72,
   "metadata": {
    "collapsed": true
   },
   "outputs": [],
   "source": [
    "with open('recpPlusIngredient.pkl', 'w') as picklefile:\n",
    "    pickle.dump(recpPlusIngredient, picklefile)"
   ]
  },
  {
   "cell_type": "code",
   "execution_count": null,
   "metadata": {
    "collapsed": false
   },
   "outputs": [],
   "source": [
    "# to list\n",
    "myrecp2 = [ data[3] for data in myrecp.itertuples()]"
   ]
  },
  {
   "cell_type": "code",
   "execution_count": 69,
   "metadata": {
    "collapsed": false
   },
   "outputs": [
    {
     "name": "stdout",
     "output_type": "stream",
     "text": [
      "https://www.blueapron.com/recipes/spicy-korean-rice-cakes-with-yu-choy-soft-boiled-eggs\n"
     ]
    }
   ],
   "source": [
    "print myrecp2[0]"
   ]
  },
  {
   "cell_type": "code",
   "execution_count": null,
   "metadata": {
    "collapsed": false
   },
   "outputs": [],
   "source": [
    "recipeurl2[929]"
   ]
  },
  {
   "cell_type": "markdown",
   "metadata": {},
   "source": [
    "# First trial at pulling ingredients"
   ]
  },
  {
   "cell_type": "code",
   "execution_count": null,
   "metadata": {
    "collapsed": true
   },
   "outputs": [],
   "source": [
    "for i in range(0, len(myrecp))\n",
    "ingredients = []\n",
    "for o in soupblue3.findAll('ul', class_='ingredients-list'):\n",
    "    #for k in o.findAll('div', class_='non-story'): #class_='amount' ):\n",
    "         #for l in k.findAll('span', class_='amount'):\n",
    "        ingre.append(str(o.text.encode('utf-8')).replace('\\n\\n\\n\\n\\n',',').replace('\\n','').replace('\\xc2\\xbe','.75').replace(\"'\",''))\n",
    "        ingredients = ingre[0].split(',')\n",
    "        print(str(o.text.encode('utf-8')))\n",
    "        print('\\n')\n",
    "        print ingredients"
   ]
  },
  {
   "cell_type": "code",
   "execution_count": null,
   "metadata": {
    "collapsed": true
   },
   "outputs": [],
   "source": [
    "for i in range(0, len(myrecp))\n",
    "ingredients = []\n",
    "soupblue3.findAll('ul', class_='ingredients-list'):\n",
    "    #for k in o.findAll('div', class_='non-story'): #class_='amount' ):\n",
    "         #for l in k.findAll('span', class_='amount'):\n",
    "        ingre.append(str(o.text.encode('utf-8')).replace('\\n\\n\\n\\n\\n',',').replace('\\n','').replace('\\xc2\\xbe','.75').replace(\"'\",''))\n",
    "        ingredients = ingre[0].split(',')\n",
    "        print(str(o.text.encode('utf-8')))\n",
    "        print('\\n')\n",
    "        print ingredients"
   ]
  },
  {
   "cell_type": "code",
   "execution_count": null,
   "metadata": {
    "collapsed": false
   },
   "outputs": [],
   "source": [
    "len(ingredients)"
   ]
  },
  {
   "cell_type": "code",
   "execution_count": 154,
   "metadata": {
    "collapsed": false
   },
   "outputs": [],
   "source": [
    "\n",
    "soup5 = BeautifulSoup(commentlist[1], \"lxml\")\n"
   ]
  },
  {
   "cell_type": "markdown",
   "metadata": {},
   "source": [
    "# Set up Functions to pull all recipes and neccesary information"
   ]
  },
  {
   "cell_type": "code",
   "execution_count": 319,
   "metadata": {
    "collapsed": false
   },
   "outputs": [],
   "source": [
    "# Functions to process comments\n",
    "def get_name(sp):\n",
    "    c = sp.find('noscript')\n",
    "    try:    \n",
    "        p = c.text\n",
    "        gg = p.split('recipes')\n",
    "        f = gg[1].find('F') + 1\n",
    "        g = gg[1].find('&')\n",
    "        return gg[1][f:g]\n",
    "    except AttributeError:\n",
    "        return \"Not Found\"\n",
    "\n",
    "def numLikesPrcs(numLikes):  \n",
    "    if len(numLikes) == 7:\n",
    "        likes = numLikes[4]  # since it is a list the 4th and 6th elments of the list have the information that is neededdatepost = numLikes[6] # might need to check the lenght of this list to make sure its alwasy pulling the same information\n",
    "        datepost = numLikes[6]\n",
    "    elif len(numLikes) == 5:\n",
    "        datepost = numLikes[4]\n",
    "        likes = 0\n",
    "    else:\n",
    "        pass\n",
    "        \n",
    "    return likes, datepost\n",
    "    \n",
    "def createnumlike(x):\n",
    "    numLikes = []\n",
    "    for y in x.children:  \n",
    "        try:\n",
    "            numLikes.append(y.text)\n",
    "        except AttributeError:\n",
    "            pass\n",
    "\n",
    "    return numLikes\n",
    "\n",
    "def get_replies(sp):\n",
    "    replyList = []\n",
    "    totallikes = 0\n",
    "    for x in sp.findAll('div', class_=\"_3-8y clearfix\"):\n",
    "        \n",
    "        replNm = x.find(class_=\" UFICommentActorName\")\n",
    "        replAtrbt = x.find('div', class_=\"_4q1v\")\n",
    "        replPost = x.find('div', class_=\"_30o4\")\n",
    "        jorg = x.find(class_=\"_2vq9 fsm fwn fcg\")\n",
    "      \n",
    "        if replAtrbt == None :\n",
    "            replAtrbt = \"none\"\n",
    "        else: \n",
    "            replAtrbt = replAtrbt.text\n",
    "        likes, postdate = numLikesPrcs(createnumlike(jorg))\n",
    "            \n",
    "        replyList.append([replNm.text, replAtrbt, replPost.text, likes, postdate])\n",
    "        totallikes = totallikes + int(likes)\n",
    "    return replyList, len(replyList), (totallikes+len(replyList))\n",
    "\n",
    "def get_commentators(sp):\n",
    "    recpname = get_name(sp)\n",
    "    commttList = []\n",
    "    totallikes = 0\n",
    "    for x in sp.findAll('div', class_=\"_3-8y _5nz1 clearfix\"):\n",
    "        \n",
    "        cmttrNm = x.find(class_=\" UFICommentActorName\")\n",
    "        cmttrAtrbt = x.find('div', class_=\"_4q1v\")\n",
    "        cmttrPost = x.find('div', class_=\"_30o4\")\n",
    "        jorg = x.find(class_=\"_2vq9 fsm fwn fcg\")\n",
    "      \n",
    "        if cmttrAtrbt == None :\n",
    "            cmttrAtrbt = \"none\"\n",
    "        else: \n",
    "            cmttrAtrbt = cmttrAtrbt.text\n",
    "        likes, postdate = numLikesPrcs(createnumlike(jorg))\n",
    "        \n",
    "        replylist, numrply, numeng = get_replies(x)\n",
    "\n",
    "        commttList.append([recpname,cmttrNm.text, cmttrAtrbt, cmttrPost.text, likes, postdate, numrply, replylist])\n",
    "        totallikes = totallikes + int(likes) + numeng\n",
    "    return commttList, len(commttList), recpname, totallikes \n"
   ]
  },
  {
   "cell_type": "code",
   "execution_count": 321,
   "metadata": {
    "collapsed": false
   },
   "outputs": [
    {
     "name": "stdout",
     "output_type": "stream",
     "text": [
      "496\n"
     ]
    }
   ],
   "source": [
    "print len(commtrecplist3)"
   ]
  },
  {
   "cell_type": "code",
   "execution_count": 323,
   "metadata": {
    "collapsed": false
   },
   "outputs": [
    {
     "name": "stdout",
     "output_type": "stream",
     "text": [
      "926\n"
     ]
    }
   ],
   "source": [
    "commtrecplist3 = []\n",
    "for i in range(0, len(newcommentlist)):\n",
    "    soup1 =  BeautifulSoup(newcommentlist[i], \"lxml\")\n",
    "    comments, numcommts, recpname, numeng = get_commentators(soup1)\n",
    "    commtrecplist3.append([recpname, comments, numcommts, numeng])\n",
    "    #print i\n",
    "print len(commtrecplist3)"
   ]
  },
  {
   "cell_type": "code",
   "execution_count": 2,
   "metadata": {
    "collapsed": true
   },
   "outputs": [],
   "source": [
    "with open('reccomments.pkl', 'r') as picklefile:\n",
    "    commentlist3 = pickle.load(picklefile)"
   ]
  },
  {
   "cell_type": "code",
   "execution_count": 75,
   "metadata": {
    "collapsed": true
   },
   "outputs": [],
   "source": [
    "# create list of all items that had comments pulled\n",
    "pulledlist = [commtrecplist[i][0] for i in range(0, len(commtrecplist))]"
   ]
  },
  {
   "cell_type": "code",
   "execution_count": 78,
   "metadata": {
    "collapsed": false
   },
   "outputs": [
    {
     "data": {
      "text/plain": [
       "u'sweet-potato-quesadillas-with-green-chiles-arugula-avocado-salad'"
      ]
     },
     "execution_count": 78,
     "metadata": {},
     "output_type": "execute_result"
    }
   ],
   "source": [
    "#test pulling recipe name to comapre with pulled comment list\n",
    "recpPlusIngredient[1][0].split('recipes/')[1] for i in range(0, len(commtrecplist) for p in recpPlusIngredient)"
   ]
  },
  {
   "cell_type": "code",
   "execution_count": 97,
   "metadata": {
    "collapsed": false
   },
   "outputs": [],
   "source": [
    "#create list of recipes that have not had comments pulled\n",
    "notpulled =[recpPlusIngredient[i][0] for i in range(0, len(recpPlusIngredient)) if recpPlusIngredient[i][0].split('recipes/')[1] not in pulledlist] "
   ]
  },
  {
   "cell_type": "code",
   "execution_count": 98,
   "metadata": {
    "collapsed": false
   },
   "outputs": [
    {
     "data": {
      "text/plain": [
       "79"
      ]
     },
     "execution_count": 98,
     "metadata": {},
     "output_type": "execute_result"
    }
   ],
   "source": [
    "# number of recipes not pulled\n",
    "len(notpulled)"
   ]
  },
  {
   "cell_type": "code",
   "execution_count": 104,
   "metadata": {
    "collapsed": false
   },
   "outputs": [
    {
     "data": {
      "text/plain": [
       "u'https://www.blueapron.com/recipes/paprika-spiced-catfish-with-cabbage-slaw-roasted-purple-potato-wedges'"
      ]
     },
     "execution_count": 104,
     "metadata": {},
     "output_type": "execute_result"
    }
   ],
   "source": [
    "notpulled2 = [notpulled[i].replace(\"'\", '') for i in range(0, len(notpulled))]\n",
    "notpulled2[1]"
   ]
  },
  {
   "cell_type": "code",
   "execution_count": 129,
   "metadata": {
    "collapsed": false
   },
   "outputs": [
    {
     "name": "stdout",
     "output_type": "stream",
     "text": [
      "https://www.blueapron.com/recipes/fresh-mozzarella-basil-pizza-with-alcosa-cabbage-salad\n"
     ]
    }
   ],
   "source": [
    "# run the recipe pull a second time\n",
    "print notpulled[3]"
   ]
  },
  {
   "cell_type": "markdown",
   "metadata": {},
   "source": [
    "# Creates a list with comments, iframe, URL, Text and number of comments"
   ]
  },
  {
   "cell_type": "code",
   "execution_count": 144,
   "metadata": {
    "collapsed": false,
    "scrolled": true
   },
   "outputs": [
    {
     "name": "stdout",
     "output_type": "stream",
     "text": [
      "17 37 https://www.blueapron.com/recipes/basque-style-lamb-beef-piperade-with-tinkerbell-peppers-baby-leeks-garlic-rice\n",
      "18 40 https://www.blueapron.com/recipes/spicy-pepperonata-pasta-with-tinkerbell-peppers-cherry-tomatoes-pine-nuts\n",
      "19 158 https://www.blueapron.com/recipes/chicken-buttermilk-biscuit-sandwiches-with-shredded-collard-green-carrot-slaw\n",
      "20 22 https://www.blueapron.com/recipes/southwestern-cheeseburgers-with-guacamole-warm-corn-tomato-salad\n",
      "21 25 https://www.blueapron.com/recipes/spiced-pork-tacos-with-avocado-pickled-onion-elote-style-corn\n",
      "22 20 https://www.blueapron.com/recipes/vegetable-pad-thai-with-tinkerbell-peppers-peanuts-thai-basil\n",
      "23 60 https://www.blueapron.com/recipes/sweet-corn-tinkerbell-pepper-pizza-with-fontina-cheese-baby-kale\n",
      "24 37 https://www.blueapron.com/recipes/green-chili-chicken-roll-with-lime-jicama-fries\n",
      "25 10 https://www.blueapron.com/recipes/crispy-catfish-potato-salad-with-marinated-tomato-cucumber-onion\n",
      "26 3 https://www.blueapron.com/recipes/zucchini-mozzarella-pizza-paninis-with-tomato-sauce-romaine-cucumber-salad\n",
      "27 16 https://www.blueapron.com/recipes/cavatappi-pasta-arugula-pesto-with-eight-ball-squash-ricotta-salata\n",
      "28 15 https://www.blueapron.com/recipes/creamy-shrimp-fettuccine-with-sauteed-green-beans-spinach\n",
      "29 48 https://www.blueapron.com/recipes/black-garlic-shoyu-ramen-with-green-beans-shiitake-mushrooms\n",
      "30 53 https://www.blueapron.com/recipes/crispy-catfish-parsley-mashed-potatoes-with-spicy-cajun-slaw\n",
      "32 20 https://www.blueapron.com/recipes/za-atar-spiced-fennel-farro-salad-with-english-peas-pea-tips-pomegranate-molasses\n",
      "33 10 https://www.blueapron.com/recipes/crispy-shiitake-ginger-dumplings-with-roasted-bok-choy-sweet-soy-dipping-sauce\n",
      "34 83 https://www.blueapron.com/recipes/general-tso-s-chicken-with-sauteed-snow-peas-jasmine-rice\n",
      "35 17 https://www.blueapron.com/recipes/steak-sandwiches-goat-cheese-spread-with-mashed-purple-potatoes-asparagus\n",
      "36 9 https://www.blueapron.com/recipes/seared-chicken-spring-vegetable-hash-with-new-potatoes-asparagus-lemon-aioli\n",
      "37 79 https://www.blueapron.com/recipes/grains-of-paradise-crusted-steaks-with-mashed-plantain-collard-greens-ginger-peanuts\n",
      "38 18 https://www.blueapron.com/recipes/orange-glazed-chicken-wings-with-miso-sweet-potato-salad-ginger-bok-choy\n",
      "39 52 https://www.blueapron.com/recipes/spiced-pork-chops-mashed-potatoes-with-kale-english-peas-goat-cheese\n",
      "40 17 https://www.blueapron.com/recipes/english-pea-potato-samosas-with-spiced-cauliflower-cilantro-mint-chutney\n",
      "41 57 https://www.blueapron.com/recipes/orecchiette-pasta-roasted-chickpeas-with-kale-smoked-paprika\n",
      "42 17 https://www.blueapron.com/recipes/kimchi-barley-miso-ramen-with-soft-boiled-eggs-asian-pear\n",
      "43 31 https://www.blueapron.com/recipes/roasted-broccoli-fregola-sarda-salad-with-pecorino-cheese-tahini-dressing\n",
      "44 69 https://www.blueapron.com/recipes/hominy-poblano-pepper-pozole-with-avocado-crispy-tortilla-strips\n",
      "45 132 https://www.blueapron.com/recipes/spicy-orange-chicken-wings-with-shiitake-sesame-rice\n",
      "46 18 https://www.blueapron.com/recipes/delicata-squash-brussels-sprout-farro-salad-with-crispy-pepitas-cranberry-agrodolce\n",
      "47 21 https://www.blueapron.com/recipes/heirloom-carrot-toasted-farro-salad-with-labneh-cheese-pickled-dates\n",
      "48 59 https://www.blueapron.com/recipes/seared-salmon-salsa-verde-with-orange-spinach-farro-salad\n",
      "49 15 https://www.blueapron.com/recipes/butternut-squash-poblano-chili-with-toasted-pepitas-charred-lime\n",
      "50 8 https://www.blueapron.com/recipes/seared-chicken-roasted-acorn-squash-with-sauteed-kale-chestnut-pan-sauce\n",
      "51 6 https://www.blueapron.com/recipes/spinach-squash-pizza-with-caramelized-onion-honey-black-pepper-ricotta\n",
      "52 12 https://www.blueapron.com/recipes/poached-pear-crispy-goat-cheese-salad-with-escarole-walnuts\n",
      "53 29 https://www.blueapron.com/recipes/tortilla-soup-with-hominy-queso-fresco\n",
      "54 20 https://www.blueapron.com/recipes/crunchy-parmesan-chicken-with-roasted-broccoli-mashed-sweet-potatoes\n",
      "55 2 https://www.blueapron.com/recipes/butternut-squash-kale-rigatoni-with-crispy-rosemary-butter-lettuce-apple-salad\n",
      "56 89 https://www.blueapron.com/recipes/salmon-pastrami-on-rye-with-red-cabbage-green-apple-slaw\n",
      "57 19 https://www.blueapron.com/recipes/roasted-spaghetti-squash-with-chunky-marinara-sauce-black-cerignola-olives\n",
      "58 77 https://www.blueapron.com/recipes/chicken-with-tomato-fennel-creamy-tarragon-sauce\n",
      "59 9 https://www.blueapron.com/recipes/sweet-potato-fontina-pizza-with-apple-celeriac-arugula-salad\n",
      "60 75 https://www.blueapron.com/recipes/sauteed-shrimp-sandwiches-with-saffron-aioli-celery-parmesan-salad\n",
      "62 15 https://www.blueapron.com/recipes/asian-style-pork-burgers-with-crunchy-cucumber-salad-hoisin-mayo\n",
      "63 83 https://www.blueapron.com/recipes/tandoori-spiced-chicken-with-raja-eggplant-lentils-cucumber-mint-yogurt\n",
      "64 19 https://www.blueapron.com/recipes/summer-shrimp-mazeman-with-fresh-ramen-noodles-miso-tomato-sauce\n",
      "65 82 https://www.blueapron.com/recipes/mexican-style-chicken-torta-with-tomato-avocado-cucumber-salad\n",
      "66 14 https://www.blueapron.com/recipes/crispy-eggplant-pitas-with-beluga-lentil-salad-spiced-yogurt\n",
      "67 55 https://www.blueapron.com/recipes/romano-bean-barley-risotto-with-marinated-cherry-tomatoes-basil\n",
      "68 1 https://www.blueapron.com/recipes/zucchini-bocconcini-cavatappi-with-chopped-salad-ranch-style-dressing\n",
      "69 1 https://www.blueapron.com/recipes/chicago-style-hot-dogs-with-poppy-seed-buns-roasted-potato-wedges\n",
      "70 85 https://www.blueapron.com/recipes/lamb-risotto-style-ditalini-pasta-with-spring-onion-green-beans\n",
      "71 9 https://www.blueapron.com/recipes/italian-meatball-sandwiches-with-romaine-caesar-stye-salad\n",
      "72 45 https://www.blueapron.com/recipes/pan-seared-cod-with-curried-basmati-rice-english-peas-mint\n",
      "73 36 https://www.blueapron.com/recipes/creamy-orecchiette-pasta-with-english-peas-pecorino-cheese-mint\n",
      "74 8 https://www.blueapron.com/recipes/spring-minestrone-with-fresh-fava-beans-asparagus\n",
      "75 5 https://www.blueapron.com/recipes/zucchini-yellow-squash-enchiladas-with-salsa-roja-monterey-jack-cheese\n",
      "77 53 https://www.blueapron.com/recipes/matzoh-crusted-chicken-with-orange-fennel-golden-beet-salad\n",
      "78 23 https://www.blueapron.com/recipes/chicken-mole-with-queso-fresco-avocado-dusted-sweet-potatoes\n"
     ]
    }
   ],
   "source": [
    "\n",
    "for i in range(16,len(notpulled2)):\n",
    "    driver.get(notpulled2[i])\n",
    "    page_html2 = driver.page_source\n",
    "    soup2 = BeautifulSoup(page_html2, \"lxml\")\n",
    "    for o in soup2.findAll('iframe', class_=\"fb_ltr fb_iframe_widget_lift\"):\n",
    "        ifrmUrl = o['src']\n",
    " \n",
    "        #print ifrmUrl\n",
    "        time.sleep(1)\n",
    "        \n",
    "        gg = ifrmUrl.split('numposts')\n",
    "        \n",
    "        driver.get(ifrmUrl)\n",
    "        page_html4 = driver.page_source\n",
    "        \n",
    "\n",
    "        soup4 = BeautifulSoup(page_html4, \"lxml\")\n",
    "        \n",
    "        for c in soup4.findAll('span', class_=\" _50f7\"): # scrape for comment count\n",
    "            #print c.text\n",
    "            rr = c.text.encode('ascii', 'ignore').split(' ')[0]\n",
    "            print i, rr, notpulled2[i]\n",
    "            if int(rr) < 1:\n",
    "                print \"Url {0} doesn't have any comments\".format(ifrmUrl)\n",
    "            jjj =gg[1].find('&')\n",
    "            ff = gg[1][jjj:]\n",
    "            newUrl =gg[0]+'numposts='+rr+ff \n",
    "            driver.get(newUrl)\n",
    "            page_html5 = driver.page_source\n",
    "            commentlist.append(page_html5)\n",
    "            newrecplist.append([notpulled2[i],ifrmUrl,c.text,rr])"
   ]
  },
  {
   "cell_type": "code",
   "execution_count": null,
   "metadata": {
    "collapsed": false
   },
   "outputs": [],
   "source": [
    "commtrecplist2 = []\n",
    "for i in range(0, len(commentlist)):\n",
    "    soup1 =  BeautifulSoup(commentlist[i], \"lxml\")\n",
    "    comments, numcommts, recpname = get_commentators(soup1)\n",
    "    commtrecplist2.append([recpname, comments, numcommts])\n",
    "    print i\n",
    "print len(commtrecplist2)"
   ]
  },
  {
   "cell_type": "code",
   "execution_count": null,
   "metadata": {
    "collapsed": false
   },
   "outputs": [],
   "source": [
    "commtrecplist[1][1][1]"
   ]
  },
  {
   "cell_type": "code",
   "execution_count": 153,
   "metadata": {
    "collapsed": false
   },
   "outputs": [
    {
     "name": "stdout",
     "output_type": "stream",
     "text": [
      "74\n"
     ]
    }
   ],
   "source": [
    "nlis = [newrecplist[i][0] for i in range(0, len(newrecplist))]\n",
    "print len(nlis)"
   ]
  },
  {
   "cell_type": "code",
   "execution_count": 154,
   "metadata": {
    "collapsed": false
   },
   "outputs": [],
   "source": [
    "notpulled3 = [notpulled2[i] for i in range(0, len(notpulled2)) if notpulled2[i] not in nlis]"
   ]
  },
  {
   "cell_type": "code",
   "execution_count": 157,
   "metadata": {
    "collapsed": false
   },
   "outputs": [
    {
     "name": "stdout",
     "output_type": "stream",
     "text": [
      "https://www.blueapron.com/recipes/seared-salmon-miso-soba-noodle-salad-with-fairy-tale-eggplant-baby-greens\n"
     ]
    }
   ],
   "source": [
    "print notpulled3[1]"
   ]
  },
  {
   "cell_type": "code",
   "execution_count": 158,
   "metadata": {
    "collapsed": true
   },
   "outputs": [],
   "source": [
    "with open('commentlist2filled.pkl', 'w') as picklefile:\n",
    "    pickle.dump(commentlist, picklefile)"
   ]
  },
  {
   "cell_type": "code",
   "execution_count": 177,
   "metadata": {
    "collapsed": false
   },
   "outputs": [
    {
     "data": {
      "text/plain": [
       "929"
      ]
     },
     "execution_count": 177,
     "metadata": {},
     "output_type": "execute_result"
    }
   ],
   "source": [
    "len(recpPlusIngredient)"
   ]
  },
  {
   "cell_type": "code",
   "execution_count": 314,
   "metadata": {
    "collapsed": false
   },
   "outputs": [],
   "source": [
    "newcommentlist = commentlist + commentlist3"
   ]
  },
  {
   "cell_type": "code",
   "execution_count": 315,
   "metadata": {
    "collapsed": true
   },
   "outputs": [],
   "source": [
    "with open('fullrawiframelist.pkl', 'w') as picklefile:\n",
    "    pickle.dump(newcommentlist, picklefile)"
   ]
  },
  {
   "cell_type": "code",
   "execution_count": 324,
   "metadata": {
    "collapsed": true
   },
   "outputs": [],
   "source": [
    "commtrecplist3\n",
    "with open('commentlistwithenagement.pkl', 'w') as picklefile:\n",
    "    pickle.dump(commtrecplist3, picklefile)"
   ]
  },
  {
   "cell_type": "markdown",
   "metadata": {},
   "source": [
    "## Webscrape of recipes from Blue Apron. \n",
    "* second try to work out kinks in data pull "
   ]
  },
  {
   "cell_type": "code",
   "execution_count": null,
   "metadata": {
    "collapsed": false
   },
   "outputs": [],
   "source": [
    "# Webscrape of recipes from Blue Apron. \n",
    "# second try to work out kinks in data pull \n",
    "start = time.time()\n",
    "#ingredients = []\n",
    "print \"go1\"  # Sanity check\n",
    "newrecpe = []\n",
    "driver = webdriver.PhantomJS(executable_path='/Users/Guillermo/anaconda/bin/phantomjs')\n",
    "driver.set_window_size(1024, 768) \n",
    "print \"go\"  # Sanity Check\n",
    "#for i in range(0, len(testlist)):\n",
    "for i in range(0, len(notfoundlist)):\n",
    "    #driver.get(testlist[i])\n",
    "    time.sleep(1)  # try to time it so Blue Apron doesn't kick me out\n",
    "    driver.get(notfoundlist[i]) # use precreated list of recipes from previous scrape to pull each individual recipe\n",
    "    print notfoundlist[i]\n",
    "    print i\n",
    "    page_html2 = driver.page_source\n",
    "    soup2 = BeautifulSoup(page_html2, \"lxml\")\n",
    "    newrecpe.append(page_html2)  # list of beaultiful soup obeject for each recipe\n",
    "    #for o in soup2.findAll('ul', class_='ingredients-list'):\n",
    "        #ingredients.append((str(o.text.encode('utf-8')).replace('\\n\\n\\n\\n\\n',',').replace('\\n','').replace('\\xc2\\xbe','.75').replace(\"'\",''), myrecp2[i]))\n",
    "        #ingredients = ingredients[0].split(',')\n",
    "        #print(str(o.text.encode('utf-8')))\n",
    "        #print('\\n')\n",
    "        #print ingredients\n",
    "\n",
    "end = time.time()                           \n",
    "print \"Completed in {0} minutes\".format((end - start)/60)"
   ]
  },
  {
   "cell_type": "code",
   "execution_count": 190,
   "metadata": {
    "collapsed": true
   },
   "outputs": [],
   "source": [
    "recpingretotal = [recpPlusIngredient[i] for i in range(0, len(recpPlusIngredient)) if recpPlusIngredient[i][0] not in notfoundlist]"
   ]
  },
  {
   "cell_type": "code",
   "execution_count": 182,
   "metadata": {
    "collapsed": false
   },
   "outputs": [
    {
     "data": {
      "text/plain": [
       "891"
      ]
     },
     "execution_count": 182,
     "metadata": {},
     "output_type": "execute_result"
    }
   ],
   "source": [
    "len(recpingretotal)"
   ]
  },
  {
   "cell_type": "code",
   "execution_count": 192,
   "metadata": {
    "collapsed": true
   },
   "outputs": [],
   "source": [
    "fullypulledlist = recpingretotal + recpPlusIngredient2\n",
    "with open('fullingredientlist.pkl', 'w') as picklefile:\n",
    "    pickle.dump(fullypulledlist, picklefile)"
   ]
  },
  {
   "cell_type": "code",
   "execution_count": 300,
   "metadata": {
    "collapsed": false
   },
   "outputs": [],
   "source": [
    "with open('listrecpIngr_24.pkl', 'w') as picklefile:\n",
    "    pickle.dump(recpPlusIngredient3, picklefile)"
   ]
  },
  {
   "cell_type": "code",
   "execution_count": null,
   "metadata": {
    "collapsed": true
   },
   "outputs": [],
   "source": []
  }
 ],
 "metadata": {
  "anaconda-cloud": {},
  "kernelspec": {
   "display_name": "Python [default]",
   "language": "python",
   "name": "python2"
  },
  "language_info": {
   "codemirror_mode": {
    "name": "ipython",
    "version": 2
   },
   "file_extension": ".py",
   "mimetype": "text/x-python",
   "name": "python",
   "nbconvert_exporter": "python",
   "pygments_lexer": "ipython2",
   "version": "2.7.12"
  }
 },
 "nbformat": 4,
 "nbformat_minor": 1
}
