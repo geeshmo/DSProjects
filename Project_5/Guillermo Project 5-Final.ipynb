{
 "cells": [
  {
   "cell_type": "code",
   "execution_count": 308,
   "metadata": {
    "collapsed": false
   },
   "outputs": [],
   "source": [
    "#pass csv from loandata into panda for data cleaning and processing\n",
    "import pandas as pd"
   ]
  },
  {
   "cell_type": "code",
   "execution_count": 309,
   "metadata": {
    "collapsed": false
   },
   "outputs": [],
   "source": [
    "df = pd.read_csv('LoanStats3dprocessed.csv')"
   ]
  },
  {
   "cell_type": "code",
   "execution_count": 48,
   "metadata": {
    "collapsed": false
   },
   "outputs": [
    {
     "data": {
      "text/html": [
       "<div>\n",
       "<table border=\"1\" class=\"dataframe\">\n",
       "  <thead>\n",
       "    <tr style=\"text-align: right;\">\n",
       "      <th></th>\n",
       "      <th>id</th>\n",
       "      <th>member_id</th>\n",
       "      <th>loan_amnt</th>\n",
       "      <th>funded_amnt</th>\n",
       "      <th>funded_amnt_inv</th>\n",
       "      <th>term</th>\n",
       "      <th>int_rate</th>\n",
       "      <th>installment</th>\n",
       "      <th>grade</th>\n",
       "      <th>sub_grade</th>\n",
       "      <th>...</th>\n",
       "      <th>num_tl_90g_dpd_24m</th>\n",
       "      <th>num_tl_op_past_12m</th>\n",
       "      <th>pct_tl_nvr_dlq</th>\n",
       "      <th>percent_bc_gt_75</th>\n",
       "      <th>pub_rec_bankruptcies</th>\n",
       "      <th>tax_liens</th>\n",
       "      <th>tot_hi_cred_lim</th>\n",
       "      <th>total_bal_ex_mort</th>\n",
       "      <th>total_bc_limit</th>\n",
       "      <th>total_il_high_credit_limit</th>\n",
       "    </tr>\n",
       "  </thead>\n",
       "  <tbody>\n",
       "    <tr>\n",
       "      <th>0</th>\n",
       "      <td>66310712</td>\n",
       "      <td>71035433.0</td>\n",
       "      <td>35000.0</td>\n",
       "      <td>35000.0</td>\n",
       "      <td>35000.0</td>\n",
       "      <td>60 months</td>\n",
       "      <td>14.85%</td>\n",
       "      <td>829.90</td>\n",
       "      <td>C</td>\n",
       "      <td>C5</td>\n",
       "      <td>...</td>\n",
       "      <td>0.0</td>\n",
       "      <td>1.0</td>\n",
       "      <td>100.0</td>\n",
       "      <td>0.0</td>\n",
       "      <td>0.0</td>\n",
       "      <td>0.0</td>\n",
       "      <td>381215.0</td>\n",
       "      <td>52226.0</td>\n",
       "      <td>62500.0</td>\n",
       "      <td>18000.0</td>\n",
       "    </tr>\n",
       "    <tr>\n",
       "      <th>1</th>\n",
       "      <td>68476807</td>\n",
       "      <td>73366655.0</td>\n",
       "      <td>10400.0</td>\n",
       "      <td>10400.0</td>\n",
       "      <td>10400.0</td>\n",
       "      <td>60 months</td>\n",
       "      <td>22.45%</td>\n",
       "      <td>289.91</td>\n",
       "      <td>F</td>\n",
       "      <td>F1</td>\n",
       "      <td>...</td>\n",
       "      <td>0.0</td>\n",
       "      <td>4.0</td>\n",
       "      <td>96.6</td>\n",
       "      <td>60.0</td>\n",
       "      <td>0.0</td>\n",
       "      <td>0.0</td>\n",
       "      <td>439570.0</td>\n",
       "      <td>95768.0</td>\n",
       "      <td>20300.0</td>\n",
       "      <td>88097.0</td>\n",
       "    </tr>\n",
       "    <tr>\n",
       "      <th>2</th>\n",
       "      <td>68341763</td>\n",
       "      <td>72928789.0</td>\n",
       "      <td>20000.0</td>\n",
       "      <td>20000.0</td>\n",
       "      <td>20000.0</td>\n",
       "      <td>60 months</td>\n",
       "      <td>10.78%</td>\n",
       "      <td>432.66</td>\n",
       "      <td>B</td>\n",
       "      <td>B4</td>\n",
       "      <td>...</td>\n",
       "      <td>0.0</td>\n",
       "      <td>0.0</td>\n",
       "      <td>100.0</td>\n",
       "      <td>50.0</td>\n",
       "      <td>0.0</td>\n",
       "      <td>0.0</td>\n",
       "      <td>218418.0</td>\n",
       "      <td>18696.0</td>\n",
       "      <td>6200.0</td>\n",
       "      <td>14877.0</td>\n",
       "    </tr>\n",
       "    <tr>\n",
       "      <th>3</th>\n",
       "      <td>68466916</td>\n",
       "      <td>73356753.0</td>\n",
       "      <td>25000.0</td>\n",
       "      <td>25000.0</td>\n",
       "      <td>25000.0</td>\n",
       "      <td>36 months</td>\n",
       "      <td>7.49%</td>\n",
       "      <td>777.55</td>\n",
       "      <td>A</td>\n",
       "      <td>A4</td>\n",
       "      <td>...</td>\n",
       "      <td>0.0</td>\n",
       "      <td>0.0</td>\n",
       "      <td>100.0</td>\n",
       "      <td>20.0</td>\n",
       "      <td>0.0</td>\n",
       "      <td>0.0</td>\n",
       "      <td>373572.0</td>\n",
       "      <td>68056.0</td>\n",
       "      <td>38400.0</td>\n",
       "      <td>82117.0</td>\n",
       "    </tr>\n",
       "    <tr>\n",
       "      <th>4</th>\n",
       "      <td>68466961</td>\n",
       "      <td>73356799.0</td>\n",
       "      <td>28000.0</td>\n",
       "      <td>28000.0</td>\n",
       "      <td>28000.0</td>\n",
       "      <td>36 months</td>\n",
       "      <td>6.49%</td>\n",
       "      <td>858.05</td>\n",
       "      <td>A</td>\n",
       "      <td>A2</td>\n",
       "      <td>...</td>\n",
       "      <td>0.0</td>\n",
       "      <td>0.0</td>\n",
       "      <td>91.7</td>\n",
       "      <td>22.2</td>\n",
       "      <td>0.0</td>\n",
       "      <td>0.0</td>\n",
       "      <td>304003.0</td>\n",
       "      <td>74920.0</td>\n",
       "      <td>41500.0</td>\n",
       "      <td>42503.0</td>\n",
       "    </tr>\n",
       "  </tbody>\n",
       "</table>\n",
       "<p>5 rows × 111 columns</p>\n",
       "</div>"
      ],
      "text/plain": [
       "         id   member_id  loan_amnt  funded_amnt  funded_amnt_inv        term  \\\n",
       "0  66310712  71035433.0    35000.0      35000.0          35000.0   60 months   \n",
       "1  68476807  73366655.0    10400.0      10400.0          10400.0   60 months   \n",
       "2  68341763  72928789.0    20000.0      20000.0          20000.0   60 months   \n",
       "3  68466916  73356753.0    25000.0      25000.0          25000.0   36 months   \n",
       "4  68466961  73356799.0    28000.0      28000.0          28000.0   36 months   \n",
       "\n",
       "  int_rate  installment grade sub_grade            ...              \\\n",
       "0   14.85%       829.90     C        C5            ...               \n",
       "1   22.45%       289.91     F        F1            ...               \n",
       "2   10.78%       432.66     B        B4            ...               \n",
       "3    7.49%       777.55     A        A4            ...               \n",
       "4    6.49%       858.05     A        A2            ...               \n",
       "\n",
       "  num_tl_90g_dpd_24m num_tl_op_past_12m pct_tl_nvr_dlq  percent_bc_gt_75  \\\n",
       "0                0.0                1.0          100.0               0.0   \n",
       "1                0.0                4.0           96.6              60.0   \n",
       "2                0.0                0.0          100.0              50.0   \n",
       "3                0.0                0.0          100.0              20.0   \n",
       "4                0.0                0.0           91.7              22.2   \n",
       "\n",
       "  pub_rec_bankruptcies tax_liens tot_hi_cred_lim total_bal_ex_mort  \\\n",
       "0                  0.0       0.0        381215.0           52226.0   \n",
       "1                  0.0       0.0        439570.0           95768.0   \n",
       "2                  0.0       0.0        218418.0           18696.0   \n",
       "3                  0.0       0.0        373572.0           68056.0   \n",
       "4                  0.0       0.0        304003.0           74920.0   \n",
       "\n",
       "  total_bc_limit total_il_high_credit_limit  \n",
       "0        62500.0                    18000.0  \n",
       "1        20300.0                    88097.0  \n",
       "2         6200.0                    14877.0  \n",
       "3        38400.0                    82117.0  \n",
       "4        41500.0                    42503.0  \n",
       "\n",
       "[5 rows x 111 columns]"
      ]
     },
     "execution_count": 48,
     "metadata": {},
     "output_type": "execute_result"
    }
   ],
   "source": [
    "df.head() # peak at column names and data quick vizualization"
   ]
  },
  {
   "cell_type": "code",
   "execution_count": 49,
   "metadata": {
    "collapsed": false
   },
   "outputs": [
    {
     "name": "stderr",
     "output_type": "stream",
     "text": [
      "/Users/Guillermo/anaconda/lib/python2.7/site-packages/numpy/lib/function_base.py:3834: RuntimeWarning: Invalid value encountered in percentile\n",
      "  RuntimeWarning)\n"
     ]
    },
    {
     "data": {
      "text/html": [
       "<div>\n",
       "<table border=\"1\" class=\"dataframe\">\n",
       "  <thead>\n",
       "    <tr style=\"text-align: right;\">\n",
       "      <th></th>\n",
       "      <th>member_id</th>\n",
       "      <th>loan_amnt</th>\n",
       "      <th>funded_amnt</th>\n",
       "      <th>funded_amnt_inv</th>\n",
       "      <th>installment</th>\n",
       "      <th>annual_inc</th>\n",
       "      <th>dti</th>\n",
       "      <th>delinq_2yrs</th>\n",
       "      <th>inq_last_6mths</th>\n",
       "      <th>mths_since_last_delinq</th>\n",
       "      <th>...</th>\n",
       "      <th>num_tl_90g_dpd_24m</th>\n",
       "      <th>num_tl_op_past_12m</th>\n",
       "      <th>pct_tl_nvr_dlq</th>\n",
       "      <th>percent_bc_gt_75</th>\n",
       "      <th>pub_rec_bankruptcies</th>\n",
       "      <th>tax_liens</th>\n",
       "      <th>tot_hi_cred_lim</th>\n",
       "      <th>total_bal_ex_mort</th>\n",
       "      <th>total_bc_limit</th>\n",
       "      <th>total_il_high_credit_limit</th>\n",
       "    </tr>\n",
       "  </thead>\n",
       "  <tbody>\n",
       "    <tr>\n",
       "      <th>count</th>\n",
       "      <td>4.210950e+05</td>\n",
       "      <td>421095.000000</td>\n",
       "      <td>421095.000000</td>\n",
       "      <td>421095.000000</td>\n",
       "      <td>421095.000000</td>\n",
       "      <td>4.210950e+05</td>\n",
       "      <td>421095.000000</td>\n",
       "      <td>421095.000000</td>\n",
       "      <td>421095.000000</td>\n",
       "      <td>217133.000000</td>\n",
       "      <td>...</td>\n",
       "      <td>421095.000000</td>\n",
       "      <td>421095.000000</td>\n",
       "      <td>421095.000000</td>\n",
       "      <td>416856.000000</td>\n",
       "      <td>421095.000000</td>\n",
       "      <td>421095.000000</td>\n",
       "      <td>4.210950e+05</td>\n",
       "      <td>4.210950e+05</td>\n",
       "      <td>421095.000000</td>\n",
       "      <td>4.210950e+05</td>\n",
       "    </tr>\n",
       "    <tr>\n",
       "      <th>mean</th>\n",
       "      <td>5.759576e+07</td>\n",
       "      <td>15240.285862</td>\n",
       "      <td>15240.285862</td>\n",
       "      <td>15234.156412</td>\n",
       "      <td>441.861609</td>\n",
       "      <td>7.696561e+04</td>\n",
       "      <td>19.195989</td>\n",
       "      <td>0.347397</td>\n",
       "      <td>0.572690</td>\n",
       "      <td>34.023391</td>\n",
       "      <td>...</td>\n",
       "      <td>0.094318</td>\n",
       "      <td>2.170947</td>\n",
       "      <td>93.924313</td>\n",
       "      <td>47.527110</td>\n",
       "      <td>0.133188</td>\n",
       "      <td>0.064556</td>\n",
       "      <td>1.734070e+05</td>\n",
       "      <td>5.222199e+04</td>\n",
       "      <td>21958.208958</td>\n",
       "      <td>4.347865e+04</td>\n",
       "    </tr>\n",
       "    <tr>\n",
       "      <th>std</th>\n",
       "      <td>1.013358e+07</td>\n",
       "      <td>8571.325901</td>\n",
       "      <td>8571.325901</td>\n",
       "      <td>8567.935752</td>\n",
       "      <td>244.852541</td>\n",
       "      <td>7.394996e+04</td>\n",
       "      <td>23.504038</td>\n",
       "      <td>0.927695</td>\n",
       "      <td>0.867776</td>\n",
       "      <td>21.990270</td>\n",
       "      <td>...</td>\n",
       "      <td>0.522758</td>\n",
       "      <td>1.853858</td>\n",
       "      <td>8.875399</td>\n",
       "      <td>36.054458</td>\n",
       "      <td>0.385975</td>\n",
       "      <td>0.444231</td>\n",
       "      <td>1.756722e+05</td>\n",
       "      <td>4.907494e+04</td>\n",
       "      <td>21840.371112</td>\n",
       "      <td>4.394271e+04</td>\n",
       "    </tr>\n",
       "    <tr>\n",
       "      <th>min</th>\n",
       "      <td>7.082500e+04</td>\n",
       "      <td>1000.000000</td>\n",
       "      <td>1000.000000</td>\n",
       "      <td>900.000000</td>\n",
       "      <td>23.400000</td>\n",
       "      <td>0.000000e+00</td>\n",
       "      <td>0.000000</td>\n",
       "      <td>0.000000</td>\n",
       "      <td>0.000000</td>\n",
       "      <td>0.000000</td>\n",
       "      <td>...</td>\n",
       "      <td>0.000000</td>\n",
       "      <td>0.000000</td>\n",
       "      <td>0.000000</td>\n",
       "      <td>0.000000</td>\n",
       "      <td>0.000000</td>\n",
       "      <td>0.000000</td>\n",
       "      <td>2.500000e+03</td>\n",
       "      <td>0.000000e+00</td>\n",
       "      <td>0.000000</td>\n",
       "      <td>0.000000e+00</td>\n",
       "    </tr>\n",
       "    <tr>\n",
       "      <th>25%</th>\n",
       "      <td>NaN</td>\n",
       "      <td>NaN</td>\n",
       "      <td>NaN</td>\n",
       "      <td>NaN</td>\n",
       "      <td>NaN</td>\n",
       "      <td>NaN</td>\n",
       "      <td>NaN</td>\n",
       "      <td>NaN</td>\n",
       "      <td>NaN</td>\n",
       "      <td>NaN</td>\n",
       "      <td>...</td>\n",
       "      <td>NaN</td>\n",
       "      <td>NaN</td>\n",
       "      <td>NaN</td>\n",
       "      <td>NaN</td>\n",
       "      <td>NaN</td>\n",
       "      <td>NaN</td>\n",
       "      <td>NaN</td>\n",
       "      <td>NaN</td>\n",
       "      <td>NaN</td>\n",
       "      <td>NaN</td>\n",
       "    </tr>\n",
       "    <tr>\n",
       "      <th>50%</th>\n",
       "      <td>NaN</td>\n",
       "      <td>NaN</td>\n",
       "      <td>NaN</td>\n",
       "      <td>NaN</td>\n",
       "      <td>NaN</td>\n",
       "      <td>NaN</td>\n",
       "      <td>NaN</td>\n",
       "      <td>NaN</td>\n",
       "      <td>NaN</td>\n",
       "      <td>NaN</td>\n",
       "      <td>...</td>\n",
       "      <td>NaN</td>\n",
       "      <td>NaN</td>\n",
       "      <td>NaN</td>\n",
       "      <td>NaN</td>\n",
       "      <td>NaN</td>\n",
       "      <td>NaN</td>\n",
       "      <td>NaN</td>\n",
       "      <td>NaN</td>\n",
       "      <td>NaN</td>\n",
       "      <td>NaN</td>\n",
       "    </tr>\n",
       "    <tr>\n",
       "      <th>75%</th>\n",
       "      <td>NaN</td>\n",
       "      <td>NaN</td>\n",
       "      <td>NaN</td>\n",
       "      <td>NaN</td>\n",
       "      <td>NaN</td>\n",
       "      <td>NaN</td>\n",
       "      <td>NaN</td>\n",
       "      <td>NaN</td>\n",
       "      <td>NaN</td>\n",
       "      <td>NaN</td>\n",
       "      <td>...</td>\n",
       "      <td>NaN</td>\n",
       "      <td>NaN</td>\n",
       "      <td>NaN</td>\n",
       "      <td>NaN</td>\n",
       "      <td>NaN</td>\n",
       "      <td>NaN</td>\n",
       "      <td>NaN</td>\n",
       "      <td>NaN</td>\n",
       "      <td>NaN</td>\n",
       "      <td>NaN</td>\n",
       "    </tr>\n",
       "    <tr>\n",
       "      <th>max</th>\n",
       "      <td>7.354484e+07</td>\n",
       "      <td>35000.000000</td>\n",
       "      <td>35000.000000</td>\n",
       "      <td>35000.000000</td>\n",
       "      <td>1445.460000</td>\n",
       "      <td>9.500000e+06</td>\n",
       "      <td>9999.000000</td>\n",
       "      <td>39.000000</td>\n",
       "      <td>6.000000</td>\n",
       "      <td>176.000000</td>\n",
       "      <td>...</td>\n",
       "      <td>39.000000</td>\n",
       "      <td>30.000000</td>\n",
       "      <td>100.000000</td>\n",
       "      <td>100.000000</td>\n",
       "      <td>11.000000</td>\n",
       "      <td>85.000000</td>\n",
       "      <td>9.999999e+06</td>\n",
       "      <td>2.921551e+06</td>\n",
       "      <td>834300.000000</td>\n",
       "      <td>2.101913e+06</td>\n",
       "    </tr>\n",
       "  </tbody>\n",
       "</table>\n",
       "<p>8 rows × 85 columns</p>\n",
       "</div>"
      ],
      "text/plain": [
       "          member_id      loan_amnt    funded_amnt  funded_amnt_inv  \\\n",
       "count  4.210950e+05  421095.000000  421095.000000    421095.000000   \n",
       "mean   5.759576e+07   15240.285862   15240.285862     15234.156412   \n",
       "std    1.013358e+07    8571.325901    8571.325901      8567.935752   \n",
       "min    7.082500e+04    1000.000000    1000.000000       900.000000   \n",
       "25%             NaN            NaN            NaN              NaN   \n",
       "50%             NaN            NaN            NaN              NaN   \n",
       "75%             NaN            NaN            NaN              NaN   \n",
       "max    7.354484e+07   35000.000000   35000.000000     35000.000000   \n",
       "\n",
       "         installment    annual_inc            dti    delinq_2yrs  \\\n",
       "count  421095.000000  4.210950e+05  421095.000000  421095.000000   \n",
       "mean      441.861609  7.696561e+04      19.195989       0.347397   \n",
       "std       244.852541  7.394996e+04      23.504038       0.927695   \n",
       "min        23.400000  0.000000e+00       0.000000       0.000000   \n",
       "25%              NaN           NaN            NaN            NaN   \n",
       "50%              NaN           NaN            NaN            NaN   \n",
       "75%              NaN           NaN            NaN            NaN   \n",
       "max      1445.460000  9.500000e+06    9999.000000      39.000000   \n",
       "\n",
       "       inq_last_6mths  mths_since_last_delinq             ...              \\\n",
       "count   421095.000000           217133.000000             ...               \n",
       "mean         0.572690               34.023391             ...               \n",
       "std          0.867776               21.990270             ...               \n",
       "min          0.000000                0.000000             ...               \n",
       "25%               NaN                     NaN             ...               \n",
       "50%               NaN                     NaN             ...               \n",
       "75%               NaN                     NaN             ...               \n",
       "max          6.000000              176.000000             ...               \n",
       "\n",
       "       num_tl_90g_dpd_24m  num_tl_op_past_12m  pct_tl_nvr_dlq  \\\n",
       "count       421095.000000       421095.000000   421095.000000   \n",
       "mean             0.094318            2.170947       93.924313   \n",
       "std              0.522758            1.853858        8.875399   \n",
       "min              0.000000            0.000000        0.000000   \n",
       "25%                   NaN                 NaN             NaN   \n",
       "50%                   NaN                 NaN             NaN   \n",
       "75%                   NaN                 NaN             NaN   \n",
       "max             39.000000           30.000000      100.000000   \n",
       "\n",
       "       percent_bc_gt_75  pub_rec_bankruptcies      tax_liens  tot_hi_cred_lim  \\\n",
       "count     416856.000000         421095.000000  421095.000000     4.210950e+05   \n",
       "mean          47.527110              0.133188       0.064556     1.734070e+05   \n",
       "std           36.054458              0.385975       0.444231     1.756722e+05   \n",
       "min            0.000000              0.000000       0.000000     2.500000e+03   \n",
       "25%                 NaN                   NaN            NaN              NaN   \n",
       "50%                 NaN                   NaN            NaN              NaN   \n",
       "75%                 NaN                   NaN            NaN              NaN   \n",
       "max          100.000000             11.000000      85.000000     9.999999e+06   \n",
       "\n",
       "       total_bal_ex_mort  total_bc_limit  total_il_high_credit_limit  \n",
       "count       4.210950e+05   421095.000000                4.210950e+05  \n",
       "mean        5.222199e+04    21958.208958                4.347865e+04  \n",
       "std         4.907494e+04    21840.371112                4.394271e+04  \n",
       "min         0.000000e+00        0.000000                0.000000e+00  \n",
       "25%                  NaN             NaN                         NaN  \n",
       "50%                  NaN             NaN                         NaN  \n",
       "75%                  NaN             NaN                         NaN  \n",
       "max         2.921551e+06   834300.000000                2.101913e+06  \n",
       "\n",
       "[8 rows x 85 columns]"
      ]
     },
     "execution_count": 49,
     "metadata": {},
     "output_type": "execute_result"
    }
   ],
   "source": [
    "df.describe() # look at the initial data"
   ]
  },
  {
   "cell_type": "markdown",
   "metadata": {
    "collapsed": false
   },
   "source": [
    "# Select columns to bring into model"
   ]
  },
  {
   "cell_type": "code",
   "execution_count": 108,
   "metadata": {
    "collapsed": false
   },
   "outputs": [],
   "source": [
    "firstdata = df.loc[:,['funded_amnt','home_ownership','annual_inc','int_rate','loan_status','term','total_bal_ex_mort']].copy()"
   ]
  },
  {
   "cell_type": "code",
   "execution_count": 109,
   "metadata": {
    "collapsed": false
   },
   "outputs": [
    {
     "name": "stdout",
     "output_type": "stream",
     "text": [
      "<class 'pandas.core.frame.DataFrame'>\n",
      "RangeIndex: 421097 entries, 0 to 421096\n",
      "Data columns (total 7 columns):\n",
      "funded_amnt          421095 non-null float64\n",
      "home_ownership       421095 non-null object\n",
      "annual_inc           421095 non-null float64\n",
      "int_rate             421095 non-null object\n",
      "loan_status          421095 non-null object\n",
      "term                 421095 non-null object\n",
      "total_bal_ex_mort    421095 non-null float64\n",
      "dtypes: float64(3), object(4)\n",
      "memory usage: 22.5+ MB\n"
     ]
    }
   ],
   "source": [
    "firstdata.info() # sanity check and take a look at lenght of data"
   ]
  },
  {
   "cell_type": "code",
   "execution_count": 111,
   "metadata": {
    "collapsed": false
   },
   "outputs": [],
   "source": [
    "homeownershipu = firstdata['home_ownership'].unique() # search for unique values to understand data"
   ]
  },
  {
   "cell_type": "code",
   "execution_count": 112,
   "metadata": {
    "collapsed": false
   },
   "outputs": [],
   "source": [
    "loanstatus =firstdata['loan_status'].unique() # search for unique values to understand data"
   ]
  },
  {
   "cell_type": "code",
   "execution_count": 113,
   "metadata": {
    "collapsed": false
   },
   "outputs": [
    {
     "data": {
      "text/html": [
       "<div>\n",
       "<table border=\"1\" class=\"dataframe\">\n",
       "  <thead>\n",
       "    <tr style=\"text-align: right;\">\n",
       "      <th></th>\n",
       "      <th>funded_amnt</th>\n",
       "      <th>home_ownership</th>\n",
       "      <th>annual_inc</th>\n",
       "      <th>int_rate</th>\n",
       "      <th>loan_status</th>\n",
       "      <th>term</th>\n",
       "      <th>total_bal_ex_mort</th>\n",
       "    </tr>\n",
       "  </thead>\n",
       "  <tbody>\n",
       "    <tr>\n",
       "      <th>0</th>\n",
       "      <td>35000.0</td>\n",
       "      <td>MORTGAGE</td>\n",
       "      <td>110000.0</td>\n",
       "      <td>14.85%</td>\n",
       "      <td>Current</td>\n",
       "      <td>60 months</td>\n",
       "      <td>52226.0</td>\n",
       "    </tr>\n",
       "    <tr>\n",
       "      <th>1</th>\n",
       "      <td>10400.0</td>\n",
       "      <td>MORTGAGE</td>\n",
       "      <td>104433.0</td>\n",
       "      <td>22.45%</td>\n",
       "      <td>Fully Paid</td>\n",
       "      <td>60 months</td>\n",
       "      <td>95768.0</td>\n",
       "    </tr>\n",
       "    <tr>\n",
       "      <th>2</th>\n",
       "      <td>20000.0</td>\n",
       "      <td>MORTGAGE</td>\n",
       "      <td>63000.0</td>\n",
       "      <td>10.78%</td>\n",
       "      <td>Current</td>\n",
       "      <td>60 months</td>\n",
       "      <td>18696.0</td>\n",
       "    </tr>\n",
       "    <tr>\n",
       "      <th>3</th>\n",
       "      <td>25000.0</td>\n",
       "      <td>MORTGAGE</td>\n",
       "      <td>109000.0</td>\n",
       "      <td>7.49%</td>\n",
       "      <td>Fully Paid</td>\n",
       "      <td>36 months</td>\n",
       "      <td>68056.0</td>\n",
       "    </tr>\n",
       "    <tr>\n",
       "      <th>4</th>\n",
       "      <td>28000.0</td>\n",
       "      <td>MORTGAGE</td>\n",
       "      <td>92000.0</td>\n",
       "      <td>6.49%</td>\n",
       "      <td>Current</td>\n",
       "      <td>36 months</td>\n",
       "      <td>74920.0</td>\n",
       "    </tr>\n",
       "  </tbody>\n",
       "</table>\n",
       "</div>"
      ],
      "text/plain": [
       "   funded_amnt home_ownership  annual_inc int_rate loan_status        term  \\\n",
       "0      35000.0       MORTGAGE    110000.0   14.85%     Current   60 months   \n",
       "1      10400.0       MORTGAGE    104433.0   22.45%  Fully Paid   60 months   \n",
       "2      20000.0       MORTGAGE     63000.0   10.78%     Current   60 months   \n",
       "3      25000.0       MORTGAGE    109000.0    7.49%  Fully Paid   36 months   \n",
       "4      28000.0       MORTGAGE     92000.0    6.49%     Current   36 months   \n",
       "\n",
       "   total_bal_ex_mort  \n",
       "0            52226.0  \n",
       "1            95768.0  \n",
       "2            18696.0  \n",
       "3            68056.0  \n",
       "4            74920.0  "
      ]
     },
     "execution_count": 113,
     "metadata": {},
     "output_type": "execute_result"
    }
   ],
   "source": [
    "firstdata.head() # sanity check and quick picture of dataframe"
   ]
  },
  {
   "cell_type": "code",
   "execution_count": 114,
   "metadata": {
    "collapsed": false
   },
   "outputs": [],
   "source": [
    "firstdata['termnumber'] = firstdata['term'].str.split(' ').str.get(1) # split term to numeric"
   ]
  },
  {
   "cell_type": "code",
   "execution_count": null,
   "metadata": {
    "collapsed": false
   },
   "outputs": [],
   "source": [
    "firstdata.info() # sanity check"
   ]
  },
  {
   "cell_type": "code",
   "execution_count": null,
   "metadata": {
    "collapsed": false
   },
   "outputs": [],
   "source": [
    "firstdata.head() # sanity check"
   ]
  },
  {
   "cell_type": "code",
   "execution_count": 77,
   "metadata": {
    "collapsed": false
   },
   "outputs": [],
   "source": [
    "firstdata['termnumber'] = (firstdata['termnumber'] * 1) # turn new column into an integer"
   ]
  },
  {
   "cell_type": "code",
   "execution_count": 116,
   "metadata": {
    "collapsed": false
   },
   "outputs": [],
   "source": [
    "firstdata['int_rate2'] = firstdata['int_rate'].str.replace('%', '') # remove % from interest rate"
   ]
  },
  {
   "cell_type": "code",
   "execution_count": 117,
   "metadata": {
    "collapsed": false
   },
   "outputs": [
    {
     "name": "stderr",
     "output_type": "stream",
     "text": [
      "/Users/Guillermo/anaconda/lib/python2.7/site-packages/ipykernel/__main__.py:1: FutureWarning: convert_objects is deprecated.  Use the data-type specific converters pd.to_datetime, pd.to_timedelta and pd.to_numeric.\n",
      "  if __name__ == '__main__':\n"
     ]
    }
   ],
   "source": [
    "firstdata['int_rate2'] = firstdata['int_rate2'].convert_objects(convert_numeric=True) # convert into numbers but a diffrent way"
   ]
  },
  {
   "cell_type": "code",
   "execution_count": null,
   "metadata": {
    "collapsed": false
   },
   "outputs": [],
   "source": [
    "firstdata.info() # sanity check"
   ]
  },
  {
   "cell_type": "code",
   "execution_count": null,
   "metadata": {
    "collapsed": false
   },
   "outputs": [],
   "source": [
    "sns.set(style=\"white\", context=\"talk\")\n",
    "\n",
    "# takes strings directly as x labels\n",
    "sns.barplot(firstdata['loan_status'],len(firstdata['loan_status']), palette=\"BuGn_d\") \n",
    "# first plotting of data, not effective needs to be cleanedup more"
   ]
  },
  {
   "cell_type": "code",
   "execution_count": 102,
   "metadata": {
    "collapsed": false
   },
   "outputs": [
    {
     "name": "stderr",
     "output_type": "stream",
     "text": [
      "/Users/Guillermo/anaconda/lib/python2.7/site-packages/matplotlib/font_manager.py:273: UserWarning: Matplotlib is building the font cache using fc-list. This may take a moment.\n",
      "  warnings.warn('Matplotlib is building the font cache using fc-list. This may take a moment.')\n"
     ]
    }
   ],
   "source": [
    "import numpy as np\n",
    "import matplotlib\n",
    "from matplotlib import pyplot as plt\n",
    "% matplotlib inline\n",
    "\n",
    "# Bring in additonal modules"
   ]
  },
  {
   "cell_type": "code",
   "execution_count": 104,
   "metadata": {
    "collapsed": false
   },
   "outputs": [
    {
     "name": "stderr",
     "output_type": "stream",
     "text": [
      "/Users/Guillermo/anaconda/lib/python2.7/site-packages/ipykernel/__main__.py:1: FutureWarning: convert_objects is deprecated.  Use the data-type specific converters pd.to_datetime, pd.to_timedelta and pd.to_numeric.\n",
      "  if __name__ == '__main__':\n"
     ]
    }
   ],
   "source": [
    "firstdata['termnumber'] = firstdata['termnumber'].convert_objects(convert_numeric=True) # convert to numeric"
   ]
  },
  {
   "cell_type": "code",
   "execution_count": 131,
   "metadata": {
    "collapsed": false
   },
   "outputs": [
    {
     "data": {
      "text/plain": [
       "array([[<matplotlib.axes._subplots.AxesSubplot object at 0x131fb3210>,\n",
       "        <matplotlib.axes._subplots.AxesSubplot object at 0x12975c6d0>],\n",
       "       [<matplotlib.axes._subplots.AxesSubplot object at 0x125238b10>,\n",
       "        <matplotlib.axes._subplots.AxesSubplot object at 0x127185c50>]], dtype=object)"
      ]
     },
     "execution_count": 131,
     "metadata": {},
     "output_type": "execute_result"
    },
    {
     "data": {
      "image/png": "[encoded data removed]",
      "text/plain": [
       "<matplotlib.figure.Figure at 0x131fbaa50>"
      ]
     },
     "metadata": {},
     "output_type": "display_data"
    }
   ],
   "source": [
    "firstdata.hist()  # vizualize data to get relationships"
   ]
  },
  {
   "cell_type": "markdown",
   "metadata": {},
   "source": [
    "# Addtional plots looking at relationships"
   ]
  },
  {
   "cell_type": "code",
   "execution_count": null,
   "metadata": {
    "collapsed": false
   },
   "outputs": [],
   "source": [
    "import seaborn as sns\n",
    "\n",
    "sns.pairplot(firstdata, hue = 'loan_status')\n",
    "plt.legend('Title')"
   ]
  },
  {
   "cell_type": "code",
   "execution_count": 128,
   "metadata": {
    "collapsed": false
   },
   "outputs": [
    {
     "data": {
      "text/plain": [
       "<seaborn.axisgrid.JointGrid at 0x11bac4c50>"
      ]
     },
     "execution_count": 128,
     "metadata": {},
     "output_type": "execute_result"
    },
    {
     "data": {
      "image/png": "[encoded data removed]",
      "text/plain": [
       "<matplotlib.figure.Figure at 0x129a3be10>"
      ]
     },
     "metadata": {},
     "output_type": "display_data"
    }
   ],
   "source": [
    "import seaborn as sns\n",
    "sns.jointplot('int_rate2','funded_amnt', firstdata)"
   ]
  },
  {
   "cell_type": "code",
   "execution_count": 129,
   "metadata": {
    "collapsed": false
   },
   "outputs": [
    {
     "data": {
      "text/plain": [
       "<seaborn.axisgrid.JointGrid at 0x11b960b50>"
      ]
     },
     "execution_count": 129,
     "metadata": {},
     "output_type": "execute_result"
    },
    {
     "data": {
      "image/png": "[encoded data removed]",
      "text/plain": [
       "<matplotlib.figure.Figure at 0x1270bc110>"
      ]
     },
     "metadata": {},
     "output_type": "display_data"
    }
   ],
   "source": [
    "import seaborn as sns\n",
    "sns.jointplot('annual_inc','funded_amnt', firstdata)"
   ]
  },
  {
   "cell_type": "code",
   "execution_count": 132,
   "metadata": {
    "collapsed": false
   },
   "outputs": [
    {
     "data": {
      "text/plain": [
       "<seaborn.axisgrid.JointGrid at 0x12c2ba990>"
      ]
     },
     "execution_count": 132,
     "metadata": {},
     "output_type": "execute_result"
    },
    {
     "data": {
      "image/png": "[encoded data removed]",
      "text/plain": [
       "<matplotlib.figure.Figure at 0x125295190>"
      ]
     },
     "metadata": {},
     "output_type": "display_data"
    }
   ],
   "source": [
    "sns.jointplot('total_bal_ex_mort','funded_amnt', firstdata)"
   ]
  },
  {
   "cell_type": "code",
   "execution_count": 133,
   "metadata": {
    "collapsed": false
   },
   "outputs": [
    {
     "data": {
      "text/plain": [
       "<seaborn.axisgrid.JointGrid at 0x122868e90>"
      ]
     },
     "execution_count": 133,
     "metadata": {},
     "output_type": "execute_result"
    },
    {
     "data": {
      "image/png": "[encoded data removed]",
      "text/plain": [
       "<matplotlib.figure.Figure at 0x125ba7210>"
      ]
     },
     "metadata": {},
     "output_type": "display_data"
    }
   ],
   "source": [
    "sns.jointplot('total_bal_ex_mort','int_rate2', firstdata)"
   ]
  },
  {
   "cell_type": "markdown",
   "metadata": {},
   "source": [
    "# Further data processing"
   ]
  },
  {
   "cell_type": "code",
   "execution_count": 204,
   "metadata": {
    "collapsed": false
   },
   "outputs": [],
   "source": [
    "frstdt2 = firstdata[(firstdata['loan_status'].str.contains('Default')|firstdata['loan_status'].str.contains('Fully Paid')|firstdata['loan_status'].str.contains('Charged Off'))].copy()"
   ]
  },
  {
   "cell_type": "code",
   "execution_count": 205,
   "metadata": {
    "collapsed": false
   },
   "outputs": [
    {
     "data": {
      "text/plain": [
       "array(['Fully Paid', 'Default', 'Charged Off'], dtype=object)"
      ]
     },
     "execution_count": 205,
     "metadata": {},
     "output_type": "execute_result"
    }
   ],
   "source": [
    "frstdt2['loan_status'].unique()"
   ]
  },
  {
   "cell_type": "code",
   "execution_count": 206,
   "metadata": {
    "collapsed": true
   },
   "outputs": [],
   "source": [
    "def badGood(value):\n",
    "    if value == 'Fully Paid':\n",
    "        return 'Good'\n",
    "    else:\n",
    "        return 'Bad'    # function to transform loans into good and bad, could have used 1 or 0 but either one works"
   ]
  },
  {
   "cell_type": "code",
   "execution_count": 210,
   "metadata": {
    "collapsed": false
   },
   "outputs": [],
   "source": [
    "frstdt2['lstatus'] = frstdt2['loan_status'].apply(badGood) # apply function"
   ]
  },
  {
   "cell_type": "code",
   "execution_count": null,
   "metadata": {
    "collapsed": false
   },
   "outputs": [],
   "source": [
    "frstdt2.head() # sanity check"
   ]
  },
  {
   "cell_type": "code",
   "execution_count": 214,
   "metadata": {
    "collapsed": false
   },
   "outputs": [],
   "source": [
    "frstd3 =pd.get_dummies(frstdt2, columns= ['home_ownership']) # turn to dummy variables"
   ]
  },
  {
   "cell_type": "code",
   "execution_count": 153,
   "metadata": {
    "collapsed": false
   },
   "outputs": [],
   "source": [
    "#frstd4 =pd.get_dummies(frstd3, columns= ['loan_status'])"
   ]
  },
  {
   "cell_type": "code",
   "execution_count": null,
   "metadata": {
    "collapsed": false
   },
   "outputs": [],
   "source": [
    "frstd4.head() # sanity check"
   ]
  },
  {
   "cell_type": "code",
   "execution_count": 216,
   "metadata": {
    "collapsed": false
   },
   "outputs": [],
   "source": [
    "# reduce the number of columns\n",
    "frstd5 = frstd3.loc[:,['lstatus','funded_amnt', 'annual_inc', 'total_bal_ex_mort', 'termnumber', 'int_rate2', 'home_ownership_MORTGAGE', 'home_ownership_OWN', 'home_ownership_RENT']].copy()"
   ]
  },
  {
   "cell_type": "code",
   "execution_count": null,
   "metadata": {
    "collapsed": false
   },
   "outputs": [],
   "source": [
    "frstd5.info() # sanity check"
   ]
  },
  {
   "cell_type": "code",
   "execution_count": 218,
   "metadata": {
    "collapsed": true
   },
   "outputs": [],
   "source": [
    "#normalize funded amount\n",
    "\n",
    "min_val = frstd5['funded_amnt'].min()\n",
    "max_val = frstd5['funded_amnt'].max()\n",
    "\n",
    "def min_max(x):\n",
    "    return (x-min_val)/(max_val-min_val)\n",
    "frstd5['f_amnt2'] = frstd5['funded_amnt'].apply(min_max)"
   ]
  },
  {
   "cell_type": "code",
   "execution_count": 190,
   "metadata": {
    "collapsed": false
   },
   "outputs": [
    {
     "data": {
      "text/html": [
       "<div>\n",
       "<table border=\"1\" class=\"dataframe\">\n",
       "  <thead>\n",
       "    <tr style=\"text-align: right;\">\n",
       "      <th></th>\n",
       "      <th>loan_status</th>\n",
       "      <th>funded_amnt</th>\n",
       "      <th>annual_inc</th>\n",
       "      <th>total_bal_ex_mort</th>\n",
       "      <th>termnumber</th>\n",
       "      <th>int_rate2</th>\n",
       "      <th>home_ownership_MORTGAGE</th>\n",
       "      <th>home_ownership_OWN</th>\n",
       "      <th>home_ownership_RENT</th>\n",
       "      <th>f_amnt2</th>\n",
       "    </tr>\n",
       "  </thead>\n",
       "  <tbody>\n",
       "    <tr>\n",
       "      <th>1</th>\n",
       "      <td>Fully Paid</td>\n",
       "      <td>10400.0</td>\n",
       "      <td>104433.0</td>\n",
       "      <td>95768.0</td>\n",
       "      <td>60</td>\n",
       "      <td>22.45</td>\n",
       "      <td>1.0</td>\n",
       "      <td>0.0</td>\n",
       "      <td>0.0</td>\n",
       "      <td>0.276471</td>\n",
       "    </tr>\n",
       "    <tr>\n",
       "      <th>3</th>\n",
       "      <td>Fully Paid</td>\n",
       "      <td>25000.0</td>\n",
       "      <td>109000.0</td>\n",
       "      <td>68056.0</td>\n",
       "      <td>36</td>\n",
       "      <td>7.49</td>\n",
       "      <td>1.0</td>\n",
       "      <td>0.0</td>\n",
       "      <td>0.0</td>\n",
       "      <td>0.705882</td>\n",
       "    </tr>\n",
       "    <tr>\n",
       "      <th>5</th>\n",
       "      <td>Fully Paid</td>\n",
       "      <td>18000.0</td>\n",
       "      <td>112000.0</td>\n",
       "      <td>36127.0</td>\n",
       "      <td>60</td>\n",
       "      <td>11.99</td>\n",
       "      <td>1.0</td>\n",
       "      <td>0.0</td>\n",
       "      <td>0.0</td>\n",
       "      <td>0.500000</td>\n",
       "    </tr>\n",
       "    <tr>\n",
       "      <th>8</th>\n",
       "      <td>Fully Paid</td>\n",
       "      <td>8650.0</td>\n",
       "      <td>55000.0</td>\n",
       "      <td>18926.0</td>\n",
       "      <td>36</td>\n",
       "      <td>19.89</td>\n",
       "      <td>0.0</td>\n",
       "      <td>0.0</td>\n",
       "      <td>1.0</td>\n",
       "      <td>0.225000</td>\n",
       "    </tr>\n",
       "    <tr>\n",
       "      <th>18</th>\n",
       "      <td>Fully Paid</td>\n",
       "      <td>20000.0</td>\n",
       "      <td>180000.0</td>\n",
       "      <td>116762.0</td>\n",
       "      <td>36</td>\n",
       "      <td>9.17</td>\n",
       "      <td>1.0</td>\n",
       "      <td>0.0</td>\n",
       "      <td>0.0</td>\n",
       "      <td>0.558824</td>\n",
       "    </tr>\n",
       "  </tbody>\n",
       "</table>\n",
       "</div>"
      ],
      "text/plain": [
       "   loan_status  funded_amnt  annual_inc  total_bal_ex_mort termnumber  \\\n",
       "1   Fully Paid      10400.0    104433.0            95768.0         60   \n",
       "3   Fully Paid      25000.0    109000.0            68056.0         36   \n",
       "5   Fully Paid      18000.0    112000.0            36127.0         60   \n",
       "8   Fully Paid       8650.0     55000.0            18926.0         36   \n",
       "18  Fully Paid      20000.0    180000.0           116762.0         36   \n",
       "\n",
       "    int_rate2  home_ownership_MORTGAGE  home_ownership_OWN  \\\n",
       "1       22.45                      1.0                 0.0   \n",
       "3        7.49                      1.0                 0.0   \n",
       "5       11.99                      1.0                 0.0   \n",
       "8       19.89                      0.0                 0.0   \n",
       "18       9.17                      1.0                 0.0   \n",
       "\n",
       "    home_ownership_RENT   f_amnt2  \n",
       "1                   0.0  0.276471  \n",
       "3                   0.0  0.705882  \n",
       "5                   0.0  0.500000  \n",
       "8                   1.0  0.225000  \n",
       "18                  0.0  0.558824  "
      ]
     },
     "execution_count": 190,
     "metadata": {},
     "output_type": "execute_result"
    }
   ],
   "source": [
    "frstd5.head() # sanity check"
   ]
  },
  {
   "cell_type": "code",
   "execution_count": 219,
   "metadata": {
    "collapsed": true
   },
   "outputs": [],
   "source": [
    "# normalize debt\n",
    "min_val = frstd5['total_bal_ex_mort'].min()\n",
    "max_val = frstd5['total_bal_ex_mort'].max()\n",
    "\n",
    "def min_max(x):\n",
    "    return (x-min_val)/(max_val-min_val)\n",
    "frstd5['debt'] = frstd5['total_bal_ex_mort'].apply(min_max)"
   ]
  },
  {
   "cell_type": "code",
   "execution_count": 220,
   "metadata": {
    "collapsed": true
   },
   "outputs": [],
   "source": [
    "# normalize annual income\n",
    "min_val = frstd5['annual_inc'].min()\n",
    "max_val = frstd5['annual_inc'].max()\n",
    "\n",
    "def min_max(x):\n",
    "    return (x-min_val)/(max_val-min_val)\n",
    "frstd5['income'] = frstd5['annual_inc'].apply(min_max)"
   ]
  },
  {
   "cell_type": "code",
   "execution_count": 221,
   "metadata": {
    "collapsed": true
   },
   "outputs": [],
   "source": [
    "#turn term into dummies\n",
    "frstd5 =pd.get_dummies(frstd5, columns= ['termnumber'])"
   ]
  },
  {
   "cell_type": "code",
   "execution_count": null,
   "metadata": {
    "collapsed": false
   },
   "outputs": [],
   "source": [
    "frstd5.info() # sanity check"
   ]
  },
  {
   "cell_type": "code",
   "execution_count": 222,
   "metadata": {
    "collapsed": false
   },
   "outputs": [
    {
     "data": {
      "text/html": [
       "<div>\n",
       "<table border=\"1\" class=\"dataframe\">\n",
       "  <thead>\n",
       "    <tr>\n",
       "      <th></th>\n",
       "      <th colspan=\"3\" halign=\"left\">funded_amnt</th>\n",
       "      <th colspan=\"3\" halign=\"left\">annual_inc</th>\n",
       "      <th colspan=\"3\" halign=\"left\">total_bal_ex_mort</th>\n",
       "      <th>int_rate2</th>\n",
       "      <th>...</th>\n",
       "      <th>debt</th>\n",
       "      <th colspan=\"3\" halign=\"left\">income</th>\n",
       "      <th colspan=\"3\" halign=\"left\">termnumber_36</th>\n",
       "      <th colspan=\"3\" halign=\"left\">termnumber_60</th>\n",
       "    </tr>\n",
       "    <tr>\n",
       "      <th>home_ownership_MORTGAGE</th>\n",
       "      <th colspan=\"2\" halign=\"left\">0.0</th>\n",
       "      <th>1.0</th>\n",
       "      <th colspan=\"2\" halign=\"left\">0.0</th>\n",
       "      <th>1.0</th>\n",
       "      <th colspan=\"2\" halign=\"left\">0.0</th>\n",
       "      <th>1.0</th>\n",
       "      <th>0.0</th>\n",
       "      <th>...</th>\n",
       "      <th>1.0</th>\n",
       "      <th colspan=\"2\" halign=\"left\">0.0</th>\n",
       "      <th>1.0</th>\n",
       "      <th colspan=\"2\" halign=\"left\">0.0</th>\n",
       "      <th>1.0</th>\n",
       "      <th colspan=\"2\" halign=\"left\">0.0</th>\n",
       "      <th>1.0</th>\n",
       "    </tr>\n",
       "    <tr>\n",
       "      <th>home_ownership_OWN</th>\n",
       "      <th>0.0</th>\n",
       "      <th>1.0</th>\n",
       "      <th>0.0</th>\n",
       "      <th>0.0</th>\n",
       "      <th>1.0</th>\n",
       "      <th>0.0</th>\n",
       "      <th>0.0</th>\n",
       "      <th>1.0</th>\n",
       "      <th>0.0</th>\n",
       "      <th>0.0</th>\n",
       "      <th>...</th>\n",
       "      <th>0.0</th>\n",
       "      <th>0.0</th>\n",
       "      <th>1.0</th>\n",
       "      <th>0.0</th>\n",
       "      <th>0.0</th>\n",
       "      <th>1.0</th>\n",
       "      <th>0.0</th>\n",
       "      <th>0.0</th>\n",
       "      <th>1.0</th>\n",
       "      <th>0.0</th>\n",
       "    </tr>\n",
       "    <tr>\n",
       "      <th>home_ownership_RENT</th>\n",
       "      <th>1.0</th>\n",
       "      <th>0.0</th>\n",
       "      <th>0.0</th>\n",
       "      <th>1.0</th>\n",
       "      <th>0.0</th>\n",
       "      <th>0.0</th>\n",
       "      <th>1.0</th>\n",
       "      <th>0.0</th>\n",
       "      <th>0.0</th>\n",
       "      <th>1.0</th>\n",
       "      <th>...</th>\n",
       "      <th>0.0</th>\n",
       "      <th>1.0</th>\n",
       "      <th>0.0</th>\n",
       "      <th>0.0</th>\n",
       "      <th>1.0</th>\n",
       "      <th>0.0</th>\n",
       "      <th>0.0</th>\n",
       "      <th>1.0</th>\n",
       "      <th>0.0</th>\n",
       "      <th>0.0</th>\n",
       "    </tr>\n",
       "    <tr>\n",
       "      <th>lstatus</th>\n",
       "      <th></th>\n",
       "      <th></th>\n",
       "      <th></th>\n",
       "      <th></th>\n",
       "      <th></th>\n",
       "      <th></th>\n",
       "      <th></th>\n",
       "      <th></th>\n",
       "      <th></th>\n",
       "      <th></th>\n",
       "      <th></th>\n",
       "      <th></th>\n",
       "      <th></th>\n",
       "      <th></th>\n",
       "      <th></th>\n",
       "      <th></th>\n",
       "      <th></th>\n",
       "      <th></th>\n",
       "      <th></th>\n",
       "      <th></th>\n",
       "      <th></th>\n",
       "    </tr>\n",
       "  </thead>\n",
       "  <tbody>\n",
       "    <tr>\n",
       "      <th>Bad</th>\n",
       "      <td>14064.38736</td>\n",
       "      <td>15330.629737</td>\n",
       "      <td>17491.838072</td>\n",
       "      <td>62194.691531</td>\n",
       "      <td>67525.705337</td>\n",
       "      <td>80003.985089</td>\n",
       "      <td>46083.353482</td>\n",
       "      <td>49422.945507</td>\n",
       "      <td>58128.420649</td>\n",
       "      <td>15.814986</td>\n",
       "      <td>...</td>\n",
       "      <td>0.034512</td>\n",
       "      <td>0.006988</td>\n",
       "      <td>0.007587</td>\n",
       "      <td>0.008989</td>\n",
       "      <td>0.623646</td>\n",
       "      <td>0.621797</td>\n",
       "      <td>0.524299</td>\n",
       "      <td>0.376354</td>\n",
       "      <td>0.378203</td>\n",
       "      <td>0.475701</td>\n",
       "    </tr>\n",
       "    <tr>\n",
       "      <th>Good</th>\n",
       "      <td>12681.29155</td>\n",
       "      <td>14406.289818</td>\n",
       "      <td>16013.422063</td>\n",
       "      <td>67984.690828</td>\n",
       "      <td>74059.506584</td>\n",
       "      <td>88188.514585</td>\n",
       "      <td>45423.277152</td>\n",
       "      <td>48580.975959</td>\n",
       "      <td>56003.026842</td>\n",
       "      <td>12.944524</td>\n",
       "      <td>...</td>\n",
       "      <td>0.033250</td>\n",
       "      <td>0.007639</td>\n",
       "      <td>0.008321</td>\n",
       "      <td>0.009909</td>\n",
       "      <td>0.797220</td>\n",
       "      <td>0.745402</td>\n",
       "      <td>0.698304</td>\n",
       "      <td>0.202780</td>\n",
       "      <td>0.254598</td>\n",
       "      <td>0.301696</td>\n",
       "    </tr>\n",
       "  </tbody>\n",
       "</table>\n",
       "<p>2 rows × 27 columns</p>\n",
       "</div>"
      ],
      "text/plain": [
       "                         funded_amnt                              \\\n",
       "home_ownership_MORTGAGE          0.0                         1.0   \n",
       "home_ownership_OWN               0.0           1.0           0.0   \n",
       "home_ownership_RENT              1.0           0.0           0.0   \n",
       "lstatus                                                            \n",
       "Bad                      14064.38736  15330.629737  17491.838072   \n",
       "Good                     12681.29155  14406.289818  16013.422063   \n",
       "\n",
       "                           annual_inc                              \\\n",
       "home_ownership_MORTGAGE           0.0                         1.0   \n",
       "home_ownership_OWN                0.0           1.0           0.0   \n",
       "home_ownership_RENT               1.0           0.0           0.0   \n",
       "lstatus                                                             \n",
       "Bad                      62194.691531  67525.705337  80003.985089   \n",
       "Good                     67984.690828  74059.506584  88188.514585   \n",
       "\n",
       "                        total_bal_ex_mort                              \\\n",
       "home_ownership_MORTGAGE               0.0                         1.0   \n",
       "home_ownership_OWN                    0.0           1.0           0.0   \n",
       "home_ownership_RENT                   1.0           0.0           0.0   \n",
       "lstatus                                                                 \n",
       "Bad                          46083.353482  49422.945507  58128.420649   \n",
       "Good                         45423.277152  48580.975959  56003.026842   \n",
       "\n",
       "                         int_rate2    ...         debt    income            \\\n",
       "home_ownership_MORTGAGE        0.0    ...          1.0       0.0             \n",
       "home_ownership_OWN             0.0    ...          0.0       0.0       1.0   \n",
       "home_ownership_RENT            1.0    ...          0.0       1.0       0.0   \n",
       "lstatus                               ...                                    \n",
       "Bad                      15.814986    ...     0.034512  0.006988  0.007587   \n",
       "Good                     12.944524    ...     0.033250  0.007639  0.008321   \n",
       "\n",
       "                                  termnumber_36                      \\\n",
       "home_ownership_MORTGAGE       1.0           0.0                 1.0   \n",
       "home_ownership_OWN            0.0           0.0       1.0       0.0   \n",
       "home_ownership_RENT           0.0           1.0       0.0       0.0   \n",
       "lstatus                                                               \n",
       "Bad                      0.008989      0.623646  0.621797  0.524299   \n",
       "Good                     0.009909      0.797220  0.745402  0.698304   \n",
       "\n",
       "                        termnumber_60                      \n",
       "home_ownership_MORTGAGE           0.0                 1.0  \n",
       "home_ownership_OWN                0.0       1.0       0.0  \n",
       "home_ownership_RENT               1.0       0.0       0.0  \n",
       "lstatus                                                    \n",
       "Bad                          0.376354  0.378203  0.475701  \n",
       "Good                         0.202780  0.254598  0.301696  \n",
       "\n",
       "[2 rows x 27 columns]"
      ]
     },
     "execution_count": 222,
     "metadata": {},
     "output_type": "execute_result"
    }
   ],
   "source": [
    "# analyze data for further processing\n",
    "pd.pivot_table(frstd5, index= ['lstatus'], columns = ['home_ownership_MORTGAGE', 'home_ownership_OWN', 'home_ownership_RENT'])"
   ]
  },
  {
   "cell_type": "code",
   "execution_count": 232,
   "metadata": {
    "collapsed": false
   },
   "outputs": [
    {
     "data": {
      "text/html": [
       "<div>\n",
       "<table border=\"1\" class=\"dataframe\">\n",
       "  <thead>\n",
       "    <tr>\n",
       "      <th></th>\n",
       "      <th colspan=\"5\" halign=\"left\">sum</th>\n",
       "    </tr>\n",
       "    <tr>\n",
       "      <th></th>\n",
       "      <th>home_ownership_MORTGAGE</th>\n",
       "      <th>home_ownership_OWN</th>\n",
       "      <th>home_ownership_RENT</th>\n",
       "      <th>termnumber_36</th>\n",
       "      <th>termnumber_60</th>\n",
       "    </tr>\n",
       "    <tr>\n",
       "      <th>lstatus</th>\n",
       "      <th></th>\n",
       "      <th></th>\n",
       "      <th></th>\n",
       "      <th></th>\n",
       "      <th></th>\n",
       "    </tr>\n",
       "  </thead>\n",
       "  <tbody>\n",
       "    <tr>\n",
       "      <th>Bad</th>\n",
       "      <td>9918.0</td>\n",
       "      <td>2771.0</td>\n",
       "      <td>11630.0</td>\n",
       "      <td>14176.0</td>\n",
       "      <td>10143.0</td>\n",
       "    </tr>\n",
       "    <tr>\n",
       "      <th>Good</th>\n",
       "      <td>40385.0</td>\n",
       "      <td>8319.0</td>\n",
       "      <td>28129.0</td>\n",
       "      <td>56827.0</td>\n",
       "      <td>20006.0</td>\n",
       "    </tr>\n",
       "  </tbody>\n",
       "</table>\n",
       "</div>"
      ],
      "text/plain": [
       "                            sum                                         \\\n",
       "        home_ownership_MORTGAGE home_ownership_OWN home_ownership_RENT   \n",
       "lstatus                                                                  \n",
       "Bad                      9918.0             2771.0             11630.0   \n",
       "Good                    40385.0             8319.0             28129.0   \n",
       "\n",
       "                                     \n",
       "        termnumber_36 termnumber_60  \n",
       "lstatus                              \n",
       "Bad           14176.0       10143.0  \n",
       "Good          56827.0       20006.0  "
      ]
     },
     "execution_count": 232,
     "metadata": {},
     "output_type": "execute_result"
    }
   ],
   "source": [
    "pd.pivot_table(frstd5, index= ['lstatus'], values=['termnumber_36','termnumber_60','home_ownership_MORTGAGE', 'home_ownership_OWN', 'home_ownership_RENT'], aggfunc= [sum])"
   ]
  },
  {
   "cell_type": "code",
   "execution_count": 230,
   "metadata": {
    "collapsed": false
   },
   "outputs": [
    {
     "data": {
      "text/html": [
       "<div>\n",
       "<table border=\"1\" class=\"dataframe\">\n",
       "  <thead>\n",
       "    <tr style=\"text-align: right;\">\n",
       "      <th></th>\n",
       "      <th>annual_inc</th>\n",
       "      <th>funded_amnt</th>\n",
       "      <th>home_ownership</th>\n",
       "      <th>int_rate</th>\n",
       "      <th>int_rate2</th>\n",
       "      <th>term</th>\n",
       "      <th>termnumber</th>\n",
       "      <th>total_bal_ex_mort</th>\n",
       "    </tr>\n",
       "    <tr>\n",
       "      <th>loan_status</th>\n",
       "      <th></th>\n",
       "      <th></th>\n",
       "      <th></th>\n",
       "      <th></th>\n",
       "      <th></th>\n",
       "      <th></th>\n",
       "      <th></th>\n",
       "      <th></th>\n",
       "    </tr>\n",
       "  </thead>\n",
       "  <tbody>\n",
       "    <tr>\n",
       "      <th>Charged Off</th>\n",
       "      <td>24239.0</td>\n",
       "      <td>24239.0</td>\n",
       "      <td>24239</td>\n",
       "      <td>24239</td>\n",
       "      <td>24239.0</td>\n",
       "      <td>24239</td>\n",
       "      <td>24239</td>\n",
       "      <td>24239.0</td>\n",
       "    </tr>\n",
       "    <tr>\n",
       "      <th>Current</th>\n",
       "      <td>303912.0</td>\n",
       "      <td>303912.0</td>\n",
       "      <td>303912</td>\n",
       "      <td>303912</td>\n",
       "      <td>303912.0</td>\n",
       "      <td>303912</td>\n",
       "      <td>303912</td>\n",
       "      <td>303912.0</td>\n",
       "    </tr>\n",
       "    <tr>\n",
       "      <th>Default</th>\n",
       "      <td>80.0</td>\n",
       "      <td>80.0</td>\n",
       "      <td>80</td>\n",
       "      <td>80</td>\n",
       "      <td>80.0</td>\n",
       "      <td>80</td>\n",
       "      <td>80</td>\n",
       "      <td>80.0</td>\n",
       "    </tr>\n",
       "    <tr>\n",
       "      <th>Fully Paid</th>\n",
       "      <td>76833.0</td>\n",
       "      <td>76833.0</td>\n",
       "      <td>76833</td>\n",
       "      <td>76833</td>\n",
       "      <td>76833.0</td>\n",
       "      <td>76833</td>\n",
       "      <td>76833</td>\n",
       "      <td>76833.0</td>\n",
       "    </tr>\n",
       "    <tr>\n",
       "      <th>In Grace Period</th>\n",
       "      <td>4116.0</td>\n",
       "      <td>4116.0</td>\n",
       "      <td>4116</td>\n",
       "      <td>4116</td>\n",
       "      <td>4116.0</td>\n",
       "      <td>4116</td>\n",
       "      <td>4116</td>\n",
       "      <td>4116.0</td>\n",
       "    </tr>\n",
       "    <tr>\n",
       "      <th>Late (16-30 days)</th>\n",
       "      <td>1925.0</td>\n",
       "      <td>1925.0</td>\n",
       "      <td>1925</td>\n",
       "      <td>1925</td>\n",
       "      <td>1925.0</td>\n",
       "      <td>1925</td>\n",
       "      <td>1925</td>\n",
       "      <td>1925.0</td>\n",
       "    </tr>\n",
       "    <tr>\n",
       "      <th>Late (31-120 days)</th>\n",
       "      <td>9990.0</td>\n",
       "      <td>9990.0</td>\n",
       "      <td>9990</td>\n",
       "      <td>9990</td>\n",
       "      <td>9990.0</td>\n",
       "      <td>9990</td>\n",
       "      <td>9990</td>\n",
       "      <td>9990.0</td>\n",
       "    </tr>\n",
       "  </tbody>\n",
       "</table>\n",
       "</div>"
      ],
      "text/plain": [
       "                    annual_inc  funded_amnt  home_ownership  int_rate  \\\n",
       "loan_status                                                             \n",
       "Charged Off            24239.0      24239.0           24239     24239   \n",
       "Current               303912.0     303912.0          303912    303912   \n",
       "Default                   80.0         80.0              80        80   \n",
       "Fully Paid             76833.0      76833.0           76833     76833   \n",
       "In Grace Period         4116.0       4116.0            4116      4116   \n",
       "Late (16-30 days)       1925.0       1925.0            1925      1925   \n",
       "Late (31-120 days)      9990.0       9990.0            9990      9990   \n",
       "\n",
       "                    int_rate2    term  termnumber  total_bal_ex_mort  \n",
       "loan_status                                                           \n",
       "Charged Off           24239.0   24239       24239            24239.0  \n",
       "Current              303912.0  303912      303912           303912.0  \n",
       "Default                  80.0      80          80               80.0  \n",
       "Fully Paid            76833.0   76833       76833            76833.0  \n",
       "In Grace Period        4116.0    4116        4116             4116.0  \n",
       "Late (16-30 days)      1925.0    1925        1925             1925.0  \n",
       "Late (31-120 days)     9990.0    9990        9990             9990.0  "
      ]
     },
     "execution_count": 230,
     "metadata": {},
     "output_type": "execute_result"
    }
   ],
   "source": [
    "pd.pivot_table(frstd5, index= ['lstatus'], values=['termnumber_36','termnumber_60','home_ownership_MORTGAGE', 'home_ownership_OWN', 'home_ownership_RENT'], aggfunc= [sum])"
   ]
  },
  {
   "cell_type": "code",
   "execution_count": 237,
   "metadata": {
    "collapsed": false
   },
   "outputs": [
    {
     "data": {
      "text/html": [
       "<div>\n",
       "<table border=\"1\" class=\"dataframe\">\n",
       "  <thead>\n",
       "    <tr>\n",
       "      <th></th>\n",
       "      <th colspan=\"5\" halign=\"left\">amin</th>\n",
       "      <th colspan=\"5\" halign=\"left\">amax</th>\n",
       "      <th colspan=\"5\" halign=\"left\">std</th>\n",
       "      <th colspan=\"5\" halign=\"left\">mean</th>\n",
       "    </tr>\n",
       "    <tr>\n",
       "      <th></th>\n",
       "      <th>annual_inc</th>\n",
       "      <th>debt</th>\n",
       "      <th>f_amnt2</th>\n",
       "      <th>income</th>\n",
       "      <th>total_bal_ex_mort</th>\n",
       "      <th>annual_inc</th>\n",
       "      <th>debt</th>\n",
       "      <th>f_amnt2</th>\n",
       "      <th>income</th>\n",
       "      <th>total_bal_ex_mort</th>\n",
       "      <th>annual_inc</th>\n",
       "      <th>debt</th>\n",
       "      <th>f_amnt2</th>\n",
       "      <th>income</th>\n",
       "      <th>total_bal_ex_mort</th>\n",
       "      <th>annual_inc</th>\n",
       "      <th>debt</th>\n",
       "      <th>f_amnt2</th>\n",
       "      <th>income</th>\n",
       "      <th>total_bal_ex_mort</th>\n",
       "    </tr>\n",
       "    <tr>\n",
       "      <th>lstatus</th>\n",
       "      <th></th>\n",
       "      <th></th>\n",
       "      <th></th>\n",
       "      <th></th>\n",
       "      <th></th>\n",
       "      <th></th>\n",
       "      <th></th>\n",
       "      <th></th>\n",
       "      <th></th>\n",
       "      <th></th>\n",
       "      <th></th>\n",
       "      <th></th>\n",
       "      <th></th>\n",
       "      <th></th>\n",
       "      <th></th>\n",
       "      <th></th>\n",
       "      <th></th>\n",
       "      <th></th>\n",
       "      <th></th>\n",
       "      <th></th>\n",
       "    </tr>\n",
       "  </thead>\n",
       "  <tbody>\n",
       "    <tr>\n",
       "      <th>Bad</th>\n",
       "      <td>0.0</td>\n",
       "      <td>0.0</td>\n",
       "      <td>0.0</td>\n",
       "      <td>0.000000</td>\n",
       "      <td>0.0</td>\n",
       "      <td>8900060.0</td>\n",
       "      <td>0.530652</td>\n",
       "      <td>1.0</td>\n",
       "      <td>1.000000</td>\n",
       "      <td>893784.0</td>\n",
       "      <td>91874.338785</td>\n",
       "      <td>0.026706</td>\n",
       "      <td>0.254138</td>\n",
       "      <td>0.010323</td>\n",
       "      <td>44981.302063</td>\n",
       "      <td>70065.278840</td>\n",
       "      <td>0.030503</td>\n",
       "      <td>0.429602</td>\n",
       "      <td>0.007872</td>\n",
       "      <td>51376.210329</td>\n",
       "    </tr>\n",
       "    <tr>\n",
       "      <th>Good</th>\n",
       "      <td>5000.0</td>\n",
       "      <td>0.0</td>\n",
       "      <td>0.0</td>\n",
       "      <td>0.000562</td>\n",
       "      <td>0.0</td>\n",
       "      <td>7600000.0</td>\n",
       "      <td>1.000000</td>\n",
       "      <td>1.0</td>\n",
       "      <td>0.853927</td>\n",
       "      <td>1684313.0</td>\n",
       "      <td>73005.791220</td>\n",
       "      <td>0.028885</td>\n",
       "      <td>0.255826</td>\n",
       "      <td>0.008203</td>\n",
       "      <td>48650.968765</td>\n",
       "      <td>79261.978122</td>\n",
       "      <td>0.030473</td>\n",
       "      <td>0.400574</td>\n",
       "      <td>0.008906</td>\n",
       "      <td>51326.106504</td>\n",
       "    </tr>\n",
       "  </tbody>\n",
       "</table>\n",
       "</div>"
      ],
      "text/plain": [
       "              amin                                                amax  \\\n",
       "        annual_inc debt f_amnt2    income total_bal_ex_mort annual_inc   \n",
       "lstatus                                                                  \n",
       "Bad            0.0  0.0     0.0  0.000000               0.0  8900060.0   \n",
       "Good        5000.0  0.0     0.0  0.000562               0.0  7600000.0   \n",
       "\n",
       "                                                                std            \\\n",
       "             debt f_amnt2    income total_bal_ex_mort    annual_inc      debt   \n",
       "lstatus                                                                         \n",
       "Bad      0.530652     1.0  1.000000          893784.0  91874.338785  0.026706   \n",
       "Good     1.000000     1.0  0.853927         1684313.0  73005.791220  0.028885   \n",
       "\n",
       "                                                       mean            \\\n",
       "          f_amnt2    income total_bal_ex_mort    annual_inc      debt   \n",
       "lstatus                                                                 \n",
       "Bad      0.254138  0.010323      44981.302063  70065.278840  0.030503   \n",
       "Good     0.255826  0.008203      48650.968765  79261.978122  0.030473   \n",
       "\n",
       "                                               \n",
       "          f_amnt2    income total_bal_ex_mort  \n",
       "lstatus                                        \n",
       "Bad      0.429602  0.007872      51376.210329  \n",
       "Good     0.400574  0.008906      51326.106504  "
      ]
     },
     "execution_count": 237,
     "metadata": {},
     "output_type": "execute_result"
    }
   ],
   "source": [
    "\n",
    "pd.pivot_table(frstd5, index= ['lstatus'], values=['f_amnt2','debt','income','annual_inc','total_bal_ex_mort'], aggfunc= [np.min, np.max, np.std, np.mean])"
   ]
  },
  {
   "cell_type": "code",
   "execution_count": 282,
   "metadata": {
    "collapsed": true
   },
   "outputs": [],
   "source": [
    "# cut down on columns\n",
    "frstd6 = frstd5.loc[:,['lstatus','int_rate2', 'home_ownership_MORTGAGE', 'home_ownership_OWN', 'home_ownership_RENT', 'income', 'debt','termnumber_36','termnumber_60']].copy()"
   ]
  },
  {
   "cell_type": "code",
   "execution_count": 316,
   "metadata": {
    "collapsed": false
   },
   "outputs": [],
   "source": [
    "#change interest rate to number rather than percentage\n",
    "frstd6['intrate3'] = frstd6['int_rate2'] / 100"
   ]
  },
  {
   "cell_type": "code",
   "execution_count": 321,
   "metadata": {
    "collapsed": true
   },
   "outputs": [],
   "source": [
    "#create new column for debt to income ratio\n",
    "frstd6['dTi'] = frstd6['debt']/frstd6['income']"
   ]
  },
  {
   "cell_type": "code",
   "execution_count": 322,
   "metadata": {
    "collapsed": true
   },
   "outputs": [],
   "source": [
    "# cut down columns to those that are necessary\n",
    "frstd7 = frstd6.loc[:,['lstatus','intrate3', 'home_ownership_MORTGAGE', 'home_ownership_OWN', 'home_ownership_RENT', 'dTi','termnumber_36','termnumber_60']].copy()"
   ]
  },
  {
   "cell_type": "code",
   "execution_count": 318,
   "metadata": {
    "collapsed": true
   },
   "outputs": [],
   "source": [
    "import numpy as np\n",
    "import time\n",
    "from matplotlib import pyplot as plt\n",
    "from scipy.special import gamma\n",
    "import emcee\n",
    "import pandas as pd  # geesh inputed this to turn it into a dataframe\n",
    "%matplotlib inline"
   ]
  },
  {
   "cell_type": "code",
   "execution_count": 323,
   "metadata": {
    "collapsed": false
   },
   "outputs": [
    {
     "data": {
      "text/html": [
       "<div>\n",
       "<table border=\"1\" class=\"dataframe\">\n",
       "  <thead>\n",
       "    <tr style=\"text-align: right;\">\n",
       "      <th></th>\n",
       "      <th>lstatus</th>\n",
       "      <th>intrate3</th>\n",
       "      <th>home_ownership_MORTGAGE</th>\n",
       "      <th>home_ownership_OWN</th>\n",
       "      <th>home_ownership_RENT</th>\n",
       "      <th>dTi</th>\n",
       "      <th>termnumber_36</th>\n",
       "      <th>termnumber_60</th>\n",
       "    </tr>\n",
       "  </thead>\n",
       "  <tbody>\n",
       "    <tr>\n",
       "      <th>1</th>\n",
       "      <td>Good</td>\n",
       "      <td>0.2245</td>\n",
       "      <td>1.0</td>\n",
       "      <td>0.0</td>\n",
       "      <td>0.0</td>\n",
       "      <td>4.845658</td>\n",
       "      <td>0.0</td>\n",
       "      <td>1.0</td>\n",
       "    </tr>\n",
       "    <tr>\n",
       "      <th>3</th>\n",
       "      <td>Good</td>\n",
       "      <td>0.0749</td>\n",
       "      <td>1.0</td>\n",
       "      <td>0.0</td>\n",
       "      <td>0.0</td>\n",
       "      <td>3.299211</td>\n",
       "      <td>1.0</td>\n",
       "      <td>0.0</td>\n",
       "    </tr>\n",
       "    <tr>\n",
       "      <th>5</th>\n",
       "      <td>Good</td>\n",
       "      <td>0.1199</td>\n",
       "      <td>1.0</td>\n",
       "      <td>0.0</td>\n",
       "      <td>0.0</td>\n",
       "      <td>1.704449</td>\n",
       "      <td>0.0</td>\n",
       "      <td>1.0</td>\n",
       "    </tr>\n",
       "    <tr>\n",
       "      <th>8</th>\n",
       "      <td>Good</td>\n",
       "      <td>0.1989</td>\n",
       "      <td>0.0</td>\n",
       "      <td>0.0</td>\n",
       "      <td>1.0</td>\n",
       "      <td>1.818303</td>\n",
       "      <td>1.0</td>\n",
       "      <td>0.0</td>\n",
       "    </tr>\n",
       "    <tr>\n",
       "      <th>18</th>\n",
       "      <td>Good</td>\n",
       "      <td>0.0917</td>\n",
       "      <td>1.0</td>\n",
       "      <td>0.0</td>\n",
       "      <td>0.0</td>\n",
       "      <td>3.427671</td>\n",
       "      <td>1.0</td>\n",
       "      <td>0.0</td>\n",
       "    </tr>\n",
       "  </tbody>\n",
       "</table>\n",
       "</div>"
      ],
      "text/plain": [
       "   lstatus  intrate3  home_ownership_MORTGAGE  home_ownership_OWN  \\\n",
       "1     Good    0.2245                      1.0                 0.0   \n",
       "3     Good    0.0749                      1.0                 0.0   \n",
       "5     Good    0.1199                      1.0                 0.0   \n",
       "8     Good    0.1989                      0.0                 0.0   \n",
       "18    Good    0.0917                      1.0                 0.0   \n",
       "\n",
       "    home_ownership_RENT       dTi  termnumber_36  termnumber_60  \n",
       "1                   0.0  4.845658            0.0            1.0  \n",
       "3                   0.0  3.299211            1.0            0.0  \n",
       "5                   0.0  1.704449            0.0            1.0  \n",
       "8                   1.0  1.818303            1.0            0.0  \n",
       "18                  0.0  3.427671            1.0            0.0  "
      ]
     },
     "execution_count": 323,
     "metadata": {},
     "output_type": "execute_result"
    }
   ],
   "source": [
    "frstd7.head() # sanity check"
   ]
  },
  {
   "cell_type": "code",
   "execution_count": 324,
   "metadata": {
    "collapsed": false
   },
   "outputs": [],
   "source": [
    "# create lnprob and change the name of data frame for easier substitution\n",
    "\n",
    "df3 = frstd7\n",
    "def lnprob(a):\n",
    "    return np.sum([np.log(1-(1./(1+np.exp(-1*(a[0]+ a[1]*data[2]+ a[2] * data[3] + \\\n",
    "                a[3] * data[4] + a[4] * data[5] + a[5] * data[6] + a[6] * data[7] + \\\n",
    "                a[7] * data[8]))))) if data[1] == 'Bad' else \\\n",
    "                np.log(1./(1+np.exp(-1*(a[0]+ a[1]*data[2]+ a[2] * data[3] +\\\n",
    "                a[3] * data[4] + a[4] * data[5] + a[5] * data[6] + a[6] * data[7] +\\\n",
    "                a[7] * data[8])))) for data in df3.itertuples()]) +(-0.5*np.sum([e**2 for e in a]))\n",
    "# use itertuples to iterate through dataframe"
   ]
  },
  {
   "cell_type": "markdown",
   "metadata": {},
   "source": [
    "# Run EMCEE sampler first part is to get some samples to burn off"
   ]
  },
  {
   "cell_type": "code",
   "execution_count": 333,
   "metadata": {
    "collapsed": false
   },
   "outputs": [
    {
     "name": "stdout",
     "output_type": "stream",
     "text": [
      "start3\n",
      "start\n",
      "196.771513939\n",
      "196.777387857\n",
      "start\n",
      "393.274160862\n",
      "393.28259182\n",
      "start\n",
      "590.155721903\n",
      "590.167387962\n",
      "start\n",
      "787.260065794\n",
      "787.279196978\n",
      "start\n",
      "987.327257872\n",
      "987.350909948\n",
      "start\n",
      "1229.63479495\n",
      "1229.67440987\n",
      "start\n",
      "1448.05411386\n",
      "1448.09229898\n",
      "start\n",
      "1654.8992188\n",
      "1654.9484818\n",
      "start\n",
      "1860.70158792\n",
      "1860.74073887\n",
      "start\n",
      "2063.15332794\n",
      "2063.20789886\n",
      "2063.208112\n",
      "             0         1         2         3         4         5         6  \\\n",
      "0     0.269868  0.609642  0.527012  0.181521  0.108838 -0.028264  0.805647   \n",
      "1     0.269868  0.609642  0.527012  0.181521  0.108838 -0.028264  0.805647   \n",
      "2     0.269868  0.609642  0.527012  0.181521  0.108838 -0.028264  0.805647   \n",
      "3     0.269868  0.609642  0.527012  0.181521  0.108838 -0.028264  0.805647   \n",
      "4     0.269868  0.609642  0.527012  0.181521  0.108838 -0.028264  0.805647   \n",
      "5     0.269868  0.609642  0.527012  0.181521  0.108838 -0.028264  0.805647   \n",
      "6     0.269868  0.609642  0.527012  0.181521  0.108838 -0.028264  0.805647   \n",
      "7     0.269868  0.609642  0.527012  0.181521  0.108838 -0.028264  0.805647   \n",
      "8     0.269868  0.609642  0.527012  0.181521  0.108838 -0.028264  0.805647   \n",
      "9     0.269868  0.609642  0.527012  0.181521  0.108838 -0.028264  0.805647   \n",
      "10    0.269868  0.609642  0.527012  0.181521  0.108838 -0.028264  0.805647   \n",
      "11    0.269868  0.609642  0.527012  0.181521  0.108838 -0.028264  0.805647   \n",
      "12    0.269868  0.609642  0.527012  0.181521  0.108838 -0.028264  0.805647   \n",
      "13    0.269868  0.609642  0.527012  0.181521  0.108838 -0.028264  0.805647   \n",
      "14    0.269868  0.609642  0.527012  0.181521  0.108838 -0.028264  0.805647   \n",
      "15    0.269868  0.609642  0.527012  0.181521  0.108838 -0.028264  0.805647   \n",
      "16    0.269868  0.609642  0.527012  0.181521  0.108838 -0.028264  0.805647   \n",
      "17    0.296475  0.529135  0.496865  0.201644  0.089675 -0.032973  0.862940   \n",
      "18    0.296475  0.529135  0.496865  0.201644  0.089675 -0.032973  0.862940   \n",
      "19    0.296475  0.529135  0.496865  0.201644  0.089675 -0.032973  0.862940   \n",
      "20    0.296475  0.529135  0.496865  0.201644  0.089675 -0.032973  0.862940   \n",
      "21    0.313673  0.491665  0.468518  0.217432  0.078743 -0.036523  0.886136   \n",
      "22    0.313673  0.491665  0.468518  0.217432  0.078743 -0.036523  0.886136   \n",
      "23    0.313673  0.491665  0.468518  0.217432  0.078743 -0.036523  0.886136   \n",
      "24    0.313673  0.491665  0.468518  0.217432  0.078743 -0.036523  0.886136   \n",
      "25    0.326695  0.436499  0.457921  0.228586  0.070176 -0.038589  0.929460   \n",
      "26    0.326695  0.436499  0.457921  0.228586  0.070176 -0.038589  0.929460   \n",
      "27    0.326695  0.436499  0.457921  0.228586  0.070176 -0.038589  0.929460   \n",
      "28    0.326695  0.436499  0.457921  0.228586  0.070176 -0.038589  0.929460   \n",
      "29    0.326695  0.436499  0.457921  0.228586  0.070176 -0.038589  0.929460   \n",
      "...        ...       ...       ...       ...       ...       ...       ...   \n",
      "1770  0.294356  0.381220  0.463642  0.134600  0.044289 -0.038809  0.975299   \n",
      "1771  0.294356  0.381220  0.463642  0.134600  0.044289 -0.038809  0.975299   \n",
      "1772  0.294356  0.381220  0.463642  0.134600  0.044289 -0.038809  0.975299   \n",
      "1773  0.294356  0.381220  0.463642  0.134600  0.044289 -0.038809  0.975299   \n",
      "1774  0.294356  0.381220  0.463642  0.134600  0.044289 -0.038809  0.975299   \n",
      "1775  0.292547  0.374846  0.464834  0.100025  0.038468 -0.038294  0.982775   \n",
      "1776  0.292547  0.374846  0.464834  0.100025  0.038468 -0.038294  0.982775   \n",
      "1777  0.292547  0.374846  0.464834  0.100025  0.038468 -0.038294  0.982775   \n",
      "1778  0.284331  0.366409  0.469183  0.091016  0.041986 -0.037985  0.993065   \n",
      "1779  0.284331  0.366409  0.469183  0.091016  0.041986 -0.037985  0.993065   \n",
      "1780  0.284331  0.366409  0.469183  0.091016  0.041986 -0.037985  0.993065   \n",
      "1781  0.284331  0.366409  0.469183  0.091016  0.041986 -0.037985  0.993065   \n",
      "1782  0.284331  0.366409  0.469183  0.091016  0.041986 -0.037985  0.993065   \n",
      "1783  0.287512  0.358308  0.472732  0.101075  0.042760 -0.037800  1.002067   \n",
      "1784  0.287512  0.358308  0.472732  0.101075  0.042760 -0.037800  1.002067   \n",
      "1785  0.287512  0.358308  0.472732  0.101075  0.042760 -0.037800  1.002067   \n",
      "1786  0.287512  0.358308  0.472732  0.101075  0.042760 -0.037800  1.002067   \n",
      "1787  0.287512  0.358308  0.472732  0.101075  0.042760 -0.037800  1.002067   \n",
      "1788  0.287512  0.358308  0.472732  0.101075  0.042760 -0.037800  1.002067   \n",
      "1789  0.287512  0.358308  0.472732  0.101075  0.042760 -0.037800  1.002067   \n",
      "1790  0.287512  0.358308  0.472732  0.101075  0.042760 -0.037800  1.002067   \n",
      "1791  0.287512  0.358308  0.472732  0.101075  0.042760 -0.037800  1.002067   \n",
      "1792  0.287512  0.358308  0.472732  0.101075  0.042760 -0.037800  1.002067   \n",
      "1793  0.287512  0.358308  0.472732  0.101075  0.042760 -0.037800  1.002067   \n",
      "1794  0.287512  0.358308  0.472732  0.101075  0.042760 -0.037800  1.002067   \n",
      "1795  0.287512  0.358308  0.472732  0.101075  0.042760 -0.037800  1.002067   \n",
      "1796  0.287512  0.358308  0.472732  0.101075  0.042760 -0.037800  1.002067   \n",
      "1797  0.287512  0.358308  0.472732  0.101075  0.042760 -0.037800  1.002067   \n",
      "1798  0.287512  0.358308  0.472732  0.101075  0.042760 -0.037800  1.002067   \n",
      "1799  0.287512  0.358308  0.472732  0.101075  0.042760 -0.037800  1.002067   \n",
      "\n",
      "             7  \n",
      "0     0.205001  \n",
      "1     0.205001  \n",
      "2     0.205001  \n",
      "3     0.205001  \n",
      "4     0.205001  \n",
      "5     0.205001  \n",
      "6     0.205001  \n",
      "7     0.205001  \n",
      "8     0.205001  \n",
      "9     0.205001  \n",
      "10    0.205001  \n",
      "11    0.205001  \n",
      "12    0.205001  \n",
      "13    0.205001  \n",
      "14    0.205001  \n",
      "15    0.205001  \n",
      "16    0.205001  \n",
      "17    0.215471  \n",
      "18    0.215471  \n",
      "19    0.215471  \n",
      "20    0.215471  \n",
      "21    0.237265  \n",
      "22    0.237265  \n",
      "23    0.237265  \n",
      "24    0.237265  \n",
      "25    0.229398  \n",
      "26    0.229398  \n",
      "27    0.229398  \n",
      "28    0.229398  \n",
      "29    0.229398  \n",
      "...        ...  \n",
      "1770  0.260898  \n",
      "1771  0.260898  \n",
      "1772  0.260898  \n",
      "1773  0.260898  \n",
      "1774  0.260898  \n",
      "1775  0.259246  \n",
      "1776  0.259246  \n",
      "1777  0.259246  \n",
      "1778  0.252583  \n",
      "1779  0.252583  \n",
      "1780  0.252583  \n",
      "1781  0.252583  \n",
      "1782  0.252583  \n",
      "1783  0.238714  \n",
      "1784  0.238714  \n",
      "1785  0.238714  \n",
      "1786  0.238714  \n",
      "1787  0.238714  \n",
      "1788  0.238714  \n",
      "1789  0.238714  \n",
      "1790  0.238714  \n",
      "1791  0.238714  \n",
      "1792  0.238714  \n",
      "1793  0.238714  \n",
      "1794  0.238714  \n",
      "1795  0.238714  \n",
      "1796  0.238714  \n",
      "1797  0.238714  \n",
      "1798  0.238714  \n",
      "1799  0.238714  \n",
      "\n",
      "[1800 rows x 8 columns]\n"
     ]
    }
   ],
   "source": [
    "\n",
    "print \"start3\"  # sanity check\n",
    "start = time.time()  # use to calulate lenght of run\n",
    "nwalkers = 18\n",
    "ndim = 8\n",
    "#print 'start2'\n",
    "p0 = np.random.rand(nwalkers*ndim).reshape((nwalkers,ndim)) # moving outside the for loop so i can save\n",
    "sampler = emcee.EnsembleSampler(nwalkers, ndim, lnprob)\n",
    "#print \"start1\"\n",
    "pos = pos\n",
    "for f in range(1,11):  # broke it up into multiple runs to burn off and to see the progress\n",
    "    print \"start\"\n",
    "    pos, prob, state = sampler.run_mcmc(pos, 10) # used minimal walks because it was taking a long time\n",
    "    samples = sampler.flatchain\n",
    "    g = \"Firstrun_model_\" + str(f) #create string to save run\n",
    "    end = time.time()\n",
    "    print(end - start) # idea of how long each run is taking\n",
    "    df = pd.DataFrame(samples)  # turn samples into pdf to save\n",
    "    df.to_csv(g+\".csv\")  # save samples to CSV file\n",
    "    end = time.time()\n",
    "    print(end - start)  # sanity checks\n",
    "end = time.time() # total time\n",
    "print(end - start)\n",
    "print df # sanity check"
   ]
  },
  {
   "cell_type": "code",
   "execution_count": 334,
   "metadata": {
    "collapsed": false
   },
   "outputs": [
    {
     "name": "stdout",
     "output_type": "stream",
     "text": [
      "start\n",
      "20750.7576778\n",
      "20751.1806259\n",
      "20751.1818049\n",
      "Finished\n"
     ]
    }
   ],
   "source": [
    "# First sampler was taking about 30 minutes to get through 100 walks total\n",
    "# used same formular with las positions and reset sampler but went to 1000 walks\n",
    "# it was taking on average 72 seconds per walk. I calucalted this run would take about 5 1/2 hours\n",
    "\n",
    "sampler.reset()\n",
    "pos = pos\n",
    "for f in range(1,2): # plan was to do more runs if it was faster\n",
    "    pos = pos\n",
    "    print \"start\"\n",
    "    pos, prob, state = sampler.run_mcmc(pos, 1000)\n",
    "    samples = sampler.flatchain\n",
    "    g = \"secondrun_model_\" + str(f)\n",
    "    p = \"secondrun_pos_\" + str(f)\n",
    "    end = time.time()\n",
    "    print(end - start)\n",
    "    df2 = pd.DataFrame(pos)  # turn pos to dataframe\n",
    "    df = pd.DataFrame(samples)\n",
    "    df.to_csv(g+\".csv\") # save ssamples to csv\n",
    "    df2.to_csv(p+\".csv\") # save pos to csv\n",
    "    end = time.time()\n",
    "    print(end - start)\n",
    "end = time.time()\n",
    "print(end - start) # sanity checks\n",
    "print \"Finished\""
   ]
  },
  {
   "cell_type": "markdown",
   "metadata": {},
   "source": [
    "# Create probability of how good the model predicts "
   ]
  },
  {
   "cell_type": "code",
   "execution_count": 345,
   "metadata": {
    "collapsed": false
   },
   "outputs": [],
   "source": [
    "# create dataframe from first row of data\n",
    "trial = df3.iloc[:1,:].copy()"
   ]
  },
  {
   "cell_type": "code",
   "execution_count": 351,
   "metadata": {
    "collapsed": false
   },
   "outputs": [],
   "source": [
    "# create list of columns\n",
    "XC = [x for x in df3.columns]"
   ]
  },
  {
   "cell_type": "code",
   "execution_count": 360,
   "metadata": {
    "collapsed": false
   },
   "outputs": [],
   "source": [
    "#create list of values in first row of data for easier iteration\n",
    "ylist =[]\n",
    "for x in trial[XC].values:\n",
    "    ylist.append(x)"
   ]
  },
  {
   "cell_type": "code",
   "execution_count": 366,
   "metadata": {
    "collapsed": false
   },
   "outputs": [],
   "source": [
    "g = [y for y in ylist[0]]"
   ]
  },
  {
   "cell_type": "code",
   "execution_count": 388,
   "metadata": {
    "collapsed": true
   },
   "outputs": [],
   "source": [
    "sig = lambda x: 1./(1+np.exp(-x))\n",
    "def goodfit(a):\n",
    "    data = g\n",
    "    return np.log(sig(a[0]+ a[1]*data[1]+ a[2] * data[2] +\\\n",
    "                a[3] * data[3] + a[4] * data[4] + a[5] * data[5] + a[6] * data[6] +\\\n",
    "                a[7] * data[7]))"
   ]
  },
  {
   "cell_type": "code",
   "execution_count": 389,
   "metadata": {
    "collapsed": true
   },
   "outputs": [],
   "source": [
    "def MonteCarlo(samples):\n",
    "        N = len(samples)\n",
    "        return 1 / float(N) * sum([goodfit(e) for e in samples])"
   ]
  },
  {
   "cell_type": "code",
   "execution_count": 390,
   "metadata": {
    "collapsed": false
   },
   "outputs": [
    {
     "data": {
      "text/plain": [
       "-0.15980682100385002"
      ]
     },
     "execution_count": 390,
     "metadata": {},
     "output_type": "execute_result"
    }
   ],
   "source": [
    "MonteCarlo(samples) # negative value from sum of probabilities could be a lot of negative omegas in samples"
   ]
  }
 ],
 "metadata": {
  "kernelspec": {
   "display_name": "Python [default]",
   "language": "python",
   "name": "python2"
  },
  "language_info": {
   "codemirror_mode": {
    "name": "ipython",
    "version": 2
   },
   "file_extension": ".py",
   "mimetype": "text/x-python",
   "name": "python",
   "nbconvert_exporter": "python",
   "pygments_lexer": "ipython2",
   "version": "2.7.12"
  }
 },
 "nbformat": 4,
 "nbformat_minor": 1
}
